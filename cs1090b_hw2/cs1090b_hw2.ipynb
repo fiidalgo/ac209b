{
 "cells": [
  {
   "cell_type": "code",
   "execution_count": 1,
   "metadata": {
    "deletable": false,
    "editable": false
   },
   "outputs": [],
   "source": [
    "# Initialize Otter\n",
    "import otter\n",
    "grader = otter.Notebook(\"cs1090b_hw2.ipynb\")"
   ]
  },
  {
   "cell_type": "markdown",
   "metadata": {},
   "source": [
    "# <img style=\"float: left; padding-right: 10px; width: 45px\" src=\"https://raw.githubusercontent.com/Harvard-IACS/2018-CS109A/master/content/styles/iacs.png\"> Data Science 2: Advanced Topics in Data Science \n",
    "\n",
    "## Homework 2: Artificial Neural Networks, Model Interpretation, and Regularization\n",
    "\n",
    "\n",
    "**Harvard University**<br/>\n",
    "**Spring 2025**<br/>\n",
    "**Instructors**: Pavlos Protopapas, Natesh Pillai, and Chris Gumb\n",
    "\n",
    "<hr style=\"height:2pt\">"
   ]
  },
  {
   "cell_type": "code",
   "execution_count": 2,
   "metadata": {
    "scrolled": true
   },
   "outputs": [
    {
     "data": {
      "text/html": [
       "<style>\n",
       "blockquote { background: #AEDE94; }\n",
       "h1 { \n",
       "    padding-top: 25px;\n",
       "    padding-bottom: 25px;\n",
       "    text-align: left; \n",
       "    padding-left: 10px;\n",
       "    background-color: #DDDDDD; \n",
       "    color: black;\n",
       "}\n",
       "h2 { \n",
       "    padding-top: 10px;\n",
       "    padding-bottom: 10px;\n",
       "    text-align: left; \n",
       "    padding-left: 5px;\n",
       "    background-color: #EEEEEE; \n",
       "    color: black;\n",
       "}\n",
       "\n",
       "div.exercise {\n",
       "\tbackground-color: #ffcccc;\n",
       "\tborder-color: #E9967A; \t\n",
       "\tborder-left: 5px solid #800080; \n",
       "\tpadding: 0.5em;\n",
       "}\n",
       "\n",
       "div.exercise-r {\n",
       "\tbackground-color: #fce8e8;\n",
       "\tborder-color: #E9967A; \t\n",
       "\tborder-left: 5px solid #800080; \n",
       "\tpadding: 0.5em;\n",
       "}\n",
       "\n",
       "\n",
       "span.sub-q {\n",
       "\tfont-weight: bold;\n",
       "}\n",
       "div.theme {\n",
       "\tbackground-color: #DDDDDD;\n",
       "\tborder-color: #E9967A; \t\n",
       "\tborder-left: 5px solid #800080; \n",
       "\tpadding: 0.5em;\n",
       "\tfont-size: 18pt;\n",
       "}\n",
       "div.gc { \n",
       "\tbackground-color: #AEDE94;\n",
       "\tborder-color: #E9967A; \t \n",
       "\tborder-left: 5px solid #800080; \n",
       "\tpadding: 0.5em;\n",
       "\tfont-size: 12pt;\n",
       "}\n",
       "p.q1 { \n",
       "    padding-top: 5px;\n",
       "    padding-bottom: 5px;\n",
       "    text-align: left; \n",
       "    padding-left: 5px;\n",
       "    background-color: #EEEEEE; \n",
       "    color: black;\n",
       "}\n",
       "header {\n",
       "   padding-top: 35px;\n",
       "    padding-bottom: 35px;\n",
       "    text-align: left; \n",
       "    padding-left: 10px;\n",
       "    background-color: #DDDDDD; \n",
       "    color: black;\n",
       "}\n",
       "</style>\n",
       "\n"
      ],
      "text/plain": [
       "<IPython.core.display.HTML object>"
      ]
     },
     "execution_count": 2,
     "metadata": {},
     "output_type": "execute_result"
    }
   ],
   "source": [
    "#RUN THIS CELL \n",
    "import requests\n",
    "from IPython.core.display import HTML\n",
    "styles = requests.get(\n",
    "    \"https://raw.githubusercontent.com/Harvard-IACS/2018-CS109A/master/content/styles/cs109.css\"\n",
    ").text\n",
    "HTML(styles)"
   ]
  },
  {
   "cell_type": "code",
   "execution_count": 9,
   "metadata": {},
   "outputs": [],
   "source": [
    "import random\n",
    "random.seed(109)\n",
    "\n",
    "import os\n",
    "import sys\n",
    "import time\n",
    "\n",
    "import matplotlib.pyplot as plt\n",
    "import numpy as np\n",
    "import pandas as pd\n",
    "import seaborn as sns\n",
    "\n",
    "from sklearn.inspection import permutation_importance\n",
    "from sklearn.linear_model import LogisticRegression\n",
    "from sklearn.metrics import roc_auc_score, accuracy_score\n",
    "from sklearn.model_selection import train_test_split\n",
    "from sklearn.preprocessing import StandardScaler\n",
    "from sklearn.utils import resample\n",
    "\n",
    "# TensorFlow and tf.keras\n",
    "import tensorflow as tf\n",
    "from tensorflow.keras.models import Sequential\n",
    "from tensorflow.keras.layers import Dense, Dropout\n",
    "from tensorflow.keras.callbacks import EarlyStopping\n",
    "from keras.utils import plot_model"
   ]
  },
  {
   "cell_type": "code",
   "execution_count": 4,
   "metadata": {},
   "outputs": [],
   "source": [
    "# measure notebook runtime\n",
    "time_start = time.time()"
   ]
  },
  {
   "cell_type": "markdown",
   "metadata": {},
   "source": [
    "<div style = \"background: lightsalmon; border: thin solid black; border-radius: 2px; padding: 5px\">\n",
    "\n",
    "### Instructions\n",
    "- To submit your notebook, follow the instructions given in on the Canvas assignment page.\n",
    "- Plots should be legible and interpretable *without having to refer to the code that generated them*. They should includelabels for the $x$- and $y$-axes as well as a descriptive title and/or legend when appropriate.\n",
    "- When asked to interpret a visualization, do not simply describe it (e.g., \"the curve has a steep slope up\"), but instead explain what you believe the plot *means*.\n",
    "- Autograding tests are mostly to help you debug. The tests are not exhaustive so simply passing all tests may not be sufficient for full credit.\n",
    "- The use of *extremely* inefficient or error-prone code (e.g., copy-pasting nearly identical commands rather than looping) may result in only partial credit.\n",
    "- We have tried to include all the libraries you may need to do the assignment in the imports cell provided below. Please get course staff approval before importing any additional 3rd party libraries.\n",
    "- Enable scrolling output on cells with very long output.\n",
    "- Feel free to add additional code or markdown cells as needed.\n",
    "- Ensure your code runs top to bottom without error and passes all tests by restarting the kernel and running all cells (note that this can take a few minutes). \n",
    "- **You should do a \"Restart Kernel and Run All Cells\" before submitting to ensure (1) your notebook actually runs and (2) all output is visible**\n",
    "</div>"
   ]
  },
  {
   "cell_type": "markdown",
   "metadata": {},
   "source": [
    "<a id=\"contents\"></a>\n",
    "\n",
    "# Notebook Contents\n",
    "\n",
    "- [**PART 1 [50 pts]: Modeling and predictive intervals in ANNs**](#part1)\n",
    "  - [Overview and Data Description](#part1intro)\n",
    "  - [Questions](#part1questions)\n",
    "\n",
    "\n",
    "- [**PART 2 [50 pts]: 'Quick, Draw!' Kaggle competition**](#part2)\n",
    "  - [Problem Statement](#part2intro)\n",
    "  - [The \"Quick, Draw!\" Dataset](#part2about)\n",
    "  - [Downloading the Data Files](#part2data)\n",
    "  - [CS1090B Kaggle Competition](#part2kaggle)\n",
    "  - [Questions](#part2questions)\n"
   ]
  },
  {
   "cell_type": "markdown",
   "metadata": {},
   "source": [
    "<a id=\"part1\"></a>\n",
    "    \n",
    "<!-- <div class=\"alert alert-block alert-danger\" style=\"color:black;background-color:#E7F4FA\"> -->\n",
    "\n",
    "# PART 1 [50 pts]: Model interpretation and predictive intervals in ANNs\n",
    "\n",
    "[Return to contents](#contents)\n",
    "\n",
    "<a id=\"part1intro\"></a>\n",
    "\n",
    "## Overview and Data Description\n",
    "\n",
    "[Return to contents](#contents)\n",
    "\n",
    "In this problem, you will be building and interpreting models to predict whether a flight was delayed for its arrival. The model will be based on features that can be measured as the flight takes off.\n",
    "\n",
    "We will also estimate the predictive intervals of the model using bootstrapping. We will utilize those predictive intervals to build a new kind of model: a model that refrains from making a prediction when it is not confident.\n",
    "\n",
    "The variable in the original csv are:\n",
    "\n",
    "    \n",
    "**ARRIVAL_DELAY**: the difference between scheduled arrival and actual arrival, in minutes (positive is late, negative is early).\n",
    "\n",
    "**DISTANCE**: the distance between arrival and departure airports, in miles.\n",
    "\n",
    "**SCHEDULED_TIME**: the flight's scheduled travel time in minutes.\n",
    "\n",
    "**MONTH**: the month the flight took off, 1 = January, 2 = February, etc.\n",
    "\n",
    "**SCHED_DEP_HOUR**: the scheduled departure time (the hour of the day).\n",
    "\n",
    "**SCHED_ARR_HOUR**: the scheduled arrival time (the hour of the day).\n",
    "\n",
    "**FLIGHT_COUNT**: the number of flights flying out of the origin airport before noon on a typical day.\n",
    "\n",
    "**DAY_OF_WEEK**: the day of the week, 1 = Monday, 2 = Tuesday, etc.\n",
    "\n",
    "**ORIGIN_AIRPORT**: the airport the flight took off from.\n",
    "\n",
    "**DESTINATION_AIRPORT**: the airport the flight was scheduled to land at.\n",
    "\n",
    "For the airport codes, see: https://www.bts.gov/topics/airlines-and-airports/world-airport-codes\n",
    "\n",
    "To sucessfully complete this part, you will proceed by fitting a NN model, evaluating its accuracy, interpreting the predictors' importance, and finally evaluating the predictive intervals.\n",
    "\n",
    "**NOTE:** the observations were sampled so that roughly half of the observations were delayed and half of the observations were not delayed.\n",
    "\n",
    "<!-- </div> -->"
   ]
  },
  {
   "cell_type": "markdown",
   "metadata": {},
   "source": [
    "<a id=\"part1solutions\"></a>\n",
    "\n",
    "## PART 1 Questions\n",
    "\n",
    "[Return to contents](#contents)\n"
   ]
  },
  {
   "cell_type": "markdown",
   "metadata": {
    "tags": []
   },
   "source": [
    "<div class='exercise-r'>\n",
    "\n",
    "**1.1**  **Preprocess the data**\n",
    "\n",
    "**Note that this part (section 1.1) has been completed for you. Simply run the provided cells below to load and preprocess the data. While you do not need to write any code here, you are expected to read through the processing steps taken here so that you fully understand the data you'll be working with.**\n",
    "\n",
    "\n",
    "</div>"
   ]
  },
  {
   "cell_type": "markdown",
   "metadata": {
    "tags": []
   },
   "source": [
    "<div class='exercise-r'>\n",
    "\n",
    "**1.1.1**   Read in the dataset `data/flights.csv` into a DataFrame called `df_flights`. Create a new column in the DataFrame called `DELAY_OR_NOT`. This is a binary variable that denotes whether `ARRIVAL_DELAY` is greater-than-or-equal-to 15 minutes (the FAA and BTS define a flight as delayed by 15 minutes or more). This is going to be the response variable for the rest of part 1. \n",
    "\n",
    "\n",
    "\n",
    "\n",
    "</div>"
   ]
  },
  {
   "cell_type": "code",
   "execution_count": 5,
   "metadata": {},
   "outputs": [
    {
     "name": "stdout",
     "output_type": "stream",
     "text": [
      "<class 'pandas.core.frame.DataFrame'>\n",
      "RangeIndex: 10000 entries, 0 to 9999\n",
      "Data columns (total 10 columns):\n",
      " #   Column               Non-Null Count  Dtype  \n",
      "---  ------               --------------  -----  \n",
      " 0   ARRIVAL_DELAY        10000 non-null  int64  \n",
      " 1   DISTANCE             9995 non-null   float64\n",
      " 2   SCHEDULED_TIME       9999 non-null   float64\n",
      " 3   MONTH                10000 non-null  int64  \n",
      " 4   SCHED_DEP_HOUR       10000 non-null  int64  \n",
      " 5   SCHED_ARR_HOUR       10000 non-null  int64  \n",
      " 6   FLIGHT_COUNT         9995 non-null   float64\n",
      " 7   DAY_OF_WEEK          10000 non-null  int64  \n",
      " 8   ORIGIN_AIRPORT       10000 non-null  object \n",
      " 9   DESTINATION_AIRPORT  10000 non-null  object \n",
      "dtypes: float64(3), int64(5), object(2)\n",
      "memory usage: 781.4+ KB\n"
     ]
    },
    {
     "data": {
      "text/html": [
       "<div>\n",
       "<style scoped>\n",
       "    .dataframe tbody tr th:only-of-type {\n",
       "        vertical-align: middle;\n",
       "    }\n",
       "\n",
       "    .dataframe tbody tr th {\n",
       "        vertical-align: top;\n",
       "    }\n",
       "\n",
       "    .dataframe thead th {\n",
       "        text-align: right;\n",
       "    }\n",
       "</style>\n",
       "<table border=\"1\" class=\"dataframe\">\n",
       "  <thead>\n",
       "    <tr style=\"text-align: right;\">\n",
       "      <th></th>\n",
       "      <th>ARRIVAL_DELAY</th>\n",
       "      <th>DISTANCE</th>\n",
       "      <th>SCHEDULED_TIME</th>\n",
       "      <th>MONTH</th>\n",
       "      <th>SCHED_DEP_HOUR</th>\n",
       "      <th>SCHED_ARR_HOUR</th>\n",
       "      <th>FLIGHT_COUNT</th>\n",
       "      <th>DAY_OF_WEEK</th>\n",
       "      <th>ORIGIN_AIRPORT</th>\n",
       "      <th>DESTINATION_AIRPORT</th>\n",
       "    </tr>\n",
       "  </thead>\n",
       "  <tbody>\n",
       "    <tr>\n",
       "      <th>0</th>\n",
       "      <td>23</td>\n",
       "      <td>2586.0</td>\n",
       "      <td>342.0</td>\n",
       "      <td>9</td>\n",
       "      <td>7</td>\n",
       "      <td>15</td>\n",
       "      <td>240.0</td>\n",
       "      <td>3</td>\n",
       "      <td>SFO</td>\n",
       "      <td>JFK</td>\n",
       "    </tr>\n",
       "    <tr>\n",
       "      <th>1</th>\n",
       "      <td>10</td>\n",
       "      <td>1235.0</td>\n",
       "      <td>185.0</td>\n",
       "      <td>5</td>\n",
       "      <td>6</td>\n",
       "      <td>11</td>\n",
       "      <td>366.0</td>\n",
       "      <td>4</td>\n",
       "      <td>LAX</td>\n",
       "      <td>DFW</td>\n",
       "    </tr>\n",
       "    <tr>\n",
       "      <th>2</th>\n",
       "      <td>-7</td>\n",
       "      <td>184.0</td>\n",
       "      <td>76.0</td>\n",
       "      <td>4</td>\n",
       "      <td>17</td>\n",
       "      <td>18</td>\n",
       "      <td>172.0</td>\n",
       "      <td>7</td>\n",
       "      <td>BOS</td>\n",
       "      <td>LGA</td>\n",
       "    </tr>\n",
       "    <tr>\n",
       "      <th>3</th>\n",
       "      <td>68</td>\n",
       "      <td>862.0</td>\n",
       "      <td>148.0</td>\n",
       "      <td>7</td>\n",
       "      <td>19</td>\n",
       "      <td>21</td>\n",
       "      <td>260.0</td>\n",
       "      <td>7</td>\n",
       "      <td>IAH</td>\n",
       "      <td>DEN</td>\n",
       "    </tr>\n",
       "    <tr>\n",
       "      <th>4</th>\n",
       "      <td>24</td>\n",
       "      <td>236.0</td>\n",
       "      <td>71.0</td>\n",
       "      <td>3</td>\n",
       "      <td>20</td>\n",
       "      <td>21</td>\n",
       "      <td>266.0</td>\n",
       "      <td>2</td>\n",
       "      <td>LAS</td>\n",
       "      <td>LAX</td>\n",
       "    </tr>\n",
       "  </tbody>\n",
       "</table>\n",
       "</div>"
      ],
      "text/plain": [
       "   ARRIVAL_DELAY  DISTANCE  SCHEDULED_TIME  MONTH  SCHED_DEP_HOUR  \\\n",
       "0             23    2586.0           342.0      9               7   \n",
       "1             10    1235.0           185.0      5               6   \n",
       "2             -7     184.0            76.0      4              17   \n",
       "3             68     862.0           148.0      7              19   \n",
       "4             24     236.0            71.0      3              20   \n",
       "\n",
       "   SCHED_ARR_HOUR  FLIGHT_COUNT  DAY_OF_WEEK ORIGIN_AIRPORT  \\\n",
       "0              15         240.0            3            SFO   \n",
       "1              11         366.0            4            LAX   \n",
       "2              18         172.0            7            BOS   \n",
       "3              21         260.0            7            IAH   \n",
       "4              21         266.0            2            LAS   \n",
       "\n",
       "  DESTINATION_AIRPORT  \n",
       "0                 JFK  \n",
       "1                 DFW  \n",
       "2                 LGA  \n",
       "3                 DEN  \n",
       "4                 LAX  "
      ]
     },
     "execution_count": 5,
     "metadata": {},
     "output_type": "execute_result"
    }
   ],
   "source": [
    "df_flights = pd.read_csv(\"data/flights.csv\")\n",
    "df_flights.info()\n",
    "df_flights.head(5)"
   ]
  },
  {
   "cell_type": "code",
   "execution_count": 6,
   "metadata": {},
   "outputs": [
    {
     "name": "stdout",
     "output_type": "stream",
     "text": [
      "The resulting counts for our \"DELAY_OR_NOT\" response variable,\n",
      "where class 1 are flights with actual arrivals 15 minutes late\n",
      "or later than scheduled, are:\n",
      "\n",
      "\tclass\tobservations\n",
      "\t0  \t5,069\n",
      "\t1  \t4,931\n"
     ]
    }
   ],
   "source": [
    "df_flights[\"DELAY_OR_NOT\"] = (df_flights[\"ARRIVAL_DELAY\"] >= 15).astype(int)\n",
    "\n",
    "delay_counts = df_flights[\"DELAY_OR_NOT\"].value_counts().sort_index()\n",
    "\n",
    "print(\n",
    "    \"The resulting counts for our \\\"DELAY_OR_NOT\\\" response variable,\\n\"\n",
    "    \"where class 1 are flights with actual arrivals 15 minutes late\\n\"\n",
    "    \"or later than scheduled, are:\\n\\n\\tclass\\tobservations\"\n",
    ")\n",
    "for resp, value in zip(delay_counts.index, delay_counts.values):\n",
    "    print(\"\\t{}  \\t{:,.0f}\".format(resp, value))"
   ]
  },
  {
   "cell_type": "markdown",
   "metadata": {
    "tags": []
   },
   "source": [
    "<div class='exercise-r'>\n",
    "\n",
    "**1.1.2 Preprocess the data**\n",
    "    \n",
    "- Deal with missing values if there are any\n",
    "- One-hot-encode the non-numeric categorical variables\n",
    "- Split the data using an 80/20 train-test split with `random_state=109` and stratifying on the response variable\n",
    "- Standardize train and test with the scaler fit on the train data\n",
    "\n",
    "Print the resulting shapes of your $X$ and $y$ dataframes for both your train and your test sets.\n",
    "    \n",
    "**NOTE:** While inspecting your data, you may notice that a large number of airport codes are recorded using 5-digit values instead of the expected 3-letter codes. That is perfectly fine. Those 5-digit values should be considered valid and just be treated the same as they would be if they were 3-letter codes.\n",
    "\n",
    "**TIPS:** \n",
    "- month and day-of-the-week should be treated as numerical in this context.\n",
    "- you should consider what predctors are acceptable to include given our goal is to predict if a flight is delayed.\n",
    "\n",
    "\n",
    "</div>"
   ]
  },
  {
   "cell_type": "code",
   "execution_count": 7,
   "metadata": {},
   "outputs": [
    {
     "name": "stdout",
     "output_type": "stream",
     "text": [
      "ALL MISSING VALUE ROWS, THEY APPEAR TO BE BSO TO SFO FLIGHTS:\n"
     ]
    },
    {
     "data": {
      "text/html": [
       "<div>\n",
       "<style scoped>\n",
       "    .dataframe tbody tr th:only-of-type {\n",
       "        vertical-align: middle;\n",
       "    }\n",
       "\n",
       "    .dataframe tbody tr th {\n",
       "        vertical-align: top;\n",
       "    }\n",
       "\n",
       "    .dataframe thead th {\n",
       "        text-align: right;\n",
       "    }\n",
       "</style>\n",
       "<table border=\"1\" class=\"dataframe\">\n",
       "  <thead>\n",
       "    <tr style=\"text-align: right;\">\n",
       "      <th></th>\n",
       "      <th>ARRIVAL_DELAY</th>\n",
       "      <th>DISTANCE</th>\n",
       "      <th>SCHEDULED_TIME</th>\n",
       "      <th>MONTH</th>\n",
       "      <th>SCHED_DEP_HOUR</th>\n",
       "      <th>SCHED_ARR_HOUR</th>\n",
       "      <th>FLIGHT_COUNT</th>\n",
       "      <th>DAY_OF_WEEK</th>\n",
       "      <th>ORIGIN_AIRPORT</th>\n",
       "      <th>DESTINATION_AIRPORT</th>\n",
       "      <th>DELAY_OR_NOT</th>\n",
       "    </tr>\n",
       "  </thead>\n",
       "  <tbody>\n",
       "    <tr>\n",
       "      <th>70</th>\n",
       "      <td>13</td>\n",
       "      <td>NaN</td>\n",
       "      <td>395.0</td>\n",
       "      <td>11</td>\n",
       "      <td>6</td>\n",
       "      <td>9</td>\n",
       "      <td>NaN</td>\n",
       "      <td>1</td>\n",
       "      <td>BOS</td>\n",
       "      <td>SFO</td>\n",
       "      <td>0</td>\n",
       "    </tr>\n",
       "    <tr>\n",
       "      <th>1566</th>\n",
       "      <td>-4</td>\n",
       "      <td>NaN</td>\n",
       "      <td>418.0</td>\n",
       "      <td>2</td>\n",
       "      <td>6</td>\n",
       "      <td>9</td>\n",
       "      <td>NaN</td>\n",
       "      <td>5</td>\n",
       "      <td>BOS</td>\n",
       "      <td>SFO</td>\n",
       "      <td>0</td>\n",
       "    </tr>\n",
       "    <tr>\n",
       "      <th>3741</th>\n",
       "      <td>-33</td>\n",
       "      <td>NaN</td>\n",
       "      <td>419.0</td>\n",
       "      <td>11</td>\n",
       "      <td>11</td>\n",
       "      <td>15</td>\n",
       "      <td>NaN</td>\n",
       "      <td>2</td>\n",
       "      <td>BOS</td>\n",
       "      <td>SFO</td>\n",
       "      <td>0</td>\n",
       "    </tr>\n",
       "    <tr>\n",
       "      <th>5612</th>\n",
       "      <td>-9</td>\n",
       "      <td>NaN</td>\n",
       "      <td>381.0</td>\n",
       "      <td>6</td>\n",
       "      <td>8</td>\n",
       "      <td>12</td>\n",
       "      <td>NaN</td>\n",
       "      <td>5</td>\n",
       "      <td>BOS</td>\n",
       "      <td>SFO</td>\n",
       "      <td>0</td>\n",
       "    </tr>\n",
       "    <tr>\n",
       "      <th>6375</th>\n",
       "      <td>17</td>\n",
       "      <td>NaN</td>\n",
       "      <td>NaN</td>\n",
       "      <td>7</td>\n",
       "      <td>18</td>\n",
       "      <td>21</td>\n",
       "      <td>NaN</td>\n",
       "      <td>3</td>\n",
       "      <td>BOS</td>\n",
       "      <td>SFO</td>\n",
       "      <td>1</td>\n",
       "    </tr>\n",
       "  </tbody>\n",
       "</table>\n",
       "</div>"
      ],
      "text/plain": [
       "      ARRIVAL_DELAY  DISTANCE  SCHEDULED_TIME  MONTH  SCHED_DEP_HOUR  \\\n",
       "70               13       NaN           395.0     11               6   \n",
       "1566             -4       NaN           418.0      2               6   \n",
       "3741            -33       NaN           419.0     11              11   \n",
       "5612             -9       NaN           381.0      6               8   \n",
       "6375             17       NaN             NaN      7              18   \n",
       "\n",
       "      SCHED_ARR_HOUR  FLIGHT_COUNT  DAY_OF_WEEK ORIGIN_AIRPORT  \\\n",
       "70                 9           NaN            1            BOS   \n",
       "1566               9           NaN            5            BOS   \n",
       "3741              15           NaN            2            BOS   \n",
       "5612              12           NaN            5            BOS   \n",
       "6375              21           NaN            3            BOS   \n",
       "\n",
       "     DESTINATION_AIRPORT  DELAY_OR_NOT  \n",
       "70                   SFO             0  \n",
       "1566                 SFO             0  \n",
       "3741                 SFO             0  \n",
       "5612                 SFO             0  \n",
       "6375                 SFO             1  "
      ]
     },
     "metadata": {},
     "output_type": "display_data"
    },
    {
     "name": "stdout",
     "output_type": "stream",
     "text": [
      "\n",
      "ALL BOS TO SFO FLIGHT OBSERVATIONS (INCLD. THOSE WITH MISSINGNESS):\n"
     ]
    },
    {
     "data": {
      "text/html": [
       "<div>\n",
       "<style scoped>\n",
       "    .dataframe tbody tr th:only-of-type {\n",
       "        vertical-align: middle;\n",
       "    }\n",
       "\n",
       "    .dataframe tbody tr th {\n",
       "        vertical-align: top;\n",
       "    }\n",
       "\n",
       "    .dataframe thead th {\n",
       "        text-align: right;\n",
       "    }\n",
       "</style>\n",
       "<table border=\"1\" class=\"dataframe\">\n",
       "  <thead>\n",
       "    <tr style=\"text-align: right;\">\n",
       "      <th></th>\n",
       "      <th>ARRIVAL_DELAY</th>\n",
       "      <th>DISTANCE</th>\n",
       "      <th>SCHEDULED_TIME</th>\n",
       "      <th>MONTH</th>\n",
       "      <th>SCHED_DEP_HOUR</th>\n",
       "      <th>SCHED_ARR_HOUR</th>\n",
       "      <th>FLIGHT_COUNT</th>\n",
       "      <th>DAY_OF_WEEK</th>\n",
       "      <th>ORIGIN_AIRPORT</th>\n",
       "      <th>DESTINATION_AIRPORT</th>\n",
       "      <th>DELAY_OR_NOT</th>\n",
       "    </tr>\n",
       "  </thead>\n",
       "  <tbody>\n",
       "    <tr>\n",
       "      <th>70</th>\n",
       "      <td>13</td>\n",
       "      <td>NaN</td>\n",
       "      <td>395.0</td>\n",
       "      <td>11</td>\n",
       "      <td>6</td>\n",
       "      <td>9</td>\n",
       "      <td>NaN</td>\n",
       "      <td>1</td>\n",
       "      <td>BOS</td>\n",
       "      <td>SFO</td>\n",
       "      <td>0</td>\n",
       "    </tr>\n",
       "    <tr>\n",
       "      <th>155</th>\n",
       "      <td>-17</td>\n",
       "      <td>2704.0</td>\n",
       "      <td>390.0</td>\n",
       "      <td>8</td>\n",
       "      <td>7</td>\n",
       "      <td>10</td>\n",
       "      <td>172.0</td>\n",
       "      <td>6</td>\n",
       "      <td>BOS</td>\n",
       "      <td>SFO</td>\n",
       "      <td>0</td>\n",
       "    </tr>\n",
       "    <tr>\n",
       "      <th>1566</th>\n",
       "      <td>-4</td>\n",
       "      <td>NaN</td>\n",
       "      <td>418.0</td>\n",
       "      <td>2</td>\n",
       "      <td>6</td>\n",
       "      <td>9</td>\n",
       "      <td>NaN</td>\n",
       "      <td>5</td>\n",
       "      <td>BOS</td>\n",
       "      <td>SFO</td>\n",
       "      <td>0</td>\n",
       "    </tr>\n",
       "    <tr>\n",
       "      <th>1729</th>\n",
       "      <td>16</td>\n",
       "      <td>2704.0</td>\n",
       "      <td>390.0</td>\n",
       "      <td>9</td>\n",
       "      <td>20</td>\n",
       "      <td>23</td>\n",
       "      <td>172.0</td>\n",
       "      <td>1</td>\n",
       "      <td>BOS</td>\n",
       "      <td>SFO</td>\n",
       "      <td>1</td>\n",
       "    </tr>\n",
       "    <tr>\n",
       "      <th>2775</th>\n",
       "      <td>-9</td>\n",
       "      <td>2704.0</td>\n",
       "      <td>403.0</td>\n",
       "      <td>3</td>\n",
       "      <td>11</td>\n",
       "      <td>14</td>\n",
       "      <td>172.0</td>\n",
       "      <td>1</td>\n",
       "      <td>BOS</td>\n",
       "      <td>SFO</td>\n",
       "      <td>0</td>\n",
       "    </tr>\n",
       "    <tr>\n",
       "      <th>3132</th>\n",
       "      <td>101</td>\n",
       "      <td>2704.0</td>\n",
       "      <td>412.0</td>\n",
       "      <td>2</td>\n",
       "      <td>16</td>\n",
       "      <td>20</td>\n",
       "      <td>172.0</td>\n",
       "      <td>4</td>\n",
       "      <td>BOS</td>\n",
       "      <td>SFO</td>\n",
       "      <td>1</td>\n",
       "    </tr>\n",
       "    <tr>\n",
       "      <th>3741</th>\n",
       "      <td>-33</td>\n",
       "      <td>NaN</td>\n",
       "      <td>419.0</td>\n",
       "      <td>11</td>\n",
       "      <td>11</td>\n",
       "      <td>15</td>\n",
       "      <td>NaN</td>\n",
       "      <td>2</td>\n",
       "      <td>BOS</td>\n",
       "      <td>SFO</td>\n",
       "      <td>0</td>\n",
       "    </tr>\n",
       "    <tr>\n",
       "      <th>5612</th>\n",
       "      <td>-9</td>\n",
       "      <td>NaN</td>\n",
       "      <td>381.0</td>\n",
       "      <td>6</td>\n",
       "      <td>8</td>\n",
       "      <td>12</td>\n",
       "      <td>NaN</td>\n",
       "      <td>5</td>\n",
       "      <td>BOS</td>\n",
       "      <td>SFO</td>\n",
       "      <td>0</td>\n",
       "    </tr>\n",
       "    <tr>\n",
       "      <th>5929</th>\n",
       "      <td>-5</td>\n",
       "      <td>2704.0</td>\n",
       "      <td>404.0</td>\n",
       "      <td>3</td>\n",
       "      <td>6</td>\n",
       "      <td>9</td>\n",
       "      <td>172.0</td>\n",
       "      <td>1</td>\n",
       "      <td>BOS</td>\n",
       "      <td>SFO</td>\n",
       "      <td>0</td>\n",
       "    </tr>\n",
       "    <tr>\n",
       "      <th>6375</th>\n",
       "      <td>17</td>\n",
       "      <td>NaN</td>\n",
       "      <td>NaN</td>\n",
       "      <td>7</td>\n",
       "      <td>18</td>\n",
       "      <td>21</td>\n",
       "      <td>NaN</td>\n",
       "      <td>3</td>\n",
       "      <td>BOS</td>\n",
       "      <td>SFO</td>\n",
       "      <td>1</td>\n",
       "    </tr>\n",
       "    <tr>\n",
       "      <th>7111</th>\n",
       "      <td>150</td>\n",
       "      <td>2704.0</td>\n",
       "      <td>403.0</td>\n",
       "      <td>3</td>\n",
       "      <td>19</td>\n",
       "      <td>23</td>\n",
       "      <td>172.0</td>\n",
       "      <td>5</td>\n",
       "      <td>BOS</td>\n",
       "      <td>SFO</td>\n",
       "      <td>1</td>\n",
       "    </tr>\n",
       "  </tbody>\n",
       "</table>\n",
       "</div>"
      ],
      "text/plain": [
       "      ARRIVAL_DELAY  DISTANCE  SCHEDULED_TIME  MONTH  SCHED_DEP_HOUR  \\\n",
       "70               13       NaN           395.0     11               6   \n",
       "155             -17    2704.0           390.0      8               7   \n",
       "1566             -4       NaN           418.0      2               6   \n",
       "1729             16    2704.0           390.0      9              20   \n",
       "2775             -9    2704.0           403.0      3              11   \n",
       "3132            101    2704.0           412.0      2              16   \n",
       "3741            -33       NaN           419.0     11              11   \n",
       "5612             -9       NaN           381.0      6               8   \n",
       "5929             -5    2704.0           404.0      3               6   \n",
       "6375             17       NaN             NaN      7              18   \n",
       "7111            150    2704.0           403.0      3              19   \n",
       "\n",
       "      SCHED_ARR_HOUR  FLIGHT_COUNT  DAY_OF_WEEK ORIGIN_AIRPORT  \\\n",
       "70                 9           NaN            1            BOS   \n",
       "155               10         172.0            6            BOS   \n",
       "1566               9           NaN            5            BOS   \n",
       "1729              23         172.0            1            BOS   \n",
       "2775              14         172.0            1            BOS   \n",
       "3132              20         172.0            4            BOS   \n",
       "3741              15           NaN            2            BOS   \n",
       "5612              12           NaN            5            BOS   \n",
       "5929               9         172.0            1            BOS   \n",
       "6375              21           NaN            3            BOS   \n",
       "7111              23         172.0            5            BOS   \n",
       "\n",
       "     DESTINATION_AIRPORT  DELAY_OR_NOT  \n",
       "70                   SFO             0  \n",
       "155                  SFO             0  \n",
       "1566                 SFO             0  \n",
       "1729                 SFO             1  \n",
       "2775                 SFO             0  \n",
       "3132                 SFO             1  \n",
       "3741                 SFO             0  \n",
       "5612                 SFO             0  \n",
       "5929                 SFO             0  \n",
       "6375                 SFO             1  \n",
       "7111                 SFO             1  "
      ]
     },
     "metadata": {},
     "output_type": "display_data"
    },
    {
     "name": "stdout",
     "output_type": "stream",
     "text": [
      "\n",
      "THE df_flights DATAFRAME AFTER RESOLVING MISSINGNESS:\n",
      "\n",
      "<class 'pandas.core.frame.DataFrame'>\n",
      "RangeIndex: 10000 entries, 0 to 9999\n",
      "Data columns (total 11 columns):\n",
      " #   Column               Non-Null Count  Dtype \n",
      "---  ------               --------------  ----- \n",
      " 0   ARRIVAL_DELAY        10000 non-null  int64 \n",
      " 1   DISTANCE             10000 non-null  int64 \n",
      " 2   SCHEDULED_TIME       10000 non-null  int64 \n",
      " 3   MONTH                10000 non-null  int64 \n",
      " 4   SCHED_DEP_HOUR       10000 non-null  int64 \n",
      " 5   SCHED_ARR_HOUR       10000 non-null  int64 \n",
      " 6   FLIGHT_COUNT         10000 non-null  int64 \n",
      " 7   DAY_OF_WEEK          10000 non-null  int64 \n",
      " 8   ORIGIN_AIRPORT       10000 non-null  object\n",
      " 9   DESTINATION_AIRPORT  10000 non-null  object\n",
      " 10  DELAY_OR_NOT         10000 non-null  int64 \n",
      "dtypes: int64(9), object(2)\n",
      "memory usage: 859.5+ KB\n"
     ]
    },
    {
     "data": {
      "text/plain": [
       "None"
      ]
     },
     "metadata": {},
     "output_type": "display_data"
    }
   ],
   "source": [
    "# By displaying rows with missing values, we can see\n",
    "# that ALL missing values occur for flights between\n",
    "# BOS and SFO. This would indicate that these values are NOT\n",
    "# missing at random. Therefore, we will want to impute our\n",
    "# values rather than simply delete these rows\n",
    "print(\"ALL MISSING VALUE ROWS, THEY APPEAR TO BE BSO TO SFO FLIGHTS:\")\n",
    "display(df_flights[df_flights.isnull().any(axis=1)])\n",
    "\n",
    "# The next thing we will do is display all BOS to SFO observations\n",
    "# to determine how we should treat missing values in each\n",
    "# predictor column.\n",
    "print(\n",
    "    \"\\nALL BOS TO SFO FLIGHT OBSERVATIONS (INCLD. THOSE WITH MISSINGNESS):\"\n",
    ")\n",
    "loc_filter = (df_flights[\"ORIGIN_AIRPORT\"] == \"BOS\") & (df_flights[\"DESTINATION_AIRPORT\"] == \"SFO\")\n",
    "display(df_flights.loc[loc_filter])\n",
    "\n",
    "# We can see that we know the exact values to enter for missing\n",
    "# DISTANCE and missing FLIGHT_COUNT values, so rather than\n",
    "# impute, we can just explicilty set the values as such, being\n",
    "# certain to fix the column dtypes as well\n",
    "df_flights[\"DISTANCE\"] = df_flights[\"DISTANCE\"].fillna(2704).astype(int)\n",
    "df_flights[\"FLIGHT_COUNT\"] = df_flights[\"FLIGHT_COUNT\"].fillna(172).astype(int)\n",
    "\n",
    "# As for the one missing SCHEDULED_TIME value, we could do\n",
    "# something more involved like creating some sort of imputation model\n",
    "# (such as trying to predict that one value using kNN), but because it's only\n",
    "# one value and there does not appear to be much variability in time among\n",
    "# the flights between BOS and SFO, we can probably just get away with populating\n",
    "# this cell with the mean SCHEDULED_TIME for all flights between BOS and SFO\n",
    "mean_time = df_flights.loc[loc_filter][\"SCHEDULED_TIME\"].mean()\n",
    "df_flights[\"SCHEDULED_TIME\"] = df_flights[\"SCHEDULED_TIME\"].fillna(mean_time).astype(int)\n",
    "\n",
    "# To wrap up, we'll print the df_flights info again to confirm no more\n",
    "# missing values exist\n",
    "print(\"\\nTHE df_flights DATAFRAME AFTER RESOLVING MISSINGNESS:\\n\")\n",
    "display(df_flights.info())"
   ]
  },
  {
   "cell_type": "code",
   "execution_count": 8,
   "metadata": {},
   "outputs": [
    {
     "name": "stdout",
     "output_type": "stream",
     "text": [
      "The shapes of our resulting X and y train and test sets are:\n",
      "\n",
      "\tX_train\t(8000, 808)\n",
      "\ty_train\t(8000,)\n",
      "\n",
      "\tX_test\t(2000, 808)\n",
      "\ty_test\t(2000,)\n",
      "\n"
     ]
    }
   ],
   "source": [
    "# identify our response variable\n",
    "response = \"DELAY_OR_NOT\"\n",
    "\n",
    "# identify categorical predictors for one-hot-encoding\n",
    "cat_preds = [\"ORIGIN_AIRPORT\", \"DESTINATION_AIRPORT\"]\n",
    "\n",
    "# identify columns we will need to drop from X after encoding \n",
    "drop_cols = [\"ARRIVAL_DELAY\", response] + cat_preds\n",
    "\n",
    "# one-hot-encode and make certain to drop one col for each predictor\n",
    "df_one_hot = pd.get_dummies(df_flights[cat_preds], drop_first=True)\n",
    "\n",
    "# merge encoded columns with other predictor columns to create\n",
    "# our X data, being certain to drop non-predictor columns\n",
    "X_flights = pd.concat(\n",
    "    [\n",
    "        df_flights.drop(columns=drop_cols),\n",
    "        df_one_hot,\n",
    "    ],\n",
    "    axis=1,\n",
    ")\n",
    "y_flights = df_flights[response]\n",
    "\n",
    "X_train, X_test, y_train, y_test = train_test_split(\n",
    "    X_flights, y_flights, test_size=0.20, random_state=111, stratify=y_flights\n",
    ")\n",
    "\n",
    "# scale X data using standard scaler, and retain our original\n",
    "# X dataframes so we can use them to plot data in its\n",
    "# original scale for Q1.4 later in HW3\n",
    "X_train_std = X_train.copy()\n",
    "X_test_std = X_test.copy()\n",
    "\n",
    "scaler = StandardScaler().fit(X_train)\n",
    "X_train_std[X_train.columns] = scaler.transform(X_train)\n",
    "X_test_std[X_test.columns] = scaler.transform(X_test)\n",
    "\n",
    "# print our resulting X and y shapes\n",
    "print(\n",
    "    \"The shapes of our resulting X and y train and test sets are:\\n\\n\"\n",
    "    \"\\tX_train\\t{}\\n\\ty_train\\t{}\\n\\n\\tX_test\\t{}\\n\\ty_test\\t{}\\n\"\n",
    "    .format(\n",
    "        X_train.shape, y_train.shape, X_test.shape, y_test.shape,\n",
    "    )\n",
    ")"
   ]
  },
  {
   "cell_type": "markdown",
   "metadata": {
    "deletable": false,
    "editable": false,
    "tags": []
   },
   "source": [
    "<div class='exercise-r'>\n",
    "\n",
    "**1.2**  **Fit an ANN**\n",
    "\n",
    "Fit an artificial neural network model using all predictors (name this model `NN_model`).  Use a dense feed-forward network with two hidden layers with 15 nodes in each hidden layer. For this network, use a reasonable activation functions for the hidden layers and output, select an appropriate loss function and optimizer, specify a validation split of 0.2, and train for a reasonable number of epochs and batch size of your choice. Plot the training accuracy and validation accuracy as a function of epochs from your `NN_model`'s training history. Evaluate the `NN_model` model on both train and test, and print out the resulting train and test accuracies.\n",
    "\n",
    "You should base your choice of \"a reasonable number of epochs\" on a visualization of the model's training history.\n",
    "\n",
    "<a id=\"q12\"></a>\n",
    "\n",
    "\n",
    "\n",
    "</div>"
   ]
  },
  {
   "cell_type": "code",
   "execution_count": null,
   "metadata": {
    "tags": [
     "otter_answer_cell"
    ]
   },
   "outputs": [
    {
     "name": "stderr",
     "output_type": "stream",
     "text": [
      "/Users/nico/.local/share/mamba/envs/cs109b/lib/python3.12/site-packages/keras/src/layers/core/dense.py:87: UserWarning: Do not pass an `input_shape`/`input_dim` argument to a layer. When using Sequential models, prefer using an `Input(shape)` object as the first layer in the model instead.\n",
      "  super().__init__(activity_regularizer=activity_regularizer, **kwargs)\n"
     ]
    },
    {
     "data": {
      "text/html": [
       "<pre style=\"white-space:pre;overflow-x:auto;line-height:normal;font-family:Menlo,'DejaVu Sans Mono',consolas,'Courier New',monospace\"><span style=\"font-weight: bold\">Model: \"sequential\"</span>\n",
       "</pre>\n"
      ],
      "text/plain": [
       "\u001b[1mModel: \"sequential\"\u001b[0m\n"
      ]
     },
     "metadata": {},
     "output_type": "display_data"
    },
    {
     "data": {
      "text/html": [
       "<pre style=\"white-space:pre;overflow-x:auto;line-height:normal;font-family:Menlo,'DejaVu Sans Mono',consolas,'Courier New',monospace\">┏━━━━━━━━━━━━━━━━━━━━━━━━━━━━━━━━━┳━━━━━━━━━━━━━━━━━━━━━━━━┳━━━━━━━━━━━━━━━┓\n",
       "┃<span style=\"font-weight: bold\"> Layer (type)                    </span>┃<span style=\"font-weight: bold\"> Output Shape           </span>┃<span style=\"font-weight: bold\">       Param # </span>┃\n",
       "┡━━━━━━━━━━━━━━━━━━━━━━━━━━━━━━━━━╇━━━━━━━━━━━━━━━━━━━━━━━━╇━━━━━━━━━━━━━━━┩\n",
       "│ dense (<span style=\"color: #0087ff; text-decoration-color: #0087ff\">Dense</span>)                   │ (<span style=\"color: #00d7ff; text-decoration-color: #00d7ff\">None</span>, <span style=\"color: #00af00; text-decoration-color: #00af00\">15</span>)             │        <span style=\"color: #00af00; text-decoration-color: #00af00\">12,135</span> │\n",
       "├─────────────────────────────────┼────────────────────────┼───────────────┤\n",
       "│ dense_1 (<span style=\"color: #0087ff; text-decoration-color: #0087ff\">Dense</span>)                 │ (<span style=\"color: #00d7ff; text-decoration-color: #00d7ff\">None</span>, <span style=\"color: #00af00; text-decoration-color: #00af00\">15</span>)             │           <span style=\"color: #00af00; text-decoration-color: #00af00\">240</span> │\n",
       "├─────────────────────────────────┼────────────────────────┼───────────────┤\n",
       "│ dense_2 (<span style=\"color: #0087ff; text-decoration-color: #0087ff\">Dense</span>)                 │ (<span style=\"color: #00d7ff; text-decoration-color: #00d7ff\">None</span>, <span style=\"color: #00af00; text-decoration-color: #00af00\">1</span>)              │            <span style=\"color: #00af00; text-decoration-color: #00af00\">16</span> │\n",
       "└─────────────────────────────────┴────────────────────────┴───────────────┘\n",
       "</pre>\n"
      ],
      "text/plain": [
       "┏━━━━━━━━━━━━━━━━━━━━━━━━━━━━━━━━━┳━━━━━━━━━━━━━━━━━━━━━━━━┳━━━━━━━━━━━━━━━┓\n",
       "┃\u001b[1m \u001b[0m\u001b[1mLayer (type)                   \u001b[0m\u001b[1m \u001b[0m┃\u001b[1m \u001b[0m\u001b[1mOutput Shape          \u001b[0m\u001b[1m \u001b[0m┃\u001b[1m \u001b[0m\u001b[1m      Param #\u001b[0m\u001b[1m \u001b[0m┃\n",
       "┡━━━━━━━━━━━━━━━━━━━━━━━━━━━━━━━━━╇━━━━━━━━━━━━━━━━━━━━━━━━╇━━━━━━━━━━━━━━━┩\n",
       "│ dense (\u001b[38;5;33mDense\u001b[0m)                   │ (\u001b[38;5;45mNone\u001b[0m, \u001b[38;5;34m15\u001b[0m)             │        \u001b[38;5;34m12,135\u001b[0m │\n",
       "├─────────────────────────────────┼────────────────────────┼───────────────┤\n",
       "│ dense_1 (\u001b[38;5;33mDense\u001b[0m)                 │ (\u001b[38;5;45mNone\u001b[0m, \u001b[38;5;34m15\u001b[0m)             │           \u001b[38;5;34m240\u001b[0m │\n",
       "├─────────────────────────────────┼────────────────────────┼───────────────┤\n",
       "│ dense_2 (\u001b[38;5;33mDense\u001b[0m)                 │ (\u001b[38;5;45mNone\u001b[0m, \u001b[38;5;34m1\u001b[0m)              │            \u001b[38;5;34m16\u001b[0m │\n",
       "└─────────────────────────────────┴────────────────────────┴───────────────┘\n"
      ]
     },
     "metadata": {},
     "output_type": "display_data"
    },
    {
     "data": {
      "text/html": [
       "<pre style=\"white-space:pre;overflow-x:auto;line-height:normal;font-family:Menlo,'DejaVu Sans Mono',consolas,'Courier New',monospace\"><span style=\"font-weight: bold\"> Total params: </span><span style=\"color: #00af00; text-decoration-color: #00af00\">12,391</span> (48.40 KB)\n",
       "</pre>\n"
      ],
      "text/plain": [
       "\u001b[1m Total params: \u001b[0m\u001b[38;5;34m12,391\u001b[0m (48.40 KB)\n"
      ]
     },
     "metadata": {},
     "output_type": "display_data"
    },
    {
     "data": {
      "text/html": [
       "<pre style=\"white-space:pre;overflow-x:auto;line-height:normal;font-family:Menlo,'DejaVu Sans Mono',consolas,'Courier New',monospace\"><span style=\"font-weight: bold\"> Trainable params: </span><span style=\"color: #00af00; text-decoration-color: #00af00\">12,391</span> (48.40 KB)\n",
       "</pre>\n"
      ],
      "text/plain": [
       "\u001b[1m Trainable params: \u001b[0m\u001b[38;5;34m12,391\u001b[0m (48.40 KB)\n"
      ]
     },
     "metadata": {},
     "output_type": "display_data"
    },
    {
     "data": {
      "text/html": [
       "<pre style=\"white-space:pre;overflow-x:auto;line-height:normal;font-family:Menlo,'DejaVu Sans Mono',consolas,'Courier New',monospace\"><span style=\"font-weight: bold\"> Non-trainable params: </span><span style=\"color: #00af00; text-decoration-color: #00af00\">0</span> (0.00 B)\n",
       "</pre>\n"
      ],
      "text/plain": [
       "\u001b[1m Non-trainable params: \u001b[0m\u001b[38;5;34m0\u001b[0m (0.00 B)\n"
      ]
     },
     "metadata": {},
     "output_type": "display_data"
    }
   ],
   "source": [
    "# build your NN \n",
    "# your code here\n",
    "tf.random.set_seed(111)\n",
    "\n",
    "# Build NN with 2 hidden layers of 15 nodes each\n",
    "# ReLU activation function for hidden layers\n",
    "# Sigmoid activation function for output layer\n",
    "NN_model = Sequential([\n",
    "    Dense(15, activation=\"relu\", input_shape=(X_train.shape[1],)),\n",
    "    Dense(15, activation=\"relu\"),\n",
    "    Dense(1, activation=\"sigmoid\"),\n",
    "])\n",
    "\n",
    "# Display model summary\n",
    "NN_model.summary()"
   ]
  },
  {
   "cell_type": "code",
   "execution_count": 14,
   "metadata": {
    "tags": [
     "otter_answer_cell"
    ]
   },
   "outputs": [
    {
     "name": "stdout",
     "output_type": "stream",
     "text": [
      "Epoch 1/100\n",
      "\u001b[1m200/200\u001b[0m \u001b[32m━━━━━━━━━━━━━━━━━━━━\u001b[0m\u001b[37m\u001b[0m \u001b[1m0s\u001b[0m 790us/step - accuracy: 0.7406 - loss: 0.5265 - val_accuracy: 0.6988 - val_loss: 0.6152\n",
      "Epoch 2/100\n",
      "\u001b[1m200/200\u001b[0m \u001b[32m━━━━━━━━━━━━━━━━━━━━\u001b[0m\u001b[37m\u001b[0m \u001b[1m0s\u001b[0m 483us/step - accuracy: 0.7670 - loss: 0.4929 - val_accuracy: 0.6925 - val_loss: 0.6347\n",
      "Epoch 3/100\n",
      "\u001b[1m200/200\u001b[0m \u001b[32m━━━━━━━━━━━━━━━━━━━━\u001b[0m\u001b[37m\u001b[0m \u001b[1m0s\u001b[0m 468us/step - accuracy: 0.7753 - loss: 0.4737 - val_accuracy: 0.6994 - val_loss: 0.6554\n",
      "Epoch 4/100\n",
      "\u001b[1m200/200\u001b[0m \u001b[32m━━━━━━━━━━━━━━━━━━━━\u001b[0m\u001b[37m\u001b[0m \u001b[1m0s\u001b[0m 466us/step - accuracy: 0.7836 - loss: 0.4580 - val_accuracy: 0.6938 - val_loss: 0.6760\n",
      "Epoch 5/100\n",
      "\u001b[1m200/200\u001b[0m \u001b[32m━━━━━━━━━━━━━━━━━━━━\u001b[0m\u001b[37m\u001b[0m \u001b[1m0s\u001b[0m 471us/step - accuracy: 0.7874 - loss: 0.4461 - val_accuracy: 0.6981 - val_loss: 0.6942\n",
      "Epoch 6/100\n",
      "\u001b[1m200/200\u001b[0m \u001b[32m━━━━━━━━━━━━━━━━━━━━\u001b[0m\u001b[37m\u001b[0m \u001b[1m0s\u001b[0m 475us/step - accuracy: 0.7927 - loss: 0.4363 - val_accuracy: 0.6950 - val_loss: 0.7132\n",
      "Epoch 7/100\n",
      "\u001b[1m200/200\u001b[0m \u001b[32m━━━━━━━━━━━━━━━━━━━━\u001b[0m\u001b[37m\u001b[0m \u001b[1m0s\u001b[0m 502us/step - accuracy: 0.7963 - loss: 0.4272 - val_accuracy: 0.6969 - val_loss: 0.7281\n",
      "Epoch 8/100\n",
      "\u001b[1m200/200\u001b[0m \u001b[32m━━━━━━━━━━━━━━━━━━━━\u001b[0m\u001b[37m\u001b[0m \u001b[1m0s\u001b[0m 539us/step - accuracy: 0.7998 - loss: 0.4189 - val_accuracy: 0.6919 - val_loss: 0.7459\n",
      "Epoch 9/100\n",
      "\u001b[1m200/200\u001b[0m \u001b[32m━━━━━━━━━━━━━━━━━━━━\u001b[0m\u001b[37m\u001b[0m \u001b[1m0s\u001b[0m 516us/step - accuracy: 0.8049 - loss: 0.4103 - val_accuracy: 0.6913 - val_loss: 0.7609\n",
      "Epoch 10/100\n",
      "\u001b[1m200/200\u001b[0m \u001b[32m━━━━━━━━━━━━━━━━━━━━\u001b[0m\u001b[37m\u001b[0m \u001b[1m0s\u001b[0m 520us/step - accuracy: 0.8071 - loss: 0.4030 - val_accuracy: 0.6919 - val_loss: 0.7782\n",
      "Epoch 11/100\n",
      "\u001b[1m200/200\u001b[0m \u001b[32m━━━━━━━━━━━━━━━━━━━━\u001b[0m\u001b[37m\u001b[0m \u001b[1m0s\u001b[0m 517us/step - accuracy: 0.8066 - loss: 0.3971 - val_accuracy: 0.6950 - val_loss: 0.7886\n",
      "Epoch 12/100\n",
      "\u001b[1m200/200\u001b[0m \u001b[32m━━━━━━━━━━━━━━━━━━━━\u001b[0m\u001b[37m\u001b[0m \u001b[1m0s\u001b[0m 497us/step - accuracy: 0.8112 - loss: 0.3901 - val_accuracy: 0.6944 - val_loss: 0.8068\n",
      "Epoch 13/100\n",
      "\u001b[1m200/200\u001b[0m \u001b[32m━━━━━━━━━━━━━━━━━━━━\u001b[0m\u001b[37m\u001b[0m \u001b[1m0s\u001b[0m 479us/step - accuracy: 0.8149 - loss: 0.3844 - val_accuracy: 0.6931 - val_loss: 0.8233\n",
      "Epoch 14/100\n",
      "\u001b[1m200/200\u001b[0m \u001b[32m━━━━━━━━━━━━━━━━━━━━\u001b[0m\u001b[37m\u001b[0m \u001b[1m0s\u001b[0m 479us/step - accuracy: 0.8183 - loss: 0.3806 - val_accuracy: 0.6944 - val_loss: 0.8358\n",
      "Epoch 15/100\n",
      "\u001b[1m200/200\u001b[0m \u001b[32m━━━━━━━━━━━━━━━━━━━━\u001b[0m\u001b[37m\u001b[0m \u001b[1m0s\u001b[0m 483us/step - accuracy: 0.8223 - loss: 0.3748 - val_accuracy: 0.6981 - val_loss: 0.8455\n",
      "Epoch 16/100\n",
      "\u001b[1m200/200\u001b[0m \u001b[32m━━━━━━━━━━━━━━━━━━━━\u001b[0m\u001b[37m\u001b[0m \u001b[1m0s\u001b[0m 481us/step - accuracy: 0.8231 - loss: 0.3685 - val_accuracy: 0.6931 - val_loss: 0.8599\n",
      "Epoch 17/100\n",
      "\u001b[1m200/200\u001b[0m \u001b[32m━━━━━━━━━━━━━━━━━━━━\u001b[0m\u001b[37m\u001b[0m \u001b[1m0s\u001b[0m 491us/step - accuracy: 0.8262 - loss: 0.3643 - val_accuracy: 0.6963 - val_loss: 0.8722\n",
      "Epoch 18/100\n",
      "\u001b[1m200/200\u001b[0m \u001b[32m━━━━━━━━━━━━━━━━━━━━\u001b[0m\u001b[37m\u001b[0m \u001b[1m0s\u001b[0m 519us/step - accuracy: 0.8288 - loss: 0.3612 - val_accuracy: 0.6963 - val_loss: 0.8821\n",
      "Epoch 19/100\n",
      "\u001b[1m200/200\u001b[0m \u001b[32m━━━━━━━━━━━━━━━━━━━━\u001b[0m\u001b[37m\u001b[0m \u001b[1m0s\u001b[0m 470us/step - accuracy: 0.8287 - loss: 0.3554 - val_accuracy: 0.6925 - val_loss: 0.8963\n",
      "Epoch 20/100\n",
      "\u001b[1m200/200\u001b[0m \u001b[32m━━━━━━━━━━━━━━━━━━━━\u001b[0m\u001b[37m\u001b[0m \u001b[1m0s\u001b[0m 474us/step - accuracy: 0.8316 - loss: 0.3506 - val_accuracy: 0.6956 - val_loss: 0.9061\n",
      "Epoch 21/100\n",
      "\u001b[1m200/200\u001b[0m \u001b[32m━━━━━━━━━━━━━━━━━━━━\u001b[0m\u001b[37m\u001b[0m \u001b[1m0s\u001b[0m 473us/step - accuracy: 0.8348 - loss: 0.3463 - val_accuracy: 0.6931 - val_loss: 0.9175\n"
     ]
    }
   ],
   "source": [
    "# compile it and run it\n",
    "# your code here \n",
    "NN_model.compile(\n",
    "    optimizer='adam',\n",
    "    loss='binary_crossentropy',\n",
    "    metrics=['accuracy'],\n",
    ")\n",
    "\n",
    "# Early stopping to prevent overfitting\n",
    "early_stopping = EarlyStopping(\n",
    "    monitor='val_loss',\n",
    "    patience=20,\n",
    "    restore_best_weights=True\n",
    ")\n",
    "\n",
    "# Train model with val split\n",
    "history = NN_model.fit(\n",
    "    X_train_std,\n",
    "    y_train,\n",
    "    epochs=100,\n",
    "    batch_size=32,\n",
    "    validation_split=0.2,\n",
    "    callbacks=[early_stopping],\n",
    "    verbose=1,\n",
    ")"
   ]
  },
  {
   "cell_type": "code",
   "execution_count": 15,
   "metadata": {
    "tags": [
     "otter_answer_cell"
    ]
   },
   "outputs": [
    {
     "data": {
      "image/png": "[encoded data removed]",
      "text/plain": [
       "<Figure size 1000x600 with 2 Axes>"
      ]
     },
     "metadata": {},
     "output_type": "display_data"
    },
    {
     "name": "stdout",
     "output_type": "stream",
     "text": [
      "Training stopped at epoch 21\n"
     ]
    }
   ],
   "source": [
    "# plot train and val acc as a function of epochs\n",
    "# your code here\n",
    "# Plot training and validation accuracy\n",
    "plt.figure(figsize=(10, 6))\n",
    "\n",
    "plt.subplot(1,2,1)\n",
    "plt.plot(history.history['accuracy'], label='Train')\n",
    "plt.plot(history.history['val_accuracy'], label='Validation')\n",
    "plt.xlabel('Epoch')\n",
    "plt.ylabel('Accuracy')\n",
    "plt.title('Train and Validation Accuracy vs. Epochs')\n",
    "plt.legend()\n",
    "\n",
    "plt.subplot(1,2,2)\n",
    "plt.plot(history.history['loss'], label='Train')\n",
    "plt.plot(history.history['val_loss'], label='Validation')\n",
    "plt.xlabel('Epoch')\n",
    "plt.ylabel('Loss')\n",
    "plt.title('Train and Validation Loss vs. Epochs')\n",
    "plt.legend()\n",
    "\n",
    "plt.tight_layout()\n",
    "plt.show()\n",
    "\n",
    "# Print epoch where early stopping occurred\n",
    "print(f\"Training stopped at epoch {len(history.history['loss'])}\")"
   ]
  },
  {
   "cell_type": "code",
   "execution_count": 16,
   "metadata": {
    "tags": [
     "otter_answer_cell"
    ]
   },
   "outputs": [
    {
     "name": "stdout",
     "output_type": "stream",
     "text": [
      "Train Accuracy: 0.7620\n",
      "Test Accuracy: 0.7030\n",
      "Difference (Train Accuracy - Test Accuracy): 0.0590\n"
     ]
    }
   ],
   "source": [
    "# evaluate on train and test and print accuracy results\n",
    "# your code here \n",
    "# Evaluate model on train data\n",
    "train_loss, train_accuracy = NN_model.evaluate(X_train_std, y_train, verbose=0)\n",
    "print(f\"Train Accuracy: {train_accuracy:.4f}\")\n",
    "\n",
    "# Evaluate model on test data\n",
    "test_loss, test_accuracy = NN_model.evaluate(X_test_std, y_test, verbose=0)\n",
    "print(f\"Test Accuracy: {test_accuracy:.4f}\")\n",
    "\n",
    "# Print difference\n",
    "print(f\"Difference (Train Accuracy - Test Accuracy): {train_accuracy - test_accuracy:.4f}\")"
   ]
  },
  {
   "cell_type": "markdown",
   "metadata": {
    "deletable": false,
    "editable": false,
    "tags": []
   },
   "source": [
    "<div class='exercise-r'>\n",
    "\n",
    "**1.3**  **Bootstrap prediction intervals**\n",
    "\n",
    "In HW1, we saw how we could use MCMC to perform Bayesian inference on the parameters of a logistic regression model. This gave us access not only to samples from the posterior distribution (betas) but we could also generate samples from the posterior predictive distribution (data). The posterior predictive can be used to represent our uncertainy about a given prediction, $\\hat{y}$.\n",
    "\n",
    "We'd like to do something similar for our neural network here so that we can quantify the uncertainty in our predictions. But there are some problems. First, we haven't (explicitly) specified any priors on the network weights. Second, and more serious, neural networks have many, many parameters. Far too many for MCMC to be a viable approach. Sampling in such a high dimensional space is simply intractable.\n",
    "\n",
    "Bootstrap to the rescue!\n",
    "\n",
    "Using the same network architecture as `NN_model` (layers, nodes, activations, etc.) and your scaled data from that model, create multiple training sets using bootstrapping and fit a separate neural network model to each bootstrapped set of data (the number of bootstraped *datasets*, $n$, should be at least 50). For each of the $n$ models, make predictions on the test data. Randomly select 8 test observations and on 8 subplots, plot the distribution of the $n$ predicted probabilities with the 95% prediction intervals clearly marked and reported in each subplot and the **actual** class of each observation included in each subplot's title for easy reference.\n",
    "    \n",
    "Interpret what you see in 3-5 sentences.\n",
    "\n",
    "**NOTE:** The code for this problem can take an extremely long time to execute. Please feel free to use the `progressbar` function provided below to visually track the progress of your bootstraps.\n",
    "\n",
    "<a id=\"q13\"></a>\n",
    "\n",
    "\n",
    "</div>"
   ]
  },
  {
   "cell_type": "code",
   "execution_count": null,
   "metadata": {
    "deletable": false,
    "editable": false
   },
   "outputs": [],
   "source": [
    "def progressbar(n_step, n_total):\n",
    "    \"\"\"Prints self-updating progress bar to stdout to track for-loop progress\n",
    "    \n",
    "    There are entire 3rd-party libraries dedicated to custom progress-bars.\n",
    "    A simple function like this is often more than enough to get the job done.\n",
    "    \n",
    "    :param n_total: total number of expected for-loop iterations\n",
    "    :type n_total: int\n",
    "    :param n_step: current iteration number, starting at 0\n",
    "    :type n_step: int\n",
    "\n",
    "    .. example::\n",
    "    \n",
    "        for i in range(n_iterations):\n",
    "            progressbar(i, n_iterations)\n",
    "            \n",
    "    .. source:\n",
    "    \n",
    "        This function is a simplified version of code found here:\n",
    "        https://stackoverflow.com/questions/3160699/python-progress-bar/15860757#15860757\n",
    "    \"\"\"\n",
    "    n_step = n_step + 1\n",
    "    barlen = 50\n",
    "    progress = n_step / n_total\n",
    "    block = int(round(barlen * progress))\n",
    "    status = \"\"\n",
    "    if n_step == n_total:\n",
    "        status = \"Done...\\r\\n\\n\"\n",
    "    text = \"\\r [{0}] {1}/{2} {3}\".format(\n",
    "        \"=\" * block + \"-\" * (barlen - block),\n",
    "        n_step,\n",
    "        n_total,\n",
    "        status,\n",
    "    )\n",
    "    sys.stdout.write(text)\n",
    "    sys.stdout.flush()"
   ]
  },
  {
   "cell_type": "code",
   "execution_count": null,
   "metadata": {
    "tags": [
     "otter_answer_cell"
    ]
   },
   "outputs": [],
   "source": [
    "%%time\n",
    "# Bootstrap and train your networks and get predictions on X test\n",
    "# your code here\n",
    "..."
   ]
  },
  {
   "cell_type": "code",
   "execution_count": null,
   "metadata": {
    "tags": [
     "otter_answer_cell"
    ]
   },
   "outputs": [],
   "source": [
    "# generate your plot\n",
    "# your code here\n",
    "..."
   ]
  },
  {
   "cell_type": "markdown",
   "metadata": {
    "tags": [
     "otter_answer_cell"
    ]
   },
   "source": [
    "*Your answer here*\n",
    "\n"
   ]
  },
  {
   "cell_type": "markdown",
   "metadata": {
    "deletable": false,
    "editable": false,
    "tags": []
   },
   "source": [
    "<div class='exercise-r'>\n",
    "\n",
    "**1.4**  **Build an \"abstain\" bagging model**\n",
    "\n",
    "Using the probability distribution of the predictions obtained from the bootstrapped samples above, we can evaluate how confident we should be in our bagged (i.e. bootstrap-aggregated) predictions for each test observation.\n",
    "\n",
    "To accomplish this, you will first calculate a metric we'll call the **Posterior Prediction Dissent (PPD)** related to the proportion of predictions a given test observation receives for the minority opinion. Some examples: if 10% of the bootstrapped models predict $\\hat{y} = 0$ with the remaining 90% predicting $\\hat{y}=1$, then the $PPD=0.1$. When a bagged prediction's $PPD=0$, all predictions are compatible (i.e. all bootstrapped probabilities for that test observation are on the same side of $\\hat{p}=0.5$). Likewise, when the $PPD=0.5$, half of the bootstrapped predictions for that test observation are $\\hat{y}=0$, and the other half are $\\hat{y}=1$. After calculating your $PPD$ values for all test observations, you should have $n=2000$ $PPD$ values (i.e. one for each test observation).\n",
    "\n",
    "Next, to get more accurate predictions, we can create an **abstain** model that will abstain from making a prediction for a particular observation if some defined threshold for lack-of-confidence (i.e. maximum permissible $PPD$ value) is crossed. (If you'd like to learn more about abstain models, you can read more [here](https://openreview.net/forum?id=rJxF73R9tX).)\n",
    "\n",
    "Let's explore how your resulting test accuracies might change by using your bootstrapped prediction results from question 1.5 for an **abstain bagging model** (i.e. a bootstrap aggregated model where some test observations are simply not predicted based on a given $PPD$ threshold). You can make your abstain model *stricter* by using smaller $PPD$ threshold values.\n",
    "\n",
    "- Print the test accuracy for your **bagging model** predictions from question 1.5 using predictions for all 2,000 of our test observations. \n",
    "\n",
    "- Plot the test accuracies for an **abstain bagging model** using your predictions from question 1.5 as a function of increasing $PPD$.\n",
    "\n",
    "- Also, plot the proportion of test observations not abstained (i.e. the proportion of those predicted) for your **abstain bagging model** as a function of increasing $PPD$.\n",
    "\n",
    "- Interpret what you see in 3-5 sentences.\n",
    "\n",
    "**NOTE**: You should observe that as $PPD$ decreases (more confident predictions), you must also compromise on the number of points that your abstain model is permitted to predict on. \n",
    "\n",
    "**HINT:** \n",
    "- What is the range of values PPD can take on? Is it the same as the range of our predictions themselves?\n",
    "- When calculating accuracies, you should only consider those observations that received predictions (i.e., not the abstained observations)\n",
    "</div>"
   ]
  },
  {
   "cell_type": "code",
   "execution_count": null,
   "metadata": {
    "tags": [
     "otter_answer_cell"
    ]
   },
   "outputs": [],
   "source": [
    "# your code here\n",
    "..."
   ]
  },
  {
   "cell_type": "markdown",
   "metadata": {
    "tags": [
     "otter_answer_cell"
    ]
   },
   "source": [
    "*Your answer here*\n",
    "\n"
   ]
  },
  {
   "cell_type": "markdown",
   "metadata": {},
   "source": [
    "<a id=\"part2\"></a>\n",
    "\n",
    "<!-- <div class=\"alert alert-block alert-danger\" style=\"color:black;background-color:#E7F4FA\"> -->\n",
    "\n",
    "# PART 2 [50 pts]: The Quick, Draw!  Kaggle competition\n",
    "\n",
    "[Return to contents](#contents)\n",
    "\n",
    "\n",
    "<a id=\"part2intro\"></a>\n",
    "\n",
    "## Problem Statement\n",
    "\n",
    "[Return to contents](#contents)\n",
    "\n",
    "Artificial neural networks (ANNs) are prone to overfitting, learning patterns specific to the training data that do not generalize to new data.\n",
    "\n",
    "There are several methods to reduce ANN generalization error. \n",
    "\n",
    "One approach is to use an architecture just barely wide or deep enough to fit the data. The idea here is that smaller networks are less expressive and thus less likely to overfit the data.\n",
    "\n",
    "However, it is difficult to know a priori the correct size of the ANN, and it is computationally costly to hunt for the correct size. Given this, other methodologies are used to prevent overfitting and improve ANNs' generalizability. These methodologies, like other techniques that combat overfitting, fall under the umbrella term of \"regularization.\"\n",
    "\n",
    "\n",
    "\n",
    "<a id=\"part2about\"></a>\n",
    "\n",
    "## The Quick, Draw! Dataset \n",
    "\n",
    "[Return to contents](#contents)\n",
    "\n",
    "\n",
    "![](img/quickdrawpreview.jpg)\n",
    "\n",
    "\n",
    "\n",
    "For this problem, we will be working with a modified version of the [The Quick, Draw! Dataset](https://github.com/googlecreativelab/quickdraw-dataset), which is a large database of 50 million drawings across 345 categories, collected from players of the game [Quick, Draw!](https://quickdraw.withgoogle.com/).\n",
    "\n",
    "For this homework, we will simplify the problem by using only 120,000 images across 10 different classes for training (this includes the data you will use for validation) and a test set of 30,000 images.\n",
    "\n",
    "\n",
    "<a id=\"part2data\"></a>\n",
    "\n",
    "## Downloading the Data Files\n",
    "\n",
    "[Return to contents](#contents)\n",
    "\n",
    "\n",
    "**The required `train.csv` and `test.csv` data files are available on [the \"Data\" tab of the CS1090B HW2 Kaggle Competition website](https://www.kaggle.com/t/f70f40cbdf44c3cfdb32a37dcb52ebe1). They are also included with this assignment in `data/quickdraw.zip`. (DO NOT USE DATA FROM ANY OTHER SOURCE!)**\n",
    "\n",
    "Here's a brief description of the data files:\n",
    "\n",
    "- `train.csv` is our training dataset and the `label` column contains our response class. The 784 other columns correspond to the pixel values of the 28x28 dimension image.  `train.csv` has 120,000 samples.\n",
    "\n",
    "- `test.csv` file mirrors the structure of the `train.csv` file **without** the class label column. We have added another column `id`. `id` is a unique identifier for each sample in the test set. This ID is crucial for mapping your model's predictions back to the corresponding samples when submitting your results to Kaggle. `test.csv` has 30,000 samples. \n",
    "\n",
    "- Since the `test.csv` does not include the true labels, it is used exclusively for generating predictions that you'll submit to Kaggle for evaluation.  Your task is to predict the class labels for each sample in `test.csv` and submit these predictions in the required format.\n",
    "\n",
    "\n",
    "Kaggle leaderboard scores are accuracy scores calculated by Kaggle when you upload your predictions on this test set.\n",
    "\n",
    "- `sample_submission.csv` is the format that kaggle will accept. The uploaded `.csv` must contain 2 columns. The first column must be named `id` and needs to contain the test observation index numbers for each prediction, the second must be named `label` and needs to contain your class predictions (i.e. 'cat', 'dog' etc) for each corresponding test observation index location. \n",
    "\n",
    "<a id=\"part2kaggle\"></a>\n",
    "\n",
    "## CS1090B Kaggle Competition\n",
    "\n",
    "[Return to contents](#contents)\n",
    "\n",
    "**ACCESS AND JOIN THE COMPETITION**:\n",
    "\n",
    "**You need to create an account on Kaggle and [join the competition via this link](https://www.kaggle.com/t/f70f40cbdf44c3cfdb32a37dcb52ebe1). This is a limited participation competition. Please DO NOT share this link.**\n",
    "\n",
    "**For more information on the rules** governing this CS1090B Kaggle competition, please see below and also review [the modeling restrictions DOS and DON'TS outlined in question 2.3.2](#q2.3.2).\n",
    "\n",
    "**IMPORTANT NOTES ABOUT SCORING**:\n",
    "\n",
    "- The **public leaderboard** on Kaggle displays your performance on only 30% of the test set.\n",
    "\n",
    "\n",
    "- After the competition is complete, the **private leaderboard** will show your performance on the remaining 70% of the test set.\n",
    "\n",
    "- Question 2.3.6 is worth 30 points (the entire notebook is scored out of 100). Points for this questions will be awarded based on the **private leaderboard** accuracy score using the formula:\n",
    "$$\n",
    "\\text{relu}(\\text{max}(30, 4.3\\times 100\\times(\\text{score} - 0.78)))\n",
    "$$\n",
    "\n",
    "**🏆 Grand Prize(s):** The **Top-2** students on the private leaderboard will win an invitation to dinner with Pavlos and some of the CS1090B teaching staff. This refers to the top 2 individuals on the board. The invitation will be extended to 3 students if the restriction to 2 would otherwise divide a group (e.g., 1 single submissions at the top followed by a group of 2).\n",
    "\n",
    "**ADDITIONAL COMPETITION RULES:**\n",
    "\n",
    "- Multiple Kaggle submissions are permitted (with a maximum of 5 submissions per team per-day), **just note that you will need to choose, on Kaggle, the ONE single submission to use for final scoring prior to the final HW2 submission deadline**, and **your submitted notebook MUST contain the matching code and model that generated your ONE chosen submission.**\n",
    "\n",
    "\n",
    "- **To repeat this point, the version of your final HW2 notebook submitted on Canvas MUST contain the same code and exact same model used to generate your ONE chosen Kaggle submission.** (TFs may rerun your notebook code to ensure comparable final leaderboard results.)\n",
    "\n",
    "\n",
    "- **Please do not manually label your submissions.** In other words, the labels should only be the outcome of your model.\n",
    "\n",
    "\n",
    "- **No external data are allowed, you MUST USE ONLY the training and test data downloaded via the \"Data\" tab of [the CS1090B competition page linked above](#part2data).**\n",
    "\n",
    "\n",
    "- **Do not** create multiple accounts on Kaggle.\n"
   ]
  },
  {
   "cell_type": "markdown",
   "metadata": {
    "deletable": false,
    "editable": false
   },
   "source": [
    "<div class='exercise-r'>\n",
    "\n",
    "**2.1**  **Download and visualize the data**\n",
    "\n",
    "- Download the train and test data from [the competition page](#part2data).\n",
    "- We will utilize `test.csv` in question 2.3.5 only. \n",
    "- Load the data and use the matplotlib function `imshow` to display 25 samples  from each of the 10 classes from the training set. Total of 250 samples, 10 rows of 25 images each.\n",
    "- You are responsible for any preprocessing you deem necessary to help in your prediction task.\n",
    "\n",
    "</div>"
   ]
  },
  {
   "cell_type": "code",
   "execution_count": null,
   "metadata": {
    "tags": [
     "otter_answer_cell"
    ]
   },
   "outputs": [],
   "source": [
    "# your code here\n",
    "..."
   ]
  },
  {
   "cell_type": "markdown",
   "metadata": {
    "deletable": false,
    "editable": false
   },
   "source": [
    "<div class='exercise-r'>\n",
    "\n",
    "**2.2**  **Overfit an ANN** \n",
    "\n",
    "Build and fit a fully-connected network (FCN) with the architecture given below using `tensorflow.keras` and assign it to a variable called `model_overfit`:\n",
    "\n",
    "- Number of hidden layers: 3\n",
    "- Nodes per hidden layer: 10000, 10000, 10000\n",
    "- Activation function: ReLU \n",
    "- Loss function: sparse_categorical_crossentropy\n",
    "- Output unit: Softmax \n",
    "- Optimizer: adam (use the defaults; no other tuning)\n",
    "- Epochs: 20\n",
    "- Batch size: 128\n",
    "- Validation size: 0.2\n",
    "\n",
    "    \n",
    "    \n",
    "This ANN, when trained on the dataset, will overfit to the training set. Plot the training accuracy and validation accuracy (the x-axis should represent the number of epochs, and the y-axis should represent the accuracy). Explain how you can tell the model is overfitting. \n",
    "\n",
    "</div>"
   ]
  },
  {
   "cell_type": "code",
   "execution_count": null,
   "metadata": {
    "tags": [
     "otter_answer_cell"
    ]
   },
   "outputs": [],
   "source": [
    "# your code here\n",
    "..."
   ]
  },
  {
   "cell_type": "markdown",
   "metadata": {
    "tags": [
     "otter_answer_cell"
    ]
   },
   "source": [
    "*Your answer here*\n",
    "\n"
   ]
  },
  {
   "cell_type": "markdown",
   "metadata": {
    "deletable": false,
    "editable": false
   },
   "source": [
    "<div class='exercise-r'>\n",
    "<a id=\"q2.3.1\"></a>\n",
    "\n",
    "**2.3.1** **Enhancing Feature Extraction with Fourier Transforms**\n",
    "\n",
    "Neural networks can learn useful representations of their inputs while simultaneously solving tasks like classification. This process, called **representation learning**, can be seen as a form of feature extraction. However, incorporating **explicit feature transformations** can still improve performance. One such transformation is the **Fourier Transform (FT)**, which decomposes an image into its frequency components. This alternative representation can highlight patterns that may not be easily captured in the pixel space. The **Fast Fourier Transform (FFT)** is an efficient algorithm for computing the FT.\n",
    "\n",
    "Your task:\n",
    "- **Implement a custom Keras layer** that applies the **FFT** to its input.\n",
    "- **Incorporate this layer** into a neural network architecture for classifying the \"Quick, Draw!\" dataset.\n",
    "- **Describe your approach**: Explain where and how you added the FFT layer, your reasoning behind it, and whether it improved performance compared to the previous model.\n",
    "\n",
    "**Hints**\n",
    "- Experiment with the [Functional Keras API](https://www.tensorflow.org/guide/keras/functional_api) and the [Concatenate layer](https://www.tensorflow.org/api_docs/python/tf/keras/layers/Concatenate).\n",
    "- You may find the following documentation helpful:\n",
    "  - [TensorFlow FFT function](https://www.tensorflow.org/api_docs/python/tf/signal/fft2d)\n",
    "  - [Building Custom Keras Layers](https://www.tensorflow.org/guide/keras/custom_layers_and_models)\n",
    "\n",
    "⚠️ **Note:** This question is worth 5 points out of the 100 possible points in the notebook, so allocate your time accordingly.\n",
    "</div>"
   ]
  },
  {
   "cell_type": "code",
   "execution_count": null,
   "metadata": {
    "tags": [
     "otter_answer_cell"
    ]
   },
   "outputs": [],
   "source": [
    "# your code here\n"
   ]
  },
  {
   "cell_type": "markdown",
   "metadata": {
    "tags": [
     "otter_answer_cell"
    ]
   },
   "source": [
    "*Your answer here*\n",
    "\n"
   ]
  },
  {
   "attachments": {},
   "cell_type": "markdown",
   "metadata": {
    "deletable": false,
    "editable": false
   },
   "source": [
    "<div class='exercise-r'>\n",
    "<a id=\"q2.3.2\"></a>\n",
    "\n",
    "**2.3.2**  **Kaggle Competition**\n",
    "\n",
    "Create an ANN and use it to [compete on Kaggle](#part2kaggle).\n",
    "\n",
    "<a id=\"q2.3.2\"></a>\n",
    "    \n",
    "**DON'TS**\n",
    "\n",
    "- **No CNNs, transfer learning, RNNs, ensembles, and no ensembles with folds.**\n",
    "\n",
    "- **DO NOT manually label your submissions.** In other words, the labels should only be the outcome of your model.\n",
    "\n",
    "- **DO NOT use any external data.** Please use ONLY the specific dataset provided to you (via the CS1090B [data link above](#part2data)) for training your model and for generating your test predictions.\n",
    "\n",
    "**DOS**\n",
    "\n",
    " - **YOU CAN change the** number of epochs (max 2000), batch size, optimizer, and of course, add elements that can help to regularize your model.\n",
    " - **YOU CAN** do data augmentation using the provided training data.\n",
    " - **YOU CAN** make use of your custom Fourier Transform layer from the previous question. \n",
    "\n",
    "**IMPORTANT: YOU MUST** ensure that the version of the code and model in your final submitted notebook is the **EXACT SAME** code and model used to generate your Kaggle submission. TFs may run your submitted model to ensure comparable results. **Other Kaggle competition rules and scoring details [are listed here](#part2kaggle).**\n",
    "\n",
    "</div>"
   ]
  },
  {
   "cell_type": "code",
   "execution_count": null,
   "metadata": {
    "tags": [
     "otter_answer_cell"
    ]
   },
   "outputs": [],
   "source": [
    "# your code here\n"
   ]
  },
  {
   "cell_type": "markdown",
   "metadata": {
    "deletable": false,
    "editable": false
   },
   "source": [
    "<div class='exercise-r'>\n",
    "\n",
    "**2.3.3**  Plot your model's training accuracy and validation accuracy as a function of epochs.\n",
    "\n",
    "\n",
    "\n",
    "\n",
    "</div>"
   ]
  },
  {
   "cell_type": "code",
   "execution_count": null,
   "metadata": {
    "tags": [
     "otter_answer_cell"
    ]
   },
   "outputs": [],
   "source": [
    "# your code here\n"
   ]
  },
  {
   "cell_type": "markdown",
   "metadata": {
    "deletable": false,
    "editable": false
   },
   "source": [
    "<div class='exercise-r'>\n",
    "\n",
    "**2.3.4**  In a few sentences, describe the various approaches you have taken to improve the performance of your regularized model in 2.3.2 as well as any observations you might have regarding your training and Kaggle results.\n",
    "\n",
    "\n",
    "</div>"
   ]
  },
  {
   "cell_type": "markdown",
   "metadata": {
    "tags": [
     "otter_answer_cell"
    ]
   },
   "source": [
    "*Your answer here*\n",
    "\n"
   ]
  },
  {
   "cell_type": "markdown",
   "metadata": {
    "deletable": false,
    "editable": false
   },
   "source": [
    "<div class='exercise-r'>\n",
    "\n",
    "**2.3.5**  Generate your test-set class predictions using your regularized model. Save those predictions to a `.csv` formatted file. Submit that `.csv` file [to the CS1090B Kaggle Competition](#part2kaggle) for leaderboard scoring. \n",
    "\n",
    "**IMPORTANT:** For Kaggle to accept and score your submitted `.csv` file, it MUST contain 2 columns. The first column must be named `\"id\"` and needs to contain the test observation index numbers corresponding to each of your 30,000 predictions, the second column must be named `\"label\"` and needs to contain your class predictions (i.e. `cat` or `dog` etc.) for each corresponding test observation index location. A sample submission file is provided on [Kaggle](https://www.kaggle.com/competitions/cs-109-b-hw-2-contest-2025/data?select=sample_submission.csv)\n",
    "</div>"
   ]
  },
  {
   "cell_type": "code",
   "execution_count": null,
   "metadata": {
    "tags": [
     "otter_answer_cell"
    ]
   },
   "outputs": [],
   "source": [
    "# your code here\n",
    "..."
   ]
  },
  {
   "cell_type": "markdown",
   "metadata": {
    "deletable": false,
    "editable": false
   },
   "source": [
    "<div class='exercise-r'>\n",
    "\n",
    "**2.3.6**  **Specify your Kaggle name that you have used on the leaderboard**. We CANNOT give you credit without this.\n",
    "\n",
    "</div>"
   ]
  },
  {
   "cell_type": "markdown",
   "metadata": {
    "deletable": false,
    "editable": false
   },
   "source": [
    "**YOUR KAGGLE LEADERBOARD NAME:**"
   ]
  },
  {
   "cell_type": "markdown",
   "metadata": {
    "tags": [
     "otter_answer_cell"
    ]
   },
   "source": [
    "*Your answer here*\n",
    "\n"
   ]
  },
  {
   "cell_type": "markdown",
   "metadata": {
    "deletable": false,
    "editable": false
   },
   "source": [
    "<!-- BEGIN QUESTION -->\n",
    "\n",
    "<div class='exercise-r'><b>2.4 Wrap-up</b></div>"
   ]
  },
  {
   "cell_type": "markdown",
   "metadata": {
    "deletable": false,
    "editable": false
   },
   "source": [
    "* In a few sentences, please describe the aspect(s) of the assignment you found most challenging. This could be conceptual and/or related to coding and implementation.\n",
    "\n",
    "* How many hours did you spend working on this assignment? Store this as an int or float in `hours_spent_on_hw`. If you worked on the project in a group, report the *average* time spent per person."
   ]
  },
  {
   "cell_type": "code",
   "execution_count": null,
   "metadata": {
    "tags": [
     "otter_answer_cell"
    ]
   },
   "outputs": [],
   "source": [
    "hours_spent_on_hw = ..."
   ]
  },
  {
   "cell_type": "markdown",
   "metadata": {
    "tags": [
     "otter_answer_cell"
    ]
   },
   "source": [
    "*Your answer here*\n",
    "\n"
   ]
  },
  {
   "cell_type": "code",
   "execution_count": null,
   "metadata": {
    "deletable": false,
    "editable": false
   },
   "outputs": [],
   "source": [
    "grader.check(\"q2.4\")"
   ]
  },
  {
   "cell_type": "code",
   "execution_count": null,
   "metadata": {},
   "outputs": [],
   "source": [
    "time_end = time.time()\n",
    "print(f\"It took {(time_end - time_start)/60:.2f} minutes for this notebook to run\")"
   ]
  },
  {
   "cell_type": "markdown",
   "metadata": {},
   "source": [
    "**This concludes HW2. Thank you!**"
   ]
  },
  {
   "cell_type": "code",
   "execution_count": null,
   "metadata": {},
   "outputs": [],
   "source": []
  }
 ],
 "metadata": {
  "kernelspec": {
   "display_name": "cs109b",
   "language": "python",
   "name": "python3"
  },
  "language_info": {
   "codemirror_mode": {
    "name": "ipython",
    "version": 3
   },
   "file_extension": ".py",
   "mimetype": "text/x-python",
   "name": "python",
   "nbconvert_exporter": "python",
   "pygments_lexer": "ipython3",
   "version": "3.12.8"
  },
  "otter": {
   "OK_FORMAT": true,
   "tests": {
    "q2.4": {
     "name": "q2.4",
     "points": null,
     "suites": [
      {
       "cases": [
        {
         "code": ">>> assert float(hours_spent_on_hw), 'Please select a time in hours (int or float) to specify how long you spent on this assignment.'\n",
         "hidden": false,
         "locked": false
        }
       ],
       "scored": true,
       "setup": "",
       "teardown": "",
       "type": "doctest"
      }
     ]
    }
   }
  }
 },
 "nbformat": 4,
 "nbformat_minor": 4
}
