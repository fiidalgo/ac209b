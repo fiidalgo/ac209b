{
 "cells": [
  {
   "attachments": {},
   "cell_type": "markdown",
   "metadata": {},
   "source": [
    "# <img style=\"float: left; padding-right: 10px; width: 45px\" src=\"https://raw.githubusercontent.com/Harvard-IACS/2018-CS109A/master/content/styles/iacs.png\"> CS1090B Introduction to Data Science\n",
    "\n",
    "## Lab 3:  Anatomy of a Neural Network, NNs /w Keras, & NN Interpretation\n",
    "\n",
    "**Harvard University**<br/>\n",
    "**Spring 2025**<br/>\n",
    "**Instructors**: Pavlos Protopapas, Natesh Pillai, and Chris Gumb<br/>\n",
    "<br/>"
   ]
  },
  {
   "attachments": {},
   "cell_type": "markdown",
   "metadata": {},
   "source": [
    "### Table of Contents\n",
    "- Part 1: Anatomy of a NN\n",
    "    - affine transformation /w weights and biases\n",
    "    - activation function\n",
    "    - hidden layers\n",
    "    - output activation\n",
    "    - Multilayer perceptron (MLP) from scratch\n",
    "    \n",
    "- Part 2: Building an NN /w Keras\n",
    "    - Defining a model with Keras `Sequential`\n",
    "    - Compiling\n",
    "    - Fitting\n",
    "    - Inspecting Training History\n",
    "    - Prediction & Evaluation\n",
    "    \n",
    "- Part 3: Further NN Adventures\n",
    "    - Multi-class Classification Example (Tabular Data)\n",
    "\n",
    "- Appendix: Interpreting Our Black Box NN\n",
    "  * Proxy Model\n",
    "  * Varying a Single Predictor\n",
    "  * Bagging Review"
   ]
  },
  {
   "cell_type": "code",
   "execution_count": 1,
   "metadata": {},
   "outputs": [],
   "source": [
    "import numpy as np\n",
    "import pandas as pd\n",
    "import matplotlib\n",
    "import matplotlib.pyplot as plt\n",
    "import seaborn as sns\n",
    "\n",
    "from sklearn.metrics import mean_squared_error\n",
    "\n",
    "# New!\n",
    "import tensorflow as tf\n",
    "from tensorflow.keras import layers\n",
    "from tensorflow.keras import models\n",
    "from tensorflow.keras import losses\n",
    "from tensorflow.keras import metrics\n",
    "from tensorflow.keras import activations\n",
    "from tensorflow.keras import optimizers"
   ]
  },
  {
   "attachments": {},
   "cell_type": "markdown",
   "metadata": {},
   "source": [
    "## Part 1"
   ]
  },
  {
   "attachments": {},
   "cell_type": "markdown",
   "metadata": {},
   "source": [
    "<div class='exercise'> <b>Anatomy of a Neural Network</div>    "
   ]
  },
  {
   "attachments": {},
   "cell_type": "markdown",
   "metadata": {},
   "source": [
    "To learn about the components of a neural network, we'll attempt to model the following data as a binary classification problem."
   ]
  },
  {
   "cell_type": "code",
   "execution_count": 2,
   "metadata": {},
   "outputs": [
    {
     "data": {
      "text/html": [
       "<div>\n",
       "<style scoped>\n",
       "    .dataframe tbody tr th:only-of-type {\n",
       "        vertical-align: middle;\n",
       "    }\n",
       "\n",
       "    .dataframe tbody tr th {\n",
       "        vertical-align: top;\n",
       "    }\n",
       "\n",
       "    .dataframe thead th {\n",
       "        text-align: right;\n",
       "    }\n",
       "</style>\n",
       "<table border=\"1\" class=\"dataframe\">\n",
       "  <thead>\n",
       "    <tr style=\"text-align: right;\">\n",
       "      <th></th>\n",
       "      <th>x</th>\n",
       "      <th>y</th>\n",
       "    </tr>\n",
       "  </thead>\n",
       "  <tbody>\n",
       "    <tr>\n",
       "      <th>0</th>\n",
       "      <td>1.454849</td>\n",
       "      <td>0</td>\n",
       "    </tr>\n",
       "    <tr>\n",
       "      <th>1</th>\n",
       "      <td>-0.491639</td>\n",
       "      <td>1</td>\n",
       "    </tr>\n",
       "    <tr>\n",
       "      <th>2</th>\n",
       "      <td>0.230769</td>\n",
       "      <td>1</td>\n",
       "    </tr>\n",
       "    <tr>\n",
       "      <th>3</th>\n",
       "      <td>-1.575251</td>\n",
       "      <td>0</td>\n",
       "    </tr>\n",
       "    <tr>\n",
       "      <th>4</th>\n",
       "      <td>1.695652</td>\n",
       "      <td>0</td>\n",
       "    </tr>\n",
       "  </tbody>\n",
       "</table>\n",
       "</div>"
      ],
      "text/plain": [
       "          x  y\n",
       "0  1.454849  0\n",
       "1 -0.491639  1\n",
       "2  0.230769  1\n",
       "3 -1.575251  0\n",
       "4  1.695652  0"
      ]
     },
     "execution_count": 2,
     "metadata": {},
     "output_type": "execute_result"
    }
   ],
   "source": [
    "# show students loading x and y\n",
    "df = pd.read_csv('data/toydata.csv')\n",
    "x = df.x.values\n",
    "y = df.y.values\n",
    "df.head()"
   ]
  },
  {
   "cell_type": "code",
   "execution_count": 3,
   "metadata": {},
   "outputs": [
    {
     "data": {
      "image/png": "[encoded data removed]",
      "text/plain": [
       "<Figure size 640x480 with 1 Axes>"
      ]
     },
     "metadata": {},
     "output_type": "display_data"
    }
   ],
   "source": [
    "plt.scatter(x, y)\n",
    "plt.xlabel('x')\n",
    "plt.ylabel('y (1 or 0)')\n",
    "plt.title(\"Toy Binary Classification Data\");"
   ]
  },
  {
   "attachments": {},
   "cell_type": "markdown",
   "metadata": {},
   "source": [
    "Our modeling assumptions are:\n",
    "\n",
    "$Y \\sim Bern(p)$\n",
    "\n",
    "and\n",
    "\n",
    "$p = f(x)$\n",
    "\n",
    "That is, the probability that $Y=1$ is a function of $x$"
   ]
  },
  {
   "attachments": {},
   "cell_type": "markdown",
   "metadata": {},
   "source": [
    "<div class='exercise'> <b>Neural Networks as a Composition of Functions</div>    "
   ]
  },
  {
   "attachments": {},
   "cell_type": "markdown",
   "metadata": {},
   "source": [
    "A neural network is a composition of many simple functions. In this example our basic building block with be the **rectified linear unit**, or **ReLU**."
   ]
  },
  {
   "cell_type": "code",
   "execution_count": 4,
   "metadata": {},
   "outputs": [],
   "source": [
    "def relu(z: float) -> float :\n",
    "    return  np.maximum(0, z)\n",
    "# or \n",
    "# relu = lambda z: np.maximum(0, z)"
   ]
  },
  {
   "cell_type": "code",
   "execution_count": 5,
   "metadata": {},
   "outputs": [],
   "source": [
    "# Create an input vector of dummy x values\n",
    "x_lin = np.linspace(-3,3,300)"
   ]
  },
  {
   "cell_type": "code",
   "execution_count": 6,
   "metadata": {},
   "outputs": [
    {
     "data": {
      "image/png": "[encoded data removed]",
      "text/plain": [
       "<Figure size 200x200 with 1 Axes>"
      ]
     },
     "metadata": {},
     "output_type": "display_data"
    }
   ],
   "source": [
    "# Plot the ReLU function\n",
    "plt.figure(figsize=(2,2))\n",
    "plt.plot(x_lin, relu(x_lin), c='r')\n",
    "plt.title('ReLU');"
   ]
  },
  {
   "cell_type": "code",
   "execution_count": 7,
   "metadata": {},
   "outputs": [
    {
     "data": {
      "image/png": "[encoded data removed]",
      "text/plain": [
       "<Figure size 640x480 with 1 Axes>"
      ]
     },
     "metadata": {},
     "output_type": "display_data"
    }
   ],
   "source": [
    "# With data scatter plot\n",
    "plt.plot(x_lin, relu(x_lin), c='r', label='ReLU')\n",
    "plt.scatter(x, y, label='data')\n",
    "plt.legend();"
   ]
  },
  {
   "attachments": {},
   "cell_type": "markdown",
   "metadata": {},
   "source": [
    "<div class='exercise'> <b>Affine Transformation: weights & biases</div>    "
   ]
  },
  {
   "attachments": {},
   "cell_type": "markdown",
   "metadata": {},
   "source": [
    "To better fit the data, we coud try scaling and shifting the inputs to relu.\n",
    "\n",
    "We call the scaling factor the **weight**, $w$, and the amount of the shift the **bias**, $b$."
   ]
  },
  {
   "attachments": {},
   "cell_type": "markdown",
   "metadata": {},
   "source": [
    "The scaling and shifting our input is called an **affine transformation**. We refer to the output of the affine transformation as $z$.\n",
    "\n",
    "**Q:** What is the difference between an *affine transformation* and a *linear transformation*?"
   ]
  },
  {
   "attachments": {},
   "cell_type": "markdown",
   "metadata": {},
   "source": [
    "<div class='exercise'> <b>Activation Function</div>    "
   ]
  },
  {
   "attachments": {},
   "cell_type": "markdown",
   "metadata": {},
   "source": [
    "Applying the non-linear function (relu) to the affine transformation is called **activation**."
   ]
  },
  {
   "attachments": {},
   "cell_type": "markdown",
   "metadata": {},
   "source": [
    "Relu is our **activation function**! We often refer to the output of the activation as $h$."
   ]
  },
  {
   "attachments": {},
   "cell_type": "markdown",
   "metadata": {},
   "source": [
    "<div class='exercise'> <b>One Loney Neuron</div>    "
   ]
  },
  {
   "attachments": {},
   "cell_type": "markdown",
   "metadata": {},
   "source": [
    "The affine transformation combined with the activation makes up a single **neuron** (sometimes called a 'unit')."
   ]
  },
  {
   "attachments": {},
   "cell_type": "markdown",
   "metadata": {},
   "source": [
    "<img src='img/nn1.png' width=400>\n",
    "\n",
    "\n",
    "*(Note: these diagrams show a sigmoid as the activation. We are using ReLU)*"
   ]
  },
  {
   "attachments": {},
   "cell_type": "markdown",
   "metadata": {},
   "source": [
    "- Try shifting to the left by 2\n",
    "- Try reversing the direction and shifting to the *right* by 2"
   ]
  },
  {
   "cell_type": "code",
   "execution_count": 8,
   "metadata": {},
   "outputs": [
    {
     "data": {
      "image/png": "[encoded data removed]",
      "text/plain": [
       "<Figure size 640x480 with 1 Axes>"
      ]
     },
     "metadata": {},
     "output_type": "display_data"
    }
   ],
   "source": [
    "w = -1\n",
    "b = 2\n",
    "z = w*x_lin + b\n",
    "h = relu(z)\n",
    "plt.plot(x_lin, h, c='r', label='neuron output')\n",
    "plt.scatter(x, y, label='toy data')\n",
    "plt.legend();"
   ]
  },
  {
   "attachments": {},
   "cell_type": "markdown",
   "metadata": {},
   "source": [
    "<div class='exercise'> <b>Multiple Layers: hidden & output</div>    "
   ]
  },
  {
   "attachments": {},
   "cell_type": "markdown",
   "metadata": {},
   "source": [
    "We saw that we could make two different neurons, each of which fits only *half* of the data well. Can we *combine* them in some way to get better predictions??\n",
    "\n",
    "Let's try adding them."
   ]
  },
  {
   "attachments": {},
   "cell_type": "markdown",
   "metadata": {},
   "source": [
    "<img src='img/nn2.png' width=500>"
   ]
  },
  {
   "cell_type": "code",
   "execution_count": 9,
   "metadata": {},
   "outputs": [
    {
     "data": {
      "image/png": "[encoded data removed]",
      "text/plain": [
       "<Figure size 640x480 with 1 Axes>"
      ]
     },
     "metadata": {},
     "output_type": "display_data"
    }
   ],
   "source": [
    "w1, b1 = -1, 2\n",
    "w2, b2 = 1, 2\n",
    "z1 = w1*x_lin + b1\n",
    "z2 = w2*x_lin + b2\n",
    "h1 = relu(z1)\n",
    "h2 = relu(z2)\n",
    "plt.plot(x_lin, h1+h2)\n",
    "plt.scatter(x, y)\n",
    "plt.title(\"Oops!\");"
   ]
  },
  {
   "attachments": {},
   "cell_type": "markdown",
   "metadata": {},
   "source": [
    "We're obviously not there yet! It looks like we might want to scale and shift $h_1$ & $h_2$ again."
   ]
  },
  {
   "attachments": {},
   "cell_type": "markdown",
   "metadata": {},
   "source": [
    "In fact, $h_1$ and $h_2$ will become inputs to a *new* **layer**, the **output layer**. Our output layer will gave a single neruon because our output is a scalar (the probability of $y=1$)."
   ]
  },
  {
   "attachments": {},
   "cell_type": "markdown",
   "metadata": {},
   "source": [
    "$h_1$ & $h_2$ are neurons in the **hidden layer**. \"Hidden\" in the sense that we don't actually observe their outputs; they are passed to the next layer as input. A NN can have *many* hidden layers.\n",
    "\n",
    "The output neuron is the **output layer** (you can also have multiple output layers, but that is a story for another time!)"
   ]
  },
  {
   "attachments": {},
   "cell_type": "markdown",
   "metadata": {},
   "source": [
    "The output neuron will need a weight & bias for *both* $h1$ and $h2$."
   ]
  },
  {
   "attachments": {},
   "cell_type": "markdown",
   "metadata": {},
   "source": [
    "It will also need its own **output activation function**!"
   ]
  },
  {
   "attachments": {},
   "cell_type": "markdown",
   "metadata": {},
   "source": [
    "<div class='exercise'> <b>Output Activation</div>    "
   ]
  },
  {
   "attachments": {},
   "cell_type": "markdown",
   "metadata": {},
   "source": [
    "<img src='img/nn3.png' width=600>"
   ]
  },
  {
   "attachments": {},
   "cell_type": "markdown",
   "metadata": {},
   "source": [
    "Because we are modeling a binary $y$, we want our output to represent the probability of $y=1$. This means that the output must be in [0,1]."
   ]
  },
  {
   "attachments": {},
   "cell_type": "markdown",
   "metadata": {},
   "source": [
    "But relu is $[0, \\infty]$! We need a different activation function for our output neuron.\n",
    "\n",
    "What function do you know that has output bounded in [0,1]?"
   ]
  },
  {
   "cell_type": "code",
   "execution_count": 10,
   "metadata": {},
   "outputs": [],
   "source": [
    "def sigmoid(z: float) -> float : \n",
    "    return 1/(1 + np.exp(-z)) "
   ]
  },
  {
   "cell_type": "code",
   "execution_count": 11,
   "metadata": {},
   "outputs": [
    {
     "data": {
      "image/png": "[encoded data removed]",
      "text/plain": [
       "<Figure size 200x200 with 1 Axes>"
      ]
     },
     "metadata": {},
     "output_type": "display_data"
    }
   ],
   "source": [
    "# plot sigmoid activation\n",
    "plt.figure(figsize=(2,2))\n",
    "plt.plot(x_lin, sigmoid(x_lin))\n",
    "plt.title('Sigmoid');"
   ]
  },
  {
   "attachments": {},
   "cell_type": "markdown",
   "metadata": {},
   "source": [
    "<div class='exercise'> <b>Constructing our First MLP (Multilayer Perceptron aka Neural Network)</div>    "
   ]
  },
  {
   "attachments": {},
   "cell_type": "markdown",
   "metadata": {},
   "source": [
    "Now all we need to do is define weights & bias for all three neurons.\n",
    "**Remember!** The output neuron needs a weight for *each* of its inputs ($h_1$ & $h_2$)"
   ]
  },
  {
   "cell_type": "code",
   "execution_count": 12,
   "metadata": {},
   "outputs": [
    {
     "data": {
      "image/png": "[encoded data removed]",
      "text/plain": [
       "<Figure size 640x480 with 1 Axes>"
      ]
     },
     "metadata": {},
     "output_type": "display_data"
    }
   ],
   "source": [
    "# hidden layer\n",
    "w1, b1 = 6, -5\n",
    "w2, b2 = -6, -5\n",
    "z1 = w1*x_lin + b1\n",
    "z2 = w2*x_lin + b2\n",
    "h1 = relu(z1)\n",
    "h2 = relu(z2)\n",
    "# output layer\n",
    "w31, w32, b3 = -2,-2,4\n",
    "z3 = w31*h1 + w32*h2 + b3\n",
    "output = sigmoid(z3)\n",
    "\n",
    "# plot predictions\n",
    "plt.plot(x_lin, output, c='r')\n",
    "plt.scatter(x, y)\n",
    "plt.xlabel('x')\n",
    "plt.ylabel('P(Y=1|x)');"
   ]
  },
  {
   "attachments": {},
   "cell_type": "markdown",
   "metadata": {},
   "source": [
    "Now let us calculate the accuracy of our predictions! \n",
    "\n",
    "Bear in mind, that what we got so far is not the prediction yet, but rather just probabilities. If a probability is above 0.5, then our prediction is 1, else our prediction is 0. "
   ]
  },
  {
   "cell_type": "code",
   "execution_count": 13,
   "metadata": {},
   "outputs": [
    {
     "data": {
      "text/plain": [
       "0.9400000000000006"
      ]
     },
     "execution_count": 13,
     "metadata": {},
     "output_type": "execute_result"
    }
   ],
   "source": [
    "# hidden layer\n",
    "z1 = w1*x + b1\n",
    "z2 = w2*x + b2\n",
    "h1 = relu(z1)\n",
    "h2 = relu(z2)\n",
    "# output layer\n",
    "z3 = w31*h1 + w32*h2 + b3\n",
    "p = sigmoid(z3)\n",
    "\n",
    "# output values > 0 are predicted to be 1, otherwise 0\n",
    "y_hat  = (p > 0.5).astype(int)\n",
    "# calculate the accurracies\n",
    "acc = sum((y_hat == y)/len(y))\n",
    "acc"
   ]
  },
  {
   "attachments": {},
   "cell_type": "markdown",
   "metadata": {},
   "source": [
    "## Part 2"
   ]
  },
  {
   "attachments": {},
   "cell_type": "markdown",
   "metadata": {},
   "source": [
    "<div class='exercise'> <b>Tensorflow & Keras</div>    "
   ]
  },
  {
   "attachments": {},
   "cell_type": "markdown",
   "metadata": {},
   "source": [
    "**Keras, Sequential:**\n",
    "\n",
    "https://keras.io/models/sequential/\n",
    "\n",
    "\n",
    "There are many powerful deep learning packages to work with neural networks like **TensorFlow** and **PyTorch**. These packages provide both the forward and back propagations, and many other other functionalities. The forward pass is used to make   predictions while the backward (back propagation)  is used to  train (optimize) a network. 'Training' refers to find the optimal parameters for a specific task. We'll talk more about optimization and back propogation next week!\n",
    "\n",
    "Keras is a high-level API that allows us to work with abstraction at the level of \"layers\" rather than the low-level representations of neural networks that you work with in TensorFlow (computational graphs).\n",
    "\n",
    "Here, we use Keras's `Sequential` Model to create a neural network for our toy binary classification problem.\\\n",
    "We'll use the same 'architecture' as above:\n",
    "- 1 hidden layer /w 2 neurons using relu activation\n",
    "- an ouput layer /w 1 neuron using sigmoid activation"
   ]
  },
  {
   "cell_type": "code",
   "execution_count": 14,
   "metadata": {},
   "outputs": [],
   "source": [
    "# import modules containing Keras classes we'll use today\n",
    "from tensorflow import keras\n",
    "from tensorflow.keras import layers\n",
    "from tensorflow.keras import models\n",
    "from tensorflow.keras import optimizers"
   ]
  },
  {
   "cell_type": "code",
   "execution_count": 15,
   "metadata": {},
   "outputs": [
    {
     "name": "stderr",
     "output_type": "stream",
     "text": [
      "/Users/nico/.local/share/mamba/envs/cs109b/lib/python3.12/site-packages/keras/src/layers/core/dense.py:87: UserWarning: Do not pass an `input_shape`/`input_dim` argument to a layer. When using Sequential models, prefer using an `Input(shape)` object as the first layer in the model instead.\n",
      "  super().__init__(activity_regularizer=activity_regularizer, **kwargs)\n"
     ]
    },
    {
     "data": {
      "text/html": [
       "<pre style=\"white-space:pre;overflow-x:auto;line-height:normal;font-family:Menlo,'DejaVu Sans Mono',consolas,'Courier New',monospace\"><span style=\"font-weight: bold\">Model: \"first_model\"</span>\n",
       "</pre>\n"
      ],
      "text/plain": [
       "\u001b[1mModel: \"first_model\"\u001b[0m\n"
      ]
     },
     "metadata": {},
     "output_type": "display_data"
    },
    {
     "data": {
      "text/html": [
       "<pre style=\"white-space:pre;overflow-x:auto;line-height:normal;font-family:Menlo,'DejaVu Sans Mono',consolas,'Courier New',monospace\">┏━━━━━━━━━━━━━━━━━━━━━━━━━━━━━━━━━┳━━━━━━━━━━━━━━━━━━━━━━━━┳━━━━━━━━━━━━━━━┓\n",
       "┃<span style=\"font-weight: bold\"> Layer (type)                    </span>┃<span style=\"font-weight: bold\"> Output Shape           </span>┃<span style=\"font-weight: bold\">       Param # </span>┃\n",
       "┡━━━━━━━━━━━━━━━━━━━━━━━━━━━━━━━━━╇━━━━━━━━━━━━━━━━━━━━━━━━╇━━━━━━━━━━━━━━━┩\n",
       "│ dense (<span style=\"color: #0087ff; text-decoration-color: #0087ff\">Dense</span>)                   │ (<span style=\"color: #00d7ff; text-decoration-color: #00d7ff\">None</span>, <span style=\"color: #00af00; text-decoration-color: #00af00\">2</span>)              │             <span style=\"color: #00af00; text-decoration-color: #00af00\">4</span> │\n",
       "└─────────────────────────────────┴────────────────────────┴───────────────┘\n",
       "</pre>\n"
      ],
      "text/plain": [
       "┏━━━━━━━━━━━━━━━━━━━━━━━━━━━━━━━━━┳━━━━━━━━━━━━━━━━━━━━━━━━┳━━━━━━━━━━━━━━━┓\n",
       "┃\u001b[1m \u001b[0m\u001b[1mLayer (type)                   \u001b[0m\u001b[1m \u001b[0m┃\u001b[1m \u001b[0m\u001b[1mOutput Shape          \u001b[0m\u001b[1m \u001b[0m┃\u001b[1m \u001b[0m\u001b[1m      Param #\u001b[0m\u001b[1m \u001b[0m┃\n",
       "┡━━━━━━━━━━━━━━━━━━━━━━━━━━━━━━━━━╇━━━━━━━━━━━━━━━━━━━━━━━━╇━━━━━━━━━━━━━━━┩\n",
       "│ dense (\u001b[38;5;33mDense\u001b[0m)                   │ (\u001b[38;5;45mNone\u001b[0m, \u001b[38;5;34m2\u001b[0m)              │             \u001b[38;5;34m4\u001b[0m │\n",
       "└─────────────────────────────────┴────────────────────────┴───────────────┘\n"
      ]
     },
     "metadata": {},
     "output_type": "display_data"
    },
    {
     "data": {
      "text/html": [
       "<pre style=\"white-space:pre;overflow-x:auto;line-height:normal;font-family:Menlo,'DejaVu Sans Mono',consolas,'Courier New',monospace\"><span style=\"font-weight: bold\"> Total params: </span><span style=\"color: #00af00; text-decoration-color: #00af00\">4</span> (16.00 B)\n",
       "</pre>\n"
      ],
      "text/plain": [
       "\u001b[1m Total params: \u001b[0m\u001b[38;5;34m4\u001b[0m (16.00 B)\n"
      ]
     },
     "metadata": {},
     "output_type": "display_data"
    },
    {
     "data": {
      "text/html": [
       "<pre style=\"white-space:pre;overflow-x:auto;line-height:normal;font-family:Menlo,'DejaVu Sans Mono',consolas,'Courier New',monospace\"><span style=\"font-weight: bold\"> Trainable params: </span><span style=\"color: #00af00; text-decoration-color: #00af00\">4</span> (16.00 B)\n",
       "</pre>\n"
      ],
      "text/plain": [
       "\u001b[1m Trainable params: \u001b[0m\u001b[38;5;34m4\u001b[0m (16.00 B)\n"
      ]
     },
     "metadata": {},
     "output_type": "display_data"
    },
    {
     "data": {
      "text/html": [
       "<pre style=\"white-space:pre;overflow-x:auto;line-height:normal;font-family:Menlo,'DejaVu Sans Mono',consolas,'Courier New',monospace\"><span style=\"font-weight: bold\"> Non-trainable params: </span><span style=\"color: #00af00; text-decoration-color: #00af00\">0</span> (0.00 B)\n",
       "</pre>\n"
      ],
      "text/plain": [
       "\u001b[1m Non-trainable params: \u001b[0m\u001b[38;5;34m0\u001b[0m (0.00 B)\n"
      ]
     },
     "metadata": {},
     "output_type": "display_data"
    }
   ],
   "source": [
    "keras.utils.set_random_seed(103)\n",
    "# define a sequential model called 'first_model'\n",
    "model = models.Sequential(name='first_model')\n",
    "# add a hidden layer with 2 neurons and relu activations\n",
    "# note we specify the input shape is 1D (scalar)\n",
    "model.add(layers.Dense(2,\n",
    "                       activation='relu',\n",
    "                       input_shape=(1,)))\n",
    "# add an output layer containing a single neuron with sigmoid activation\n",
    "# your code here\n",
    "...\n",
    "\n",
    "# display model summary\n",
    "model.summary()"
   ]
  },
  {
   "attachments": {},
   "cell_type": "markdown",
   "metadata": {},
   "source": [
    "<div class='exercise'> <b>Compiling the NN</div>\n",
    "\n",
    "    \n"
   ]
  },
  {
   "attachments": {},
   "cell_type": "markdown",
   "metadata": {},
   "source": [
    "`Model.compile(optimizer, loss, metrics, **kwargs)`\n",
    "\n",
    "https://www.tensorflow.org/api_docs/python/tf/keras/Model#compile\n",
    "\n",
    "`optimizer` - defines how the weights are updated (we'll use SGD; more on this next lecture!)\\\n",
    "`loss` - what the model is trying to minimize\\\n",
    "`metric` - list of metrics to report during training process\n",
    "\n",
    "`compile` is used to configure a NN model be for it can be fit. We aren't ready to fit *just* yet, but we are compiling here because doing so reinitilizes the model weights. We are going to manually set our weights before training so we need to to the compilation first."
   ]
  },
  {
   "attachments": {},
   "cell_type": "markdown",
   "metadata": {},
   "source": [
    "**Q:** Why do I want metrics if I already have a loss?"
   ]
  },
  {
   "cell_type": "code",
   "execution_count": 16,
   "metadata": {},
   "outputs": [],
   "source": [
    "model.compile(loss='binary_crossentropy',\n",
    "              metrics=['accuracy'],\n",
    "              optimizer=optimizers.SGD(learning_rate=.1)\n",
    ")"
   ]
  },
  {
   "attachments": {},
   "cell_type": "markdown",
   "metadata": {},
   "source": [
    "<div class='exercise'> <b>Fitting the NN</div>    "
   ]
  },
  {
   "attachments": {},
   "cell_type": "markdown",
   "metadata": {},
   "source": [
    "`Model.fit(x=None, y=None, batch_size=None, epochs=1, verbose=\"auto\", validation_split=0.0, validation_data=None, shuffle=True, **kwargs)`\n",
    "\n",
    "https://www.tensorflow.org/api_docs/python/tf/keras/Model#fit\n",
    "\n",
    "`batch_size` - number of observations overwhich the loss is calculated before each weight update (more on this next lecture)\\\n",
    "`epochs` - number of times the complete dataset is seen in the fitting process\\\n",
    "`verbose` - you can silence the training output by setting this to `0`\\\n",
    "`validation_split` - splits off a portion of the `x` and `y` training data to be used as validation (see warning below)\\\n",
    "`validation_data` - tuple designating a seperate `x_val` and `y_val` dataset\\\n",
    "`shuffle` - whether to shuffle the training data before each epoch"
   ]
  },
  {
   "cell_type": "code",
   "execution_count": 17,
   "metadata": {
    "scrolled": true
   },
   "outputs": [
    {
     "name": "stdout",
     "output_type": "stream",
     "text": [
      "Epoch 1/100\n"
     ]
    },
    {
     "ename": "ValueError",
     "evalue": "Arguments `target` and `output` must have the same rank (ndim). Received: target.shape=(None,), output.shape=(None, 2)",
     "output_type": "error",
     "traceback": [
      "\u001b[0;31m---------------------------------------------------------------------------\u001b[0m",
      "\u001b[0;31mValueError\u001b[0m                                Traceback (most recent call last)",
      "Cell \u001b[0;32mIn[17], line 2\u001b[0m\n\u001b[1;32m      1\u001b[0m \u001b[38;5;66;03m# We'll use 20% of the data as validation and train for 500 epochs\u001b[39;00m\n\u001b[0;32m----> 2\u001b[0m \u001b[43mmodel\u001b[49m\u001b[38;5;241;43m.\u001b[39;49m\u001b[43mfit\u001b[49m\u001b[43m(\u001b[49m\u001b[43mx\u001b[49m\u001b[38;5;241;43m=\u001b[39;49m\u001b[43mx\u001b[49m\u001b[43m,\u001b[49m\n\u001b[1;32m      3\u001b[0m \u001b[43m          \u001b[49m\u001b[43my\u001b[49m\u001b[38;5;241;43m=\u001b[39;49m\u001b[43my\u001b[49m\u001b[43m,\u001b[49m\n\u001b[1;32m      4\u001b[0m \u001b[43m          \u001b[49m\u001b[43mvalidation_split\u001b[49m\u001b[38;5;241;43m=\u001b[39;49m\u001b[38;5;241;43m.2\u001b[39;49m\u001b[43m,\u001b[49m\n\u001b[1;32m      5\u001b[0m \u001b[43m          \u001b[49m\u001b[43mepochs\u001b[49m\u001b[38;5;241;43m=\u001b[39;49m\u001b[38;5;241;43m100\u001b[39;49m\u001b[43m,\u001b[49m\n\u001b[1;32m      6\u001b[0m \u001b[43m          \u001b[49m\u001b[43mverbose\u001b[49m\u001b[38;5;241;43m=\u001b[39;49m\u001b[38;5;241;43m1\u001b[39;49m\u001b[43m)\u001b[49m;\n",
      "File \u001b[0;32m~/.local/share/mamba/envs/cs109b/lib/python3.12/site-packages/keras/src/utils/traceback_utils.py:122\u001b[0m, in \u001b[0;36mfilter_traceback.<locals>.error_handler\u001b[0;34m(*args, **kwargs)\u001b[0m\n\u001b[1;32m    119\u001b[0m     filtered_tb \u001b[38;5;241m=\u001b[39m _process_traceback_frames(e\u001b[38;5;241m.\u001b[39m__traceback__)\n\u001b[1;32m    120\u001b[0m     \u001b[38;5;66;03m# To get the full stack trace, call:\u001b[39;00m\n\u001b[1;32m    121\u001b[0m     \u001b[38;5;66;03m# `keras.config.disable_traceback_filtering()`\u001b[39;00m\n\u001b[0;32m--> 122\u001b[0m     \u001b[38;5;28;01mraise\u001b[39;00m e\u001b[38;5;241m.\u001b[39mwith_traceback(filtered_tb) \u001b[38;5;28;01mfrom\u001b[39;00m\u001b[38;5;250m \u001b[39m\u001b[38;5;28;01mNone\u001b[39;00m\n\u001b[1;32m    123\u001b[0m \u001b[38;5;28;01mfinally\u001b[39;00m:\n\u001b[1;32m    124\u001b[0m     \u001b[38;5;28;01mdel\u001b[39;00m filtered_tb\n",
      "File \u001b[0;32m~/.local/share/mamba/envs/cs109b/lib/python3.12/site-packages/keras/src/backend/tensorflow/nn.py:767\u001b[0m, in \u001b[0;36mbinary_crossentropy\u001b[0;34m(target, output, from_logits)\u001b[0m\n\u001b[1;32m    764\u001b[0m output \u001b[38;5;241m=\u001b[39m tf\u001b[38;5;241m.\u001b[39mconvert_to_tensor(output)\n\u001b[1;32m    766\u001b[0m \u001b[38;5;28;01mif\u001b[39;00m \u001b[38;5;28mlen\u001b[39m(target\u001b[38;5;241m.\u001b[39mshape) \u001b[38;5;241m!=\u001b[39m \u001b[38;5;28mlen\u001b[39m(output\u001b[38;5;241m.\u001b[39mshape):\n\u001b[0;32m--> 767\u001b[0m     \u001b[38;5;28;01mraise\u001b[39;00m \u001b[38;5;167;01mValueError\u001b[39;00m(\n\u001b[1;32m    768\u001b[0m         \u001b[38;5;124m\"\u001b[39m\u001b[38;5;124mArguments `target` and `output` must have the same rank \u001b[39m\u001b[38;5;124m\"\u001b[39m\n\u001b[1;32m    769\u001b[0m         \u001b[38;5;124m\"\u001b[39m\u001b[38;5;124m(ndim). Received: \u001b[39m\u001b[38;5;124m\"\u001b[39m\n\u001b[1;32m    770\u001b[0m         \u001b[38;5;124mf\u001b[39m\u001b[38;5;124m\"\u001b[39m\u001b[38;5;124mtarget.shape=\u001b[39m\u001b[38;5;132;01m{\u001b[39;00mtarget\u001b[38;5;241m.\u001b[39mshape\u001b[38;5;132;01m}\u001b[39;00m\u001b[38;5;124m, output.shape=\u001b[39m\u001b[38;5;132;01m{\u001b[39;00moutput\u001b[38;5;241m.\u001b[39mshape\u001b[38;5;132;01m}\u001b[39;00m\u001b[38;5;124m\"\u001b[39m\n\u001b[1;32m    771\u001b[0m     )\n\u001b[1;32m    772\u001b[0m \u001b[38;5;28;01mfor\u001b[39;00m e1, e2 \u001b[38;5;129;01min\u001b[39;00m \u001b[38;5;28mzip\u001b[39m(target\u001b[38;5;241m.\u001b[39mshape, output\u001b[38;5;241m.\u001b[39mshape):\n\u001b[1;32m    773\u001b[0m     \u001b[38;5;28;01mif\u001b[39;00m e1 \u001b[38;5;129;01mis\u001b[39;00m \u001b[38;5;129;01mnot\u001b[39;00m \u001b[38;5;28;01mNone\u001b[39;00m \u001b[38;5;129;01mand\u001b[39;00m e2 \u001b[38;5;129;01mis\u001b[39;00m \u001b[38;5;129;01mnot\u001b[39;00m \u001b[38;5;28;01mNone\u001b[39;00m \u001b[38;5;129;01mand\u001b[39;00m e1 \u001b[38;5;241m!=\u001b[39m e2:\n",
      "\u001b[0;31mValueError\u001b[0m: Arguments `target` and `output` must have the same rank (ndim). Received: target.shape=(None,), output.shape=(None, 2)"
     ]
    }
   ],
   "source": [
    "# We'll use 20% of the data as validation and train for 500 epochs\n",
    "model.fit(x=x,\n",
    "          y=y,\n",
    "          validation_split=.2,\n",
    "          epochs=100,\n",
    "          verbose=1);"
   ]
  },
  {
   "attachments": {},
   "cell_type": "markdown",
   "metadata": {},
   "source": [
    "<div class='exercise'> <b>Plot Training History</div>\n",
    "\n",
    "A fitted model's `history.history` attribute is a dictionary which contains information from each training epoch (no, I don't know the rationale behind the double name). Use it to plot the loss across epochs. Don't forget those axis labels! We need to distinguish train from validation."
   ]
  },
  {
   "cell_type": "code",
   "execution_count": null,
   "metadata": {},
   "outputs": [],
   "source": [
    "plt.plot(model.history.history['loss'], label='train')\n",
    "plt.plot(model.history.history['val_loss'], label='validation')\n",
    "plt.xlabel('epoch')\n",
    "plt.ylabel('binary cross-entropy loss')\n",
    "plt.legend();"
   ]
  },
  {
   "cell_type": "code",
   "execution_count": null,
   "metadata": {},
   "outputs": [],
   "source": [
    "plt.plot(model.history.history['accuracy'], label='train')\n",
    "plt.plot(model.history.history['val_accuracy'], label='validation')\n",
    "plt.xlabel('epoch')\n",
    "plt.ylabel('accuracy')\n",
    "plt.legend();"
   ]
  },
  {
   "attachments": {},
   "cell_type": "markdown",
   "metadata": {},
   "source": [
    "<div class='exercise'> <b>Predict & Plot</div>\n",
    "\n",
    "We use the model's `predict` method on a linspace, `x_lin`, which we previously constructed to span the range of the dataset's $x$ values. We save the resulting predictions in `y_hat`"
   ]
  },
  {
   "cell_type": "code",
   "execution_count": null,
   "metadata": {},
   "outputs": [],
   "source": [
    "y_hat = model.predict(x_lin)\n",
    "plt.plot(x_lin, y_hat, c='r', label='predictions')\n",
    "plt.scatter(x, y, label='data')\n",
    "plt.legend();"
   ]
  },
  {
   "cell_type": "code",
   "execution_count": null,
   "metadata": {},
   "outputs": [],
   "source": [
    "# Evaluate the model on a given dataset\n",
    "# (Note that in this example we did not have a separate test set!)\n",
    "model.evaluate(x, y)"
   ]
  },
  {
   "cell_type": "code",
   "execution_count": null,
   "metadata": {},
   "outputs": [],
   "source": [
    "# View model weights & biases for all layers\n",
    "model.get_weights()"
   ]
  },
  {
   "attachments": {},
   "cell_type": "markdown",
   "metadata": {},
   "source": [
    "<div class='exercise'> <b>Save & Reload model</div>\n",
    "\n",
    "Fitting non-trivial neural networks can take a long time. It is important to know how to save and reload your Keras models."
   ]
  },
  {
   "cell_type": "code",
   "execution_count": null,
   "metadata": {},
   "outputs": [],
   "source": [
    "# save model\n",
    "model.save('first_keras_model.keras')\n",
    "# reload saved model into new variable\n",
    "model_reload = models.load_model(\"first_keras_model.keras\")\n",
    "# display summary\n",
    "model_reload.summary()"
   ]
  },
  {
   "cell_type": "code",
   "execution_count": null,
   "metadata": {},
   "outputs": [],
   "source": [
    "# Confirm we can make predictions with loaded model\n",
    "y_hat = model_reload.predict(x_lin, verbose=0)\n",
    "plt.plot(x_lin, y_hat, c='r', label='predictions')\n",
    "plt.scatter(x, y, label='data')\n",
    "plt.title(\"Loaded Model\")\n",
    "plt.legend();"
   ]
  },
  {
   "attachments": {},
   "cell_type": "markdown",
   "metadata": {},
   "source": [
    "<div class='exercise'> <b>An Ugly Function (Regression Example)</div>\n",
    "    "
   ]
  },
  {
   "attachments": {},
   "cell_type": "markdown",
   "metadata": {},
   "source": [
    "Now let's try a regression task where the response variable we are modeling can take on any real value."
   ]
  },
  {
   "cell_type": "code",
   "execution_count": null,
   "metadata": {},
   "outputs": [],
   "source": [
    "def ugly_function(x):\n",
    "    if x < 0:\n",
    "        return np.exp(-(x**2))/2 + 1 + np.exp(-((10*x)**2))\n",
    "    else:\n",
    "        return np.exp(-(x**2)) + np.exp(-((10*x)**2))"
   ]
  },
  {
   "attachments": {},
   "cell_type": "markdown",
   "metadata": {},
   "source": [
    "How do you feel about the prospect of manually setting the weights to approximate this beauty?"
   ]
  },
  {
   "cell_type": "code",
   "execution_count": null,
   "metadata": {},
   "outputs": [],
   "source": [
    "# Generate data\n",
    "x_ugly = np.linspace(-3,3,1500) # create x-values for input\n",
    "y_ugly = np.array(list(map(ugly_function, x_ugly)))\n",
    "\n",
    "# Plot data\n",
    "plt.plot(x_ugly, y_ugly);\n",
    "plt.title('An Ugly Function')\n",
    "plt.xlabel('X')\n",
    "plt.ylabel('Y');"
   ]
  },
  {
   "attachments": {},
   "cell_type": "markdown",
   "metadata": {},
   "source": [
    "<div class=\"alert alert-success\">\n",
    "    <strong>🏋🏻‍♂️ TEAM ACTIVITY:</strong> We're Gonna Need a Bigger Model...</div>  "
   ]
  },
  {
   "attachments": {},
   "cell_type": "markdown",
   "metadata": {},
   "source": [
    "Construct an NN to approximate the ugly function with Kera's `Sequential` Model.\n",
    "\n",
    "**Build Model & Display Summary**\n",
    "\n",
    "You can play with the number of hidden (`Dense`) layers and the number of neurons in each.\n",
    "\n",
    "**Q:** what should the output activation function be for a regression task?"
   ]
  },
  {
   "cell_type": "code",
   "execution_count": null,
   "metadata": {},
   "outputs": [],
   "source": [
    "# your code here\n",
    "ugly_model = models.Sequential(layers=[layers.Dense(64, activation='relu', input_shape=(1,)),\n",
    "                                       layers.Dense(32, activation='relu'),\n",
    "                                       layers.Dense(16, activation='relu'),\n",
    "                                       layers.Dense(8, activation='relu'),\n",
    "                                       layers.Dense(1, activation='linear')],\n",
    "                              name='ugly_model')\n",
    "\n",
    "ugly_model.summary()"
   ]
  },
  {
   "attachments": {},
   "cell_type": "markdown",
   "metadata": {},
   "source": [
    "**Compile**\\\n",
    "Use the `SGD` optimizer and `'mse'` as your loss.\\\n",
    "You can expermiment with `SGD`'s `learning_rate`."
   ]
  },
  {
   "cell_type": "code",
   "execution_count": null,
   "metadata": {},
   "outputs": [],
   "source": [
    "# your code here\n",
    "ugly_model.compile(loss='mse',\n",
    "               optimizer=optimizers.SGD(learning_rate=0.1))"
   ]
  },
  {
   "attachments": {},
   "cell_type": "markdown",
   "metadata": {},
   "source": [
    "**Fit**\\\n",
    "Fit `ugly_model` on `x_ugly` and `y_ugly`.\\\n",
    "You can experiment with the number of `epochs`."
   ]
  },
  {
   "cell_type": "code",
   "execution_count": null,
   "metadata": {},
   "outputs": [],
   "source": [
    "# your code here\n",
    "ugly_model.fit(x_ugly, y_ugly, epochs=100, verbose=0)"
   ]
  },
  {
   "attachments": {},
   "cell_type": "markdown",
   "metadata": {},
   "source": [
    "**Plot Training History**"
   ]
  },
  {
   "attachments": {},
   "cell_type": "markdown",
   "metadata": {},
   "source": [
    "Plot the model's training history. Don't forget your axis labels!\\\n",
    "**Hint:** Remember, `fit` returns a `history` object which itself has a `history` dictionary attribute. Because this (2nd object) is a dictionary, you can always use its `keys`method if you don't know what's in it. You can also access the history from the model itself. Ex: `ugly_model.history.history`"
   ]
  },
  {
   "cell_type": "code",
   "execution_count": null,
   "metadata": {},
   "outputs": [],
   "source": [
    "# Plot History\n",
    "# your code here\n",
    "plt.plot(ugly_model.history.history['loss'])\n",
    "plt.xlabel('epoch')\n",
    "plt.ylabel('Train MSE');"
   ]
  },
  {
   "attachments": {},
   "cell_type": "markdown",
   "metadata": {},
   "source": [
    "**Get Predictions**\\\n",
    "Similar to `sklearn` models, `keras` models have a `predict` method. Use your model's `predict` method to predict on `x_ugly` and store the results in a variable called `y_hat_ugly`."
   ]
  },
  {
   "cell_type": "code",
   "execution_count": null,
   "metadata": {},
   "outputs": [],
   "source": [
    "# Predict\n",
    "# your code here\n",
    "y_hat_ugly = ugly_model.predict(x_ugly)"
   ]
  },
  {
   "attachments": {},
   "cell_type": "markdown",
   "metadata": {},
   "source": [
    "**Plot Predictions**\\\n",
    "Run the cell below to compare your model's predictions to the true (ugly) function. Still not quite right? Try tweaking some of the hyperparameters above and re-run the cells in this section to see if you can improve."
   ]
  },
  {
   "cell_type": "code",
   "execution_count": null,
   "metadata": {},
   "outputs": [],
   "source": [
    "# Plot predictions\n",
    "plt.plot(x_ugly, y_ugly, alpha=0.4, lw=4, label='true function')\n",
    "plt.plot(x_ugly, y_hat_ugly, label='NN', ls='--', c='r')\n",
    "\n",
    "plt.xlabel('x')\n",
    "plt.ylabel('y')\n",
    "plt.legend();"
   ]
  },
  {
   "attachments": {},
   "cell_type": "markdown",
   "metadata": {},
   "source": [
    "Not bad!"
   ]
  },
  {
   "attachments": {},
   "cell_type": "markdown",
   "metadata": {},
   "source": [
    "**End of team activity**"
   ]
  },
  {
   "attachments": {},
   "cell_type": "markdown",
   "metadata": {},
   "source": [
    "## Part 3"
   ]
  },
  {
   "attachments": {},
   "cell_type": "markdown",
   "metadata": {},
   "source": [
    "<div class='exercise'> <b>Multi-class Classification with Keras</div>\n"
   ]
  },
  {
   "attachments": {},
   "cell_type": "markdown",
   "metadata": {},
   "source": [
    "So far we've only used our new Keras powers for toy regression and binary classification problems. Now we'll try classification with 3 classes!\n",
    "\n",
    "This example will use `seaborn`'s penguins dataset (last time, I promise!)\n",
    "\n",
    "We'll build a model to identify a penguin's species from its other features. In the process we'll dust off our Python skills with a *very* quick run through of a basic model building workflow."
   ]
  },
  {
   "cell_type": "code",
   "execution_count": null,
   "metadata": {},
   "outputs": [],
   "source": [
    "# Bring on the penguins!\n",
    "penguins = pd.read_csv('data/penguins.csv')\n",
    "penguins.head()"
   ]
  },
  {
   "attachments": {},
   "cell_type": "markdown",
   "metadata": {},
   "source": [
    "We have 3 species of penguins living across 3 different islands. There are measurements of bill length, bill depth, flipper length, and body mass. We also have categorcial variable for each penguin's sex giving us a total of 7 features.\n",
    "\n",
    "Here's a plot that tries to show too much at once. But you can ignore the marker shapes and sizes. The bill and flipper length alone ($x$ and $y$ axes) seem too already provide a fair amount of information about the species (color)."
   ]
  },
  {
   "cell_type": "code",
   "execution_count": null,
   "metadata": {},
   "outputs": [],
   "source": [
    "# Plot penguins with too much info\n",
    "sns.relplot(data=penguins, x='flipper_length_mm', y='bill_length_mm',\n",
    "            hue='species', style='sex', size='body_mass_g', height=6);\n",
    "plt.title('Penguins!', fontdict={'color': 'teal', 'size': 20, 'weight': 'bold', 'family': 'serif'});"
   ]
  },
  {
   "attachments": {},
   "cell_type": "markdown",
   "metadata": {},
   "source": [
    "We've taken care of *most* of the preprocessing in a separate notebook called `penguin_data.ipynb` and stored the results in `data/penguins_proc.csv`.\\\n",
    "Let's start from that file instead."
   ]
  },
  {
   "cell_type": "code",
   "execution_count": null,
   "metadata": {},
   "outputs": [],
   "source": [
    "penguins = pd.read_csv(\"data/penguins_proc.csv\")\n",
    "penguins.head()"
   ]
  },
  {
   "cell_type": "code",
   "execution_count": null,
   "metadata": {},
   "outputs": [],
   "source": [
    "# Separate features from response\n",
    "X_design = penguins.drop(\"species\", axis=1)\n",
    "y = penguins.species"
   ]
  },
  {
   "attachments": {},
   "cell_type": "markdown",
   "metadata": {},
   "source": [
    "But there are a few things we still need to do."
   ]
  },
  {
   "attachments": {},
   "cell_type": "markdown",
   "metadata": {},
   "source": [
    "**Feature Scaling**\n",
    "\n",
    "We should take a closer look at the range of values our predictors take on."
   ]
  },
  {
   "cell_type": "code",
   "execution_count": null,
   "metadata": {},
   "outputs": [],
   "source": [
    "#  Summary stats of predictors\n",
    "X_design.describe()"
   ]
  },
  {
   "attachments": {},
   "cell_type": "markdown",
   "metadata": {},
   "source": [
    "Our features are not on the same scale. Just compare the min/max of `bill_depth_mm` and `body_mass_g` for example.\\\n",
    "This can slow down neural network training for reasons we'll see in an upcoming lecture.\n",
    "\n",
    "Let's make use of `sklearn`'s `StandardScaler` to standardize the data, centering each predictor at 0 and setting their standard deviations to 1."
   ]
  },
  {
   "cell_type": "code",
   "execution_count": null,
   "metadata": {},
   "outputs": [],
   "source": [
    "from sklearn.preprocessing import StandardScaler"
   ]
  },
  {
   "cell_type": "code",
   "execution_count": null,
   "metadata": {},
   "outputs": [],
   "source": [
    "# Remember the column names for later; we'll lose them when we scale\n",
    "X_cols = X_design.columns\n",
    "# Saving the scaler object in a variable allows us to reverse the transformation later\n",
    "scaler = StandardScaler()\n",
    "num_cols = ['bill_length_mm', 'bill_depth_mm', 'flipper_length_mm', 'body_mass_g']\n",
    "X_scaled = X_design.copy()\n",
    "X_scaled[num_cols] = scaler.fit_transform(X_design[num_cols])"
   ]
  },
  {
   "cell_type": "code",
   "execution_count": null,
   "metadata": {},
   "outputs": [],
   "source": [
    "# The scaler was passed a pandas DataFrame but returns a numpy array\n",
    "type(X_scaled), X_scaled.shape"
   ]
  },
  {
   "cell_type": "code",
   "execution_count": null,
   "metadata": {},
   "outputs": [],
   "source": [
    "# We can always add the column names back later if we need to\n",
    "pd.DataFrame(X_scaled, columns=X_cols).head(3)"
   ]
  },
  {
   "attachments": {},
   "cell_type": "markdown",
   "metadata": {},
   "source": [
    "**Encoding the Response Variable**"
   ]
  },
  {
   "cell_type": "code",
   "execution_count": null,
   "metadata": {},
   "outputs": [],
   "source": [
    "# Take a look at our response\n",
    "y"
   ]
  },
  {
   "attachments": {},
   "cell_type": "markdown",
   "metadata": {},
   "source": [
    "Our response variable is still a `string`. We need to turn it into some numerical representation for our neural network.\\\n",
    "We could to this ourselves with a few list comprehensions, but `sklearn`'s `LabelEncoder` makes this very easy."
   ]
  },
  {
   "cell_type": "code",
   "execution_count": null,
   "metadata": {},
   "outputs": [],
   "source": [
    "from sklearn.preprocessing import LabelEncoder"
   ]
  },
  {
   "cell_type": "code",
   "execution_count": null,
   "metadata": {},
   "outputs": [],
   "source": [
    "# Encode string labels as integers\n",
    "# LabelEncoder uses the familar fit/transform methods we saw with StandardScaler\n",
    "labenc = LabelEncoder().fit(y)\n",
    "y_enc = labenc.transform(y)\n",
    "y_enc"
   ]
  },
  {
   "cell_type": "code",
   "execution_count": null,
   "metadata": {},
   "outputs": [],
   "source": [
    "# We can recover the class labels from the encoder object later\n",
    "labenc.classes_"
   ]
  },
  {
   "attachments": {},
   "cell_type": "markdown",
   "metadata": {},
   "source": [
    "This gets us part of the way there. But the penguin species are **categorical** not **ordinal**. Keeping the labels as integers implies that species `2` is twice as \"different\" from species `1` as it is from species `0`. We want to perform a conversion here similar to the one-hot encoding above, except will will not 'drop' one of the values. This is where Keras's `to_categorical` utility function comes in."
   ]
  },
  {
   "cell_type": "code",
   "execution_count": null,
   "metadata": {},
   "outputs": [],
   "source": [
    "from keras.utils import to_categorical"
   ]
  },
  {
   "cell_type": "code",
   "execution_count": null,
   "metadata": {},
   "outputs": [],
   "source": [
    "y_cat = to_categorical(y_enc)\n",
    "y_cat"
   ]
  },
  {
   "attachments": {},
   "cell_type": "markdown",
   "metadata": {},
   "source": [
    "Perfect!"
   ]
  },
  {
   "attachments": {},
   "cell_type": "markdown",
   "metadata": {},
   "source": [
    "**Q:** If this is what our array of response variables looks like, what will this mean for the output layer of our neural network?"
   ]
  },
  {
   "attachments": {},
   "cell_type": "markdown",
   "metadata": {},
   "source": [
    "**Train-test Split**"
   ]
  },
  {
   "cell_type": "code",
   "execution_count": null,
   "metadata": {},
   "outputs": [],
   "source": [
    "from sklearn.model_selection import train_test_split"
   ]
  },
  {
   "attachments": {},
   "cell_type": "markdown",
   "metadata": {},
   "source": [
    "You may be familiar with using `train_test_split` to split the `X` and `y` arrays themselves. But here we will using it to create a set of train and test *indices*.\n",
    "\n",
    "We'll see later that being able to determine which rows in the original `X` and `y` ended up in train or test will be helpful.\n",
    "\n",
    "**Q:** But couldn't we just sample integers to get random indices? Why use `train_test_split`?\n",
    "\n",
    "**A:** Because `train_test_split` allows for **stratified** splitting!\n",
    "\n",
    "We'll stratify on `sex_Male`. By stratifying on this column we help ensure that proportion of male penguins is roughly equal in both train and test."
   ]
  },
  {
   "cell_type": "code",
   "execution_count": null,
   "metadata": {},
   "outputs": [],
   "source": [
    "# Create train/test indices\n",
    "train_idx, test_idx = train_test_split(np.arange(X_scaled.shape[0]),\n",
    "                                                  test_size=0.5,\n",
    "                                                  random_state=109,\n",
    "                                                  stratify=X_scaled['sex_Male'])"
   ]
  },
  {
   "cell_type": "code",
   "execution_count": null,
   "metadata": {},
   "outputs": [],
   "source": [
    "# Index into X_scaled and y_cat to create the train and test sets\n",
    "X_train = X_scaled.iloc[train_idx] # .iloc required for DataFrames\n",
    "y_train = y_cat[train_idx]\n",
    "X_test = X_scaled.iloc[test_idx]\n",
    "y_test = y_cat[test_idx]"
   ]
  },
  {
   "cell_type": "code",
   "execution_count": null,
   "metadata": {},
   "outputs": [],
   "source": [
    "# Sanity check on the resulting shapes\n",
    "X_train.shape, y_train.shape, X_test.shape, y_test.shape"
   ]
  },
  {
   "attachments": {},
   "cell_type": "markdown",
   "metadata": {},
   "source": [
    "**Validation Split**"
   ]
  },
  {
   "attachments": {},
   "cell_type": "markdown",
   "metadata": {},
   "source": [
    "We can also stratify for our validation split."
   ]
  },
  {
   "cell_type": "code",
   "execution_count": null,
   "metadata": {},
   "outputs": [],
   "source": [
    "# Create train and validation splits from original train split\n",
    "X_train, X_val, y_train, y_val = train_test_split(X_train, y_train, \n",
    "                                                    test_size=0.5,\n",
    "                                                    random_state=109,\n",
    "                                                    stratify=X_train[\"sex_Male\"])"
   ]
  },
  {
   "attachments": {},
   "cell_type": "markdown",
   "metadata": {},
   "source": [
    "<div class=\"alert alert-success\">\n",
    "    <strong>🏋🏻‍♂️ TEAM ACTIVITY:</strong> Classify Those Penguins!</div>  "
   ]
  },
  {
   "cell_type": "code",
   "execution_count": null,
   "metadata": {},
   "outputs": [],
   "source": [
    "# Remember, you have these imported modules to look through\n",
    "import tensorflow as tf\n",
    "from tensorflow.keras import activations\n",
    "from tensorflow.keras import layers\n",
    "from tensorflow.keras import losses\n",
    "from tensorflow.keras import metrics\n",
    "from tensorflow.keras import models\n",
    "from tensorflow.keras import optimizers"
   ]
  },
  {
   "attachments": {},
   "cell_type": "markdown",
   "metadata": {},
   "source": [
    "**Build**\n",
    "\n",
    "Construct your NN penguin classifier. You can make use of your `build_NN` function from earlier. What output activation should you use?\n",
    "\n",
    "**Hint:** try to programaticlaly determine the input and output shape from your data rather than hard coding those values."
   ]
  },
  {
   "cell_type": "code",
   "execution_count": null,
   "metadata": {},
   "outputs": [],
   "source": [
    "# Construct your NN and print the model summary\n",
    "# your code here\n"
   ]
  },
  {
   "attachments": {},
   "cell_type": "markdown",
   "metadata": {},
   "source": [
    "**Compile**\n",
    "\n",
    "Again, let's use `SGD` as our optimizer. You can fiddle with the `learning_rate`.\\\n",
    "What loss and metric(s) do you think are appropriate?"
   ]
  },
  {
   "cell_type": "code",
   "execution_count": null,
   "metadata": {},
   "outputs": [],
   "source": [
    "# Compile\n",
    "# youre code here\n"
   ]
  },
  {
   "attachments": {},
   "cell_type": "markdown",
   "metadata": {},
   "source": [
    "**Fit**\n",
    "\n",
    "Fit your model and store the results in a variable called `history`.\\\n",
    "Feel free to play with `batch_size` and `epochs`.\n",
    "\n",
    "Don't forget to include the `validation_data`! (It should be a tuple)"
   ]
  },
  {
   "cell_type": "code",
   "execution_count": null,
   "metadata": {
    "scrolled": true
   },
   "outputs": [],
   "source": [
    "# Fit\n",
    "# your code here\n"
   ]
  },
  {
   "attachments": {},
   "cell_type": "markdown",
   "metadata": {},
   "source": [
    "**Plot**\n",
    "\n",
    "Finally, write some code to visualize your loss and metric(s) across the training epochs. You should include both **train** and **validation** scores. This is where a **legend** is very important!\n",
    "\n",
    "**Note:** If you load the solutions they may not run for you unless you have selected the same metric(s)"
   ]
  },
  {
   "cell_type": "code",
   "execution_count": null,
   "metadata": {},
   "outputs": [],
   "source": [
    "# Plot training history\n",
    "# your code here\n"
   ]
  },
  {
   "attachments": {},
   "cell_type": "markdown",
   "metadata": {},
   "source": [
    "<div class='exercise'> <b>Evaluating the Model</div>\n"
   ]
  },
  {
   "attachments": {},
   "cell_type": "markdown",
   "metadata": {},
   "source": [
    "First, let's see how well we could to by simply predicting the majority class in the training data for all observations."
   ]
  },
  {
   "cell_type": "code",
   "execution_count": null,
   "metadata": {},
   "outputs": [],
   "source": [
    "naive_acc = y_train.mean(axis=0).max()\n",
    "print('Naive Accuracy:', naive_acc)"
   ]
  },
  {
   "cell_type": "code",
   "execution_count": null,
   "metadata": {},
   "outputs": [],
   "source": [
    "# Train\n",
    "model.evaluate(X_train, y_train)"
   ]
  },
  {
   "cell_type": "code",
   "execution_count": null,
   "metadata": {},
   "outputs": [],
   "source": [
    "# Validation\n",
    "model.evaluate(X_val, y_val)"
   ]
  },
  {
   "cell_type": "code",
   "execution_count": null,
   "metadata": {},
   "outputs": [],
   "source": [
    "# Test\n",
    "model.evaluate(X_test, y_test)"
   ]
  },
  {
   "attachments": {},
   "cell_type": "markdown",
   "metadata": {},
   "source": [
    "**End of Team Activity**"
   ]
  },
  {
   "attachments": {},
   "cell_type": "markdown",
   "metadata": {},
   "source": [
    "The End 🌈"
   ]
  },
  {
   "attachments": {},
   "cell_type": "markdown",
   "metadata": {},
   "source": [
    "----\n",
    "\n",
    "### Appendix"
   ]
  },
  {
   "attachments": {},
   "cell_type": "markdown",
   "metadata": {},
   "source": [
    "<div class='exercise'> <b>Black Box Interpretation</div>\n"
   ]
  },
  {
   "attachments": {},
   "cell_type": "markdown",
   "metadata": {},
   "source": [
    "**Proxy Model**\n",
    "\n",
    "Here we fit a decision tree classifier to predict the predictions of the neural network (!)\\\n",
    "That is, the decision tree will try to mimic the behavior of the neural network.\\\n",
    "Provided that it does a reasonably good job, we can then interpret the behavior of the DT using feature importance."
   ]
  },
  {
   "cell_type": "code",
   "execution_count": null,
   "metadata": {},
   "outputs": [],
   "source": [
    "from sklearn.tree import DecisionTreeClassifier\n",
    "from sklearn.model_selection import cross_validate, GridSearchCV"
   ]
  },
  {
   "cell_type": "code",
   "execution_count": null,
   "metadata": {},
   "outputs": [],
   "source": [
    "# Create train & test response variables for proxy model\n",
    "y_train_bb = model.predict(X_train).argmax(-1)\n",
    "y_test_bb = model.predict(X_test).argmax(-1)"
   ]
  },
  {
   "cell_type": "code",
   "execution_count": null,
   "metadata": {},
   "outputs": [],
   "source": [
    "# Use cross-validation to tune proxy's hyperparameters\n",
    "parameters = {'max_depth':range(1,10),\n",
    "              'criterion': ['gini', 'entropy']}\n",
    "\n",
    "clf = DecisionTreeClassifier(random_state=42)\n",
    "grid = GridSearchCV(clf, parameters, cv=5)\n",
    "\n",
    "# fit using same train but NN's predictions as response\n",
    "grid.fit(X_train, y_train_bb)\n",
    "print('Best Score:', grid.best_score_)\n",
    "print('Best Params:', grid.best_params_) "
   ]
  },
  {
   "cell_type": "code",
   "execution_count": null,
   "metadata": {},
   "outputs": [],
   "source": [
    "# Retrieve best estimator from the grid object\n",
    "proxy = grid.best_estimator_\n",
    "\n",
    "bb_test_score =  sum(y_test_bb == y_test.argmax(axis=1))/len(y_test_bb)\n",
    "proxy_test_score = proxy.score(X_test, y_test_bb)\n",
    "print('Black Box Test Score:', bb_test_score)\n",
    "print('Proxy Model Test Score:', proxy_test_score)"
   ]
  },
  {
   "attachments": {},
   "cell_type": "markdown",
   "metadata": {},
   "source": [
    "**Feature Importance**"
   ]
  },
  {
   "cell_type": "code",
   "execution_count": null,
   "metadata": {},
   "outputs": [],
   "source": [
    "feature_importances = proxy.feature_importances_\n",
    "feature_importances"
   ]
  },
  {
   "cell_type": "code",
   "execution_count": null,
   "metadata": {},
   "outputs": [],
   "source": [
    "sort_idx = np.argsort(feature_importances)[::-1]"
   ]
  },
  {
   "cell_type": "code",
   "execution_count": null,
   "metadata": {},
   "outputs": [],
   "source": [
    "ax = sns.barplot(x=feature_importances[sort_idx], y=X_cols[sort_idx], color='purple', orient='h')\n",
    "for index, val in enumerate(feature_importances[sort_idx]):\n",
    "    ax.text(val/3, index, round(val, 2),color='white', weight='bold', va='center')\n",
    "ax.set_title('NN Feature Importance According to DTree Proxy')\n",
    "sns.despine(right=True)"
   ]
  },
  {
   "attachments": {},
   "cell_type": "markdown",
   "metadata": {},
   "source": [
    "**Fixing All But One Predictor**\n",
    "\n",
    "We can also try to see how a predictor affects the NN's output by fixing all the other to some \"reasonable\" values (e.g., mean, mode) and then only varying the predictor of interest.\n",
    "\n",
    "Based on the results above, let's explore how `bill_length_mm` effects the NN's output."
   ]
  },
  {
   "attachments": {},
   "cell_type": "markdown",
   "metadata": {},
   "source": [
    "**Construct 'Average' Observation**"
   ]
  },
  {
   "cell_type": "code",
   "execution_count": null,
   "metadata": {},
   "outputs": [],
   "source": [
    "# Review data types\n",
    "X_design.dtypes"
   ]
  },
  {
   "cell_type": "code",
   "execution_count": null,
   "metadata": {},
   "outputs": [],
   "source": [
    "# Take means for continous\n",
    "means = X_scaled.values[:,:4].mean(axis=0)\n",
    "\n",
    "# And modes for catgoricals\n",
    "modes = pd.DataFrame(X_scaled.values[:,4:]).mode().values.reshape(-1)"
   ]
  },
  {
   "cell_type": "code",
   "execution_count": null,
   "metadata": {},
   "outputs": [],
   "source": [
    "# Shape Sanity Check\n",
    "means.shape, modes.shape"
   ]
  },
  {
   "cell_type": "code",
   "execution_count": null,
   "metadata": {},
   "outputs": [],
   "source": [
    "# Concatenate these two back together\n",
    "avg_obs = np.concatenate([means, modes])"
   ]
  },
  {
   "cell_type": "code",
   "execution_count": null,
   "metadata": {},
   "outputs": [],
   "source": [
    "# And stick it back in a DataFrame\n",
    "avg_obs = pd.DataFrame(avg_obs).transpose()\n",
    "avg_obs.columns = X_design.columns\n",
    "avg_obs"
   ]
  },
  {
   "cell_type": "code",
   "execution_count": null,
   "metadata": {},
   "outputs": [],
   "source": [
    "# Identify column in our array that corresponds to bill length\n",
    "bill_col = np.argmax(X_design.columns == 'bill_length_mm')\n",
    "\n",
    "# Find the min and max bill length stdevs in the data set\n",
    "bill_min_std = np.min(X_scaled.values[:,bill_col])\n",
    "bill_max_std = np.max(X_scaled.values[:, bill_col])\n",
    "\n",
    "# Create 100 evenly spaced values within that range\n",
    "bill_lengths = np.linspace(bill_min_std, bill_max_std, 100)\n",
    "\n",
    "# Create 100 duplicates of the average observation\n",
    "avg_df  = pd.concat([avg_obs]*bill_lengths.size,ignore_index=True)\n",
    "\n",
    "# Set the bill length column to then linspace we just created\n",
    "avg_df['bill_length_mm'] = bill_lengths"
   ]
  },
  {
   "attachments": {},
   "cell_type": "markdown",
   "metadata": {},
   "source": [
    "Notice now that all rows are identical except for `bill_length_mm` which slowly covers the entire range of values observed in the dataset."
   ]
  },
  {
   "cell_type": "code",
   "execution_count": null,
   "metadata": {},
   "outputs": [],
   "source": [
    "avg_df.head()"
   ]
  },
  {
   "attachments": {},
   "cell_type": "markdown",
   "metadata": {},
   "source": [
    "**Return Predictor to Original Scale**\n",
    "\n",
    "When we visualize our results we'll want to do so back in the original scale for better interpretability.\n",
    "\n",
    "Here we make use of our scaler object from way back when as it stores the means and standard deviations of the original, unscaled predictors."
   ]
  },
  {
   "cell_type": "code",
   "execution_count": null,
   "metadata": {},
   "outputs": [],
   "source": [
    "# Recover the feature of interest on the original scale\n",
    "bill_std = np.sqrt(scaler.var_[bill_col])\n",
    "bill_mean = scaler.mean_[bill_col]\n",
    "bill_lengths_original = (bill_std*bill_lengths)+bill_mean"
   ]
  },
  {
   "attachments": {},
   "cell_type": "markdown",
   "metadata": {},
   "source": [
    "We can sanity check out inverse transformation by confirming we recovereed the same min and max bill length from our very first DataFrame!"
   ]
  },
  {
   "cell_type": "code",
   "execution_count": null,
   "metadata": {},
   "outputs": [],
   "source": [
    "# Min Sanity Check\n",
    "bill_lengths_original.min(), penguins.bill_length_mm.min()"
   ]
  },
  {
   "cell_type": "code",
   "execution_count": null,
   "metadata": {},
   "outputs": [],
   "source": [
    "# Max Sanity Check\n",
    "bill_lengths_original.max(), penguins.bill_length_mm.max()"
   ]
  },
  {
   "attachments": {},
   "cell_type": "markdown",
   "metadata": {},
   "source": [
    "Now we are ready to plot an approximation of how `bill_length_mm` affects the NN's predictions."
   ]
  },
  {
   "cell_type": "code",
   "execution_count": null,
   "metadata": {},
   "outputs": [],
   "source": [
    "# Plot predicted class probabilities as a function of bill length (approx)\n",
    "avg_pred = model.predict(avg_df)\n",
    "fig, ax = plt.subplots()\n",
    "for idx, species in enumerate(labenc.classes_): \n",
    "    plt.plot(bill_lengths_original, avg_pred[:,idx], label=species)\n",
    "ax.set_ylabel('predicted probability')\n",
    "ax.set_xlabel('bill length in mm')\n",
    "ax.set_title('NN Predictions varying only bill length, holding all other predictors at mean/mode')\n",
    "\n",
    "ax.legend();"
   ]
  },
  {
   "attachments": {},
   "cell_type": "markdown",
   "metadata": {},
   "source": [
    "If you know your penguins this should be too surprising. Gentoo penguins are the 3rd largest species after the emperor and king penguins (not represented in our dataset).\n",
    "\n",
    "**Q:** Why is this only an *approximation* of how `bill_length_mm` from observations would affect the NN's predictions?"
   ]
  },
  {
   "attachments": {},
   "cell_type": "markdown",
   "metadata": {},
   "source": [
    "<div class='exercise'> <b>Bagging</div>\n",
    "\n",
    "You'll be using bagging (\"bootstrap aggregating\") in your HW so let's take a minute to review the idea and see how it would work with a Kerass model.\n",
    "    \n",
    "The idea is to similuate multiple datasets by sampling our current one with replacement and fitting a model on this sample. The process is repeated multiple times until we have an *ensemble* of fitted models, all trained on slightly different datasets. \n",
    "    \n",
    "We can then treat the ensemble as a singled 'bagged' model. When it is time to predict, each model in the ensemble makes its own predictions. These predictions can then be *aggregated* across models, for example, by taking the average or through majority voting.\n",
    "    \n",
    "We may also be interested in looking at the distribution of the predictions for a given observation as this may help us quanity our uncertainty in a way in which we could not with a single model's predictions (even if that model outputs a probability!)"
   ]
  },
  {
   "attachments": {},
   "cell_type": "markdown",
   "metadata": {},
   "source": [
    "**NN Build Function**\\\n",
    "**Arguments:**\n",
    "- `name`: str - A name for your NN.\n",
    "- `input_shape`: tuple - number of predictors in input (remember the trailing ','!)\n",
    "- `hidden_dims`: list of int - specifies the number of neurons in each hidden layer\n",
    "    - Ex: [2,4,8] would mean 3 hidden layers with 2, 4, and 8 neurons respectively\n",
    "- `hidden_act`: str (or Keras activation object) - activation function used by all hidden layers\n",
    "- `out_dim`: int - number of output neurons a.k.a 'ouput units'\n",
    "- `out_act`: str (or Keras activation object) - activation function used by output layer\n",
    "\n",
    "**Hint:** We will reuse this function throughout the notebook in different settings, but you should go ahead and set some sensible defaults for *all* of the arguments."
   ]
  },
  {
   "cell_type": "code",
   "execution_count": null,
   "metadata": {},
   "outputs": [],
   "source": [
    "def build_NN(name='NN', input_shape=(1,), hidden_dims=[2], hidden_act='relu', out_dim=1, out_act='linear'):\n",
    "    model = models.Sequential(name=name)\n",
    "    model.add(layers.Input(shape=input_shape))\n",
    "    for hidden_dim in hidden_dims:\n",
    "        model.add(layers.Dense(hidden_dim, activation=hidden_act))\n",
    "    model.add(layers.Dense(out_dim, activation=out_act))\n",
    "    return model"
   ]
  },
  {
   "cell_type": "code",
   "execution_count": null,
   "metadata": {},
   "outputs": [],
   "source": [
    "# Set sup parameters for the bagging process\n",
    "learning_rate=1e-1\n",
    "epochs = 50\n",
    "batch_size = 64\n",
    "n_boot = 30\n",
    "bagged_model = []\n",
    "np.random.seed(109)\n",
    "\n",
    "for n in range(n_boot):\n",
    "    # Bootstrap\n",
    "    boot_idx = np.random.choice(X_train.shape[0], size=X_train.shape[0], replace=True)\n",
    "    X_train_boot = X_train.iloc[boot_idx]\n",
    "    y_train_boot = y_train[boot_idx]\n",
    "\n",
    "    # Build\n",
    "    boot_model= build_NN(name=f'penguins_{n}',\n",
    "                        input_shape=(X_train_boot.shape[1],),\n",
    "                        hidden_dims=[8,16,32],\n",
    "                        hidden_act='relu',\n",
    "                        out_dim=3,\n",
    "                        out_act='softmax')\n",
    "    # Compile\n",
    "    boot_model.compile(optimizer=optimizers.SGD(learning_rate=learning_rate),\n",
    "                       loss='categorical_crossentropy',\n",
    "                       metrics=['acc', 'AUC'])\n",
    "\n",
    "    # Fit\n",
    "    boot_model.fit(X_train_boot,\n",
    "                   y_train_boot,\n",
    "                   batch_size=batch_size,\n",
    "                   epochs=epochs,\n",
    "                   verbose=0)\n",
    "    \n",
    "    # Store bootstrapped model's probability predictions\n",
    "    bagged_model.append(boot_model)"
   ]
  },
  {
   "cell_type": "code",
   "execution_count": null,
   "metadata": {},
   "outputs": [],
   "source": [
    "# Notice we can programatically recover the shape of a model's output layer\n",
    "m = bagged_model[0]\n",
    "\n",
    "out_dim = m.layers[-1].output.shape[-1]\n",
    "print(out_dim)"
   ]
  },
  {
   "cell_type": "code",
   "execution_count": null,
   "metadata": {},
   "outputs": [],
   "source": [
    "def get_bagged_pred(bagged_model, X): \n",
    "    # Number of observations\n",
    "    n_obs = X.shape[0]\n",
    "    # Prediction dimensions (here, number of classes)\n",
    "    pred_dim = bagged_model[0].layers[-1].output.shape[-1]\n",
    "    # Number of models in the bagged ensemble\n",
    "    n_models = len(bagged_model)\n",
    "    # 3D tensor to store predictions from each bootstrapped model\n",
    "    # n_observations x n_classes x n_models\n",
    "    boot_preds = np.zeros((n_obs, pred_dim, n_models))\n",
    "    # Store all predictions in the tensor\n",
    "    for i, model in enumerate(bagged_model):\n",
    "        boot_preds[:,:,i] = model.predict(X)\n",
    "    # Average the predictions across models\n",
    "    bag_pred = boot_preds.mean(axis=-1)\n",
    "    return bag_pred, boot_preds"
   ]
  },
  {
   "cell_type": "code",
   "execution_count": null,
   "metadata": {},
   "outputs": [],
   "source": [
    "# Get aggregated and unaggregated ensemble predictions\n",
    "# (Ignore the ugly warning messages, resolving it makes the code a bove much more complex)\n",
    "bag_pred, boot_preds = get_bagged_pred(bagged_model, X_test)"
   ]
  },
  {
   "cell_type": "code",
   "execution_count": null,
   "metadata": {},
   "outputs": [],
   "source": [
    "# Example of aggregated predictions\n",
    "bag_pred[:3]"
   ]
  },
  {
   "cell_type": "code",
   "execution_count": null,
   "metadata": {},
   "outputs": [],
   "source": [
    "# Shape of unaggregated ensemble predictions tensor\n",
    "boot_preds.shape"
   ]
  },
  {
   "cell_type": "code",
   "execution_count": null,
   "metadata": {},
   "outputs": [],
   "source": [
    "# Calculate bagged accuracy\n",
    "bag_acc = sum(bag_pred.argmax(axis=-1) == y_test.argmax(axis=-1))/bag_pred.shape[0]\n",
    "print('Bagged Acc:', bag_acc)"
   ]
  },
  {
   "cell_type": "code",
   "execution_count": null,
   "metadata": {},
   "outputs": [],
   "source": []
  }
 ],
 "metadata": {
  "kernelspec": {
   "display_name": "Python 3 (ipykernel)",
   "language": "python",
   "name": "python3"
  },
  "language_info": {
   "codemirror_mode": {
    "name": "ipython",
    "version": 3
   },
   "file_extension": ".py",
   "mimetype": "text/x-python",
   "name": "python",
   "nbconvert_exporter": "python",
   "pygments_lexer": "ipython3",
   "version": "3.12.8"
  }
 },
 "nbformat": 4,
 "nbformat_minor": 4
}
