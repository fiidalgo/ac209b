{
  "nbformat": 4,
  "nbformat_minor": 0,
  "metadata": {
    "colab": {
      "provenance": [],
      "gpuType": "T4"
    },
    "kernelspec": {
      "name": "python3",
      "display_name": "Python 3"
    },
    "language_info": {
      "name": "python"
    },
    "accelerator": "GPU",
    "widgets": {
      "application/vnd.jupyter.widget-state+json": {
        "3d09945f47434da7b8985166b0ad8fd1": {
          "model_module": "@jupyter-widgets/controls",
          "model_name": "HBoxModel",
          "model_module_version": "1.5.0",
          "state": {
            "_dom_classes": [],
            "_model_module": "@jupyter-widgets/controls",
            "_model_module_version": "1.5.0",
            "_model_name": "HBoxModel",
            "_view_count": null,
            "_view_module": "@jupyter-widgets/controls",
            "_view_module_version": "1.5.0",
            "_view_name": "HBoxView",
            "box_style": "",
            "children": [
              "IPY_MODEL_d36acb6391404cb689da5813872ddd9e",
              "IPY_MODEL_4963d7e17ea44a9f850c82fb873bc43b",
              "IPY_MODEL_407f49f269254367a96359c29bfe7a3a"
            ],
            "layout": "IPY_MODEL_621f569667514cc38993fc96ee0bf841"
          }
        },
        "d36acb6391404cb689da5813872ddd9e": {
          "model_module": "@jupyter-widgets/controls",
          "model_name": "HTMLModel",
          "model_module_version": "1.5.0",
          "state": {
            "_dom_classes": [],
            "_model_module": "@jupyter-widgets/controls",
            "_model_module_version": "1.5.0",
            "_model_name": "HTMLModel",
            "_view_count": null,
            "_view_module": "@jupyter-widgets/controls",
            "_view_module_version": "1.5.0",
            "_view_name": "HTMLView",
            "description": "",
            "description_tooltip": null,
            "layout": "IPY_MODEL_b584a84bd8894642b6ff42e2fac58366",
            "placeholder": "​",
            "style": "IPY_MODEL_4e8428c67c05499db917d03fadfc1ba1",
            "value": "tokenizer_config.json: 100%"
          }
        },
        "4963d7e17ea44a9f850c82fb873bc43b": {
          "model_module": "@jupyter-widgets/controls",
          "model_name": "FloatProgressModel",
          "model_module_version": "1.5.0",
          "state": {
            "_dom_classes": [],
            "_model_module": "@jupyter-widgets/controls",
            "_model_module_version": "1.5.0",
            "_model_name": "FloatProgressModel",
            "_view_count": null,
            "_view_module": "@jupyter-widgets/controls",
            "_view_module_version": "1.5.0",
            "_view_name": "ProgressView",
            "bar_style": "success",
            "description": "",
            "description_tooltip": null,
            "layout": "IPY_MODEL_a188fc94cf9b4435b08ce20a78964667",
            "max": 26,
            "min": 0,
            "orientation": "horizontal",
            "style": "IPY_MODEL_ac14dd8206514012a14975459610e6b3",
            "value": 26
          }
        },
        "407f49f269254367a96359c29bfe7a3a": {
          "model_module": "@jupyter-widgets/controls",
          "model_name": "HTMLModel",
          "model_module_version": "1.5.0",
          "state": {
            "_dom_classes": [],
            "_model_module": "@jupyter-widgets/controls",
            "_model_module_version": "1.5.0",
            "_model_name": "HTMLModel",
            "_view_count": null,
            "_view_module": "@jupyter-widgets/controls",
            "_view_module_version": "1.5.0",
            "_view_name": "HTMLView",
            "description": "",
            "description_tooltip": null,
            "layout": "IPY_MODEL_ad0b6679bf0b40fe9a4fcb71f4b33b97",
            "placeholder": "​",
            "style": "IPY_MODEL_0116619b78b34a70a801aea9c36e4324",
            "value": " 26.0/26.0 [00:00&lt;00:00, 1.85kB/s]"
          }
        },
        "621f569667514cc38993fc96ee0bf841": {
          "model_module": "@jupyter-widgets/base",
          "model_name": "LayoutModel",
          "model_module_version": "1.2.0",
          "state": {
            "_model_module": "@jupyter-widgets/base",
            "_model_module_version": "1.2.0",
            "_model_name": "LayoutModel",
            "_view_count": null,
            "_view_module": "@jupyter-widgets/base",
            "_view_module_version": "1.2.0",
            "_view_name": "LayoutView",
            "align_content": null,
            "align_items": null,
            "align_self": null,
            "border": null,
            "bottom": null,
            "display": null,
            "flex": null,
            "flex_flow": null,
            "grid_area": null,
            "grid_auto_columns": null,
            "grid_auto_flow": null,
            "grid_auto_rows": null,
            "grid_column": null,
            "grid_gap": null,
            "grid_row": null,
            "grid_template_areas": null,
            "grid_template_columns": null,
            "grid_template_rows": null,
            "height": null,
            "justify_content": null,
            "justify_items": null,
            "left": null,
            "margin": null,
            "max_height": null,
            "max_width": null,
            "min_height": null,
            "min_width": null,
            "object_fit": null,
            "object_position": null,
            "order": null,
            "overflow": null,
            "overflow_x": null,
            "overflow_y": null,
            "padding": null,
            "right": null,
            "top": null,
            "visibility": null,
            "width": null
          }
        },
        "b584a84bd8894642b6ff42e2fac58366": {
          "model_module": "@jupyter-widgets/base",
          "model_name": "LayoutModel",
          "model_module_version": "1.2.0",
          "state": {
            "_model_module": "@jupyter-widgets/base",
            "_model_module_version": "1.2.0",
            "_model_name": "LayoutModel",
            "_view_count": null,
            "_view_module": "@jupyter-widgets/base",
            "_view_module_version": "1.2.0",
            "_view_name": "LayoutView",
            "align_content": null,
            "align_items": null,
            "align_self": null,
            "border": null,
            "bottom": null,
            "display": null,
            "flex": null,
            "flex_flow": null,
            "grid_area": null,
            "grid_auto_columns": null,
            "grid_auto_flow": null,
            "grid_auto_rows": null,
            "grid_column": null,
            "grid_gap": null,
            "grid_row": null,
            "grid_template_areas": null,
            "grid_template_columns": null,
            "grid_template_rows": null,
            "height": null,
            "justify_content": null,
            "justify_items": null,
            "left": null,
            "margin": null,
            "max_height": null,
            "max_width": null,
            "min_height": null,
            "min_width": null,
            "object_fit": null,
            "object_position": null,
            "order": null,
            "overflow": null,
            "overflow_x": null,
            "overflow_y": null,
            "padding": null,
            "right": null,
            "top": null,
            "visibility": null,
            "width": null
          }
        },
        "4e8428c67c05499db917d03fadfc1ba1": {
          "model_module": "@jupyter-widgets/controls",
          "model_name": "DescriptionStyleModel",
          "model_module_version": "1.5.0",
          "state": {
            "_model_module": "@jupyter-widgets/controls",
            "_model_module_version": "1.5.0",
            "_model_name": "DescriptionStyleModel",
            "_view_count": null,
            "_view_module": "@jupyter-widgets/base",
            "_view_module_version": "1.2.0",
            "_view_name": "StyleView",
            "description_width": ""
          }
        },
        "a188fc94cf9b4435b08ce20a78964667": {
          "model_module": "@jupyter-widgets/base",
          "model_name": "LayoutModel",
          "model_module_version": "1.2.0",
          "state": {
            "_model_module": "@jupyter-widgets/base",
            "_model_module_version": "1.2.0",
            "_model_name": "LayoutModel",
            "_view_count": null,
            "_view_module": "@jupyter-widgets/base",
            "_view_module_version": "1.2.0",
            "_view_name": "LayoutView",
            "align_content": null,
            "align_items": null,
            "align_self": null,
            "border": null,
            "bottom": null,
            "display": null,
            "flex": null,
            "flex_flow": null,
            "grid_area": null,
            "grid_auto_columns": null,
            "grid_auto_flow": null,
            "grid_auto_rows": null,
            "grid_column": null,
            "grid_gap": null,
            "grid_row": null,
            "grid_template_areas": null,
            "grid_template_columns": null,
            "grid_template_rows": null,
            "height": null,
            "justify_content": null,
            "justify_items": null,
            "left": null,
            "margin": null,
            "max_height": null,
            "max_width": null,
            "min_height": null,
            "min_width": null,
            "object_fit": null,
            "object_position": null,
            "order": null,
            "overflow": null,
            "overflow_x": null,
            "overflow_y": null,
            "padding": null,
            "right": null,
            "top": null,
            "visibility": null,
            "width": null
          }
        },
        "ac14dd8206514012a14975459610e6b3": {
          "model_module": "@jupyter-widgets/controls",
          "model_name": "ProgressStyleModel",
          "model_module_version": "1.5.0",
          "state": {
            "_model_module": "@jupyter-widgets/controls",
            "_model_module_version": "1.5.0",
            "_model_name": "ProgressStyleModel",
            "_view_count": null,
            "_view_module": "@jupyter-widgets/base",
            "_view_module_version": "1.2.0",
            "_view_name": "StyleView",
            "bar_color": null,
            "description_width": ""
          }
        },
        "ad0b6679bf0b40fe9a4fcb71f4b33b97": {
          "model_module": "@jupyter-widgets/base",
          "model_name": "LayoutModel",
          "model_module_version": "1.2.0",
          "state": {
            "_model_module": "@jupyter-widgets/base",
            "_model_module_version": "1.2.0",
            "_model_name": "LayoutModel",
            "_view_count": null,
            "_view_module": "@jupyter-widgets/base",
            "_view_module_version": "1.2.0",
            "_view_name": "LayoutView",
            "align_content": null,
            "align_items": null,
            "align_self": null,
            "border": null,
            "bottom": null,
            "display": null,
            "flex": null,
            "flex_flow": null,
            "grid_area": null,
            "grid_auto_columns": null,
            "grid_auto_flow": null,
            "grid_auto_rows": null,
            "grid_column": null,
            "grid_gap": null,
            "grid_row": null,
            "grid_template_areas": null,
            "grid_template_columns": null,
            "grid_template_rows": null,
            "height": null,
            "justify_content": null,
            "justify_items": null,
            "left": null,
            "margin": null,
            "max_height": null,
            "max_width": null,
            "min_height": null,
            "min_width": null,
            "object_fit": null,
            "object_position": null,
            "order": null,
            "overflow": null,
            "overflow_x": null,
            "overflow_y": null,
            "padding": null,
            "right": null,
            "top": null,
            "visibility": null,
            "width": null
          }
        },
        "0116619b78b34a70a801aea9c36e4324": {
          "model_module": "@jupyter-widgets/controls",
          "model_name": "DescriptionStyleModel",
          "model_module_version": "1.5.0",
          "state": {
            "_model_module": "@jupyter-widgets/controls",
            "_model_module_version": "1.5.0",
            "_model_name": "DescriptionStyleModel",
            "_view_count": null,
            "_view_module": "@jupyter-widgets/base",
            "_view_module_version": "1.2.0",
            "_view_name": "StyleView",
            "description_width": ""
          }
        },
        "de214ef0f46b4fd79a440abe24b0fc68": {
          "model_module": "@jupyter-widgets/controls",
          "model_name": "HBoxModel",
          "model_module_version": "1.5.0",
          "state": {
            "_dom_classes": [],
            "_model_module": "@jupyter-widgets/controls",
            "_model_module_version": "1.5.0",
            "_model_name": "HBoxModel",
            "_view_count": null,
            "_view_module": "@jupyter-widgets/controls",
            "_view_module_version": "1.5.0",
            "_view_name": "HBoxView",
            "box_style": "",
            "children": [
              "IPY_MODEL_01be011c6fdc46b8ae1cf5887ca9f374",
              "IPY_MODEL_d9eab06574b74893abd589d86c7d50dc",
              "IPY_MODEL_ab2c49f4c1134a26913b68ceb8c016db"
            ],
            "layout": "IPY_MODEL_cb101582d2204e80a2f337783f7e0776"
          }
        },
        "01be011c6fdc46b8ae1cf5887ca9f374": {
          "model_module": "@jupyter-widgets/controls",
          "model_name": "HTMLModel",
          "model_module_version": "1.5.0",
          "state": {
            "_dom_classes": [],
            "_model_module": "@jupyter-widgets/controls",
            "_model_module_version": "1.5.0",
            "_model_name": "HTMLModel",
            "_view_count": null,
            "_view_module": "@jupyter-widgets/controls",
            "_view_module_version": "1.5.0",
            "_view_name": "HTMLView",
            "description": "",
            "description_tooltip": null,
            "layout": "IPY_MODEL_c8a22664bf3041809aa8decc081a1489",
            "placeholder": "​",
            "style": "IPY_MODEL_5884abebfdcb408ab1636d608a9d391d",
            "value": "config.json: 100%"
          }
        },
        "d9eab06574b74893abd589d86c7d50dc": {
          "model_module": "@jupyter-widgets/controls",
          "model_name": "FloatProgressModel",
          "model_module_version": "1.5.0",
          "state": {
            "_dom_classes": [],
            "_model_module": "@jupyter-widgets/controls",
            "_model_module_version": "1.5.0",
            "_model_name": "FloatProgressModel",
            "_view_count": null,
            "_view_module": "@jupyter-widgets/controls",
            "_view_module_version": "1.5.0",
            "_view_name": "ProgressView",
            "bar_style": "success",
            "description": "",
            "description_tooltip": null,
            "layout": "IPY_MODEL_01eb7384818a46f19dcb82d213205921",
            "max": 762,
            "min": 0,
            "orientation": "horizontal",
            "style": "IPY_MODEL_5c12ec0f9a3f4aae8a5366cb261b7731",
            "value": 762
          }
        },
        "ab2c49f4c1134a26913b68ceb8c016db": {
          "model_module": "@jupyter-widgets/controls",
          "model_name": "HTMLModel",
          "model_module_version": "1.5.0",
          "state": {
            "_dom_classes": [],
            "_model_module": "@jupyter-widgets/controls",
            "_model_module_version": "1.5.0",
            "_model_name": "HTMLModel",
            "_view_count": null,
            "_view_module": "@jupyter-widgets/controls",
            "_view_module_version": "1.5.0",
            "_view_name": "HTMLView",
            "description": "",
            "description_tooltip": null,
            "layout": "IPY_MODEL_59ba3eac162a479bb7a938d5c2c9ff82",
            "placeholder": "​",
            "style": "IPY_MODEL_d84b111d1e5e47aaaa9cca434f1b99d0",
            "value": " 762/762 [00:00&lt;00:00, 35.5kB/s]"
          }
        },
        "cb101582d2204e80a2f337783f7e0776": {
          "model_module": "@jupyter-widgets/base",
          "model_name": "LayoutModel",
          "model_module_version": "1.2.0",
          "state": {
            "_model_module": "@jupyter-widgets/base",
            "_model_module_version": "1.2.0",
            "_model_name": "LayoutModel",
            "_view_count": null,
            "_view_module": "@jupyter-widgets/base",
            "_view_module_version": "1.2.0",
            "_view_name": "LayoutView",
            "align_content": null,
            "align_items": null,
            "align_self": null,
            "border": null,
            "bottom": null,
            "display": null,
            "flex": null,
            "flex_flow": null,
            "grid_area": null,
            "grid_auto_columns": null,
            "grid_auto_flow": null,
            "grid_auto_rows": null,
            "grid_column": null,
            "grid_gap": null,
            "grid_row": null,
            "grid_template_areas": null,
            "grid_template_columns": null,
            "grid_template_rows": null,
            "height": null,
            "justify_content": null,
            "justify_items": null,
            "left": null,
            "margin": null,
            "max_height": null,
            "max_width": null,
            "min_height": null,
            "min_width": null,
            "object_fit": null,
            "object_position": null,
            "order": null,
            "overflow": null,
            "overflow_x": null,
            "overflow_y": null,
            "padding": null,
            "right": null,
            "top": null,
            "visibility": null,
            "width": null
          }
        },
        "c8a22664bf3041809aa8decc081a1489": {
          "model_module": "@jupyter-widgets/base",
          "model_name": "LayoutModel",
          "model_module_version": "1.2.0",
          "state": {
            "_model_module": "@jupyter-widgets/base",
            "_model_module_version": "1.2.0",
            "_model_name": "LayoutModel",
            "_view_count": null,
            "_view_module": "@jupyter-widgets/base",
            "_view_module_version": "1.2.0",
            "_view_name": "LayoutView",
            "align_content": null,
            "align_items": null,
            "align_self": null,
            "border": null,
            "bottom": null,
            "display": null,
            "flex": null,
            "flex_flow": null,
            "grid_area": null,
            "grid_auto_columns": null,
            "grid_auto_flow": null,
            "grid_auto_rows": null,
            "grid_column": null,
            "grid_gap": null,
            "grid_row": null,
            "grid_template_areas": null,
            "grid_template_columns": null,
            "grid_template_rows": null,
            "height": null,
            "justify_content": null,
            "justify_items": null,
            "left": null,
            "margin": null,
            "max_height": null,
            "max_width": null,
            "min_height": null,
            "min_width": null,
            "object_fit": null,
            "object_position": null,
            "order": null,
            "overflow": null,
            "overflow_x": null,
            "overflow_y": null,
            "padding": null,
            "right": null,
            "top": null,
            "visibility": null,
            "width": null
          }
        },
        "5884abebfdcb408ab1636d608a9d391d": {
          "model_module": "@jupyter-widgets/controls",
          "model_name": "DescriptionStyleModel",
          "model_module_version": "1.5.0",
          "state": {
            "_model_module": "@jupyter-widgets/controls",
            "_model_module_version": "1.5.0",
            "_model_name": "DescriptionStyleModel",
            "_view_count": null,
            "_view_module": "@jupyter-widgets/base",
            "_view_module_version": "1.2.0",
            "_view_name": "StyleView",
            "description_width": ""
          }
        },
        "01eb7384818a46f19dcb82d213205921": {
          "model_module": "@jupyter-widgets/base",
          "model_name": "LayoutModel",
          "model_module_version": "1.2.0",
          "state": {
            "_model_module": "@jupyter-widgets/base",
            "_model_module_version": "1.2.0",
            "_model_name": "LayoutModel",
            "_view_count": null,
            "_view_module": "@jupyter-widgets/base",
            "_view_module_version": "1.2.0",
            "_view_name": "LayoutView",
            "align_content": null,
            "align_items": null,
            "align_self": null,
            "border": null,
            "bottom": null,
            "display": null,
            "flex": null,
            "flex_flow": null,
            "grid_area": null,
            "grid_auto_columns": null,
            "grid_auto_flow": null,
            "grid_auto_rows": null,
            "grid_column": null,
            "grid_gap": null,
            "grid_row": null,
            "grid_template_areas": null,
            "grid_template_columns": null,
            "grid_template_rows": null,
            "height": null,
            "justify_content": null,
            "justify_items": null,
            "left": null,
            "margin": null,
            "max_height": null,
            "max_width": null,
            "min_height": null,
            "min_width": null,
            "object_fit": null,
            "object_position": null,
            "order": null,
            "overflow": null,
            "overflow_x": null,
            "overflow_y": null,
            "padding": null,
            "right": null,
            "top": null,
            "visibility": null,
            "width": null
          }
        },
        "5c12ec0f9a3f4aae8a5366cb261b7731": {
          "model_module": "@jupyter-widgets/controls",
          "model_name": "ProgressStyleModel",
          "model_module_version": "1.5.0",
          "state": {
            "_model_module": "@jupyter-widgets/controls",
            "_model_module_version": "1.5.0",
            "_model_name": "ProgressStyleModel",
            "_view_count": null,
            "_view_module": "@jupyter-widgets/base",
            "_view_module_version": "1.2.0",
            "_view_name": "StyleView",
            "bar_color": null,
            "description_width": ""
          }
        },
        "59ba3eac162a479bb7a938d5c2c9ff82": {
          "model_module": "@jupyter-widgets/base",
          "model_name": "LayoutModel",
          "model_module_version": "1.2.0",
          "state": {
            "_model_module": "@jupyter-widgets/base",
            "_model_module_version": "1.2.0",
            "_model_name": "LayoutModel",
            "_view_count": null,
            "_view_module": "@jupyter-widgets/base",
            "_view_module_version": "1.2.0",
            "_view_name": "LayoutView",
            "align_content": null,
            "align_items": null,
            "align_self": null,
            "border": null,
            "bottom": null,
            "display": null,
            "flex": null,
            "flex_flow": null,
            "grid_area": null,
            "grid_auto_columns": null,
            "grid_auto_flow": null,
            "grid_auto_rows": null,
            "grid_column": null,
            "grid_gap": null,
            "grid_row": null,
            "grid_template_areas": null,
            "grid_template_columns": null,
            "grid_template_rows": null,
            "height": null,
            "justify_content": null,
            "justify_items": null,
            "left": null,
            "margin": null,
            "max_height": null,
            "max_width": null,
            "min_height": null,
            "min_width": null,
            "object_fit": null,
            "object_position": null,
            "order": null,
            "overflow": null,
            "overflow_x": null,
            "overflow_y": null,
            "padding": null,
            "right": null,
            "top": null,
            "visibility": null,
            "width": null
          }
        },
        "d84b111d1e5e47aaaa9cca434f1b99d0": {
          "model_module": "@jupyter-widgets/controls",
          "model_name": "DescriptionStyleModel",
          "model_module_version": "1.5.0",
          "state": {
            "_model_module": "@jupyter-widgets/controls",
            "_model_module_version": "1.5.0",
            "_model_name": "DescriptionStyleModel",
            "_view_count": null,
            "_view_module": "@jupyter-widgets/base",
            "_view_module_version": "1.2.0",
            "_view_name": "StyleView",
            "description_width": ""
          }
        },
        "d5add70ad95d4620b6d3a0c0d8998dd0": {
          "model_module": "@jupyter-widgets/controls",
          "model_name": "HBoxModel",
          "model_module_version": "1.5.0",
          "state": {
            "_dom_classes": [],
            "_model_module": "@jupyter-widgets/controls",
            "_model_module_version": "1.5.0",
            "_model_name": "HBoxModel",
            "_view_count": null,
            "_view_module": "@jupyter-widgets/controls",
            "_view_module_version": "1.5.0",
            "_view_name": "HBoxView",
            "box_style": "",
            "children": [
              "IPY_MODEL_a550ef39f291482b935bd7597952a809",
              "IPY_MODEL_a5c68bba9de44301aa1aa73798c21122",
              "IPY_MODEL_df22a771ca864dde9e7ba500f421c864"
            ],
            "layout": "IPY_MODEL_2d33c35e8cc94c38905d9d31584f21af"
          }
        },
        "a550ef39f291482b935bd7597952a809": {
          "model_module": "@jupyter-widgets/controls",
          "model_name": "HTMLModel",
          "model_module_version": "1.5.0",
          "state": {
            "_dom_classes": [],
            "_model_module": "@jupyter-widgets/controls",
            "_model_module_version": "1.5.0",
            "_model_name": "HTMLModel",
            "_view_count": null,
            "_view_module": "@jupyter-widgets/controls",
            "_view_module_version": "1.5.0",
            "_view_name": "HTMLView",
            "description": "",
            "description_tooltip": null,
            "layout": "IPY_MODEL_c246147ea9da4c75b6007fc77e5ccc0b",
            "placeholder": "​",
            "style": "IPY_MODEL_57f66ea7ba0b406f845df74e0e743d6b",
            "value": "vocab.json: 100%"
          }
        },
        "a5c68bba9de44301aa1aa73798c21122": {
          "model_module": "@jupyter-widgets/controls",
          "model_name": "FloatProgressModel",
          "model_module_version": "1.5.0",
          "state": {
            "_dom_classes": [],
            "_model_module": "@jupyter-widgets/controls",
            "_model_module_version": "1.5.0",
            "_model_name": "FloatProgressModel",
            "_view_count": null,
            "_view_module": "@jupyter-widgets/controls",
            "_view_module_version": "1.5.0",
            "_view_name": "ProgressView",
            "bar_style": "success",
            "description": "",
            "description_tooltip": null,
            "layout": "IPY_MODEL_abcbe4bcd0c4445fa52b8366837741be",
            "max": 1042301,
            "min": 0,
            "orientation": "horizontal",
            "style": "IPY_MODEL_405dbdada7014291abc65401025d0673",
            "value": 1042301
          }
        },
        "df22a771ca864dde9e7ba500f421c864": {
          "model_module": "@jupyter-widgets/controls",
          "model_name": "HTMLModel",
          "model_module_version": "1.5.0",
          "state": {
            "_dom_classes": [],
            "_model_module": "@jupyter-widgets/controls",
            "_model_module_version": "1.5.0",
            "_model_name": "HTMLModel",
            "_view_count": null,
            "_view_module": "@jupyter-widgets/controls",
            "_view_module_version": "1.5.0",
            "_view_name": "HTMLView",
            "description": "",
            "description_tooltip": null,
            "layout": "IPY_MODEL_3b3142805ccb4511bf2b651a154721d9",
            "placeholder": "​",
            "style": "IPY_MODEL_66cc4e762e1142e3a6d14d23a384647f",
            "value": " 1.04M/1.04M [00:00&lt;00:00, 8.30MB/s]"
          }
        },
        "2d33c35e8cc94c38905d9d31584f21af": {
          "model_module": "@jupyter-widgets/base",
          "model_name": "LayoutModel",
          "model_module_version": "1.2.0",
          "state": {
            "_model_module": "@jupyter-widgets/base",
            "_model_module_version": "1.2.0",
            "_model_name": "LayoutModel",
            "_view_count": null,
            "_view_module": "@jupyter-widgets/base",
            "_view_module_version": "1.2.0",
            "_view_name": "LayoutView",
            "align_content": null,
            "align_items": null,
            "align_self": null,
            "border": null,
            "bottom": null,
            "display": null,
            "flex": null,
            "flex_flow": null,
            "grid_area": null,
            "grid_auto_columns": null,
            "grid_auto_flow": null,
            "grid_auto_rows": null,
            "grid_column": null,
            "grid_gap": null,
            "grid_row": null,
            "grid_template_areas": null,
            "grid_template_columns": null,
            "grid_template_rows": null,
            "height": null,
            "justify_content": null,
            "justify_items": null,
            "left": null,
            "margin": null,
            "max_height": null,
            "max_width": null,
            "min_height": null,
            "min_width": null,
            "object_fit": null,
            "object_position": null,
            "order": null,
            "overflow": null,
            "overflow_x": null,
            "overflow_y": null,
            "padding": null,
            "right": null,
            "top": null,
            "visibility": null,
            "width": null
          }
        },
        "c246147ea9da4c75b6007fc77e5ccc0b": {
          "model_module": "@jupyter-widgets/base",
          "model_name": "LayoutModel",
          "model_module_version": "1.2.0",
          "state": {
            "_model_module": "@jupyter-widgets/base",
            "_model_module_version": "1.2.0",
            "_model_name": "LayoutModel",
            "_view_count": null,
            "_view_module": "@jupyter-widgets/base",
            "_view_module_version": "1.2.0",
            "_view_name": "LayoutView",
            "align_content": null,
            "align_items": null,
            "align_self": null,
            "border": null,
            "bottom": null,
            "display": null,
            "flex": null,
            "flex_flow": null,
            "grid_area": null,
            "grid_auto_columns": null,
            "grid_auto_flow": null,
            "grid_auto_rows": null,
            "grid_column": null,
            "grid_gap": null,
            "grid_row": null,
            "grid_template_areas": null,
            "grid_template_columns": null,
            "grid_template_rows": null,
            "height": null,
            "justify_content": null,
            "justify_items": null,
            "left": null,
            "margin": null,
            "max_height": null,
            "max_width": null,
            "min_height": null,
            "min_width": null,
            "object_fit": null,
            "object_position": null,
            "order": null,
            "overflow": null,
            "overflow_x": null,
            "overflow_y": null,
            "padding": null,
            "right": null,
            "top": null,
            "visibility": null,
            "width": null
          }
        },
        "57f66ea7ba0b406f845df74e0e743d6b": {
          "model_module": "@jupyter-widgets/controls",
          "model_name": "DescriptionStyleModel",
          "model_module_version": "1.5.0",
          "state": {
            "_model_module": "@jupyter-widgets/controls",
            "_model_module_version": "1.5.0",
            "_model_name": "DescriptionStyleModel",
            "_view_count": null,
            "_view_module": "@jupyter-widgets/base",
            "_view_module_version": "1.2.0",
            "_view_name": "StyleView",
            "description_width": ""
          }
        },
        "abcbe4bcd0c4445fa52b8366837741be": {
          "model_module": "@jupyter-widgets/base",
          "model_name": "LayoutModel",
          "model_module_version": "1.2.0",
          "state": {
            "_model_module": "@jupyter-widgets/base",
            "_model_module_version": "1.2.0",
            "_model_name": "LayoutModel",
            "_view_count": null,
            "_view_module": "@jupyter-widgets/base",
            "_view_module_version": "1.2.0",
            "_view_name": "LayoutView",
            "align_content": null,
            "align_items": null,
            "align_self": null,
            "border": null,
            "bottom": null,
            "display": null,
            "flex": null,
            "flex_flow": null,
            "grid_area": null,
            "grid_auto_columns": null,
            "grid_auto_flow": null,
            "grid_auto_rows": null,
            "grid_column": null,
            "grid_gap": null,
            "grid_row": null,
            "grid_template_areas": null,
            "grid_template_columns": null,
            "grid_template_rows": null,
            "height": null,
            "justify_content": null,
            "justify_items": null,
            "left": null,
            "margin": null,
            "max_height": null,
            "max_width": null,
            "min_height": null,
            "min_width": null,
            "object_fit": null,
            "object_position": null,
            "order": null,
            "overflow": null,
            "overflow_x": null,
            "overflow_y": null,
            "padding": null,
            "right": null,
            "top": null,
            "visibility": null,
            "width": null
          }
        },
        "405dbdada7014291abc65401025d0673": {
          "model_module": "@jupyter-widgets/controls",
          "model_name": "ProgressStyleModel",
          "model_module_version": "1.5.0",
          "state": {
            "_model_module": "@jupyter-widgets/controls",
            "_model_module_version": "1.5.0",
            "_model_name": "ProgressStyleModel",
            "_view_count": null,
            "_view_module": "@jupyter-widgets/base",
            "_view_module_version": "1.2.0",
            "_view_name": "StyleView",
            "bar_color": null,
            "description_width": ""
          }
        },
        "3b3142805ccb4511bf2b651a154721d9": {
          "model_module": "@jupyter-widgets/base",
          "model_name": "LayoutModel",
          "model_module_version": "1.2.0",
          "state": {
            "_model_module": "@jupyter-widgets/base",
            "_model_module_version": "1.2.0",
            "_model_name": "LayoutModel",
            "_view_count": null,
            "_view_module": "@jupyter-widgets/base",
            "_view_module_version": "1.2.0",
            "_view_name": "LayoutView",
            "align_content": null,
            "align_items": null,
            "align_self": null,
            "border": null,
            "bottom": null,
            "display": null,
            "flex": null,
            "flex_flow": null,
            "grid_area": null,
            "grid_auto_columns": null,
            "grid_auto_flow": null,
            "grid_auto_rows": null,
            "grid_column": null,
            "grid_gap": null,
            "grid_row": null,
            "grid_template_areas": null,
            "grid_template_columns": null,
            "grid_template_rows": null,
            "height": null,
            "justify_content": null,
            "justify_items": null,
            "left": null,
            "margin": null,
            "max_height": null,
            "max_width": null,
            "min_height": null,
            "min_width": null,
            "object_fit": null,
            "object_position": null,
            "order": null,
            "overflow": null,
            "overflow_x": null,
            "overflow_y": null,
            "padding": null,
            "right": null,
            "top": null,
            "visibility": null,
            "width": null
          }
        },
        "66cc4e762e1142e3a6d14d23a384647f": {
          "model_module": "@jupyter-widgets/controls",
          "model_name": "DescriptionStyleModel",
          "model_module_version": "1.5.0",
          "state": {
            "_model_module": "@jupyter-widgets/controls",
            "_model_module_version": "1.5.0",
            "_model_name": "DescriptionStyleModel",
            "_view_count": null,
            "_view_module": "@jupyter-widgets/base",
            "_view_module_version": "1.2.0",
            "_view_name": "StyleView",
            "description_width": ""
          }
        },
        "6b34e992552548619ff7743ba1fa89f3": {
          "model_module": "@jupyter-widgets/controls",
          "model_name": "HBoxModel",
          "model_module_version": "1.5.0",
          "state": {
            "_dom_classes": [],
            "_model_module": "@jupyter-widgets/controls",
            "_model_module_version": "1.5.0",
            "_model_name": "HBoxModel",
            "_view_count": null,
            "_view_module": "@jupyter-widgets/controls",
            "_view_module_version": "1.5.0",
            "_view_name": "HBoxView",
            "box_style": "",
            "children": [
              "IPY_MODEL_2633a9e1c2a94ef9b66e81dbd312af43",
              "IPY_MODEL_96408b4b777a4d4f88ba7544d9740769",
              "IPY_MODEL_3ed9309b60874c9aaef6469fe1044c46"
            ],
            "layout": "IPY_MODEL_f8666ad6a3c04175baffa46cc22104db"
          }
        },
        "2633a9e1c2a94ef9b66e81dbd312af43": {
          "model_module": "@jupyter-widgets/controls",
          "model_name": "HTMLModel",
          "model_module_version": "1.5.0",
          "state": {
            "_dom_classes": [],
            "_model_module": "@jupyter-widgets/controls",
            "_model_module_version": "1.5.0",
            "_model_name": "HTMLModel",
            "_view_count": null,
            "_view_module": "@jupyter-widgets/controls",
            "_view_module_version": "1.5.0",
            "_view_name": "HTMLView",
            "description": "",
            "description_tooltip": null,
            "layout": "IPY_MODEL_e22586b7c8cc4683bbe4495a21713d50",
            "placeholder": "​",
            "style": "IPY_MODEL_b08c92445f5b4236bfebb7459528346a",
            "value": "merges.txt: 100%"
          }
        },
        "96408b4b777a4d4f88ba7544d9740769": {
          "model_module": "@jupyter-widgets/controls",
          "model_name": "FloatProgressModel",
          "model_module_version": "1.5.0",
          "state": {
            "_dom_classes": [],
            "_model_module": "@jupyter-widgets/controls",
            "_model_module_version": "1.5.0",
            "_model_name": "FloatProgressModel",
            "_view_count": null,
            "_view_module": "@jupyter-widgets/controls",
            "_view_module_version": "1.5.0",
            "_view_name": "ProgressView",
            "bar_style": "success",
            "description": "",
            "description_tooltip": null,
            "layout": "IPY_MODEL_cd26a0ca4aef4416ac89e8858ace91f9",
            "max": 456318,
            "min": 0,
            "orientation": "horizontal",
            "style": "IPY_MODEL_14eb665ade2548bd9ebc0ef5b2351c0a",
            "value": 456318
          }
        },
        "3ed9309b60874c9aaef6469fe1044c46": {
          "model_module": "@jupyter-widgets/controls",
          "model_name": "HTMLModel",
          "model_module_version": "1.5.0",
          "state": {
            "_dom_classes": [],
            "_model_module": "@jupyter-widgets/controls",
            "_model_module_version": "1.5.0",
            "_model_name": "HTMLModel",
            "_view_count": null,
            "_view_module": "@jupyter-widgets/controls",
            "_view_module_version": "1.5.0",
            "_view_name": "HTMLView",
            "description": "",
            "description_tooltip": null,
            "layout": "IPY_MODEL_ea86d2bdbddf435aae00c92da58768b1",
            "placeholder": "​",
            "style": "IPY_MODEL_ff0d00edfd5d4a3f9caefed757bf390e",
            "value": " 456k/456k [00:00&lt;00:00, 8.59MB/s]"
          }
        },
        "f8666ad6a3c04175baffa46cc22104db": {
          "model_module": "@jupyter-widgets/base",
          "model_name": "LayoutModel",
          "model_module_version": "1.2.0",
          "state": {
            "_model_module": "@jupyter-widgets/base",
            "_model_module_version": "1.2.0",
            "_model_name": "LayoutModel",
            "_view_count": null,
            "_view_module": "@jupyter-widgets/base",
            "_view_module_version": "1.2.0",
            "_view_name": "LayoutView",
            "align_content": null,
            "align_items": null,
            "align_self": null,
            "border": null,
            "bottom": null,
            "display": null,
            "flex": null,
            "flex_flow": null,
            "grid_area": null,
            "grid_auto_columns": null,
            "grid_auto_flow": null,
            "grid_auto_rows": null,
            "grid_column": null,
            "grid_gap": null,
            "grid_row": null,
            "grid_template_areas": null,
            "grid_template_columns": null,
            "grid_template_rows": null,
            "height": null,
            "justify_content": null,
            "justify_items": null,
            "left": null,
            "margin": null,
            "max_height": null,
            "max_width": null,
            "min_height": null,
            "min_width": null,
            "object_fit": null,
            "object_position": null,
            "order": null,
            "overflow": null,
            "overflow_x": null,
            "overflow_y": null,
            "padding": null,
            "right": null,
            "top": null,
            "visibility": null,
            "width": null
          }
        },
        "e22586b7c8cc4683bbe4495a21713d50": {
          "model_module": "@jupyter-widgets/base",
          "model_name": "LayoutModel",
          "model_module_version": "1.2.0",
          "state": {
            "_model_module": "@jupyter-widgets/base",
            "_model_module_version": "1.2.0",
            "_model_name": "LayoutModel",
            "_view_count": null,
            "_view_module": "@jupyter-widgets/base",
            "_view_module_version": "1.2.0",
            "_view_name": "LayoutView",
            "align_content": null,
            "align_items": null,
            "align_self": null,
            "border": null,
            "bottom": null,
            "display": null,
            "flex": null,
            "flex_flow": null,
            "grid_area": null,
            "grid_auto_columns": null,
            "grid_auto_flow": null,
            "grid_auto_rows": null,
            "grid_column": null,
            "grid_gap": null,
            "grid_row": null,
            "grid_template_areas": null,
            "grid_template_columns": null,
            "grid_template_rows": null,
            "height": null,
            "justify_content": null,
            "justify_items": null,
            "left": null,
            "margin": null,
            "max_height": null,
            "max_width": null,
            "min_height": null,
            "min_width": null,
            "object_fit": null,
            "object_position": null,
            "order": null,
            "overflow": null,
            "overflow_x": null,
            "overflow_y": null,
            "padding": null,
            "right": null,
            "top": null,
            "visibility": null,
            "width": null
          }
        },
        "b08c92445f5b4236bfebb7459528346a": {
          "model_module": "@jupyter-widgets/controls",
          "model_name": "DescriptionStyleModel",
          "model_module_version": "1.5.0",
          "state": {
            "_model_module": "@jupyter-widgets/controls",
            "_model_module_version": "1.5.0",
            "_model_name": "DescriptionStyleModel",
            "_view_count": null,
            "_view_module": "@jupyter-widgets/base",
            "_view_module_version": "1.2.0",
            "_view_name": "StyleView",
            "description_width": ""
          }
        },
        "cd26a0ca4aef4416ac89e8858ace91f9": {
          "model_module": "@jupyter-widgets/base",
          "model_name": "LayoutModel",
          "model_module_version": "1.2.0",
          "state": {
            "_model_module": "@jupyter-widgets/base",
            "_model_module_version": "1.2.0",
            "_model_name": "LayoutModel",
            "_view_count": null,
            "_view_module": "@jupyter-widgets/base",
            "_view_module_version": "1.2.0",
            "_view_name": "LayoutView",
            "align_content": null,
            "align_items": null,
            "align_self": null,
            "border": null,
            "bottom": null,
            "display": null,
            "flex": null,
            "flex_flow": null,
            "grid_area": null,
            "grid_auto_columns": null,
            "grid_auto_flow": null,
            "grid_auto_rows": null,
            "grid_column": null,
            "grid_gap": null,
            "grid_row": null,
            "grid_template_areas": null,
            "grid_template_columns": null,
            "grid_template_rows": null,
            "height": null,
            "justify_content": null,
            "justify_items": null,
            "left": null,
            "margin": null,
            "max_height": null,
            "max_width": null,
            "min_height": null,
            "min_width": null,
            "object_fit": null,
            "object_position": null,
            "order": null,
            "overflow": null,
            "overflow_x": null,
            "overflow_y": null,
            "padding": null,
            "right": null,
            "top": null,
            "visibility": null,
            "width": null
          }
        },
        "14eb665ade2548bd9ebc0ef5b2351c0a": {
          "model_module": "@jupyter-widgets/controls",
          "model_name": "ProgressStyleModel",
          "model_module_version": "1.5.0",
          "state": {
            "_model_module": "@jupyter-widgets/controls",
            "_model_module_version": "1.5.0",
            "_model_name": "ProgressStyleModel",
            "_view_count": null,
            "_view_module": "@jupyter-widgets/base",
            "_view_module_version": "1.2.0",
            "_view_name": "StyleView",
            "bar_color": null,
            "description_width": ""
          }
        },
        "ea86d2bdbddf435aae00c92da58768b1": {
          "model_module": "@jupyter-widgets/base",
          "model_name": "LayoutModel",
          "model_module_version": "1.2.0",
          "state": {
            "_model_module": "@jupyter-widgets/base",
            "_model_module_version": "1.2.0",
            "_model_name": "LayoutModel",
            "_view_count": null,
            "_view_module": "@jupyter-widgets/base",
            "_view_module_version": "1.2.0",
            "_view_name": "LayoutView",
            "align_content": null,
            "align_items": null,
            "align_self": null,
            "border": null,
            "bottom": null,
            "display": null,
            "flex": null,
            "flex_flow": null,
            "grid_area": null,
            "grid_auto_columns": null,
            "grid_auto_flow": null,
            "grid_auto_rows": null,
            "grid_column": null,
            "grid_gap": null,
            "grid_row": null,
            "grid_template_areas": null,
            "grid_template_columns": null,
            "grid_template_rows": null,
            "height": null,
            "justify_content": null,
            "justify_items": null,
            "left": null,
            "margin": null,
            "max_height": null,
            "max_width": null,
            "min_height": null,
            "min_width": null,
            "object_fit": null,
            "object_position": null,
            "order": null,
            "overflow": null,
            "overflow_x": null,
            "overflow_y": null,
            "padding": null,
            "right": null,
            "top": null,
            "visibility": null,
            "width": null
          }
        },
        "ff0d00edfd5d4a3f9caefed757bf390e": {
          "model_module": "@jupyter-widgets/controls",
          "model_name": "DescriptionStyleModel",
          "model_module_version": "1.5.0",
          "state": {
            "_model_module": "@jupyter-widgets/controls",
            "_model_module_version": "1.5.0",
            "_model_name": "DescriptionStyleModel",
            "_view_count": null,
            "_view_module": "@jupyter-widgets/base",
            "_view_module_version": "1.2.0",
            "_view_name": "StyleView",
            "description_width": ""
          }
        },
        "51ad04599f6341a4b615d68d9139bba5": {
          "model_module": "@jupyter-widgets/controls",
          "model_name": "HBoxModel",
          "model_module_version": "1.5.0",
          "state": {
            "_dom_classes": [],
            "_model_module": "@jupyter-widgets/controls",
            "_model_module_version": "1.5.0",
            "_model_name": "HBoxModel",
            "_view_count": null,
            "_view_module": "@jupyter-widgets/controls",
            "_view_module_version": "1.5.0",
            "_view_name": "HBoxView",
            "box_style": "",
            "children": [
              "IPY_MODEL_80ba72988b2c47b5ad266d69038d6725",
              "IPY_MODEL_1ab97f43926b4b52ba72d4b951515993",
              "IPY_MODEL_0c045288ab104bc0a6a7a64da0d3bd7e"
            ],
            "layout": "IPY_MODEL_cc127823076b4e6b95e6a0e11c314104"
          }
        },
        "80ba72988b2c47b5ad266d69038d6725": {
          "model_module": "@jupyter-widgets/controls",
          "model_name": "HTMLModel",
          "model_module_version": "1.5.0",
          "state": {
            "_dom_classes": [],
            "_model_module": "@jupyter-widgets/controls",
            "_model_module_version": "1.5.0",
            "_model_name": "HTMLModel",
            "_view_count": null,
            "_view_module": "@jupyter-widgets/controls",
            "_view_module_version": "1.5.0",
            "_view_name": "HTMLView",
            "description": "",
            "description_tooltip": null,
            "layout": "IPY_MODEL_12db2c3fc3204b34be5b5d5dc1602e79",
            "placeholder": "​",
            "style": "IPY_MODEL_0deb34bff2804845a826938218af64e9",
            "value": "tokenizer.json: 100%"
          }
        },
        "1ab97f43926b4b52ba72d4b951515993": {
          "model_module": "@jupyter-widgets/controls",
          "model_name": "FloatProgressModel",
          "model_module_version": "1.5.0",
          "state": {
            "_dom_classes": [],
            "_model_module": "@jupyter-widgets/controls",
            "_model_module_version": "1.5.0",
            "_model_name": "FloatProgressModel",
            "_view_count": null,
            "_view_module": "@jupyter-widgets/controls",
            "_view_module_version": "1.5.0",
            "_view_name": "ProgressView",
            "bar_style": "success",
            "description": "",
            "description_tooltip": null,
            "layout": "IPY_MODEL_24603223ea6c4e0fb6f5b654b94da8d5",
            "max": 1355256,
            "min": 0,
            "orientation": "horizontal",
            "style": "IPY_MODEL_1b2f44e0694f4cbfa301b5300babf55e",
            "value": 1355256
          }
        },
        "0c045288ab104bc0a6a7a64da0d3bd7e": {
          "model_module": "@jupyter-widgets/controls",
          "model_name": "HTMLModel",
          "model_module_version": "1.5.0",
          "state": {
            "_dom_classes": [],
            "_model_module": "@jupyter-widgets/controls",
            "_model_module_version": "1.5.0",
            "_model_name": "HTMLModel",
            "_view_count": null,
            "_view_module": "@jupyter-widgets/controls",
            "_view_module_version": "1.5.0",
            "_view_name": "HTMLView",
            "description": "",
            "description_tooltip": null,
            "layout": "IPY_MODEL_6c843112884347209ec73838a293e8e5",
            "placeholder": "​",
            "style": "IPY_MODEL_2fed5d3be2cd4e19925ad86b3a5cb010",
            "value": " 1.36M/1.36M [00:00&lt;00:00, 16.8MB/s]"
          }
        },
        "cc127823076b4e6b95e6a0e11c314104": {
          "model_module": "@jupyter-widgets/base",
          "model_name": "LayoutModel",
          "model_module_version": "1.2.0",
          "state": {
            "_model_module": "@jupyter-widgets/base",
            "_model_module_version": "1.2.0",
            "_model_name": "LayoutModel",
            "_view_count": null,
            "_view_module": "@jupyter-widgets/base",
            "_view_module_version": "1.2.0",
            "_view_name": "LayoutView",
            "align_content": null,
            "align_items": null,
            "align_self": null,
            "border": null,
            "bottom": null,
            "display": null,
            "flex": null,
            "flex_flow": null,
            "grid_area": null,
            "grid_auto_columns": null,
            "grid_auto_flow": null,
            "grid_auto_rows": null,
            "grid_column": null,
            "grid_gap": null,
            "grid_row": null,
            "grid_template_areas": null,
            "grid_template_columns": null,
            "grid_template_rows": null,
            "height": null,
            "justify_content": null,
            "justify_items": null,
            "left": null,
            "margin": null,
            "max_height": null,
            "max_width": null,
            "min_height": null,
            "min_width": null,
            "object_fit": null,
            "object_position": null,
            "order": null,
            "overflow": null,
            "overflow_x": null,
            "overflow_y": null,
            "padding": null,
            "right": null,
            "top": null,
            "visibility": null,
            "width": null
          }
        },
        "12db2c3fc3204b34be5b5d5dc1602e79": {
          "model_module": "@jupyter-widgets/base",
          "model_name": "LayoutModel",
          "model_module_version": "1.2.0",
          "state": {
            "_model_module": "@jupyter-widgets/base",
            "_model_module_version": "1.2.0",
            "_model_name": "LayoutModel",
            "_view_count": null,
            "_view_module": "@jupyter-widgets/base",
            "_view_module_version": "1.2.0",
            "_view_name": "LayoutView",
            "align_content": null,
            "align_items": null,
            "align_self": null,
            "border": null,
            "bottom": null,
            "display": null,
            "flex": null,
            "flex_flow": null,
            "grid_area": null,
            "grid_auto_columns": null,
            "grid_auto_flow": null,
            "grid_auto_rows": null,
            "grid_column": null,
            "grid_gap": null,
            "grid_row": null,
            "grid_template_areas": null,
            "grid_template_columns": null,
            "grid_template_rows": null,
            "height": null,
            "justify_content": null,
            "justify_items": null,
            "left": null,
            "margin": null,
            "max_height": null,
            "max_width": null,
            "min_height": null,
            "min_width": null,
            "object_fit": null,
            "object_position": null,
            "order": null,
            "overflow": null,
            "overflow_x": null,
            "overflow_y": null,
            "padding": null,
            "right": null,
            "top": null,
            "visibility": null,
            "width": null
          }
        },
        "0deb34bff2804845a826938218af64e9": {
          "model_module": "@jupyter-widgets/controls",
          "model_name": "DescriptionStyleModel",
          "model_module_version": "1.5.0",
          "state": {
            "_model_module": "@jupyter-widgets/controls",
            "_model_module_version": "1.5.0",
            "_model_name": "DescriptionStyleModel",
            "_view_count": null,
            "_view_module": "@jupyter-widgets/base",
            "_view_module_version": "1.2.0",
            "_view_name": "StyleView",
            "description_width": ""
          }
        },
        "24603223ea6c4e0fb6f5b654b94da8d5": {
          "model_module": "@jupyter-widgets/base",
          "model_name": "LayoutModel",
          "model_module_version": "1.2.0",
          "state": {
            "_model_module": "@jupyter-widgets/base",
            "_model_module_version": "1.2.0",
            "_model_name": "LayoutModel",
            "_view_count": null,
            "_view_module": "@jupyter-widgets/base",
            "_view_module_version": "1.2.0",
            "_view_name": "LayoutView",
            "align_content": null,
            "align_items": null,
            "align_self": null,
            "border": null,
            "bottom": null,
            "display": null,
            "flex": null,
            "flex_flow": null,
            "grid_area": null,
            "grid_auto_columns": null,
            "grid_auto_flow": null,
            "grid_auto_rows": null,
            "grid_column": null,
            "grid_gap": null,
            "grid_row": null,
            "grid_template_areas": null,
            "grid_template_columns": null,
            "grid_template_rows": null,
            "height": null,
            "justify_content": null,
            "justify_items": null,
            "left": null,
            "margin": null,
            "max_height": null,
            "max_width": null,
            "min_height": null,
            "min_width": null,
            "object_fit": null,
            "object_position": null,
            "order": null,
            "overflow": null,
            "overflow_x": null,
            "overflow_y": null,
            "padding": null,
            "right": null,
            "top": null,
            "visibility": null,
            "width": null
          }
        },
        "1b2f44e0694f4cbfa301b5300babf55e": {
          "model_module": "@jupyter-widgets/controls",
          "model_name": "ProgressStyleModel",
          "model_module_version": "1.5.0",
          "state": {
            "_model_module": "@jupyter-widgets/controls",
            "_model_module_version": "1.5.0",
            "_model_name": "ProgressStyleModel",
            "_view_count": null,
            "_view_module": "@jupyter-widgets/base",
            "_view_module_version": "1.2.0",
            "_view_name": "StyleView",
            "bar_color": null,
            "description_width": ""
          }
        },
        "6c843112884347209ec73838a293e8e5": {
          "model_module": "@jupyter-widgets/base",
          "model_name": "LayoutModel",
          "model_module_version": "1.2.0",
          "state": {
            "_model_module": "@jupyter-widgets/base",
            "_model_module_version": "1.2.0",
            "_model_name": "LayoutModel",
            "_view_count": null,
            "_view_module": "@jupyter-widgets/base",
            "_view_module_version": "1.2.0",
            "_view_name": "LayoutView",
            "align_content": null,
            "align_items": null,
            "align_self": null,
            "border": null,
            "bottom": null,
            "display": null,
            "flex": null,
            "flex_flow": null,
            "grid_area": null,
            "grid_auto_columns": null,
            "grid_auto_flow": null,
            "grid_auto_rows": null,
            "grid_column": null,
            "grid_gap": null,
            "grid_row": null,
            "grid_template_areas": null,
            "grid_template_columns": null,
            "grid_template_rows": null,
            "height": null,
            "justify_content": null,
            "justify_items": null,
            "left": null,
            "margin": null,
            "max_height": null,
            "max_width": null,
            "min_height": null,
            "min_width": null,
            "object_fit": null,
            "object_position": null,
            "order": null,
            "overflow": null,
            "overflow_x": null,
            "overflow_y": null,
            "padding": null,
            "right": null,
            "top": null,
            "visibility": null,
            "width": null
          }
        },
        "2fed5d3be2cd4e19925ad86b3a5cb010": {
          "model_module": "@jupyter-widgets/controls",
          "model_name": "DescriptionStyleModel",
          "model_module_version": "1.5.0",
          "state": {
            "_model_module": "@jupyter-widgets/controls",
            "_model_module_version": "1.5.0",
            "_model_name": "DescriptionStyleModel",
            "_view_count": null,
            "_view_module": "@jupyter-widgets/base",
            "_view_module_version": "1.2.0",
            "_view_name": "StyleView",
            "description_width": ""
          }
        },
        "ce8216fb5eea42499277e55356b471be": {
          "model_module": "@jupyter-widgets/controls",
          "model_name": "HBoxModel",
          "model_module_version": "1.5.0",
          "state": {
            "_dom_classes": [],
            "_model_module": "@jupyter-widgets/controls",
            "_model_module_version": "1.5.0",
            "_model_name": "HBoxModel",
            "_view_count": null,
            "_view_module": "@jupyter-widgets/controls",
            "_view_module_version": "1.5.0",
            "_view_name": "HBoxView",
            "box_style": "",
            "children": [
              "IPY_MODEL_019dc0bdea734461ba87ed83f4ba02e6",
              "IPY_MODEL_c948d159bbaa473c8978356e4e057648",
              "IPY_MODEL_05101df294da4dff9c5c163fe271f899"
            ],
            "layout": "IPY_MODEL_c42b49a3191348be81fc44ce2a21dae3"
          }
        },
        "019dc0bdea734461ba87ed83f4ba02e6": {
          "model_module": "@jupyter-widgets/controls",
          "model_name": "HTMLModel",
          "model_module_version": "1.5.0",
          "state": {
            "_dom_classes": [],
            "_model_module": "@jupyter-widgets/controls",
            "_model_module_version": "1.5.0",
            "_model_name": "HTMLModel",
            "_view_count": null,
            "_view_module": "@jupyter-widgets/controls",
            "_view_module_version": "1.5.0",
            "_view_name": "HTMLView",
            "description": "",
            "description_tooltip": null,
            "layout": "IPY_MODEL_0962a5c1cb0b49c6bb3bc065c0ccf7a7",
            "placeholder": "​",
            "style": "IPY_MODEL_b2c1426301644f19b88476620ea94759",
            "value": "model.safetensors: 100%"
          }
        },
        "c948d159bbaa473c8978356e4e057648": {
          "model_module": "@jupyter-widgets/controls",
          "model_name": "FloatProgressModel",
          "model_module_version": "1.5.0",
          "state": {
            "_dom_classes": [],
            "_model_module": "@jupyter-widgets/controls",
            "_model_module_version": "1.5.0",
            "_model_name": "FloatProgressModel",
            "_view_count": null,
            "_view_module": "@jupyter-widgets/controls",
            "_view_module_version": "1.5.0",
            "_view_name": "ProgressView",
            "bar_style": "success",
            "description": "",
            "description_tooltip": null,
            "layout": "IPY_MODEL_9c7d8e51a80a49b1bc3ff38645dc6768",
            "max": 352824413,
            "min": 0,
            "orientation": "horizontal",
            "style": "IPY_MODEL_661799833f584894b3940fa389d497d0",
            "value": 352824413
          }
        },
        "05101df294da4dff9c5c163fe271f899": {
          "model_module": "@jupyter-widgets/controls",
          "model_name": "HTMLModel",
          "model_module_version": "1.5.0",
          "state": {
            "_dom_classes": [],
            "_model_module": "@jupyter-widgets/controls",
            "_model_module_version": "1.5.0",
            "_model_name": "HTMLModel",
            "_view_count": null,
            "_view_module": "@jupyter-widgets/controls",
            "_view_module_version": "1.5.0",
            "_view_name": "HTMLView",
            "description": "",
            "description_tooltip": null,
            "layout": "IPY_MODEL_2c17e744f47d4e6d83614856f4b45121",
            "placeholder": "​",
            "style": "IPY_MODEL_c413193af2ff40db9a54f9357ece2a27",
            "value": " 353M/353M [00:05&lt;00:00, 23.9MB/s]"
          }
        },
        "c42b49a3191348be81fc44ce2a21dae3": {
          "model_module": "@jupyter-widgets/base",
          "model_name": "LayoutModel",
          "model_module_version": "1.2.0",
          "state": {
            "_model_module": "@jupyter-widgets/base",
            "_model_module_version": "1.2.0",
            "_model_name": "LayoutModel",
            "_view_count": null,
            "_view_module": "@jupyter-widgets/base",
            "_view_module_version": "1.2.0",
            "_view_name": "LayoutView",
            "align_content": null,
            "align_items": null,
            "align_self": null,
            "border": null,
            "bottom": null,
            "display": null,
            "flex": null,
            "flex_flow": null,
            "grid_area": null,
            "grid_auto_columns": null,
            "grid_auto_flow": null,
            "grid_auto_rows": null,
            "grid_column": null,
            "grid_gap": null,
            "grid_row": null,
            "grid_template_areas": null,
            "grid_template_columns": null,
            "grid_template_rows": null,
            "height": null,
            "justify_content": null,
            "justify_items": null,
            "left": null,
            "margin": null,
            "max_height": null,
            "max_width": null,
            "min_height": null,
            "min_width": null,
            "object_fit": null,
            "object_position": null,
            "order": null,
            "overflow": null,
            "overflow_x": null,
            "overflow_y": null,
            "padding": null,
            "right": null,
            "top": null,
            "visibility": null,
            "width": null
          }
        },
        "0962a5c1cb0b49c6bb3bc065c0ccf7a7": {
          "model_module": "@jupyter-widgets/base",
          "model_name": "LayoutModel",
          "model_module_version": "1.2.0",
          "state": {
            "_model_module": "@jupyter-widgets/base",
            "_model_module_version": "1.2.0",
            "_model_name": "LayoutModel",
            "_view_count": null,
            "_view_module": "@jupyter-widgets/base",
            "_view_module_version": "1.2.0",
            "_view_name": "LayoutView",
            "align_content": null,
            "align_items": null,
            "align_self": null,
            "border": null,
            "bottom": null,
            "display": null,
            "flex": null,
            "flex_flow": null,
            "grid_area": null,
            "grid_auto_columns": null,
            "grid_auto_flow": null,
            "grid_auto_rows": null,
            "grid_column": null,
            "grid_gap": null,
            "grid_row": null,
            "grid_template_areas": null,
            "grid_template_columns": null,
            "grid_template_rows": null,
            "height": null,
            "justify_content": null,
            "justify_items": null,
            "left": null,
            "margin": null,
            "max_height": null,
            "max_width": null,
            "min_height": null,
            "min_width": null,
            "object_fit": null,
            "object_position": null,
            "order": null,
            "overflow": null,
            "overflow_x": null,
            "overflow_y": null,
            "padding": null,
            "right": null,
            "top": null,
            "visibility": null,
            "width": null
          }
        },
        "b2c1426301644f19b88476620ea94759": {
          "model_module": "@jupyter-widgets/controls",
          "model_name": "DescriptionStyleModel",
          "model_module_version": "1.5.0",
          "state": {
            "_model_module": "@jupyter-widgets/controls",
            "_model_module_version": "1.5.0",
            "_model_name": "DescriptionStyleModel",
            "_view_count": null,
            "_view_module": "@jupyter-widgets/base",
            "_view_module_version": "1.2.0",
            "_view_name": "StyleView",
            "description_width": ""
          }
        },
        "9c7d8e51a80a49b1bc3ff38645dc6768": {
          "model_module": "@jupyter-widgets/base",
          "model_name": "LayoutModel",
          "model_module_version": "1.2.0",
          "state": {
            "_model_module": "@jupyter-widgets/base",
            "_model_module_version": "1.2.0",
            "_model_name": "LayoutModel",
            "_view_count": null,
            "_view_module": "@jupyter-widgets/base",
            "_view_module_version": "1.2.0",
            "_view_name": "LayoutView",
            "align_content": null,
            "align_items": null,
            "align_self": null,
            "border": null,
            "bottom": null,
            "display": null,
            "flex": null,
            "flex_flow": null,
            "grid_area": null,
            "grid_auto_columns": null,
            "grid_auto_flow": null,
            "grid_auto_rows": null,
            "grid_column": null,
            "grid_gap": null,
            "grid_row": null,
            "grid_template_areas": null,
            "grid_template_columns": null,
            "grid_template_rows": null,
            "height": null,
            "justify_content": null,
            "justify_items": null,
            "left": null,
            "margin": null,
            "max_height": null,
            "max_width": null,
            "min_height": null,
            "min_width": null,
            "object_fit": null,
            "object_position": null,
            "order": null,
            "overflow": null,
            "overflow_x": null,
            "overflow_y": null,
            "padding": null,
            "right": null,
            "top": null,
            "visibility": null,
            "width": null
          }
        },
        "661799833f584894b3940fa389d497d0": {
          "model_module": "@jupyter-widgets/controls",
          "model_name": "ProgressStyleModel",
          "model_module_version": "1.5.0",
          "state": {
            "_model_module": "@jupyter-widgets/controls",
            "_model_module_version": "1.5.0",
            "_model_name": "ProgressStyleModel",
            "_view_count": null,
            "_view_module": "@jupyter-widgets/base",
            "_view_module_version": "1.2.0",
            "_view_name": "StyleView",
            "bar_color": null,
            "description_width": ""
          }
        },
        "2c17e744f47d4e6d83614856f4b45121": {
          "model_module": "@jupyter-widgets/base",
          "model_name": "LayoutModel",
          "model_module_version": "1.2.0",
          "state": {
            "_model_module": "@jupyter-widgets/base",
            "_model_module_version": "1.2.0",
            "_model_name": "LayoutModel",
            "_view_count": null,
            "_view_module": "@jupyter-widgets/base",
            "_view_module_version": "1.2.0",
            "_view_name": "LayoutView",
            "align_content": null,
            "align_items": null,
            "align_self": null,
            "border": null,
            "bottom": null,
            "display": null,
            "flex": null,
            "flex_flow": null,
            "grid_area": null,
            "grid_auto_columns": null,
            "grid_auto_flow": null,
            "grid_auto_rows": null,
            "grid_column": null,
            "grid_gap": null,
            "grid_row": null,
            "grid_template_areas": null,
            "grid_template_columns": null,
            "grid_template_rows": null,
            "height": null,
            "justify_content": null,
            "justify_items": null,
            "left": null,
            "margin": null,
            "max_height": null,
            "max_width": null,
            "min_height": null,
            "min_width": null,
            "object_fit": null,
            "object_position": null,
            "order": null,
            "overflow": null,
            "overflow_x": null,
            "overflow_y": null,
            "padding": null,
            "right": null,
            "top": null,
            "visibility": null,
            "width": null
          }
        },
        "c413193af2ff40db9a54f9357ece2a27": {
          "model_module": "@jupyter-widgets/controls",
          "model_name": "DescriptionStyleModel",
          "model_module_version": "1.5.0",
          "state": {
            "_model_module": "@jupyter-widgets/controls",
            "_model_module_version": "1.5.0",
            "_model_name": "DescriptionStyleModel",
            "_view_count": null,
            "_view_module": "@jupyter-widgets/base",
            "_view_module_version": "1.2.0",
            "_view_name": "StyleView",
            "description_width": ""
          }
        },
        "29d5673fb70e4084a3fd4efa4610149d": {
          "model_module": "@jupyter-widgets/controls",
          "model_name": "HBoxModel",
          "model_module_version": "1.5.0",
          "state": {
            "_dom_classes": [],
            "_model_module": "@jupyter-widgets/controls",
            "_model_module_version": "1.5.0",
            "_model_name": "HBoxModel",
            "_view_count": null,
            "_view_module": "@jupyter-widgets/controls",
            "_view_module_version": "1.5.0",
            "_view_name": "HBoxView",
            "box_style": "",
            "children": [
              "IPY_MODEL_d56e036fd0a949668adca5b4ee4856b2",
              "IPY_MODEL_447f18046d5248a2ae93edbb98fdd867",
              "IPY_MODEL_b55e456abb9347dabdba0e34bc99e201"
            ],
            "layout": "IPY_MODEL_538cbbe4a71544b0bb9bbd37c652e3e5"
          }
        },
        "d56e036fd0a949668adca5b4ee4856b2": {
          "model_module": "@jupyter-widgets/controls",
          "model_name": "HTMLModel",
          "model_module_version": "1.5.0",
          "state": {
            "_dom_classes": [],
            "_model_module": "@jupyter-widgets/controls",
            "_model_module_version": "1.5.0",
            "_model_name": "HTMLModel",
            "_view_count": null,
            "_view_module": "@jupyter-widgets/controls",
            "_view_module_version": "1.5.0",
            "_view_name": "HTMLView",
            "description": "",
            "description_tooltip": null,
            "layout": "IPY_MODEL_923f133d566e40b3bdae2328fdb1df7b",
            "placeholder": "​",
            "style": "IPY_MODEL_8c1e7310c43b4e329d78ae8c29c1f391",
            "value": "config.json: 100%"
          }
        },
        "447f18046d5248a2ae93edbb98fdd867": {
          "model_module": "@jupyter-widgets/controls",
          "model_name": "FloatProgressModel",
          "model_module_version": "1.5.0",
          "state": {
            "_dom_classes": [],
            "_model_module": "@jupyter-widgets/controls",
            "_model_module_version": "1.5.0",
            "_model_name": "FloatProgressModel",
            "_view_count": null,
            "_view_module": "@jupyter-widgets/controls",
            "_view_module_version": "1.5.0",
            "_view_name": "ProgressView",
            "bar_style": "success",
            "description": "",
            "description_tooltip": null,
            "layout": "IPY_MODEL_482861b297a84f859a3d6ec7b29059ca",
            "max": 998,
            "min": 0,
            "orientation": "horizontal",
            "style": "IPY_MODEL_0a5ebe8533054bebb1aea7aaf7c840e6",
            "value": 998
          }
        },
        "b55e456abb9347dabdba0e34bc99e201": {
          "model_module": "@jupyter-widgets/controls",
          "model_name": "HTMLModel",
          "model_module_version": "1.5.0",
          "state": {
            "_dom_classes": [],
            "_model_module": "@jupyter-widgets/controls",
            "_model_module_version": "1.5.0",
            "_model_name": "HTMLModel",
            "_view_count": null,
            "_view_module": "@jupyter-widgets/controls",
            "_view_module_version": "1.5.0",
            "_view_name": "HTMLView",
            "description": "",
            "description_tooltip": null,
            "layout": "IPY_MODEL_e605509ce1784150849dc90c4d1a78e3",
            "placeholder": "​",
            "style": "IPY_MODEL_0a2bae765e394dbd9902da9bbe251c7c",
            "value": " 998/998 [00:00&lt;00:00, 65.9kB/s]"
          }
        },
        "538cbbe4a71544b0bb9bbd37c652e3e5": {
          "model_module": "@jupyter-widgets/base",
          "model_name": "LayoutModel",
          "model_module_version": "1.2.0",
          "state": {
            "_model_module": "@jupyter-widgets/base",
            "_model_module_version": "1.2.0",
            "_model_name": "LayoutModel",
            "_view_count": null,
            "_view_module": "@jupyter-widgets/base",
            "_view_module_version": "1.2.0",
            "_view_name": "LayoutView",
            "align_content": null,
            "align_items": null,
            "align_self": null,
            "border": null,
            "bottom": null,
            "display": null,
            "flex": null,
            "flex_flow": null,
            "grid_area": null,
            "grid_auto_columns": null,
            "grid_auto_flow": null,
            "grid_auto_rows": null,
            "grid_column": null,
            "grid_gap": null,
            "grid_row": null,
            "grid_template_areas": null,
            "grid_template_columns": null,
            "grid_template_rows": null,
            "height": null,
            "justify_content": null,
            "justify_items": null,
            "left": null,
            "margin": null,
            "max_height": null,
            "max_width": null,
            "min_height": null,
            "min_width": null,
            "object_fit": null,
            "object_position": null,
            "order": null,
            "overflow": null,
            "overflow_x": null,
            "overflow_y": null,
            "padding": null,
            "right": null,
            "top": null,
            "visibility": null,
            "width": null
          }
        },
        "923f133d566e40b3bdae2328fdb1df7b": {
          "model_module": "@jupyter-widgets/base",
          "model_name": "LayoutModel",
          "model_module_version": "1.2.0",
          "state": {
            "_model_module": "@jupyter-widgets/base",
            "_model_module_version": "1.2.0",
            "_model_name": "LayoutModel",
            "_view_count": null,
            "_view_module": "@jupyter-widgets/base",
            "_view_module_version": "1.2.0",
            "_view_name": "LayoutView",
            "align_content": null,
            "align_items": null,
            "align_self": null,
            "border": null,
            "bottom": null,
            "display": null,
            "flex": null,
            "flex_flow": null,
            "grid_area": null,
            "grid_auto_columns": null,
            "grid_auto_flow": null,
            "grid_auto_rows": null,
            "grid_column": null,
            "grid_gap": null,
            "grid_row": null,
            "grid_template_areas": null,
            "grid_template_columns": null,
            "grid_template_rows": null,
            "height": null,
            "justify_content": null,
            "justify_items": null,
            "left": null,
            "margin": null,
            "max_height": null,
            "max_width": null,
            "min_height": null,
            "min_width": null,
            "object_fit": null,
            "object_position": null,
            "order": null,
            "overflow": null,
            "overflow_x": null,
            "overflow_y": null,
            "padding": null,
            "right": null,
            "top": null,
            "visibility": null,
            "width": null
          }
        },
        "8c1e7310c43b4e329d78ae8c29c1f391": {
          "model_module": "@jupyter-widgets/controls",
          "model_name": "DescriptionStyleModel",
          "model_module_version": "1.5.0",
          "state": {
            "_model_module": "@jupyter-widgets/controls",
            "_model_module_version": "1.5.0",
            "_model_name": "DescriptionStyleModel",
            "_view_count": null,
            "_view_module": "@jupyter-widgets/base",
            "_view_module_version": "1.2.0",
            "_view_name": "StyleView",
            "description_width": ""
          }
        },
        "482861b297a84f859a3d6ec7b29059ca": {
          "model_module": "@jupyter-widgets/base",
          "model_name": "LayoutModel",
          "model_module_version": "1.2.0",
          "state": {
            "_model_module": "@jupyter-widgets/base",
            "_model_module_version": "1.2.0",
            "_model_name": "LayoutModel",
            "_view_count": null,
            "_view_module": "@jupyter-widgets/base",
            "_view_module_version": "1.2.0",
            "_view_name": "LayoutView",
            "align_content": null,
            "align_items": null,
            "align_self": null,
            "border": null,
            "bottom": null,
            "display": null,
            "flex": null,
            "flex_flow": null,
            "grid_area": null,
            "grid_auto_columns": null,
            "grid_auto_flow": null,
            "grid_auto_rows": null,
            "grid_column": null,
            "grid_gap": null,
            "grid_row": null,
            "grid_template_areas": null,
            "grid_template_columns": null,
            "grid_template_rows": null,
            "height": null,
            "justify_content": null,
            "justify_items": null,
            "left": null,
            "margin": null,
            "max_height": null,
            "max_width": null,
            "min_height": null,
            "min_width": null,
            "object_fit": null,
            "object_position": null,
            "order": null,
            "overflow": null,
            "overflow_x": null,
            "overflow_y": null,
            "padding": null,
            "right": null,
            "top": null,
            "visibility": null,
            "width": null
          }
        },
        "0a5ebe8533054bebb1aea7aaf7c840e6": {
          "model_module": "@jupyter-widgets/controls",
          "model_name": "ProgressStyleModel",
          "model_module_version": "1.5.0",
          "state": {
            "_model_module": "@jupyter-widgets/controls",
            "_model_module_version": "1.5.0",
            "_model_name": "ProgressStyleModel",
            "_view_count": null,
            "_view_module": "@jupyter-widgets/base",
            "_view_module_version": "1.2.0",
            "_view_name": "StyleView",
            "bar_color": null,
            "description_width": ""
          }
        },
        "e605509ce1784150849dc90c4d1a78e3": {
          "model_module": "@jupyter-widgets/base",
          "model_name": "LayoutModel",
          "model_module_version": "1.2.0",
          "state": {
            "_model_module": "@jupyter-widgets/base",
            "_model_module_version": "1.2.0",
            "_model_name": "LayoutModel",
            "_view_count": null,
            "_view_module": "@jupyter-widgets/base",
            "_view_module_version": "1.2.0",
            "_view_name": "LayoutView",
            "align_content": null,
            "align_items": null,
            "align_self": null,
            "border": null,
            "bottom": null,
            "display": null,
            "flex": null,
            "flex_flow": null,
            "grid_area": null,
            "grid_auto_columns": null,
            "grid_auto_flow": null,
            "grid_auto_rows": null,
            "grid_column": null,
            "grid_gap": null,
            "grid_row": null,
            "grid_template_areas": null,
            "grid_template_columns": null,
            "grid_template_rows": null,
            "height": null,
            "justify_content": null,
            "justify_items": null,
            "left": null,
            "margin": null,
            "max_height": null,
            "max_width": null,
            "min_height": null,
            "min_width": null,
            "object_fit": null,
            "object_position": null,
            "order": null,
            "overflow": null,
            "overflow_x": null,
            "overflow_y": null,
            "padding": null,
            "right": null,
            "top": null,
            "visibility": null,
            "width": null
          }
        },
        "0a2bae765e394dbd9902da9bbe251c7c": {
          "model_module": "@jupyter-widgets/controls",
          "model_name": "DescriptionStyleModel",
          "model_module_version": "1.5.0",
          "state": {
            "_model_module": "@jupyter-widgets/controls",
            "_model_module_version": "1.5.0",
            "_model_name": "DescriptionStyleModel",
            "_view_count": null,
            "_view_module": "@jupyter-widgets/base",
            "_view_module_version": "1.2.0",
            "_view_name": "StyleView",
            "description_width": ""
          }
        },
        "bc6c28891aad4b3398cd6e4fd5942251": {
          "model_module": "@jupyter-widgets/controls",
          "model_name": "HBoxModel",
          "model_module_version": "1.5.0",
          "state": {
            "_dom_classes": [],
            "_model_module": "@jupyter-widgets/controls",
            "_model_module_version": "1.5.0",
            "_model_name": "HBoxModel",
            "_view_count": null,
            "_view_module": "@jupyter-widgets/controls",
            "_view_module_version": "1.5.0",
            "_view_name": "HBoxView",
            "box_style": "",
            "children": [
              "IPY_MODEL_9c0ba035ae9d458099a8976cf5d07845",
              "IPY_MODEL_a55e0b82b24242f5939910766d563c05",
              "IPY_MODEL_0ea2225b10c8405a996ccf295888a444"
            ],
            "layout": "IPY_MODEL_c13c0a4dc36c4f2b906f2f07aae2c04b"
          }
        },
        "9c0ba035ae9d458099a8976cf5d07845": {
          "model_module": "@jupyter-widgets/controls",
          "model_name": "HTMLModel",
          "model_module_version": "1.5.0",
          "state": {
            "_dom_classes": [],
            "_model_module": "@jupyter-widgets/controls",
            "_model_module_version": "1.5.0",
            "_model_name": "HTMLModel",
            "_view_count": null,
            "_view_module": "@jupyter-widgets/controls",
            "_view_module_version": "1.5.0",
            "_view_name": "HTMLView",
            "description": "",
            "description_tooltip": null,
            "layout": "IPY_MODEL_3a886d912e5a4b0fa0035e155ff6f811",
            "placeholder": "​",
            "style": "IPY_MODEL_ba74542ed84545dcbfa54e0a6a2e864c",
            "value": "model.safetensors: 100%"
          }
        },
        "a55e0b82b24242f5939910766d563c05": {
          "model_module": "@jupyter-widgets/controls",
          "model_name": "FloatProgressModel",
          "model_module_version": "1.5.0",
          "state": {
            "_dom_classes": [],
            "_model_module": "@jupyter-widgets/controls",
            "_model_module_version": "1.5.0",
            "_model_name": "FloatProgressModel",
            "_view_count": null,
            "_view_module": "@jupyter-widgets/controls",
            "_view_module_version": "1.5.0",
            "_view_name": "ProgressView",
            "bar_style": "success",
            "description": "",
            "description_tooltip": null,
            "layout": "IPY_MODEL_b1d1552d55e642cab692ef6abee86e5a",
            "max": 1334400964,
            "min": 0,
            "orientation": "horizontal",
            "style": "IPY_MODEL_36bec0a2015646d2bea578e17da7beab",
            "value": 1334400964
          }
        },
        "0ea2225b10c8405a996ccf295888a444": {
          "model_module": "@jupyter-widgets/controls",
          "model_name": "HTMLModel",
          "model_module_version": "1.5.0",
          "state": {
            "_dom_classes": [],
            "_model_module": "@jupyter-widgets/controls",
            "_model_module_version": "1.5.0",
            "_model_name": "HTMLModel",
            "_view_count": null,
            "_view_module": "@jupyter-widgets/controls",
            "_view_module_version": "1.5.0",
            "_view_name": "HTMLView",
            "description": "",
            "description_tooltip": null,
            "layout": "IPY_MODEL_f8d8cb3d1f51424380dc21160c25dfe0",
            "placeholder": "​",
            "style": "IPY_MODEL_4e645c2f8212473897d17f6bdf4daa7d",
            "value": " 1.33G/1.33G [00:29&lt;00:00, 38.9MB/s]"
          }
        },
        "c13c0a4dc36c4f2b906f2f07aae2c04b": {
          "model_module": "@jupyter-widgets/base",
          "model_name": "LayoutModel",
          "model_module_version": "1.2.0",
          "state": {
            "_model_module": "@jupyter-widgets/base",
            "_model_module_version": "1.2.0",
            "_model_name": "LayoutModel",
            "_view_count": null,
            "_view_module": "@jupyter-widgets/base",
            "_view_module_version": "1.2.0",
            "_view_name": "LayoutView",
            "align_content": null,
            "align_items": null,
            "align_self": null,
            "border": null,
            "bottom": null,
            "display": null,
            "flex": null,
            "flex_flow": null,
            "grid_area": null,
            "grid_auto_columns": null,
            "grid_auto_flow": null,
            "grid_auto_rows": null,
            "grid_column": null,
            "grid_gap": null,
            "grid_row": null,
            "grid_template_areas": null,
            "grid_template_columns": null,
            "grid_template_rows": null,
            "height": null,
            "justify_content": null,
            "justify_items": null,
            "left": null,
            "margin": null,
            "max_height": null,
            "max_width": null,
            "min_height": null,
            "min_width": null,
            "object_fit": null,
            "object_position": null,
            "order": null,
            "overflow": null,
            "overflow_x": null,
            "overflow_y": null,
            "padding": null,
            "right": null,
            "top": null,
            "visibility": null,
            "width": null
          }
        },
        "3a886d912e5a4b0fa0035e155ff6f811": {
          "model_module": "@jupyter-widgets/base",
          "model_name": "LayoutModel",
          "model_module_version": "1.2.0",
          "state": {
            "_model_module": "@jupyter-widgets/base",
            "_model_module_version": "1.2.0",
            "_model_name": "LayoutModel",
            "_view_count": null,
            "_view_module": "@jupyter-widgets/base",
            "_view_module_version": "1.2.0",
            "_view_name": "LayoutView",
            "align_content": null,
            "align_items": null,
            "align_self": null,
            "border": null,
            "bottom": null,
            "display": null,
            "flex": null,
            "flex_flow": null,
            "grid_area": null,
            "grid_auto_columns": null,
            "grid_auto_flow": null,
            "grid_auto_rows": null,
            "grid_column": null,
            "grid_gap": null,
            "grid_row": null,
            "grid_template_areas": null,
            "grid_template_columns": null,
            "grid_template_rows": null,
            "height": null,
            "justify_content": null,
            "justify_items": null,
            "left": null,
            "margin": null,
            "max_height": null,
            "max_width": null,
            "min_height": null,
            "min_width": null,
            "object_fit": null,
            "object_position": null,
            "order": null,
            "overflow": null,
            "overflow_x": null,
            "overflow_y": null,
            "padding": null,
            "right": null,
            "top": null,
            "visibility": null,
            "width": null
          }
        },
        "ba74542ed84545dcbfa54e0a6a2e864c": {
          "model_module": "@jupyter-widgets/controls",
          "model_name": "DescriptionStyleModel",
          "model_module_version": "1.5.0",
          "state": {
            "_model_module": "@jupyter-widgets/controls",
            "_model_module_version": "1.5.0",
            "_model_name": "DescriptionStyleModel",
            "_view_count": null,
            "_view_module": "@jupyter-widgets/base",
            "_view_module_version": "1.2.0",
            "_view_name": "StyleView",
            "description_width": ""
          }
        },
        "b1d1552d55e642cab692ef6abee86e5a": {
          "model_module": "@jupyter-widgets/base",
          "model_name": "LayoutModel",
          "model_module_version": "1.2.0",
          "state": {
            "_model_module": "@jupyter-widgets/base",
            "_model_module_version": "1.2.0",
            "_model_name": "LayoutModel",
            "_view_count": null,
            "_view_module": "@jupyter-widgets/base",
            "_view_module_version": "1.2.0",
            "_view_name": "LayoutView",
            "align_content": null,
            "align_items": null,
            "align_self": null,
            "border": null,
            "bottom": null,
            "display": null,
            "flex": null,
            "flex_flow": null,
            "grid_area": null,
            "grid_auto_columns": null,
            "grid_auto_flow": null,
            "grid_auto_rows": null,
            "grid_column": null,
            "grid_gap": null,
            "grid_row": null,
            "grid_template_areas": null,
            "grid_template_columns": null,
            "grid_template_rows": null,
            "height": null,
            "justify_content": null,
            "justify_items": null,
            "left": null,
            "margin": null,
            "max_height": null,
            "max_width": null,
            "min_height": null,
            "min_width": null,
            "object_fit": null,
            "object_position": null,
            "order": null,
            "overflow": null,
            "overflow_x": null,
            "overflow_y": null,
            "padding": null,
            "right": null,
            "top": null,
            "visibility": null,
            "width": null
          }
        },
        "36bec0a2015646d2bea578e17da7beab": {
          "model_module": "@jupyter-widgets/controls",
          "model_name": "ProgressStyleModel",
          "model_module_version": "1.5.0",
          "state": {
            "_model_module": "@jupyter-widgets/controls",
            "_model_module_version": "1.5.0",
            "_model_name": "ProgressStyleModel",
            "_view_count": null,
            "_view_module": "@jupyter-widgets/base",
            "_view_module_version": "1.2.0",
            "_view_name": "StyleView",
            "bar_color": null,
            "description_width": ""
          }
        },
        "f8d8cb3d1f51424380dc21160c25dfe0": {
          "model_module": "@jupyter-widgets/base",
          "model_name": "LayoutModel",
          "model_module_version": "1.2.0",
          "state": {
            "_model_module": "@jupyter-widgets/base",
            "_model_module_version": "1.2.0",
            "_model_name": "LayoutModel",
            "_view_count": null,
            "_view_module": "@jupyter-widgets/base",
            "_view_module_version": "1.2.0",
            "_view_name": "LayoutView",
            "align_content": null,
            "align_items": null,
            "align_self": null,
            "border": null,
            "bottom": null,
            "display": null,
            "flex": null,
            "flex_flow": null,
            "grid_area": null,
            "grid_auto_columns": null,
            "grid_auto_flow": null,
            "grid_auto_rows": null,
            "grid_column": null,
            "grid_gap": null,
            "grid_row": null,
            "grid_template_areas": null,
            "grid_template_columns": null,
            "grid_template_rows": null,
            "height": null,
            "justify_content": null,
            "justify_items": null,
            "left": null,
            "margin": null,
            "max_height": null,
            "max_width": null,
            "min_height": null,
            "min_width": null,
            "object_fit": null,
            "object_position": null,
            "order": null,
            "overflow": null,
            "overflow_x": null,
            "overflow_y": null,
            "padding": null,
            "right": null,
            "top": null,
            "visibility": null,
            "width": null
          }
        },
        "4e645c2f8212473897d17f6bdf4daa7d": {
          "model_module": "@jupyter-widgets/controls",
          "model_name": "DescriptionStyleModel",
          "model_module_version": "1.5.0",
          "state": {
            "_model_module": "@jupyter-widgets/controls",
            "_model_module_version": "1.5.0",
            "_model_name": "DescriptionStyleModel",
            "_view_count": null,
            "_view_module": "@jupyter-widgets/base",
            "_view_module_version": "1.2.0",
            "_view_name": "StyleView",
            "description_width": ""
          }
        },
        "df95a209ac984094ae8d594da0b1385c": {
          "model_module": "@jupyter-widgets/controls",
          "model_name": "HBoxModel",
          "model_module_version": "1.5.0",
          "state": {
            "_dom_classes": [],
            "_model_module": "@jupyter-widgets/controls",
            "_model_module_version": "1.5.0",
            "_model_name": "HBoxModel",
            "_view_count": null,
            "_view_module": "@jupyter-widgets/controls",
            "_view_module_version": "1.5.0",
            "_view_name": "HBoxView",
            "box_style": "",
            "children": [
              "IPY_MODEL_9d92b8d7490b41f39f175ac2eac710c7",
              "IPY_MODEL_ec82c76bf437436d82a153f2ad88d477",
              "IPY_MODEL_233c5776a41a490dbacc5d3bebc423bb"
            ],
            "layout": "IPY_MODEL_4860572ef5aa4f189bd38a854baf4faf"
          }
        },
        "9d92b8d7490b41f39f175ac2eac710c7": {
          "model_module": "@jupyter-widgets/controls",
          "model_name": "HTMLModel",
          "model_module_version": "1.5.0",
          "state": {
            "_dom_classes": [],
            "_model_module": "@jupyter-widgets/controls",
            "_model_module_version": "1.5.0",
            "_model_name": "HTMLModel",
            "_view_count": null,
            "_view_module": "@jupyter-widgets/controls",
            "_view_module_version": "1.5.0",
            "_view_name": "HTMLView",
            "description": "",
            "description_tooltip": null,
            "layout": "IPY_MODEL_857c65502ecf407aaf485f2f69ba092c",
            "placeholder": "​",
            "style": "IPY_MODEL_770b7d28d4dd4bd18a3dda9fafba1dc1",
            "value": "tokenizer_config.json: 100%"
          }
        },
        "ec82c76bf437436d82a153f2ad88d477": {
          "model_module": "@jupyter-widgets/controls",
          "model_name": "FloatProgressModel",
          "model_module_version": "1.5.0",
          "state": {
            "_dom_classes": [],
            "_model_module": "@jupyter-widgets/controls",
            "_model_module_version": "1.5.0",
            "_model_name": "FloatProgressModel",
            "_view_count": null,
            "_view_module": "@jupyter-widgets/controls",
            "_view_module_version": "1.5.0",
            "_view_name": "ProgressView",
            "bar_style": "success",
            "description": "",
            "description_tooltip": null,
            "layout": "IPY_MODEL_f824d7dce8054e288edacc060f655151",
            "max": 60,
            "min": 0,
            "orientation": "horizontal",
            "style": "IPY_MODEL_206afe4be4984811976d6d882720c8a7",
            "value": 60
          }
        },
        "233c5776a41a490dbacc5d3bebc423bb": {
          "model_module": "@jupyter-widgets/controls",
          "model_name": "HTMLModel",
          "model_module_version": "1.5.0",
          "state": {
            "_dom_classes": [],
            "_model_module": "@jupyter-widgets/controls",
            "_model_module_version": "1.5.0",
            "_model_name": "HTMLModel",
            "_view_count": null,
            "_view_module": "@jupyter-widgets/controls",
            "_view_module_version": "1.5.0",
            "_view_name": "HTMLView",
            "description": "",
            "description_tooltip": null,
            "layout": "IPY_MODEL_b68ad453f663438aaf360fd892668182",
            "placeholder": "​",
            "style": "IPY_MODEL_b844c00959df4209a3395ed7b0568c1a",
            "value": " 60.0/60.0 [00:00&lt;00:00, 4.30kB/s]"
          }
        },
        "4860572ef5aa4f189bd38a854baf4faf": {
          "model_module": "@jupyter-widgets/base",
          "model_name": "LayoutModel",
          "model_module_version": "1.2.0",
          "state": {
            "_model_module": "@jupyter-widgets/base",
            "_model_module_version": "1.2.0",
            "_model_name": "LayoutModel",
            "_view_count": null,
            "_view_module": "@jupyter-widgets/base",
            "_view_module_version": "1.2.0",
            "_view_name": "LayoutView",
            "align_content": null,
            "align_items": null,
            "align_self": null,
            "border": null,
            "bottom": null,
            "display": null,
            "flex": null,
            "flex_flow": null,
            "grid_area": null,
            "grid_auto_columns": null,
            "grid_auto_flow": null,
            "grid_auto_rows": null,
            "grid_column": null,
            "grid_gap": null,
            "grid_row": null,
            "grid_template_areas": null,
            "grid_template_columns": null,
            "grid_template_rows": null,
            "height": null,
            "justify_content": null,
            "justify_items": null,
            "left": null,
            "margin": null,
            "max_height": null,
            "max_width": null,
            "min_height": null,
            "min_width": null,
            "object_fit": null,
            "object_position": null,
            "order": null,
            "overflow": null,
            "overflow_x": null,
            "overflow_y": null,
            "padding": null,
            "right": null,
            "top": null,
            "visibility": null,
            "width": null
          }
        },
        "857c65502ecf407aaf485f2f69ba092c": {
          "model_module": "@jupyter-widgets/base",
          "model_name": "LayoutModel",
          "model_module_version": "1.2.0",
          "state": {
            "_model_module": "@jupyter-widgets/base",
            "_model_module_version": "1.2.0",
            "_model_name": "LayoutModel",
            "_view_count": null,
            "_view_module": "@jupyter-widgets/base",
            "_view_module_version": "1.2.0",
            "_view_name": "LayoutView",
            "align_content": null,
            "align_items": null,
            "align_self": null,
            "border": null,
            "bottom": null,
            "display": null,
            "flex": null,
            "flex_flow": null,
            "grid_area": null,
            "grid_auto_columns": null,
            "grid_auto_flow": null,
            "grid_auto_rows": null,
            "grid_column": null,
            "grid_gap": null,
            "grid_row": null,
            "grid_template_areas": null,
            "grid_template_columns": null,
            "grid_template_rows": null,
            "height": null,
            "justify_content": null,
            "justify_items": null,
            "left": null,
            "margin": null,
            "max_height": null,
            "max_width": null,
            "min_height": null,
            "min_width": null,
            "object_fit": null,
            "object_position": null,
            "order": null,
            "overflow": null,
            "overflow_x": null,
            "overflow_y": null,
            "padding": null,
            "right": null,
            "top": null,
            "visibility": null,
            "width": null
          }
        },
        "770b7d28d4dd4bd18a3dda9fafba1dc1": {
          "model_module": "@jupyter-widgets/controls",
          "model_name": "DescriptionStyleModel",
          "model_module_version": "1.5.0",
          "state": {
            "_model_module": "@jupyter-widgets/controls",
            "_model_module_version": "1.5.0",
            "_model_name": "DescriptionStyleModel",
            "_view_count": null,
            "_view_module": "@jupyter-widgets/base",
            "_view_module_version": "1.2.0",
            "_view_name": "StyleView",
            "description_width": ""
          }
        },
        "f824d7dce8054e288edacc060f655151": {
          "model_module": "@jupyter-widgets/base",
          "model_name": "LayoutModel",
          "model_module_version": "1.2.0",
          "state": {
            "_model_module": "@jupyter-widgets/base",
            "_model_module_version": "1.2.0",
            "_model_name": "LayoutModel",
            "_view_count": null,
            "_view_module": "@jupyter-widgets/base",
            "_view_module_version": "1.2.0",
            "_view_name": "LayoutView",
            "align_content": null,
            "align_items": null,
            "align_self": null,
            "border": null,
            "bottom": null,
            "display": null,
            "flex": null,
            "flex_flow": null,
            "grid_area": null,
            "grid_auto_columns": null,
            "grid_auto_flow": null,
            "grid_auto_rows": null,
            "grid_column": null,
            "grid_gap": null,
            "grid_row": null,
            "grid_template_areas": null,
            "grid_template_columns": null,
            "grid_template_rows": null,
            "height": null,
            "justify_content": null,
            "justify_items": null,
            "left": null,
            "margin": null,
            "max_height": null,
            "max_width": null,
            "min_height": null,
            "min_width": null,
            "object_fit": null,
            "object_position": null,
            "order": null,
            "overflow": null,
            "overflow_x": null,
            "overflow_y": null,
            "padding": null,
            "right": null,
            "top": null,
            "visibility": null,
            "width": null
          }
        },
        "206afe4be4984811976d6d882720c8a7": {
          "model_module": "@jupyter-widgets/controls",
          "model_name": "ProgressStyleModel",
          "model_module_version": "1.5.0",
          "state": {
            "_model_module": "@jupyter-widgets/controls",
            "_model_module_version": "1.5.0",
            "_model_name": "ProgressStyleModel",
            "_view_count": null,
            "_view_module": "@jupyter-widgets/base",
            "_view_module_version": "1.2.0",
            "_view_name": "StyleView",
            "bar_color": null,
            "description_width": ""
          }
        },
        "b68ad453f663438aaf360fd892668182": {
          "model_module": "@jupyter-widgets/base",
          "model_name": "LayoutModel",
          "model_module_version": "1.2.0",
          "state": {
            "_model_module": "@jupyter-widgets/base",
            "_model_module_version": "1.2.0",
            "_model_name": "LayoutModel",
            "_view_count": null,
            "_view_module": "@jupyter-widgets/base",
            "_view_module_version": "1.2.0",
            "_view_name": "LayoutView",
            "align_content": null,
            "align_items": null,
            "align_self": null,
            "border": null,
            "bottom": null,
            "display": null,
            "flex": null,
            "flex_flow": null,
            "grid_area": null,
            "grid_auto_columns": null,
            "grid_auto_flow": null,
            "grid_auto_rows": null,
            "grid_column": null,
            "grid_gap": null,
            "grid_row": null,
            "grid_template_areas": null,
            "grid_template_columns": null,
            "grid_template_rows": null,
            "height": null,
            "justify_content": null,
            "justify_items": null,
            "left": null,
            "margin": null,
            "max_height": null,
            "max_width": null,
            "min_height": null,
            "min_width": null,
            "object_fit": null,
            "object_position": null,
            "order": null,
            "overflow": null,
            "overflow_x": null,
            "overflow_y": null,
            "padding": null,
            "right": null,
            "top": null,
            "visibility": null,
            "width": null
          }
        },
        "b844c00959df4209a3395ed7b0568c1a": {
          "model_module": "@jupyter-widgets/controls",
          "model_name": "DescriptionStyleModel",
          "model_module_version": "1.5.0",
          "state": {
            "_model_module": "@jupyter-widgets/controls",
            "_model_module_version": "1.5.0",
            "_model_name": "DescriptionStyleModel",
            "_view_count": null,
            "_view_module": "@jupyter-widgets/base",
            "_view_module_version": "1.2.0",
            "_view_name": "StyleView",
            "description_width": ""
          }
        },
        "1c2ed0ba64944daeab47cae70b167504": {
          "model_module": "@jupyter-widgets/controls",
          "model_name": "HBoxModel",
          "model_module_version": "1.5.0",
          "state": {
            "_dom_classes": [],
            "_model_module": "@jupyter-widgets/controls",
            "_model_module_version": "1.5.0",
            "_model_name": "HBoxModel",
            "_view_count": null,
            "_view_module": "@jupyter-widgets/controls",
            "_view_module_version": "1.5.0",
            "_view_name": "HBoxView",
            "box_style": "",
            "children": [
              "IPY_MODEL_69048184ed8c44c9813c44cf5955bcdf",
              "IPY_MODEL_28aa6ff143b94ef197c9271ea511eb4b",
              "IPY_MODEL_614c95a101b540e293287cf45a39801b"
            ],
            "layout": "IPY_MODEL_79fe91bb86cb4ecebcc3da8f15a61243"
          }
        },
        "69048184ed8c44c9813c44cf5955bcdf": {
          "model_module": "@jupyter-widgets/controls",
          "model_name": "HTMLModel",
          "model_module_version": "1.5.0",
          "state": {
            "_dom_classes": [],
            "_model_module": "@jupyter-widgets/controls",
            "_model_module_version": "1.5.0",
            "_model_name": "HTMLModel",
            "_view_count": null,
            "_view_module": "@jupyter-widgets/controls",
            "_view_module_version": "1.5.0",
            "_view_name": "HTMLView",
            "description": "",
            "description_tooltip": null,
            "layout": "IPY_MODEL_a862db27258f4f0b9f3d011ecd971bdc",
            "placeholder": "​",
            "style": "IPY_MODEL_d5660ce19dd642c097287af3e978906d",
            "value": "vocab.txt: 100%"
          }
        },
        "28aa6ff143b94ef197c9271ea511eb4b": {
          "model_module": "@jupyter-widgets/controls",
          "model_name": "FloatProgressModel",
          "model_module_version": "1.5.0",
          "state": {
            "_dom_classes": [],
            "_model_module": "@jupyter-widgets/controls",
            "_model_module_version": "1.5.0",
            "_model_name": "FloatProgressModel",
            "_view_count": null,
            "_view_module": "@jupyter-widgets/controls",
            "_view_module_version": "1.5.0",
            "_view_name": "ProgressView",
            "bar_style": "success",
            "description": "",
            "description_tooltip": null,
            "layout": "IPY_MODEL_7710b8e67a9e46c68eabbc83c0b1eb81",
            "max": 213450,
            "min": 0,
            "orientation": "horizontal",
            "style": "IPY_MODEL_092dd2d7afa142778b5214cfd73a4525",
            "value": 213450
          }
        },
        "614c95a101b540e293287cf45a39801b": {
          "model_module": "@jupyter-widgets/controls",
          "model_name": "HTMLModel",
          "model_module_version": "1.5.0",
          "state": {
            "_dom_classes": [],
            "_model_module": "@jupyter-widgets/controls",
            "_model_module_version": "1.5.0",
            "_model_name": "HTMLModel",
            "_view_count": null,
            "_view_module": "@jupyter-widgets/controls",
            "_view_module_version": "1.5.0",
            "_view_name": "HTMLView",
            "description": "",
            "description_tooltip": null,
            "layout": "IPY_MODEL_31d149296c8b45dd8f2e3e2066201541",
            "placeholder": "​",
            "style": "IPY_MODEL_18d7385e58184d0f906829c46e7aaf84",
            "value": " 213k/213k [00:00&lt;00:00, 3.80MB/s]"
          }
        },
        "79fe91bb86cb4ecebcc3da8f15a61243": {
          "model_module": "@jupyter-widgets/base",
          "model_name": "LayoutModel",
          "model_module_version": "1.2.0",
          "state": {
            "_model_module": "@jupyter-widgets/base",
            "_model_module_version": "1.2.0",
            "_model_name": "LayoutModel",
            "_view_count": null,
            "_view_module": "@jupyter-widgets/base",
            "_view_module_version": "1.2.0",
            "_view_name": "LayoutView",
            "align_content": null,
            "align_items": null,
            "align_self": null,
            "border": null,
            "bottom": null,
            "display": null,
            "flex": null,
            "flex_flow": null,
            "grid_area": null,
            "grid_auto_columns": null,
            "grid_auto_flow": null,
            "grid_auto_rows": null,
            "grid_column": null,
            "grid_gap": null,
            "grid_row": null,
            "grid_template_areas": null,
            "grid_template_columns": null,
            "grid_template_rows": null,
            "height": null,
            "justify_content": null,
            "justify_items": null,
            "left": null,
            "margin": null,
            "max_height": null,
            "max_width": null,
            "min_height": null,
            "min_width": null,
            "object_fit": null,
            "object_position": null,
            "order": null,
            "overflow": null,
            "overflow_x": null,
            "overflow_y": null,
            "padding": null,
            "right": null,
            "top": null,
            "visibility": null,
            "width": null
          }
        },
        "a862db27258f4f0b9f3d011ecd971bdc": {
          "model_module": "@jupyter-widgets/base",
          "model_name": "LayoutModel",
          "model_module_version": "1.2.0",
          "state": {
            "_model_module": "@jupyter-widgets/base",
            "_model_module_version": "1.2.0",
            "_model_name": "LayoutModel",
            "_view_count": null,
            "_view_module": "@jupyter-widgets/base",
            "_view_module_version": "1.2.0",
            "_view_name": "LayoutView",
            "align_content": null,
            "align_items": null,
            "align_self": null,
            "border": null,
            "bottom": null,
            "display": null,
            "flex": null,
            "flex_flow": null,
            "grid_area": null,
            "grid_auto_columns": null,
            "grid_auto_flow": null,
            "grid_auto_rows": null,
            "grid_column": null,
            "grid_gap": null,
            "grid_row": null,
            "grid_template_areas": null,
            "grid_template_columns": null,
            "grid_template_rows": null,
            "height": null,
            "justify_content": null,
            "justify_items": null,
            "left": null,
            "margin": null,
            "max_height": null,
            "max_width": null,
            "min_height": null,
            "min_width": null,
            "object_fit": null,
            "object_position": null,
            "order": null,
            "overflow": null,
            "overflow_x": null,
            "overflow_y": null,
            "padding": null,
            "right": null,
            "top": null,
            "visibility": null,
            "width": null
          }
        },
        "d5660ce19dd642c097287af3e978906d": {
          "model_module": "@jupyter-widgets/controls",
          "model_name": "DescriptionStyleModel",
          "model_module_version": "1.5.0",
          "state": {
            "_model_module": "@jupyter-widgets/controls",
            "_model_module_version": "1.5.0",
            "_model_name": "DescriptionStyleModel",
            "_view_count": null,
            "_view_module": "@jupyter-widgets/base",
            "_view_module_version": "1.2.0",
            "_view_name": "StyleView",
            "description_width": ""
          }
        },
        "7710b8e67a9e46c68eabbc83c0b1eb81": {
          "model_module": "@jupyter-widgets/base",
          "model_name": "LayoutModel",
          "model_module_version": "1.2.0",
          "state": {
            "_model_module": "@jupyter-widgets/base",
            "_model_module_version": "1.2.0",
            "_model_name": "LayoutModel",
            "_view_count": null,
            "_view_module": "@jupyter-widgets/base",
            "_view_module_version": "1.2.0",
            "_view_name": "LayoutView",
            "align_content": null,
            "align_items": null,
            "align_self": null,
            "border": null,
            "bottom": null,
            "display": null,
            "flex": null,
            "flex_flow": null,
            "grid_area": null,
            "grid_auto_columns": null,
            "grid_auto_flow": null,
            "grid_auto_rows": null,
            "grid_column": null,
            "grid_gap": null,
            "grid_row": null,
            "grid_template_areas": null,
            "grid_template_columns": null,
            "grid_template_rows": null,
            "height": null,
            "justify_content": null,
            "justify_items": null,
            "left": null,
            "margin": null,
            "max_height": null,
            "max_width": null,
            "min_height": null,
            "min_width": null,
            "object_fit": null,
            "object_position": null,
            "order": null,
            "overflow": null,
            "overflow_x": null,
            "overflow_y": null,
            "padding": null,
            "right": null,
            "top": null,
            "visibility": null,
            "width": null
          }
        },
        "092dd2d7afa142778b5214cfd73a4525": {
          "model_module": "@jupyter-widgets/controls",
          "model_name": "ProgressStyleModel",
          "model_module_version": "1.5.0",
          "state": {
            "_model_module": "@jupyter-widgets/controls",
            "_model_module_version": "1.5.0",
            "_model_name": "ProgressStyleModel",
            "_view_count": null,
            "_view_module": "@jupyter-widgets/base",
            "_view_module_version": "1.2.0",
            "_view_name": "StyleView",
            "bar_color": null,
            "description_width": ""
          }
        },
        "31d149296c8b45dd8f2e3e2066201541": {
          "model_module": "@jupyter-widgets/base",
          "model_name": "LayoutModel",
          "model_module_version": "1.2.0",
          "state": {
            "_model_module": "@jupyter-widgets/base",
            "_model_module_version": "1.2.0",
            "_model_name": "LayoutModel",
            "_view_count": null,
            "_view_module": "@jupyter-widgets/base",
            "_view_module_version": "1.2.0",
            "_view_name": "LayoutView",
            "align_content": null,
            "align_items": null,
            "align_self": null,
            "border": null,
            "bottom": null,
            "display": null,
            "flex": null,
            "flex_flow": null,
            "grid_area": null,
            "grid_auto_columns": null,
            "grid_auto_flow": null,
            "grid_auto_rows": null,
            "grid_column": null,
            "grid_gap": null,
            "grid_row": null,
            "grid_template_areas": null,
            "grid_template_columns": null,
            "grid_template_rows": null,
            "height": null,
            "justify_content": null,
            "justify_items": null,
            "left": null,
            "margin": null,
            "max_height": null,
            "max_width": null,
            "min_height": null,
            "min_width": null,
            "object_fit": null,
            "object_position": null,
            "order": null,
            "overflow": null,
            "overflow_x": null,
            "overflow_y": null,
            "padding": null,
            "right": null,
            "top": null,
            "visibility": null,
            "width": null
          }
        },
        "18d7385e58184d0f906829c46e7aaf84": {
          "model_module": "@jupyter-widgets/controls",
          "model_name": "DescriptionStyleModel",
          "model_module_version": "1.5.0",
          "state": {
            "_model_module": "@jupyter-widgets/controls",
            "_model_module_version": "1.5.0",
            "_model_name": "DescriptionStyleModel",
            "_view_count": null,
            "_view_module": "@jupyter-widgets/base",
            "_view_module_version": "1.2.0",
            "_view_name": "StyleView",
            "description_width": ""
          }
        }
      }
    }
  },
  "cells": [
    {
      "cell_type": "markdown",
      "source": [
        "# <img style=\"float: left; padding-right: 10px; width: 45px\" src=\"https://raw.githubusercontent.com/Harvard-IACS/2018-CS109A/master/content/styles/iacs.png\"> CS1090B Introduction to Data Science\n",
        "\n",
        "## Lab 10: Transformers in HuggingFace [Draft]\n",
        "\n",
        "**Harvard University**<br/>\n",
        "**Spring 2025**<br/>\n",
        "**Instructors**: Pavlos Protopapas, Natesh Pillai, and Chris Gumb<br/>\n",
        "**Authors**: Chris Gumb, Shivas Jayaram, and Guangya Wan\n",
        "\n",
        "<br/>\n",
        "---"
      ],
      "metadata": {
        "id": "RAnQ9EoZKHeQ"
      }
    },
    {
      "cell_type": "markdown",
      "source": [
        "## Learning Objectives\n",
        "\n",
        "By the end of this Lab, you will understand:\n",
        "* **HuggingFace** Library and popular **BERT** architecture in **Transformer** library\n",
        "* Basic Functionality of **Transformer** library\n",
        "* An example for a **Text Classification** task using **Pre-trained BERT** including fine-tuning with  **Keras** (**Super Relevant to HW6!!**)\n",
        "* **Extras**: How to use **GPT2** (Generative Pre-Training) for language generation tasks and how to fine-tune on a custom dataset"
      ],
      "metadata": {
        "id": "IVxj4k4_LDti"
      }
    },
    {
      "cell_type": "code",
      "source": [
        "%%capture\n",
        "!pip install --upgrade transformers\n",
        "!pip install tf-keras\n",
        "import os\n",
        "os.environ['TF_USE_LEGACY_KERAS'] = '1'"
      ],
      "metadata": {
        "id": "ajO8V0TcLNLy"
      },
      "execution_count": null,
      "outputs": []
    },
    {
      "cell_type": "code",
      "source": [
        "# Import necessary libraries\n",
        "import os\n",
        "import time\n",
        "import datetime\n",
        "import requests\n",
        "import json\n",
        "import re\n",
        "import random\n",
        "from glob import glob\n",
        "import numpy as np\n",
        "import pandas as pd\n",
        "import matplotlib.pyplot as plt\n",
        "import matplotlib.cm as cm\n",
        "%matplotlib inline\n",
        "\n",
        "# Tensorflow\n",
        "import tensorflow as tf\n",
        "from tensorflow.python.keras import backend as K\n",
        "from tensorflow.python.keras.utils.layer_utils import count_params\n",
        "from tensorflow.keras.optimizers import Adam\n",
        "\n",
        "# sklearn\n",
        "from sklearn.model_selection import train_test_split\n",
        "\n",
        "# Transformers\n",
        "from transformers import BertTokenizer, TFBertForSequenceClassification, BertConfig\n",
        "from transformers import GPT2Tokenizer, TFGPT2LMHeadModel, GPT2Config\n",
        "\n",
        "from transformers import AutoTokenizer\n",
        "\n",
        "from tensorflow.keras.callbacks import LearningRateScheduler"
      ],
      "metadata": {
        "id": "I-kO1ynrKYvE"
      },
      "execution_count": null,
      "outputs": []
    },
    {
      "cell_type": "code",
      "source": [
        "import tensorflow as tf\n",
        "\n",
        "# Get the GPU device name.\n",
        "device_name = tf.test.gpu_device_name()\n",
        "\n",
        "# The device name should look like the following:\n",
        "if device_name == '/device:GPU:0':\n",
        "    print('Found GPU at: {}'.format(device_name))\n",
        "else:\n",
        "    raise SystemError('GPU device not found')"
      ],
      "metadata": {
        "colab": {
          "base_uri": "https://localhost:8080/"
        },
        "id": "JI89wl5_RUK3",
        "outputId": "32f5307e-f02c-4824-e810-8fcd146d9bc2"
      },
      "execution_count": null,
      "outputs": [
        {
          "output_type": "stream",
          "name": "stdout",
          "text": [
            "Found GPU at: /device:GPU:0\n"
          ]
        }
      ]
    },
    {
      "cell_type": "markdown",
      "source": [
        "# Hugging Face and Transformer Overview\n",
        "\n",
        "\n",
        "Hugging Face is an AI research organization and company that focuses on natural language processing (NLP) and natural language understanding (NLU). They are best known for their open-source Transformers library, which is a widely-used, state-of-the-art library for building, training, and deploying transformer-based models. Hugging Face has contributed significantly to the NLP community by providing user-friendly APIs, pre-trained models, and extensive documentation, making it easier for researchers, developers, and practitioners to work with transformer models.\n",
        "\n",
        "The Transformers library, initially released in 2019, provides a comprehensive collection of transformer architectures, such as BERT, GPT, RoBERTa, T5, and many others. The library supports both PyTorch and TensorFlow deep learning frameworks, enabling users to seamlessly switch between them. It also offers a wide range of pre-trained models for various NLP tasks, including text classification, named entity recognition, question answering, and more.\n",
        "\n",
        "One of the key features of the Transformers library is its focus on usability and ease of integration. It offers simple APIs for tokenization, model training, fine-tuning, and inference, along with many useful utilities for handling datasets and evaluation metrics. The library is continually updated and maintained by Hugging Face, with active community contributions, which helps keep it at the forefront of NLP research and development.\n",
        "\n",
        "Refer to the docs for more information: https://huggingface.co/docs"
      ],
      "metadata": {
        "id": "TkRzTTYnsYuR"
      }
    },
    {
      "cell_type": "markdown",
      "source": [
        "# Pretrained Model: BERT vs DistilBERT vs DeBERTa"
      ],
      "metadata": {
        "id": "ZRkulQweyVpi"
      }
    },
    {
      "cell_type": "markdown",
      "source": [
        "**BERT (Bidirectional Encoder Representations from Transformers)**, **DistilBERT**, and **DeBERTa (Decoding-enhanced BERT with disentangled attention)** are all state-of-the-art transformer-based models for natural language processing tasks. Here's a brief introduction to each model and a comparison of their characteristics:\n",
        "\n",
        "1. **BERT (Bidirectional Encoder Representations from Transformers)**:\n",
        "Introduced by Google AI in 2018, BERT revolutionized NLP by employing bidirectional context in the self-attention mechanism of transformers. BERT is pre-trained on large text corpora using masked language modeling (MLM) and next sentence prediction (NSP) tasks, making it capable of understanding context and generating high-quality embeddings. BERT can be fine-tuned for various downstream tasks such as text classification, named entity recognition, and question answering.\n",
        "\n",
        "2. **DistilBERT**:\n",
        "DistilBERT, developed by Hugging Face, is a smaller, faster, and more efficient version of BERT. It is created using knowledge distillation, a technique that transfers knowledge from a larger teacher model (in this case, BERT) to a smaller student model (DistilBERT). DistilBERT retains about 95% of BERT's performance while having only 50% of its parameters, which makes it more suitable for deployment in resource-constrained environments or real-time applications.\n",
        "\n",
        "3. **DeBERTa (Decoding-enhanced BERT with disentangled attention)**:\n",
        "Introduced by Microsoft Research, DeBERTa is an improved variant of BERT that addresses certain limitations in the original BERT model. DeBERTa introduces disentangled attention, which separates the content and position information during the self-attention computation, leading to a more effective and expressive model. DeBERTa also incorporates relative position embeddings, which improve the model's ability to capture positional information. These enhancements enable DeBERTa to outperform BERT and other transformer models on various NLP benchmarks.\n",
        "\n",
        "**Comparison**:\n",
        "- BERT is the foundational model that introduced bidirectional context and self-attention mechanisms in transformers, setting a new standard for NLP models.\n",
        "- DistilBERT offers a more lightweight, efficient alternative to BERT, with reduced model size and computational requirements while maintaining most of the performance. It is well-suited for deployment in resource-constrained environments.\n",
        "- DeBERTa builds upon BERT by introducing disentangled attention and relative position embeddings, resulting in a more expressive and effective model. DeBERTa often outperforms BERT and other transformer models on NLP benchmarks.\n",
        "\n",
        "All three models are powerful and widely used in NLP tasks. Depending on your specific requirements, such as model size, inference speed, and accuracy, you can choose the appropriate model for your application.\n"
      ],
      "metadata": {
        "id": "CkKelGcF0gBA"
      }
    },
    {
      "cell_type": "markdown",
      "source": [
        "# 🤗 AutoModel\n",
        "With so many different Transformer architectures, it can be challenging to decide on a single model checkpoint for your use case. As a part of 🤗 Transformers' core philosophy to make the library easy, simple and flexible to use, an AutoModelClass automatically infer and load the correct architecture from a given checkpoint.\n",
        "\n",
        "The from_pretrained() method lets you quickly load a pretrained model for any architecture so you don't have to devote time and resources to train a model from scratch. Producing this type of checkpoint-agnostic code means if your code works for one checkpoint, it will work with another checkpoint - as long as it was trained for a similar task - even if the architecture is different.\n",
        "\n",
        "The AutoModel class and all of its relatives are actually simple wrappers over the wide variety of models available in the library. It’s a clever wrapper as it can automatically guess the appropriate model architecture for your checkpoint, and then instantiates a model with this architecture.\n",
        "\n",
        "Side notes: if you know the type of model you want to use, you can use the class that defines its architecture directly. Architecture refers to the skeleton of the model and checkpoints are the weights for a given architecture. For example, BERT is an architecture, while bert-base-uncased is a checkpoint. \"Model\" in this cotext is a general term that can mean either architecture or checkpoint.\n",
        "\n"
      ],
      "metadata": {
        "id": "CzidK79PH29l"
      }
    },
    {
      "cell_type": "code",
      "source": [
        "# Model-agnostic AutoModel approach\n",
        "from transformers import TFAutoModelForSequenceClassification\n",
        "\n",
        "model = TFAutoModelForSequenceClassification.from_pretrained(\"distilbert-base-uncased\")"
      ],
      "metadata": {
        "colab": {
          "base_uri": "https://localhost:8080/"
        },
        "id": "VHcHcW4rH2iD",
        "outputId": "5d0c26d2-5c18-4d77-d463-da6a2b22f380"
      },
      "execution_count": null,
      "outputs": [
        {
          "output_type": "stream",
          "name": "stderr",
          "text": [
            "/usr/local/lib/python3.10/dist-packages/huggingface_hub/utils/_token.py:88: UserWarning: \n",
            "The secret `HF_TOKEN` does not exist in your Colab secrets.\n",
            "To authenticate with the Hugging Face Hub, create a token in your settings tab (https://huggingface.co/settings/tokens), set it as secret in your Google Colab and restart your session.\n",
            "You will be able to reuse this secret in all of your notebooks.\n",
            "Please note that authentication is recommended but still optional to access public models or datasets.\n",
            "  warnings.warn(\n",
            "Some weights of the PyTorch model were not used when initializing the TF 2.0 model TFDistilBertForSequenceClassification: ['vocab_projector.bias', 'vocab_transform.weight', 'vocab_layer_norm.weight', 'vocab_transform.bias', 'vocab_layer_norm.bias']\n",
            "- This IS expected if you are initializing TFDistilBertForSequenceClassification from a PyTorch model trained on another task or with another architecture (e.g. initializing a TFBertForSequenceClassification model from a BertForPreTraining model).\n",
            "- This IS NOT expected if you are initializing TFDistilBertForSequenceClassification from a PyTorch model that you expect to be exactly identical (e.g. initializing a TFBertForSequenceClassification model from a BertForSequenceClassification model).\n",
            "Some weights or buffers of the TF 2.0 model TFDistilBertForSequenceClassification were not initialized from the PyTorch model and are newly initialized: ['pre_classifier.weight', 'pre_classifier.bias', 'classifier.weight', 'classifier.bias']\n",
            "You should probably TRAIN this model on a down-stream task to be able to use it for predictions and inference.\n"
          ]
        }
      ]
    },
    {
      "cell_type": "code",
      "source": [
        "model.config"
      ],
      "metadata": {
        "colab": {
          "base_uri": "https://localhost:8080/"
        },
        "id": "YSxwFwybdicl",
        "outputId": "097a8c82-926c-406d-f14d-f2b20117bf80"
      },
      "execution_count": null,
      "outputs": [
        {
          "output_type": "execute_result",
          "data": {
            "text/plain": [
              "DistilBertConfig {\n",
              "  \"_name_or_path\": \"distilbert-base-uncased\",\n",
              "  \"activation\": \"gelu\",\n",
              "  \"architectures\": [\n",
              "    \"DistilBertForMaskedLM\"\n",
              "  ],\n",
              "  \"attention_dropout\": 0.1,\n",
              "  \"dim\": 768,\n",
              "  \"dropout\": 0.1,\n",
              "  \"hidden_dim\": 3072,\n",
              "  \"initializer_range\": 0.02,\n",
              "  \"max_position_embeddings\": 512,\n",
              "  \"model_type\": \"distilbert\",\n",
              "  \"n_heads\": 12,\n",
              "  \"n_layers\": 6,\n",
              "  \"pad_token_id\": 0,\n",
              "  \"qa_dropout\": 0.1,\n",
              "  \"seq_classif_dropout\": 0.2,\n",
              "  \"sinusoidal_pos_embds\": false,\n",
              "  \"tie_weights_\": true,\n",
              "  \"transformers_version\": \"4.40.0\",\n",
              "  \"vocab_size\": 30522\n",
              "}"
            ]
          },
          "metadata": {},
          "execution_count": 5
        }
      ]
    },
    {
      "cell_type": "code",
      "source": [
        "# Alternative approach that uses the specific Model module\n",
        "from transformers import TFDistilBertForSequenceClassification\n",
        "\n",
        "model_2 = TFDistilBertForSequenceClassification.from_pretrained(\"distilbert-base-uncased\")"
      ],
      "metadata": {
        "colab": {
          "base_uri": "https://localhost:8080/"
        },
        "id": "F5EsjKVLqt86",
        "outputId": "3f125fd6-1e4d-4462-844a-899362aaeb5a"
      },
      "execution_count": null,
      "outputs": [
        {
          "output_type": "stream",
          "name": "stderr",
          "text": [
            "Some weights of the PyTorch model were not used when initializing the TF 2.0 model TFDistilBertForSequenceClassification: ['vocab_projector.bias', 'vocab_transform.weight', 'vocab_layer_norm.weight', 'vocab_transform.bias', 'vocab_layer_norm.bias']\n",
            "- This IS expected if you are initializing TFDistilBertForSequenceClassification from a PyTorch model trained on another task or with another architecture (e.g. initializing a TFBertForSequenceClassification model from a BertForPreTraining model).\n",
            "- This IS NOT expected if you are initializing TFDistilBertForSequenceClassification from a PyTorch model that you expect to be exactly identical (e.g. initializing a TFBertForSequenceClassification model from a BertForSequenceClassification model).\n",
            "Some weights or buffers of the TF 2.0 model TFDistilBertForSequenceClassification were not initialized from the PyTorch model and are newly initialized: ['pre_classifier.weight', 'pre_classifier.bias', 'classifier.weight', 'classifier.bias']\n",
            "You should probably TRAIN this model on a down-stream task to be able to use it for predictions and inference.\n"
          ]
        }
      ]
    },
    {
      "cell_type": "code",
      "source": [
        "# The two models are the same!\n",
        "model.get_config() == model_2.get_config()"
      ],
      "metadata": {
        "colab": {
          "base_uri": "https://localhost:8080/"
        },
        "id": "ABz9g1PGrC0w",
        "outputId": "0a2da85c-1645-42e1-e0bf-379a794128b7"
      },
      "execution_count": null,
      "outputs": [
        {
          "output_type": "execute_result",
          "data": {
            "text/plain": [
              "True"
            ]
          },
          "metadata": {},
          "execution_count": 7
        }
      ]
    },
    {
      "cell_type": "markdown",
      "source": [
        "## AutoTokenizer"
      ],
      "metadata": {
        "id": "JanxK0o3EeJu"
      }
    },
    {
      "cell_type": "markdown",
      "source": [
        "Nearly every NLP task begins with a tokenizer. A tokenizer converts your input into a format that can be processed by the model.\n",
        "\n",
        "Loading and saving tokenizers is as simple as it is with models with the AutoTokenizer Class"
      ],
      "metadata": {
        "id": "wW0JT9ffE2Te"
      }
    },
    {
      "cell_type": "code",
      "source": [
        "# Load a tokenizer with AutoTokenizer.from_pretrained():\n",
        "tokenizer = AutoTokenizer.from_pretrained(\"distilbert-base-uncased\")"
      ],
      "metadata": {
        "id": "h91afpiAFFT4"
      },
      "execution_count": null,
      "outputs": []
    },
    {
      "cell_type": "code",
      "source": [
        "encoded_input = tokenizer(\"This is the final lab! 😿\") # same as batch_encode_plus and encode_plus, will autotamatically detect which to use\n",
        "print(encoded_input)"
      ],
      "metadata": {
        "colab": {
          "base_uri": "https://localhost:8080/"
        },
        "id": "21MY_98jFScU",
        "outputId": "e04026b1-acf4-4a1b-a6fa-b0ff36cd15c5"
      },
      "execution_count": null,
      "outputs": [
        {
          "output_type": "stream",
          "name": "stdout",
          "text": [
            "{'input_ids': [101, 2023, 2003, 1996, 2345, 6845, 999, 100, 102], 'attention_mask': [1, 1, 1, 1, 1, 1, 1, 1, 1]}\n"
          ]
        }
      ]
    },
    {
      "cell_type": "code",
      "source": [
        "# Note that the resulting tokenized input is NOT a dictionary\n",
        "# Refer https://huggingface.co/docs/transformers/internal/tokenization_utils#transformers.PreTrainedTokenizerBase.__call__.returns\n",
        "type(encoded_input)"
      ],
      "metadata": {
        "colab": {
          "base_uri": "https://localhost:8080/",
          "height": 221
        },
        "id": "wQs-TKYDMLFi",
        "outputId": "dc84f0d2-349a-489a-d9f4-373cc34222c0"
      },
      "execution_count": null,
      "outputs": [
        {
          "output_type": "execute_result",
          "data": {
            "text/plain": [
              "transformers.tokenization_utils_base.BatchEncoding"
            ],
            "text/html": [
              "<div style=\"max-width:800px; border: 1px solid var(--colab-border-color);\"><style>\n",
              "      pre.function-repr-contents {\n",
              "        overflow-x: auto;\n",
              "        padding: 8px 12px;\n",
              "        max-height: 500px;\n",
              "      }\n",
              "\n",
              "      pre.function-repr-contents.function-repr-contents-collapsed {\n",
              "        cursor: pointer;\n",
              "        max-height: 100px;\n",
              "      }\n",
              "    </style>\n",
              "    <pre style=\"white-space: initial; background:\n",
              "         var(--colab-secondary-surface-color); padding: 8px 12px;\n",
              "         border-bottom: 1px solid var(--colab-border-color);\"><b>transformers.tokenization_utils_base.BatchEncoding</b><br/>def __init__(data: Optional[Dict[str, Any]]=None, encoding: Optional[Union[EncodingFast, Sequence[EncodingFast]]]=None, tensor_type: Union[None, str, TensorType]=None, prepend_batch_axis: bool=False, n_sequences: Optional[int]=None)</pre><pre class=\"function-repr-contents function-repr-contents-collapsed\" style=\"\"><a class=\"filepath\" style=\"display:none\" href=\"#\">/usr/local/lib/python3.10/dist-packages/transformers/tokenization_utils_base.py</a>Holds the output of the [`~tokenization_utils_base.PreTrainedTokenizerBase.__call__`],\n",
              "[`~tokenization_utils_base.PreTrainedTokenizerBase.encode_plus`] and\n",
              "[`~tokenization_utils_base.PreTrainedTokenizerBase.batch_encode_plus`] methods (tokens, attention_masks, etc).\n",
              "\n",
              "This class is derived from a python dictionary and can be used as a dictionary. In addition, this class exposes\n",
              "utility methods to map from word/character space to token space.\n",
              "\n",
              "Args:\n",
              "    data (`dict`, *optional*):\n",
              "        Dictionary of lists/arrays/tensors returned by the `__call__`/`encode_plus`/`batch_encode_plus` methods\n",
              "        (&#x27;input_ids&#x27;, &#x27;attention_mask&#x27;, etc.).\n",
              "    encoding (`tokenizers.Encoding` or `Sequence[tokenizers.Encoding]`, *optional*):\n",
              "        If the tokenizer is a fast tokenizer which outputs additional information like mapping from word/character\n",
              "        space to token space the `tokenizers.Encoding` instance or list of instance (for batches) hold this\n",
              "        information.\n",
              "    tensor_type (`Union[None, str, TensorType]`, *optional*):\n",
              "        You can give a tensor_type here to convert the lists of integers in PyTorch/TensorFlow/Numpy Tensors at\n",
              "        initialization.\n",
              "    prepend_batch_axis (`bool`, *optional*, defaults to `False`):\n",
              "        Whether or not to add a batch axis when converting to tensors (see `tensor_type` above).\n",
              "    n_sequences (`Optional[int]`, *optional*):\n",
              "        You can give a tensor_type here to convert the lists of integers in PyTorch/TensorFlow/Numpy Tensors at\n",
              "        initialization.</pre>\n",
              "      <script>\n",
              "      if (google.colab.kernel.accessAllowed && google.colab.files && google.colab.files.view) {\n",
              "        for (const element of document.querySelectorAll('.filepath')) {\n",
              "          element.style.display = 'block'\n",
              "          element.onclick = (event) => {\n",
              "            event.preventDefault();\n",
              "            event.stopPropagation();\n",
              "            google.colab.files.view(element.textContent, 177);\n",
              "          };\n",
              "        }\n",
              "      }\n",
              "      for (const element of document.querySelectorAll('.function-repr-contents')) {\n",
              "        element.onclick = (event) => {\n",
              "          event.preventDefault();\n",
              "          event.stopPropagation();\n",
              "          element.classList.toggle('function-repr-contents-collapsed');\n",
              "        };\n",
              "      }\n",
              "      </script>\n",
              "      </div>"
            ]
          },
          "metadata": {},
          "execution_count": 10
        }
      ]
    },
    {
      "cell_type": "markdown",
      "source": [
        "# Preprocessing"
      ],
      "metadata": {
        "id": "cqjl2vIjm1cj"
      }
    },
    {
      "cell_type": "markdown",
      "source": [
        "Before you can train a model on a dataset, it needs to be preprocessed into the model's expected input format. Whether your data is text, images, or audio, they need to be converted and assembled into batches of tensors. 🤗 Transformers provides a set of preprocessing classes to help prepare your data for the model.\n",
        "\n",
        "The main tool for preprocessing textual data is the tokenizer. As we saw above, the tokenizer splits text into tokens according to a set of rules. The tokens are converted into numbers and then tensors, which become the model inputs. Any additional inputs required by the model, such as masking, are also created by the tokenizer.\n",
        "\n",
        "Below, we will demonstrate how to use a Tokenizer to convert text into a sequence of tokens, create a numerical representation of the tokens, and assemble them into tensors.\n",
        "\n",
        "The tokenizer returns a dictionary-like obect with three important items:\n",
        "\n",
        "* [input_ids](https://huggingface.co/docs/transformers/main/en/glossary#input-ids) are the indices corresponding to each token in the sentence.\n",
        "* [attention_mask](https://huggingface.co/docs/transformers/main/en/glossary#attention-mask) indicates whether a token should be attended to or not.\n",
        "* [token_type_ids](https://huggingface.co/docs/transformers/main/en/glossary#token-type-ids) identifies which sequence a token belongs to when there is more than one sequence."
      ],
      "metadata": {
        "id": "bPzSX1PUFxe7"
      }
    },
    {
      "cell_type": "code",
      "source": [
        "# We can convered our previously encoded input text by decoding the encoding's `input_ids`:\n",
        "tokenizer.decode(encoded_input[\"input_ids\"])"
      ],
      "metadata": {
        "colab": {
          "base_uri": "https://localhost:8080/",
          "height": 35
        },
        "id": "kHho4KcuF7W6",
        "outputId": "49b8c6dc-d3fe-4f5d-8874-97523661bf23"
      },
      "execution_count": null,
      "outputs": [
        {
          "output_type": "execute_result",
          "data": {
            "text/plain": [
              "'[CLS] this is the final lab! [UNK] [SEP]'"
            ],
            "application/vnd.google.colaboratory.intrinsic+json": {
              "type": "string"
            }
          },
          "metadata": {},
          "execution_count": 11
        }
      ]
    },
    {
      "cell_type": "markdown",
      "source": [
        "As you can see, the tokenizer added two special tokens - `CLS` and `SEP` (classifier and separator) - to the sentence. Not all models need\n",
        "special tokens, but if they do, the tokenizer automatically adds them for you.\n",
        "\n",
        "It also makes use of an `UNK` token for tokens outside its vocabulary.\n",
        "\n",
        "If there are several sentences you want to preprocess, pass them as a list to the tokenizer:"
      ],
      "metadata": {
        "id": "ZwQJbc20JYYL"
      }
    },
    {
      "cell_type": "code",
      "source": [
        "batch_sentences = [\n",
        "    \"But what about second breakfast?\",\n",
        "    \"Don't think he knows about second breakfast, Pip.\",\n",
        "    \"What about elevensies?\",\n",
        "]\n",
        "encoded_inputs = tokenizer(batch_sentences)\n",
        "print(encoded_inputs)"
      ],
      "metadata": {
        "colab": {
          "base_uri": "https://localhost:8080/"
        },
        "id": "3VGfcLe7JZKZ",
        "outputId": "7b124f33-71ce-4c07-e038-8ce386dd23b5"
      },
      "execution_count": null,
      "outputs": [
        {
          "output_type": "stream",
          "name": "stdout",
          "text": [
            "{'input_ids': [[101, 2021, 2054, 2055, 2117, 6350, 1029, 102], [101, 2123, 1005, 1056, 2228, 2002, 4282, 2055, 2117, 6350, 1010, 28315, 1012, 102], [101, 2054, 2055, 5408, 14625, 1029, 102]], 'attention_mask': [[1, 1, 1, 1, 1, 1, 1, 1], [1, 1, 1, 1, 1, 1, 1, 1, 1, 1, 1, 1, 1, 1], [1, 1, 1, 1, 1, 1, 1]]}\n"
          ]
        }
      ]
    },
    {
      "cell_type": "markdown",
      "source": [
        "## Padding"
      ],
      "metadata": {
        "id": "n4_jCGrbJeZK"
      }
    },
    {
      "cell_type": "markdown",
      "source": [
        "Sentences aren't always the same length which can be an issue because tensors, the model inputs, need to have a uniform shape. Padding is a strategy for ensuring tensors are rectangular by adding a special *padding token* to shorter sentences.\n",
        "\n",
        "Set the `padding` parameter to `True` to pad the shorter sequences in the batch to match the longest sequence:"
      ],
      "metadata": {
        "id": "33D-G5X6tCb2"
      }
    },
    {
      "cell_type": "code",
      "source": [
        "encoded_input = tokenizer(batch_sentences, padding=True)\n",
        "print(encoded_input) # We now see trailing 0s"
      ],
      "metadata": {
        "colab": {
          "base_uri": "https://localhost:8080/"
        },
        "id": "JtlPOPcrJho5",
        "outputId": "d3a6bd34-1931-4534-ce91-61af5ddef873"
      },
      "execution_count": null,
      "outputs": [
        {
          "output_type": "stream",
          "name": "stdout",
          "text": [
            "{'input_ids': [[101, 2021, 2054, 2055, 2117, 6350, 1029, 102, 0, 0, 0, 0, 0, 0], [101, 2123, 1005, 1056, 2228, 2002, 4282, 2055, 2117, 6350, 1010, 28315, 1012, 102], [101, 2054, 2055, 5408, 14625, 1029, 102, 0, 0, 0, 0, 0, 0, 0]], 'attention_mask': [[1, 1, 1, 1, 1, 1, 1, 1, 0, 0, 0, 0, 0, 0], [1, 1, 1, 1, 1, 1, 1, 1, 1, 1, 1, 1, 1, 1], [1, 1, 1, 1, 1, 1, 1, 0, 0, 0, 0, 0, 0, 0]]}\n"
          ]
        }
      ]
    },
    {
      "cell_type": "markdown",
      "source": [
        "Notice also the difference in the attention masks when we use padding!"
      ],
      "metadata": {
        "id": "EcaOnzd6g6YW"
      }
    },
    {
      "cell_type": "markdown",
      "source": [
        "## Truncation"
      ],
      "metadata": {
        "id": "h3hkvPv4JjzK"
      }
    },
    {
      "cell_type": "markdown",
      "source": [
        "On the other end of the spectrum, sometimes a sequence may be too long for a model to handle. In this case, you'll need to truncate the sequence to a shorter length.\n",
        "\n",
        "Set the `truncation` parameter to `True` to truncate a sequence to the maximum length accepted by the model:"
      ],
      "metadata": {
        "id": "Xkre2JAGtE6i"
      }
    },
    {
      "cell_type": "code",
      "source": [
        "encoded_input = tokenizer(batch_sentences, padding=True, truncation=True, max_length=8)\n",
        "print(encoded_input)"
      ],
      "metadata": {
        "colab": {
          "base_uri": "https://localhost:8080/"
        },
        "id": "tQWXj4OeJmza",
        "outputId": "e6e81a8a-ce11-493f-f2b5-586dd9e46cef"
      },
      "execution_count": null,
      "outputs": [
        {
          "output_type": "stream",
          "name": "stdout",
          "text": [
            "{'input_ids': [[101, 2021, 2054, 2055, 2117, 6350, 1029, 102], [101, 2123, 1005, 1056, 2228, 2002, 4282, 102], [101, 2054, 2055, 5408, 14625, 1029, 102, 0]], 'attention_mask': [[1, 1, 1, 1, 1, 1, 1, 1], [1, 1, 1, 1, 1, 1, 1, 1], [1, 1, 1, 1, 1, 1, 1, 0]]}\n"
          ]
        }
      ]
    },
    {
      "cell_type": "markdown",
      "source": [
        "Transformers have a limit context window size, so you will need to truncate input sequences to respect this limit. The tokenizer will warn you if you go over, but it will not automatically truncate the sequence."
      ],
      "metadata": {
        "id": "CVTVAMFtiOn3"
      }
    },
    {
      "cell_type": "code",
      "source": [
        "# Text consisting of N words\n",
        "N = 600\n",
        "long_text = \" \".join([\"blah\" for _ in range(N)])\n",
        "print(long_text)"
      ],
      "metadata": {
        "colab": {
          "base_uri": "https://localhost:8080/"
        },
        "id": "jZVaFa9dheQf",
        "outputId": "283c230c-dc88-494d-8080-7949bf373b45"
      },
      "execution_count": null,
      "outputs": [
        {
          "output_type": "stream",
          "name": "stdout",
          "text": [
            "blah blah blah blah blah blah blah blah blah blah blah blah blah blah blah blah blah blah blah blah blah blah blah blah blah blah blah blah blah blah blah blah blah blah blah blah blah blah blah blah blah blah blah blah blah blah blah blah blah blah blah blah blah blah blah blah blah blah blah blah blah blah blah blah blah blah blah blah blah blah blah blah blah blah blah blah blah blah blah blah blah blah blah blah blah blah blah blah blah blah blah blah blah blah blah blah blah blah blah blah blah blah blah blah blah blah blah blah blah blah blah blah blah blah blah blah blah blah blah blah blah blah blah blah blah blah blah blah blah blah blah blah blah blah blah blah blah blah blah blah blah blah blah blah blah blah blah blah blah blah blah blah blah blah blah blah blah blah blah blah blah blah blah blah blah blah blah blah blah blah blah blah blah blah blah blah blah blah blah blah blah blah blah blah blah blah blah blah blah blah blah blah blah blah blah blah blah blah blah blah blah blah blah blah blah blah blah blah blah blah blah blah blah blah blah blah blah blah blah blah blah blah blah blah blah blah blah blah blah blah blah blah blah blah blah blah blah blah blah blah blah blah blah blah blah blah blah blah blah blah blah blah blah blah blah blah blah blah blah blah blah blah blah blah blah blah blah blah blah blah blah blah blah blah blah blah blah blah blah blah blah blah blah blah blah blah blah blah blah blah blah blah blah blah blah blah blah blah blah blah blah blah blah blah blah blah blah blah blah blah blah blah blah blah blah blah blah blah blah blah blah blah blah blah blah blah blah blah blah blah blah blah blah blah blah blah blah blah blah blah blah blah blah blah blah blah blah blah blah blah blah blah blah blah blah blah blah blah blah blah blah blah blah blah blah blah blah blah blah blah blah blah blah blah blah blah blah blah blah blah blah blah blah blah blah blah blah blah blah blah blah blah blah blah blah blah blah blah blah blah blah blah blah blah blah blah blah blah blah blah blah blah blah blah blah blah blah blah blah blah blah blah blah blah blah blah blah blah blah blah blah blah blah blah blah blah blah blah blah blah blah blah blah blah blah blah blah blah blah blah blah blah blah blah blah blah blah blah blah blah blah blah blah blah blah blah blah blah blah blah blah blah blah blah blah blah blah blah blah blah blah blah blah blah blah blah blah blah blah blah blah blah blah blah blah blah blah blah blah blah blah blah blah blah blah blah blah blah blah blah blah blah blah blah blah blah blah blah blah blah blah blah blah blah blah blah blah blah blah blah blah blah blah blah blah blah blah blah blah blah blah blah blah blah blah blah blah blah blah blah blah blah blah blah blah blah blah blah blah blah blah blah blah blah blah blah blah blah blah blah blah blah blah blah blah blah blah blah blah blah blah blah blah blah blah blah blah blah blah blah blah blah blah blah blah blah blah blah blah blah\n"
          ]
        }
      ]
    },
    {
      "cell_type": "code",
      "source": [
        "# On the first run, you get a warning for going over the window size of\n",
        "# model associated with this tokenized (here 512)\n",
        "long_text_encoded = tokenizer(long_text)"
      ],
      "metadata": {
        "id": "3jwPaDMFhn5b"
      },
      "execution_count": null,
      "outputs": []
    },
    {
      "cell_type": "code",
      "source": [
        "# But the sequence is not truncated by default\n",
        "# Not that we use len() because the encoding's `input_ids` is actually a list!\n",
        "len(long_text_encoded['input_ids'])"
      ],
      "metadata": {
        "colab": {
          "base_uri": "https://localhost:8080/"
        },
        "id": "lcJA88Vii2Mu",
        "outputId": "8673e3ad-4fef-453a-ce9a-f4e85bdf315a"
      },
      "execution_count": null,
      "outputs": [
        {
          "output_type": "execute_result",
          "data": {
            "text/plain": [
              "602"
            ]
          },
          "metadata": {},
          "execution_count": 17
        }
      ]
    },
    {
      "cell_type": "markdown",
      "source": [
        "You can always simply set `truncation=True` and the tokenizer will trunkate to the associate model's window size."
      ],
      "metadata": {
        "id": "eZ0tXqIQkl4i"
      }
    },
    {
      "cell_type": "code",
      "source": [
        "# Truncates sequnces to the model's window size\n",
        "long_text_encoded_trunc = tokenizer(long_text, truncation=True)\n",
        "len(long_text_encoded_trunc['input_ids'])"
      ],
      "metadata": {
        "colab": {
          "base_uri": "https://localhost:8080/"
        },
        "id": "uPMgQPH0kk6C",
        "outputId": "0129e184-8bf4-4452-babd-1dc74792c61f"
      },
      "execution_count": null,
      "outputs": [
        {
          "output_type": "stream",
          "name": "stderr",
          "text": [
            "Asking to truncate to max_length but no maximum length is provided and the model has no predefined maximum length. Default to no truncation.\n"
          ]
        },
        {
          "output_type": "execute_result",
          "data": {
            "text/plain": [
              "602"
            ]
          },
          "metadata": {},
          "execution_count": 18
        }
      ]
    },
    {
      "cell_type": "markdown",
      "source": [
        "## Building the Tensors"
      ],
      "metadata": {
        "id": "-yROKRYaJtha"
      }
    },
    {
      "cell_type": "markdown",
      "source": [
        "Finally, you'll want the tokenizer to return the actual tensors that get fed to the model.\n",
        "\n",
        "Set the `return_tensors` parameter to either `pt` for PyTorch, or `tf` for TensorFlow (Keras):"
      ],
      "metadata": {
        "id": "lrjiWTkGJxxb"
      }
    },
    {
      "cell_type": "code",
      "source": [
        "batch_sentences = [\n",
        "    \"But what about second breakfast?\",\n",
        "    \"Don't think he knows about second breakfast, Pip.\",\n",
        "    \"What about elevensies?\",\n",
        "]\n",
        "encoded_input = tokenizer(batch_sentences, padding=True, truncation=True, return_tensors=\"tf\")\n",
        "print(encoded_input)"
      ],
      "metadata": {
        "colab": {
          "base_uri": "https://localhost:8080/"
        },
        "id": "XRxT-kqjJvTI",
        "outputId": "d913df7f-772b-40ba-b16a-0e5bdeda7e69"
      },
      "execution_count": null,
      "outputs": [
        {
          "output_type": "stream",
          "name": "stdout",
          "text": [
            "{'input_ids': <tf.Tensor: shape=(3, 14), dtype=int32, numpy=\n",
            "array([[  101,  2021,  2054,  2055,  2117,  6350,  1029,   102,     0,\n",
            "            0,     0,     0,     0,     0],\n",
            "       [  101,  2123,  1005,  1056,  2228,  2002,  4282,  2055,  2117,\n",
            "         6350,  1010, 28315,  1012,   102],\n",
            "       [  101,  2054,  2055,  5408, 14625,  1029,   102,     0,     0,\n",
            "            0,     0,     0,     0,     0]], dtype=int32)>, 'attention_mask': <tf.Tensor: shape=(3, 14), dtype=int32, numpy=\n",
            "array([[1, 1, 1, 1, 1, 1, 1, 1, 0, 0, 0, 0, 0, 0],\n",
            "       [1, 1, 1, 1, 1, 1, 1, 1, 1, 1, 1, 1, 1, 1],\n",
            "       [1, 1, 1, 1, 1, 1, 1, 0, 0, 0, 0, 0, 0, 0]], dtype=int32)>}\n"
          ]
        }
      ]
    },
    {
      "cell_type": "markdown",
      "source": [
        "# 🍿 Sentence Classification Example\n",
        "\n",
        "The revisit the (by now quite familiar) task of classifing IMDb movie reviews as either postive or negative.\n",
        "\n",
        "But this time, we'll use a pre-trained transformer as the foundation of our binary text classification task."
      ],
      "metadata": {
        "id": "Ez-dnJYUyKyV"
      }
    },
    {
      "cell_type": "markdown",
      "source": [
        "## Data Loading"
      ],
      "metadata": {
        "id": "KmTvFfESn8SD"
      }
    },
    {
      "cell_type": "code",
      "source": [
        "import tensorflow_datasets as tfds\n",
        "import numpy as np\n",
        "\n",
        "# Define a function to load and prepare the dataset\n",
        "def load_and_prepare_data(split, samples, batch_size):\n",
        "    # Load the dataset for the given split, and take a specified number of samples\n",
        "    ds = tfds.load('imdb_reviews', split=split, as_supervised=True).take(samples)\n",
        "\n",
        "    # Batch the dataset and prefetch to improve performance\n",
        "    ds = ds.batch(batch_size).prefetch(tf.data.experimental.AUTOTUNE)\n",
        "\n",
        "    x, y = [], []\n",
        "\n",
        "    # Iterate over the dataset in batches\n",
        "    for batch_reviews, batch_labels in tfds.as_numpy(ds):\n",
        "        # Decode the reviews and extend the lists\n",
        "        decoded_reviews = [review.decode() for review in batch_reviews]\n",
        "        x.extend(decoded_reviews)\n",
        "        y.extend(batch_labels)\n",
        "\n",
        "    # Convert the lists to NumPy arrays and return them\n",
        "    return np.array(x), np.array(y)\n",
        "\n",
        "train_shape = 1600\n",
        "test_shape = 400\n",
        "batch_size = 4\n",
        "\n",
        "# Load and prepare the train and test datasets\n",
        "train_x, train_y = load_and_prepare_data(tfds.Split.TRAIN, train_shape, batch_size)\n",
        "test_x, test_y = load_and_prepare_data(tfds.Split.TEST, test_shape, batch_size)\n",
        "\n",
        "# Display a few samples from the train dataset\n",
        "print(\"Train samples:\")\n",
        "for i in range(3):\n",
        "    print(f\"Review {i + 1}:\")\n",
        "    print(train_x[i][:50], train_y[i])\n",
        "    print()\n",
        "\n",
        "# Display a few samples from the test dataset\n",
        "print(\"Test samples:\")\n",
        "for i in range(3):\n",
        "    print(f\"Review {i + 1}:\")\n",
        "    print(test_x[i][:50], test_y[i])\n",
        "    print()\n"
      ],
      "metadata": {
        "id": "0lzXYakYO4Xu",
        "colab": {
          "base_uri": "https://localhost:8080/"
        },
        "outputId": "7b9ab6d9-b487-4eba-c9af-53815eb6df43"
      },
      "execution_count": null,
      "outputs": [
        {
          "output_type": "stream",
          "name": "stdout",
          "text": [
            "Train samples:\n",
            "Review 1:\n",
            "This was an absolutely terrible movie. Don't be lu 0\n",
            "\n",
            "Review 2:\n",
            "I have been known to fall asleep during films, but 0\n",
            "\n",
            "Review 3:\n",
            "Mann photographs the Alberta Rocky Mountains in a  0\n",
            "\n",
            "Test samples:\n",
            "Review 1:\n",
            "There are films that make careers. For George Rome 1\n",
            "\n",
            "Review 2:\n",
            "A blackly comic tale of a down-trodden priest, Naz 1\n",
            "\n",
            "Review 3:\n",
            "Scary Movie 1-4, Epic Movie, Date Movie, Meet the  0\n",
            "\n"
          ]
        }
      ]
    },
    {
      "cell_type": "markdown",
      "source": [
        "## Define Model and Tokenizer"
      ],
      "metadata": {
        "id": "z5N-BRBwrAWe"
      }
    },
    {
      "cell_type": "code",
      "source": [
        "from transformers import  TFAutoModelForSequenceClassification\n",
        "\n",
        "\n",
        "model = TFAutoModelForSequenceClassification.from_pretrained(\"distilbert-base-uncased\")\n",
        "tokenizer = AutoTokenizer.from_pretrained(\"distilbert-base-uncased\")"
      ],
      "metadata": {
        "colab": {
          "base_uri": "https://localhost:8080/"
        },
        "id": "NCe32I45rD_K",
        "outputId": "8ff826e3-81f2-44af-9a67-4489214a73c8"
      },
      "execution_count": null,
      "outputs": [
        {
          "output_type": "stream",
          "name": "stderr",
          "text": [
            "Some weights of the PyTorch model were not used when initializing the TF 2.0 model TFDistilBertForSequenceClassification: ['vocab_projector.bias', 'vocab_transform.weight', 'vocab_layer_norm.weight', 'vocab_transform.bias', 'vocab_layer_norm.bias']\n",
            "- This IS expected if you are initializing TFDistilBertForSequenceClassification from a PyTorch model trained on another task or with another architecture (e.g. initializing a TFBertForSequenceClassification model from a BertForPreTraining model).\n",
            "- This IS NOT expected if you are initializing TFDistilBertForSequenceClassification from a PyTorch model that you expect to be exactly identical (e.g. initializing a TFBertForSequenceClassification model from a BertForSequenceClassification model).\n",
            "Some weights or buffers of the TF 2.0 model TFDistilBertForSequenceClassification were not initialized from the PyTorch model and are newly initialized: ['pre_classifier.weight', 'pre_classifier.bias', 'classifier.weight', 'classifier.bias']\n",
            "You should probably TRAIN this model on a down-stream task to be able to use it for predictions and inference.\n"
          ]
        }
      ]
    },
    {
      "cell_type": "code",
      "source": [
        "# can be up to 512 for BERT, (the self attention mechanism used in the early transformers like BERT scales quadratically in the sequence length)\n",
        "max_length = 512"
      ],
      "metadata": {
        "id": "v33GCqFuUw-W"
      },
      "execution_count": null,
      "outputs": []
    },
    {
      "cell_type": "markdown",
      "source": [
        "Data Preprocessing"
      ],
      "metadata": {
        "id": "kjhhiZIysev6"
      }
    },
    {
      "cell_type": "code",
      "source": [
        "# Note the less-than-best practice of referencing variables outside the\n",
        "# function score\n",
        "def convert_example_to_feature(review):\n",
        "    \"\"\"\n",
        "    Tokenize the input text, truncate or pad to fit the maximum length,\n",
        "    and return the processed input as tensors.\n",
        "    \"\"\"\n",
        "    return tokenizer(\n",
        "        review,\n",
        "        add_special_tokens=True,  # Add [CLS] and [SEP] tokens, help the model process and interpret the input data correctly\n",
        "        max_length=max_length,  # Set the maximum input length\n",
        "        truncation=True,  # Truncate input texts longer than the max length\n",
        "        padding=True,  # Pad shorter input texts with [PAD] tokens\n",
        "        return_tensors='tf',  # Return the output as TensorFlow tensors\n",
        "    )   # Review here https://huggingface.co/docs/transformers/main_classes/tokenizer\n",
        "\n",
        "def encode_examples(x, y):\n",
        "    \"\"\"\n",
        "    Encode the input examples using the tokenizer, and return a TensorFlow dataset\n",
        "    containing the processed input data and corresponding labels.\n",
        "    \"\"\"\n",
        "    x_processed = convert_example_to_feature(list(x))\n",
        "    return tf.data.Dataset.from_tensor_slices(((x_processed[\"input_ids\"], x_processed[\"attention_mask\"]), y))"
      ],
      "metadata": {
        "id": "ex2cQOhUU09O"
      },
      "execution_count": null,
      "outputs": []
    },
    {
      "cell_type": "code",
      "source": [
        "# train dataset\n",
        "ds_train_encoded = encode_examples(train_x,train_y).shuffle(buffer_size=train_shape).batch(batch_size).prefetch(buffer_size=tf.data.experimental.AUTOTUNE)\n",
        "\n",
        "# test dataset\n",
        "ds_test_encoded = encode_examples(test_x,test_y).batch(batch_size).prefetch(buffer_size=tf.data.experimental.AUTOTUNE)"
      ],
      "metadata": {
        "id": "z5BpmBt3VF-c"
      },
      "execution_count": null,
      "outputs": []
    },
    {
      "cell_type": "markdown",
      "source": [
        "## Model Fitting"
      ],
      "metadata": {
        "id": "JHSvo0rbuh_H"
      }
    },
    {
      "cell_type": "code",
      "source": [
        "from tensorflow.keras.callbacks import LearningRateScheduler, EarlyStopping\n",
        "\n",
        "# Generally recommended learning rate for Adam 1e-5\n",
        "learning_rate = 1e-5\n",
        "\n",
        "# Number of epochs for training\n",
        "number_of_epochs = 10 # We usually do not need 10, but we have earlystopping!\n",
        "\n",
        "# Learning rate scheduling: warm-up and linear decay\n",
        "def scheduler(epoch, lr):\n",
        "    warmup_epochs = 1\n",
        "    decay_epochs = number_of_epochs - warmup_epochs\n",
        "    if epoch < warmup_epochs:\n",
        "        return lr * (epoch + 1) / warmup_epochs\n",
        "    else:\n",
        "        return lr * (1 - (epoch - warmup_epochs) / decay_epochs)\n",
        "\n",
        "# Advanced Built-in LR scheduler like PolynomialDecay or CosineDecay is also encouraged\n",
        "# See tutorial here for a list of LR scheduler https://www.tensorflow.org/api_docs/python/tf/keras/optimizers/schedules/\n",
        "\n",
        "# Model checkpoint callback\n",
        "checkpoint_filepath = 'Demo_DistilBERT_checkpoint'\n",
        "model_checkpoint_callback = tf.keras.callbacks.ModelCheckpoint(\n",
        "    filepath=checkpoint_filepath,\n",
        "    save_weights_only=True,\n",
        "    monitor='val_accuracy',\n",
        "    mode='max',\n",
        "    save_best_only=True) # Recommended to set this to False, if you are facing a hard task and want to optimize it\n",
        "\n",
        "# Early Stopping callback\n",
        "early_stopping_callback = EarlyStopping(\n",
        "    monitor='val_loss', # You can monitor validation loss or validation accuracy\n",
        "    patience=2, # Number of epochs with no improvement after which training will be stopped\n",
        "    restore_best_weights=True, # Restore the best weights found during training\n",
        "    verbose=1\n",
        ")\n",
        "\n",
        "# Learning rate scheduler callback\n",
        "lr_callback = LearningRateScheduler(scheduler, verbose=1)\n",
        "\n",
        "# choosing Adam optimizer\n",
        "optimizer = tf.keras.optimizers.Adam(learning_rate=learning_rate, epsilon=1e-08)\n",
        "\n",
        "# tf.keras.optimizers.experimental.AdamW(lr=learning_rate, weight_decay = 1e-3) is also commonly used\n",
        "# refer https://www.tensorflow.org/api_docs/python/tf/keras/optimizers/AdamW for more details\n",
        "\n",
        "# We do not have one-hot vectors, so we use sparse categorical cross entropy and accuracy\n",
        "# Note that the output from the model is logits, so we need from_logits=True\n",
        "loss = tf.keras.losses.SparseCategoricalCrossentropy(from_logits=True)\n",
        "metric = tf.keras.metrics.SparseCategoricalAccuracy('accuracy')\n",
        "\n",
        "# Compile the model\n",
        "model.compile(optimizer=optimizer, loss=loss, metrics=[metric])"
      ],
      "metadata": {
        "id": "j-RBW1fhV23V"
      },
      "execution_count": null,
      "outputs": []
    },
    {
      "cell_type": "code",
      "source": [
        "# Model fitting\n",
        "bert_history = model.fit(ds_train_encoded,\n",
        "                         epochs=number_of_epochs,\n",
        "                         validation_data=ds_test_encoded, # because we are lazy\n",
        "                         callbacks=[lr_callback, early_stopping_callback, model_checkpoint_callback])"
      ],
      "metadata": {
        "colab": {
          "base_uri": "https://localhost:8080/"
        },
        "id": "ZrocaUc8VGFT",
        "outputId": "ac73a10e-b880-4ccc-b49c-386c189881f2"
      },
      "execution_count": null,
      "outputs": [
        {
          "output_type": "stream",
          "name": "stdout",
          "text": [
            "\n",
            "Epoch 1: LearningRateScheduler setting learning rate to 9.999999747378752e-06.\n",
            "Epoch 1/10\n"
          ]
        },
        {
          "output_type": "stream",
          "name": "stderr",
          "text": [
            "WARNING:tensorflow:AutoGraph could not transform <function infer_framework at 0x789924ac5bd0> and will run it as-is.\n",
            "Cause: for/else statement not yet supported\n",
            "To silence this warning, decorate the function with @tf.autograph.experimental.do_not_convert\n"
          ]
        },
        {
          "output_type": "stream",
          "name": "stdout",
          "text": [
            "WARNING: AutoGraph could not transform <function infer_framework at 0x789924ac5bd0> and will run it as-is.\n",
            "Cause: for/else statement not yet supported\n",
            "To silence this warning, decorate the function with @tf.autograph.experimental.do_not_convert\n",
            "400/400 [==============================] - 181s 302ms/step - loss: 0.4636 - accuracy: 0.7744 - val_loss: 0.3402 - val_accuracy: 0.8550 - lr: 1.0000e-05\n",
            "\n",
            "Epoch 2: LearningRateScheduler setting learning rate to 9.999999747378752e-06.\n",
            "Epoch 2/10\n",
            "400/400 [==============================] - 121s 302ms/step - loss: 0.2213 - accuracy: 0.9144 - val_loss: 0.2750 - val_accuracy: 0.8925 - lr: 1.0000e-05\n",
            "\n",
            "Epoch 3: LearningRateScheduler setting learning rate to 8.888888664336668e-06.\n",
            "Epoch 3/10\n",
            "400/400 [==============================] - 108s 269ms/step - loss: 0.0937 - accuracy: 0.9706 - val_loss: 0.3596 - val_accuracy: 0.8700 - lr: 8.8889e-06\n",
            "\n",
            "Epoch 4: LearningRateScheduler setting learning rate to 6.9135797578686225e-06.\n",
            "Epoch 4/10\n",
            "400/400 [==============================] - ETA: 0s - loss: 0.0554 - accuracy: 0.9831Restoring model weights from the end of the best epoch: 2.\n",
            "400/400 [==============================] - 110s 274ms/step - loss: 0.0554 - accuracy: 0.9831 - val_loss: 0.4528 - val_accuracy: 0.8450 - lr: 6.9136e-06\n",
            "Epoch 4: early stopping\n"
          ]
        }
      ]
    },
    {
      "cell_type": "code",
      "source": [
        "import matplotlib.pyplot as plt\n",
        "\n",
        "# Extract the history data\n",
        "history_dict = bert_history.history\n",
        "\n",
        "# Extract loss and accuracy values for both training and validation\n",
        "train_loss = history_dict['loss']\n",
        "train_accuracy = history_dict['accuracy']\n",
        "val_loss = history_dict['val_loss']\n",
        "val_accuracy = history_dict['val_accuracy']\n",
        "\n",
        "# Create a range of epoch numbers for the x-axis\n",
        "epochs = range(1, len(train_loss) + 1)\n",
        "\n",
        "# Plot training and validation loss\n",
        "plt.figure(figsize=(4, 4))\n",
        "plt.plot(epochs, train_loss, 'b', label='Training loss')\n",
        "plt.plot(epochs, val_loss, 'r', label='Validation loss')\n",
        "plt.title('Training and Validation Loss')\n",
        "plt.xlabel('Epochs') # Ouch... floats as x-ticks?\n",
        "plt.ylabel('Loss')\n",
        "plt.legend()\n",
        "plt.show()\n",
        "\n",
        "# Plot training and validation accuracy\n",
        "plt.figure(figsize=(4, 4))\n",
        "plt.plot(epochs, train_accuracy, 'b', label='Training accuracy')\n",
        "plt.plot(epochs, val_accuracy, 'r', label='Validation accuracy')\n",
        "plt.title('Training and Validation Accuracy')\n",
        "plt.xlabel('Epochs')\n",
        "plt.ylabel('Accuracy')\n",
        "plt.legend()\n",
        "plt.show()\n"
      ],
      "metadata": {
        "colab": {
          "base_uri": "https://localhost:8080/",
          "height": 803
        },
        "id": "NvewWjxbyxEe",
        "outputId": "0d1a9cb3-2948-484e-d9ec-c6de1e32a9f9"
      },
      "execution_count": null,
      "outputs": [
        {
          "output_type": "display_data",
          "data": {
            "text/plain": [
              "<Figure size 400x400 with 1 Axes>"
            ],
            "image/png": "[encoded data removed]"
          },
          "metadata": {}
        },
        {
          "output_type": "display_data",
          "data": {
            "text/plain": [
              "<Figure size 400x400 with 1 Axes>"
            ],
            "image/png": "[encoded data removed]"
          },
          "metadata": {}
        }
      ]
    },
    {
      "cell_type": "markdown",
      "source": [
        "## Model loading and Evaluation"
      ],
      "metadata": {
        "id": "XLLUpvXG7G3v"
      }
    },
    {
      "cell_type": "code",
      "source": [
        "# In case you want to load your trained_model\n",
        "\n",
        "# Model initialization\n",
        "loaded_model = TFAutoModelForSequenceClassification.from_pretrained(\"distilbert-base-uncased\")\n",
        "\n",
        "# Load the weights from the checkpoint\n",
        "checkpoint_filepath = 'Demo_DistilBERT_checkpoint'\n",
        "loaded_model.load_weights(checkpoint_filepath)\n",
        "\n",
        "# Compile the model with the same optimizer, loss, and metric used during training\n",
        "# (This is because we'd only saved the model weights)\n",
        "optimizer = tf.keras.optimizers.Adam(learning_rate=learning_rate, epsilon=1e-08)\n",
        "loss = tf.keras.losses.SparseCategoricalCrossentropy(from_logits=True)\n",
        "metric = tf.keras.metrics.SparseCategoricalAccuracy('accuracy')\n",
        "loaded_model.compile(optimizer=optimizer, loss=loss, metrics=[metric])\n",
        "\n",
        "# Evaluate the model on the test dataset\n",
        "eval_results = loaded_model.evaluate(ds_test_encoded)\n",
        "\n",
        "print(f\"Test Loss: {eval_results[0]}, Test Accuracy: {eval_results[1]}\")\n",
        "\n",
        "# You can also continue training from here\n",
        "# number_of_epochs = ...\n",
        "# bert_history = loaded_model.fit(ds_train_encoded, epochs=number_of_epochs, validation_data=ds_test_encoded, callbacks=[lr_callback, early_stopping_callback, model_checkpoint_callback])"
      ],
      "metadata": {
        "colab": {
          "base_uri": "https://localhost:8080/"
        },
        "id": "b3v0MCKr6QeP",
        "outputId": "606644a2-a6dd-44ec-cff9-864271c69680"
      },
      "execution_count": null,
      "outputs": [
        {
          "output_type": "stream",
          "name": "stderr",
          "text": [
            "Some weights of the PyTorch model were not used when initializing the TF 2.0 model TFDistilBertForSequenceClassification: ['vocab_projector.bias', 'vocab_transform.weight', 'vocab_layer_norm.weight', 'vocab_transform.bias', 'vocab_layer_norm.bias']\n",
            "- This IS expected if you are initializing TFDistilBertForSequenceClassification from a PyTorch model trained on another task or with another architecture (e.g. initializing a TFBertForSequenceClassification model from a BertForPreTraining model).\n",
            "- This IS NOT expected if you are initializing TFDistilBertForSequenceClassification from a PyTorch model that you expect to be exactly identical (e.g. initializing a TFBertForSequenceClassification model from a BertForSequenceClassification model).\n",
            "Some weights or buffers of the TF 2.0 model TFDistilBertForSequenceClassification were not initialized from the PyTorch model and are newly initialized: ['pre_classifier.weight', 'pre_classifier.bias', 'classifier.weight', 'classifier.bias']\n",
            "You should probably TRAIN this model on a down-stream task to be able to use it for predictions and inference.\n"
          ]
        },
        {
          "output_type": "stream",
          "name": "stdout",
          "text": [
            "100/100 [==============================] - 13s 85ms/step - loss: 0.2750 - accuracy: 0.8925\n",
            "Test Loss: 0.27501195669174194, Test Accuracy: 0.8924999833106995\n"
          ]
        }
      ]
    },
    {
      "cell_type": "markdown",
      "source": [
        "## Summary\n",
        "\n",
        "1. **Loading and preprocessing the dataset**: The code begins by importing necessary libraries and loading the IMDB movie reviews dataset from TensorFlow Datasets. It preprocesses the dataset by taking a specified number of samples for training and testing, batching, and prefetching for better performance. The data is then decoded and converted into NumPy arrays.\n",
        "\n",
        "2. **Importing DistilBERT model and tokenizer**: The DistilBERT model is imported using Hugging Face's Transformers library, along with the tokenizer. A custom function `convert_example_to_feature` is defined to tokenize and preprocess the input text using the tokenizer, including adding special tokens, padding, and truncating.\n",
        "\n",
        "3. **Creating TensorFlow datasets**: Another custom function `encode_examples` is defined to create a TensorFlow dataset from the tokenized and preprocessed input text and labels.\n",
        "\n",
        "4. **Encoding and batching the datasets**: The training and test datasets are encoded using the `encode_examples` function and batched, with the training dataset also being shuffled.\n",
        "\n",
        "5. **Compiling the model**: The model is compiled with the Adam optimizer, learning rate 1e-5, and a sparse categorical cross-entropy loss function. A learning rate scheduler with warm-up and linear decay is defined, along with an early stopping and model checkpoint callback.\n",
        "\n",
        "6. **Fine-tuning and evaluation**: The model is fine-tuned on the training data, and its performance is evaluated on the test data. The best model weights are saved in a checkpoint file. Some plots are also generated\n",
        "\n",
        "7. **Loading the trained model**: The code also demonstrates how to load a pretrained DistilBERT model and the saved checkpoint file, compile the model with the same optimizer, loss function, and metric, and evaluate the model on the test dataset. This loaded model can be used for further fine-tuning or predictions.\n",
        "\n"
      ],
      "metadata": {
        "id": "uGPymUDnwZ_X"
      }
    },
    {
      "cell_type": "markdown",
      "source": [
        "## Tips for fine-tuning\n",
        "\n",
        "Below is what used:\n",
        "1. **Learning rate scheduling**: A custom learning rate scheduler with a warm-up phase and linear decay was used. This helps the model gradually adapt to the task-specific data and slowly decrease the learning rate as training progresses.\n",
        "\n",
        "2. **Early stopping**: Early stopping with a patience of 2 epochs was implemented to prevent overfitting by stopping the training process if there is no improvement in the validation loss for a specified number of epochs.\n",
        "\n",
        "3. **Model checkpointing**: The best model weights were saved during training based on validation accuracy, enabling the loading of the best-performing model later for further fine-tuning or prediction.\n",
        "\n",
        "\n",
        "Additional techniques that can be helpful in fine-tuning BERT models:\n",
        "\n",
        "1. **Gradient clipping**: Gradient clipping can help prevent exploding gradients during training, which can lead to unstable learning dynamics. This can be added to the optimizer as follows:\n",
        "\n",
        "```\n",
        "optimizer = tf.keras.optimizers.Adam(learning_rate=learning_rate, epsilon=1e-08, clipnorm=1.0)\n",
        "```\n",
        "\n",
        "\n",
        "2. **Weight decay**: Using the AdamW optimizer, which includes weight decay regularization, can help improve the model's generalization by applies a direct modification to the weights by shrinking them towards zero, independent of the adaptive learning rates:\n",
        "\n",
        "```\n",
        "from tensorflow.keras.optimizers.experimental import AdamW\n",
        "optimizer = AdamW(learning_rate=learning_rate, weight_decay=1e-3)\n",
        "```\n",
        "\n",
        "\n",
        "3. **Reduce learning rate on plateau**: Instead of using a custom learning rate scheduler, the `ReduceLROnPlateau` callback can be used to automatically reduce the learning rate when the validation loss plateaus:\n",
        "\n",
        "```\n",
        "from tensorflow.keras.callbacks import ReduceLROnPlateau\n",
        "reduce_lr_on_plateau = ReduceLROnPlateau(monitor='val_loss', factor=0.1, patience=2, verbose=1)\n",
        "```\n",
        "This callback can then be added to your list of callbacks during model.fit()\n",
        "\n"
      ],
      "metadata": {
        "id": "_z1nF5dx0aHw"
      }
    },
    {
      "cell_type": "markdown",
      "source": [
        "## Trainer\n",
        "\n",
        "Hugging Face's Trainer (https://huggingface.co/docs/transformers/v4.17.0/en/main_classes/trainer) is a high-level, easy-to-use training and evaluation wrapper designed specifically for fine-tuning and training transformer models. It provides a straightforward way to train, fine-tune, and evaluate models on various tasks, while handling most of the underlying complexities, such as data loading, evaluation metrics, and distributed training.\n",
        "\n",
        "Below is an example:\n",
        "\n",
        "```\n",
        "# Define the metric (accuracy)\n",
        "def compute_metrics(eval_pred):\n",
        "    logits, labels = eval_pred\n",
        "    predictions = np.argmax(logits, axis=-1)\n",
        "    return {\"accuracy\": accuracy_score(labels, predictions)}\n",
        "training_args = TrainingArguments(\n",
        "    output_dir=\"./results\",\n",
        "    num_train_epochs=5,\n",
        "    per_device_train_batch_size=batch_size,\n",
        "    per_device_eval_batch_size=batch_size,\n",
        "    evaluation_strategy=\"epoch\",\n",
        "    logging_dir=\"./logs\",\n",
        "    learning_rate=3e-5,\n",
        "    weight_decay=1e-3,\n",
        "    warmup_steps=1,\n",
        "    save_strategy=\"epoch\",\n",
        "    load_best_model_at_end=True,\n",
        "    metric_for_best_model=\"accuracy\",\n",
        ")\n",
        "\n",
        "trainer = Trainer(\n",
        "    model=model,\n",
        "    args=training_args,\n",
        "    train_dataset=train_dataset,\n",
        "    eval_dataset=test_dataset,\n",
        "    compute_metrics=compute_metrics,\n",
        ")\n",
        "\n",
        "# Train and evaluate the model\n",
        "trainer.train()\n",
        "trainer.evaluate()\n",
        "```\n",
        "\n",
        "For serious deep learning models with distributed and mixed-precision training, please consider Hugging Face's accelerate https://huggingface.co/docs/accelerate/index"
      ],
      "metadata": {
        "id": "45v4pzI11SPj"
      }
    },
    {
      "cell_type": "markdown",
      "source": [
        "# GPT-2\n",
        "# Fine-Tuning an LLM on the Language Model Task Itself\n",
        "\n",
        "Above we saw how to use transfer learning to adapt an encoder model like DistilBERT to a new task such as sentence classification.\n",
        "\n",
        "Below we will see an example of how to fine-tune a decoder-based model like GPT-2. We'll be using model's original language model training task, but now using a new dataset.\n",
        "\n",
        "We'd like to use the DistilGPT-2 model from HuggingFace to generate some text about COVID-19. There is just one problem: this model was pre-trained on text that predates the pandemic and so the model doesn't 'know' anything about COVID.\n",
        "\n",
        "To remedy this, we will fine tune the model on a dataset of COVID related news articles."
      ],
      "metadata": {
        "id": "e6_no5kRyJ1l"
      }
    },
    {
      "cell_type": "code",
      "source": [
        "start_time = time.time()\n",
        "# Download\n",
        "dataset_path = tf.keras.utils.get_file(\n",
        "    origin=\"https://storage.googleapis.com/cs109b/datasets/covid.zip\",\n",
        "    extract=True)\n",
        "dataset_path = dataset_path.replace(\".zip\",\"\")\n",
        "print(\"dataset_path:\",dataset_path)\n",
        "execution_time = (time.time() - start_time)/60.0\n",
        "print(\"Download execution time (mins)\",execution_time)"
      ],
      "metadata": {
        "colab": {
          "base_uri": "https://localhost:8080/"
        },
        "id": "yoGB5ePcea5v",
        "outputId": "62155b76-5914-455e-c4ea-5eb76cb4e93b"
      },
      "execution_count": null,
      "outputs": [
        {
          "output_type": "stream",
          "name": "stdout",
          "text": [
            "Downloading data from https://storage.googleapis.com/cs109b/datasets/covid.zip\n",
            "6038181/6038181 [==============================] - 0s 0us/step\n",
            "dataset_path: /root/.keras/datasets/covid\n",
            "Download execution time (mins) 0.01209179957707723\n"
          ]
        }
      ]
    },
    {
      "cell_type": "code",
      "source": [
        "# Load all the paths to text files\n",
        "training_data = []\n",
        "text_files = os.listdir(dataset_path)\n",
        "training_data.extend([os.path.join(dataset_path,f) for f in text_files])\n",
        "\n",
        "# Subset your training data for demo, full datset can take a long time to train\n",
        "subset_data = True\n",
        "if subset_data:\n",
        "  training_data = training_data[:300]\n",
        "\n",
        "# Load the text content\n",
        "for idx, path in enumerate(training_data):\n",
        "  # Load text\n",
        "  with open(path) as file:\n",
        "    training_data[idx] = file.read()\n",
        "\n",
        "print(\"training_data count:\",len(training_data))"
      ],
      "metadata": {
        "colab": {
          "base_uri": "https://localhost:8080/"
        },
        "id": "ZBtr3-G_ekD8",
        "outputId": "b7dd788f-0cdc-401d-e0e7-87f24beec04e"
      },
      "execution_count": null,
      "outputs": [
        {
          "output_type": "stream",
          "name": "stdout",
          "text": [
            "training_data count: 300\n"
          ]
        }
      ]
    },
    {
      "cell_type": "code",
      "source": [
        "# Generate a random sample of index\n",
        "data_samples = np.random.randint(0,high=len(training_data)-1, size=10)\n",
        "for i,data_idx in enumerate(data_samples):\n",
        "  print(\"Text:\",training_data[data_idx])"
      ],
      "metadata": {
        "colab": {
          "base_uri": "https://localhost:8080/"
        },
        "id": "UIa8sbM3ekGf",
        "outputId": "ab742ad5-7e6b-44c2-d5f9-e78d17e21f75"
      },
      "execution_count": null,
      "outputs": [
        {
          "output_type": "stream",
          "name": "stdout",
          "text": [
            "Text: Rate of new US hepatitis C infections rises threefold in the past decade, new report finds  (CNN)The annual rate of newly reported hepatitis C infections in the United States has increased threefold, according to the US Centers for Disease Control and Prevention. A new CDC report finds that the annual rate rose from a rate of 0.3 cases per 100,000 people in 2009 to a rate of 1.2 per 100,000 people in 2018. That report also makes new recommendations for all adults to get screened for hepatitis C at least once in their lifetimes. The new Vital Signs report included data on confirmed acute hepatitis C cases between 2009 and 2018 from the CDC's National Notifiable Diseases Surveillance System. Hepatitis C is the most commonly reported bloodborne infection in the United States. The report, published in the CDC's Morbidity and Mortality Weekly Report on Thursday, finds that the highest rate of new hepatitis C cases in 2018 was among younger adults ages 20 to 39. Among adults ages 20 to 29, rates increased about 300% from 0.7 per 100,000 in 2009 to 3.1 per 100,000 in 2018. Among adults ages 30 to 39, rates increased about 400%, from 0.5 per 100,000 in 2009 to 2.6 per 100,000 in 2018, according to the report.  According to the CDC, hepatitis C previously was seen as a concern primarily for baby boomers and people with risk factors, such as injection drug use, but the new data finds that in 2018: Millennials, or those born during 1981 to 1996, accounted for 36.5% of newly reported chronic hepatitis C infections.Baby boomers accounted for 36.3% of newly reported chronic infections.Generation X, born during 1966 to 1980, accounted for 23.1% of newly reported chronic infections. \"Following a decade of sharp increases in acute hepatitis C infections, particularly among young adults, the rates of newly reported chronic infections among baby boomers and millennials are now equal, demonstrating that even younger generations are at risk,\" the researchers wrote in the new report.  They wrote that diagnosing hepatitis C infection \"is a necessary first step to linking persons to cure to prevent life-threatening consequences of long-term chronic infections and transmission to others.\" The CDC announced in the report that \"new CDC hepatitis C testing recommendations advise screening all adults and pregnant women,\" so that adults 18 and older are screened at least once in their lifetime and women are screened during each pregnancy. Previously, the agency recommended testing only for adults born from 1945 through 1965, and for people with certain risk factors, regardless of age. Now with the new data, \"these findings highlight the need for immediate implementation of the new CDC universal hepatitis C screening recommendations for all adults and pregnant women,\" the researchers wrote in the report. The new CDC recommendations are similar to updated recommendations made in March by the US Preventive Services Task Force, which recommended screening for hepatitis C infection in all adults ages 18 to 79 without known liver disease, regardless of their risk -- expanding its previous recommendation to screen only adults born between 1945 and 1965, and others at high risk. Yet differing from the new CDC recommendations, the USPSTF recommendations include an upper age limit and do not recommend screening during every pregnancy.  Lauren Canary, an epidemiologist and director of the National Viral Hepatitis Roundtable, applauded the CDC's new recommendations in an email on Wednesday, ahead of their release. \"All U.S. adults should be screened at least once for hepatitis C. Pregnant persons should be screened with every pregnancy just as they are for other infectious diseases, and those at continued risk for hepatitis C should be screened regularly as recommended by their primary care providers,\" Canary said in the email. \"The universal screening for hepatitis C is critical at this time as those with underlying health conditions, especially liver disease, are at an increased risk for COVID-19,\" Canary said. \"However, 40% of Americans with hepatitis C don't even know that they have it. The CDC recommendations will help direct the public health response to this ongoing infectious disease epidemic as cases continue increasing.\"  \n",
            "Text: Here's a list of disinfectants you can use against coronavirus  (CNN)The U.S. Environmental Protection Agency is arming consumers with a list of disinfectants that people can use to protect themselves from the novel coronavirus. The federal agency released a five-page list of chemicals and products Thursday that it says are strong enough to ward off \"harder-to-kill\" viruses than SARS-CoV-2, the virus that's responsible for the disease. \"Using the correct disinfectant is an important part of preventing and reducing the spread of illnesses along with other critical aspects such as hand washing,\" EPA Administrator Andrew Wheeler said in a statement. \"There is no higher priority for the Trump Administration than protecting the health and safety of Americans. EPA is providing this important information in a public and transparent manner on disinfectant products to help reduce the spread of COVID-19,\" he said. The EPA says it's best to follow the instructions on the disinfectant's label and pay attention to the how long the product should be on the surface you're cleaning.  In a statement to CNN, the EPA said companies can apply for an \"emerging pathogens claim\" based on previously approved claims for harder-to-kill viruses. The agency reviews them and determines whether the company can safely make that claim.  One important fact to note, however: handwashing with soap and water is still the best way to prevent transmission of the virus, according to the Centers for Disease Control and Prevention.  That's because from what we know so far, the novel coronavirus is thought to spread primarily by people and their respiratory droplets -- think coughs, sneezes, spit. In other words, person-to-person transmission is most common.  While it's possible that people who touch surfaces or objects contaminated with the virus and then touch their mouths or eyes can also become infected, this may not be the main way the virus spreads, the CDC said. So disinfectant wipes can only go so far.  Here are some of the registered disinfectants on the EPA's list: Clorox Multi Surface Cleaner + Bleach Clorox Disinfecting Wipes Clorox Commercial Solutions® Clorox® Disinfecting Spray Lysol brand Heavy-Duty Cleaner Disinfectant Concentrate Lysol Disinfectant Max Cover Mist Lysol brand Clean & Fresh Multi-Surface Cleaner Purell Professional Surface Disinfectant Wipes Sani-Prime Germicidal Spray  You can read the full list of disinfectants here. CNN's Scottie Andrew contributed to this report. \n",
            "Text: FDA rejects oleandrin, an unproven coronavirus therapeutic pushed by MyPillow CEO, as a dietary supplement ingredient  (CNN)The US Food and Drug Administration has rejected a submission from Phoenix Biotechnology Inc. to market oleandrin as a dietary supplement ingredient, citing \"significant concerns\" about the safety evidence the company presented. Last month, MyPillow CEO Mike Lindell, who recently joined the board of Phoenix Biotechnology and has a financial stake in the company, said he had participated in a July meeting at the White House with President Donald Trump regarding the use of oleandrin as a potential therapeutic for the coronavirus.  The extract comes from the Nerium oleander plant; the raw oleander plant is highly toxic and consuming it can be fatal. There are no peer-reviewed, published studies on the impact of oleandrin on Covid-19, and there's no public evidence it has been studied in patients with Covid-19.  On June 2, Phoenix Biotechnology submitted oleandrin to the FDA as a new ingredient in dietary supplements, describing the dosage and saying it's intended only for adults. If a dietary supplement contains a new ingredient, manufacturers must notify the FDA, and the agency will review it for safety -- not effectiveness -- and determine whether it may be marketed as a dietary supplement. The FDA's response letter, dated August 14, was posted by the agency on Wednesday. It said the company had already tested oleandrin as a potential prescription drug and could not at the same time seek permission to sell it as a supplement -- a category with almost no oversight. Even if it hadn't been excluded from the definition of a dietary supplement under the law, the agency had \"significant concerns about the evidence included in your submission as a basis for concluding that a dietary supplement containing 'Oleandrin' will reasonably be expected to be safe\" if used the way the company described.   The FDA said Phoenix Biotechnology provided evidence of a history of medicinal use of Nerium oleander extracts and some evidence of preclinical and clinical studies, but the safety evidence was not \"qualitatively and quantitatively\" related to oleandrin as a supplement. \"Studies performed in advanced cancer patients generally cannot establish the safety of your ingredient in its intended population of normal healthy adults, and you did not provide any information to indicate that such extrapolation between different populations would be scientifically valid,\" the FDA's letter said. The FDA's letter did not mention using the extract as a treatment for Covid-19. Lindell, who has no scientific background or medical training, has said previously he was so enthusiastic about the product as a Covid-19 treatment that he had started taking the extract as a prophylactic and has encouraged his friends to do the same.  He had brought his research to Housing and Urban Development Secretary Dr. Ben Carson, a member of the White House Coronavirus Task Force. Lindell said in July that Carson was \"just amazed,\" and thought \"it was very exciting seeing all the data.\" After Lindell met with Trump in July, he described the President's response to the extract as \"enthusiastic.\" Lindell told CNN in July that Trump wanted the FDA to \"do its course.\"  When asked about the extract in August, Trump said he had \"heard about\" oleandrin and said, \"We'll look at it, we'll look at it, we're looking at a lot of different things.\" It's unclear if Trump raised the issue with the FDA.  \n",
            "Text: President Donald Trump has Covid-19. How serious is his risk?  (CNN)President  Donald Trump, who says he and first lady Melania Trump have tested positive for coronavirus, has several risk factors for more severe Covid-19 symptoms. He is in a high-risk group simply by virtue of his age -- he is 74 -- and his weight. Trump is clinically obese, and obesity is a risk factor for a more severe form of the illness. According to the US Centers for Disease Control and Prevention, people in the 65-74 age range face a five times greater risk of hospitalization and a 90 times greater risk of death from Covid-19 compared to young adults between the ages of 18-29.  Based on his physical in April, CNN reported in June that President Trump weighed 244 pounds and is 6 feet 3 inches tall. That gives him a body mass index of 30.5, making him technically, if mildly, obese. Obesity triples the risk of hospitalization from Covid-19, according to the CDC. Trump is also a male, and men are more likely to die or suffer severe illness from coronavirus than women, the leading health agency reported. But  it's not known if Trump has other medical conditions that could put him into a high-risk group. According to his latest physical, his blood pressure is only slightly elevated. There is no evidence he has cancer, kidney disease, diabetes or other conditions known to put people at higher risk. The President's physician, Dr. Sean Conley said his last physical was conducted in April, and \"there were no findings of significance or changes to report.\" After Trump's physical in 2018, Trump's then-physician Dr. Ronny Jackson said Trump underwent a coronary calcium CT scan as part of his routine physical exam. His score was 133, and anything over 100 indicates his arteries are at least partially blocked with plaque. According to Trump's official medical records, in 2009 his coronary calcium score was 34 and in 2013, it was 98. The score of 133 revealed there had been a steady build-up of plaque in Trump's blood vessels, indicating moderate heart disease. But Trump has been taking statin drugs to lower his cholesterol and it was at normal levels at his last physical.  However, not everything about Trump's health is known. Trump made an unannounced visit to Walter Reed National Military Medical Center on November 16, 2019, spending a little more than two hours undergoing health exams as part of his physical, a trip that was notably secretive, though.  In the memo about Trump's physical released in June, the White House physician said Trump underwent additional tests at the White House after the initial visit to Walter Reed. First Lady's risks At 50, first lady Melania Trump is not in the highest risk age category for more severe symptoms of Covid-19, but as people get older, the risk of becoming severely ill increases, according to the CDC. People aged 50 to 64 have a three times higher risk of being hospitalized with coronavirus and 30 times the risk of death compared to people 18 to 29. The first lady, a former model, says she maintains a healthy diet and is in good shape.  She underwent a procedure in May 2018 for what the White House described as a benign kidney condition. The administration did not elaborate on the condition or the operation, described as an embolization procedure. Such procedures involve guiding a tube into an artery to non-invasively choke off blood flow to growths or tumors. People with kidney disease of any stage are at an increased risk for severe illness from Covid-19, according to the National Kidney Foundation and the CDC. But it is unclear whether the first lady has kidney disease and if so, how serious it is. Little else is known about her general health. Most people never get seriously ill from coronavirus and it might take several days before it's clear whether either Trump or the first lady will even experience symptoms and, if they do, how serious they might be. \"It is going to take time for us to see what's going to happen with the President and first lady,\" former Baltimore Health Commissioner Dr. Leana Wen told CNN's Don Lemon.  \"It's going to take maybe a week or so before they may develop symptoms,\" Wen, an emergency room doctor at George Washington Medical Center, said.  \"Between the time they develop symptoms and between the time that they get very ill, we're talking about another week or two weeks after that,\" the emergency room doctor at George Washington Medical Center said. \"So, we are going to be waiting for a while to see what happens with the President of the United States.\" Shelby Lin Erdman contributed to this story. \n",
            "Text: It's official: The CDC wants you to wear a mask  (CNN)The science shows face masks work both to protect the wearer and to protect others from coronavirus, and everyone needs to wear one when around other people in public, the Centers for Disease Control and Prevention said Tuesday. Even cloth face masks help enough to be worthwhile, three top CDC officials said in a commentary published in the Journal of the American Medical Association. While community use of face coverings has increased substantially, particularly in jurisdictions with mandatory orders, resistance continues,\" CDC Director Dr. Robert Redfield, CDC's chief medical officer Dr. John Brooks and Deputy Director for Infectious Diseases Dr. Jay Butler said in a joint editorial. There is \"ample evidence\" that people who have no symptoms and may not realize they are infected may be driving the ongoing surge in infections, they wrote. Redfield has been increasingly vocal about his support for the use of face masks. Setting an example \"I'm glad to see the President wear a mask this week, and the Vice President,\" Redfield said during a webinar with JAMA. , \"Clearly, in their situation, they can easily justify they don't need to because of all the testing around them, and they know they're not infected.\"  But Redfield added: \"We need for them to set the example.\"  Redfield said in another webinar that masks will be key to opening schools. \"We're not defenseless against this virus. We actually have face coverings and I do think the more confidence that the American public has - that face coverings are not a symbol, but they're actually a very important preventive intervention that can really block this virus,\" he said during a Buck Institute briefing. \"We are getting more and more data so I can be more and more aggressive in relating that.\"  The CDC also published details on Tuesday of a study that found two hairdressers in Springfield, Missouri who were infected with coronavirus did not infect any of 139 clients they worked with, probably because they wore face masks.  \"Covering mouths and noses with filtering materials serves two purposes: personal protection against inhalation of harmful pathogens and particulates, and source control to prevent exposing others to infectious microbes that may be expelled during respiration,\" the three officials wrote.  Even home-made, cloth masks help. They can catch the particles that carry virus, the CDC said \"However, face covering is not needed all the time. It is probably safe for individuals and safe for others to drive alone or to walk or jog alone on an uncrowded route without a face covering,\" they advised.  \"But when individuals choose to go out or must be close to others in public, a cloth face covering can help reduce the spread of COVID-19 from asymptomatic individuals or others.\" Health experts need to spread the message, the CDC said. \"Innovation is needed to extend their physical comfort and ease of use,\" they added. But good recommendations can \"help persons feel confident in their ability to obtain and wear cloth face coverings consistently and correctly.\" \"At this critical juncture when COVID-19 is resurging, broad adoption of cloth face coverings is a civic duty, a small sacrifice reliant on a highly effective low-tech solution that can help turn the tide favorably in national and global efforts against COVID-19.\" Dr. Anthony Fauci, Director of the National Institute of Allergy and Infectious Diseases, said an early misstep in communication hurt the U.S. public's acceptance of masks.  At the beginning of the pandemic, health officials in the country were trying to make sure health care workers had enough personal protective equipment, including masks, as hospitals filled with Covid-19 patients. \"What got, I think, a little bit misrepresented in that message was not that it was just we wanted to preserve them, but they don't really work that well anyway,\" Fauci said in an interview with CNN on the Crooked Media podcast \"America Dissected.\" \"That was the mistake, because in fact there's no doubt that wearing a mask is better than not having a mask for the general public.\"  Amanda Watts and Gisela Crespo contributed to this story \n",
            "Text: Racial disparities in Covid-19 case rates among young people were prevalent early in the pandemic, CDC study says  (CNN)Early in the pandemic, young people from all racial and ethnic minority groups had higher Covid-19 case rates than non-Hispanic White people under the age of 25, according to a study published Wednesday by the US Centers for Disease Control and Prevention.  Between January and April, case rates compared to young White people were about 1.5 times higher among young Asian people, about 2.5 times higher among young Black people and Native Hawaiian/Pacific Islanders, nearly 4 times higher among young Hispanic people and about 4.6 times higher among young American Indians.  After April, case rates among young White people started to increase, decreasing some disparities in this age group. But among those under the age of 25, Covid-19 incidence relative to White people was persistently higher among young Hispanics, American Indians and Native Hawaiian/Pacific Islanders. In 2020 overall, Hispanic people under the age of 25 were about 1.5 times more likely than young White people to have Covid-19, while young American Indians were about 1.7 times more likely and Native Hawaiian/Pacific Islanders were about 2.3 times more likely.  The Covid-19 pandemic has disproportionately affected racial and ethnic minority groups in the US, with pronounced disparities in severe outcomes. Social determinants of health likely play a role in disparities in case spread, as well.   \"The large racial and ethnic COVID-19 disparities identified early in the pandemic in this analysis might reflect differential ability to participate in early mitigation measures, such as stay-at-home orders,\" according to the report.  \"Racial and ethnic minority groups are disproportionately represented in essential work settings, making it difficult for youths and parents to stay at home; a higher likelihood of living in a multigenerational household also increases the risk for household exposures.\" The CDC analyzed about 690,000 Covid-19 cases among people under the age of 25 in 2020. Cases were selected from 15 states and Washington, DC, focusing on jurisdictions where race and ethnicity were more frequently reported. The CDC study is limited in its scope. Case data from the 16 jurisdictions represents only about a quarter of the national population of people under the age of 25, and race and ethnicity data was incomplete for about a quarter of the cases analyzed. Also, disparities in access to testing may lead to an underestimation of disparities in reported cases.  \n",
            "Text: Coronavirus spread 'under the radar' in US major cities since January, researchers say  (CNN)The novel coronavirus silently spread in the United States earlier than previously thought, infecting tens of thousands of people in New York and other major cities, researchers say. A new model by the Network Science Institute at Northeastern University in Boston shows the first infections came from China in early or mid-January, and that the virus went undetected because many people were not presenting symptoms. \"The disease spread under the radar,\" Alessandro Vespignani, director of the Network Science Institute, said on \"CNN Newsroom\" on Thursday. The model suggests that while Americans were still focused on China, about 28,000 people in major cities -- such as New York, San Francisco and Seattle -- were infected by March 1. The virus circulated in the community of Santa Clara County, California about three weeks before the first known US coronavirus-related death in Washington state, Dr. Sara Cody, the county's public health director, told Anderson Cooper on Thursday. Earlier this week, Santa Clara County officials announced that tissue samples confirmed two people who died in early February tested positive for coronavirus. That month, a number of physicians saw patients, without travel histories, who had flu-like symptoms.  But \"all indicators had suggested that it was a very low risk (for coronavirus),\" Cody said. Now, however, Cody said it's obvious \"the virus was circulating perhaps fairly widely in our county.\" Several states, including California and Indiana, have been retracing their coronavirus timelines after discovering that the highly infectious disease started killing people earlier than previously known. These discoveries have emphasized just how much about this pandemic remains uncertain and unknown. Four months since the novel coronavirus was first discovered in Wuhan, China, experts worldwide still do not fully understand how the virus started, how it impacts the body or what treatments are effective.  US has enough tests for initial phase of reopening, FDA commissioner says Stephen Hahn, commissioner for the US Food and Drug Administration, said there are enough tests in the US for states looking to reopen under phase one of President Donald Trump's guidelines for reopening plan for the country. Hahn, a member of the White House coronavirus task force, said tests that typically take years to develop are being created in weeks. His agency recently approved 62 diagnostic tests, including four antibody tests.  \"We are confident that we have enough tests for phase one of the reopening America plan but we do acknowledge the fact that we need to keep the pressure on developing more tests, getting more tests out there,\" Hahn told Anderson Cooper on Thursday during CNN's coronavirus town hall. State officials have been calling for the federal government's help to fulfill testing shortages. Dr. Anthony Fauci, director of the National Institute of Allergy and Infectious Diseases, said on Thursday shortages are limiting the country's ability to test more. \"I am not overly confident right now at all that we have what it takes to do that,\" Fauci said at a Time 100 Talks interview. \"We're getting better and better at it, as the weeks go by, but we are not in a situation where we say we're exactly where we want to be with regard to testing.\" Many more New Yorkers could have had the virus, study suggests A preliminary study of 3,000 New Yorkers found that 13.9% tested positive for coronavirus antibodies, Gov. Andrew Cuomo said Thursday. If those rates hold for the state's 19.5 million people, then about 2.7 million people in the state had the virus -- numbers that are multiple times higher than the official state counts. The tests were performed on 3,000 random adults who were outside of the home, he said, so it was not an entirely random sample. Dr. Amesh Adalja, an infectious disease expert at Johns Hopkins University, said New York's antibody testing results could be good news, as it means that the virus's fatality rate may be lower than the official fatality rate. \"It tells us this virus is much more widespread than we thought,\" he said. \"The hospitalization rate may be much lower because the denominator (of people infected) is so much bigger. \"I think it's also in a way reassuring, meaning that we are developing some immunity to this. There are people that have mild illness that don't know they are sick, and those individuals may be part of how we move forward as we start to think about reopening certain parts of the country.\" Earlier spread than known California Gov. Gavin Newsom has asked coroners to review California cases dating to December after autopsies revealed two people in the state died of coronavirus in early and mid-February -- up to three weeks before the first known US death from the virus. \"We are doing the same across the state and in other counties as well to ultimately help guide a deeper understanding of when this pandemic really started to impact Californians directly,\" Newsom said Wednesday. In Indiana, too, officials are tracking cases going back to at least mid-February --- weeks before the state announced its first case in early March. As of Thursday, there were more than 873,000 cases in the United States and at least 49,000 people have died from the virus, according to a tally by Johns Hopkins University.  Governors and mayors feud over reopening The decision to reopen even as coronavirus deaths linger and cases continue to increase is pitting governors against mayors across the country. In Georgia, Gov. Brian Kemp made the most aggressive move yet to get the state's economy humming by allowing businesses such as barbershops, nail salons, bowling alleys and gyms to reopen Friday. A day after criticizing Kemp's decision, President Donald Trump said Thursday he may extend social distancing guidelines beyond May 1 if he doesn't feel the country is in a safe place. \"We may go beyond that,\" Trump said during a White House coronavirus briefing when asked whether he might need to re-up the guidelines when they expire at the end of the month. The National Governors Association released its \"Roadmap to Recovery,\" a guide for governors that lays out 10 steps that need to be taken in order for states to reopen their economies. The report says that testing capacity remains \"inadequate\" and says states who fail to properly test and trace Covid-19 cases could have significant outbreaks. \"States that fail to do so, or without adequate test and trace capability in place, will only notice problems when individuals begin to crowd emergency departments and outbreaks among the most at risk are reported,\" the report says. At that point, it will be too late to avoid wider spread that could overwhelm the health care system, it says. Other states have begun to reopen but in slower steps. In neighboring South Carolina, Gov. Henry McMaster announced certain stores can reopen at 20% capacity along with beaches. Mayor Stephen Benjamin of Columbia accused him of using \"arbitrary dates\" instead of data to make his decisions.  \"When you should go back to business is when you have some true indicators over two weeks that show a deceleration of the pandemic,\" Benjamin said, referring to one of the White House's criteria for reopening state economies. \"We need more testing. We need more data, and then we can decide how we go back into business.\"  Charleston Mayor John Tecklenburg said the governor's reopening plan was \"a measured response\" that took safety and social distancing into account. \"It's not like he opened the barn door and everything flies out,\" Tecklenburg said Not so fast, experts warn states A coronavirus model routinely cited by the White House warns that no state should be opening before May 1.  South Carolina and Georgia should not open until June 5 and June 19, respectively, according to the model by the Institute for Health Metrics and Evaluation.  Fauci, the nation's top infectious disease expert, warned Kemp to be careful. \"Going ahead and leapfrogging into phases where you should not be, I would advise him, as a health official and a physician, not to do that,\" Fauci said.  Montana has the best forecast at May 1. The only other states that should open by May 10 are Alaska, Hawaii, North Carolina, Vermont and West Virginia, the model says. North Carolina is the only one of the six states with more than 1,000 confirmed cases.  About half the states in the country should remain closed until May 25 or later, according to the model. The reopening dates are based on an assumption that states will have aggressive testing, contact tracing, isolation and limits on the size of gatherings to prevent another wave of the virus. Millions of coronavirus tests are needed each week before US restrictions can be safely lifted, economists and public health experts say.  \"We have estimated we need at least three times as much testing as we have right now,\" said Dr. Anish Jha, the director of the Harvard Global Health Initiative. \"We have been flat for like three and a half weeks. We have made no progress.\" CNN's Arman Azad, Ralph Ellis, Christina Maxouris, Eliott C. McLaughlin and Sarah Moon contributed to this report.  \n",
            "Text: Half a million US children have been diagnosed with Covid-19  (CNN)Half a million US children have been diagnosed with Covid-19, according to the American Academy of Pediatrics and the Children's Hospital Association. The groups said 70,630 new child cases were reported from August 20 through September 3. This is a 16% increase in child cases over two weeks, bringing up the total to at least 513,415 cases, the groups said in their weekly report on pediatric coronavirus cases. \"These numbers are a chilling reminder of why we need to take this virus seriously,\" American Academy of Pediatrics President Dr. Sally Goza said in a news release. \"While much remains unknown about COVID-19, we do know that the spread among children reflects what is happening in the broader communities,\" she added. \"A disproportionate number of cases are reported in Black and Hispanic children and in places where there is high poverty. We must work harder to address societal inequities that contribute to these disparities.\"  Children represent nearly 10% of all reported cases in the US, according to the report. The child cases are likely underreported because the tally relies on state data that is inconsistently collected. \"This rapid rise in positive cases occurred over the summer, and as the weather cools, we know people will spend more time indoors,\" Dr. Sean O'Leary, the vice chair of the AAP Committee on Infectious Diseases, said in a news release.  \"Now we are heading into flu season. We must take this seriously and implement the public health measures we know can help,\" O'Leary added. \"That includes wearing masks, avoiding large crowds, and maintaining social distance. In addition, it will be really important for everyone to get an influenza vaccine this year. These measures will help protect everyone, including children.\" The AAP recommends that any child 6 months or older get a flu shot -- in line with recommendations from the US Centers for Disease Control and Prevention. Pediatricians say it's more important than ever to make sure kids get either the flu shot or the protective nasal spray before the end of October.  That's because having two respiratory disease circulating at the same time -- flu and coronavirus -- will be confusing to doctors, parents and caregivers. Plus, hospitals and clinics could become overwhelmed with the double burden.  The two viruses cause similar symptoms but a study published Tuesday in JAMA Network Open found that children hospitalized with Covid-19 were more likely to have fever, aches, diarrhea and vomiting than were children with influenza. Children with Covid-19 also tended to be older and have at least one underlying health condition. Covid-19 and seasonal flu in children lead to similar rates of hospitalization, intensive care admission, and need for a ventilator to help breathing, the study found. The CDC says 188 children died from flu over the  2019-2020 season.  CNN's Jacqueline Howard contributed to this report \n",
            "Text: First cases of coronavirus-related inflammatory syndrome identified in children in South Carolina  (CNN)Two children in South Carolina have been diagnosed with the coronavirus-related pediatric inflammatory syndrome, according to the state's Department of Health and Environmental Control.  The children are both under the age of 10, DHEC said in a news release Sunday. One is located in the Midlands region in central South Carolina. The other is in the Pee Dee region in the northeastern part of the state. Multisystem inflammatory syndrome in children, or MIS-C, is a potential complication seen in some children and teenagers following Covid-19 infections or exposure to those with Covid-19.  The US Centers for Disease Control and Prevention issued a health advisory to doctors across the country in May, warning them to be on the lookout for the syndrome. Symptoms include fever, stomach pain, vomiting, a rash and fatigue, according to the CDC.  \"We continue to see more and more young people, especially those under 20, contracting and spreading COVID-19, and we know MIS-C is a threat to our youngest South Carolinians,\" State Epidemiologist Dr. Linda Bell said in a news release. \"MIS-C is a serious health complication linked to COVID-19 and is all the more reason why we must stop the spread of this virus.\"  \"Anyone and everyone is susceptible to COVID-19 as well as additional health risks associated with it, which is why all of us must stop the virus by wearing a mask and stay six feet away from others,\" Ball said. \"These simple actions are how we protect ourselves and others, including our children.\" Experts are still learning about MIS-C and trying to determine why some children experience it while others do not.  But two recent studies -- both published last month in the New England Journal of Medicine -- show MIS-C can cause serious symptoms and is potentially fatal. They showed that 80% of patients with MIS-C required treatment in intensive care.  In one report, CDC researchers analyzed 186 cases from 26 states between March 15 and May 20.  Patients were hospitalized for a median of seven days and 20% required ventilation to help them breathe. Four patients, or 2%, died. The median age of patients was 8 years old. Just 7% of patients were under a year old, most of the rest were between a year old and 14, and 16% were ages 15 to 20.  The second report, by the New York State Department of Health, examined 99 children with suspected or confirmed MIS-C who were hospitalized between March 1 and May 20. In that study, the median hospital stay was six days. CNN's Maggie Fox and Michael Nedelman contributed to this report. \n",
            "Text: Planet-friendly activities that are good for your body and pandemic possible  (CNN)What's the perfect pandemic hobby? As people across the globe have adjusted their lives to Covid-19, activities as varied as bread baking and gaming have trended. But while carbs and screen time can bring a satisfying rush of endorphins, the ideal Covid pastime should offer more sustaining thrills. That means an activity that's good for your body, mind and the planet. For some, it's a first-time foray into gardening, a low-impact physical activity that has been shown to reduce stress levels. Another option is the UK-led trend of \"wild swimming,\" seeking out the nearest open water for a mind-clearing dip. (Want to double down on the benefits? Try ice swimming.) If you'd prefer to stay on dry land, explore your neighborhood by running. All you need is a pair of shoes: or not.  Whatever you choose, remember that even in the most trying moments, it's worth taking the time to care for yourself. Your body — and the planet — will thank you. Go ride a bike The most sought-after vehicle of the Covid-19 pandemic has just two wheels: Bicycles flew off store shelves from the early days of the crisis.  \"Bikes are like the new toilet paper,\" Houston bicycle shop owner Eric Attayi told CNN in an earlier interview. It's clear why bikes have been a popular choice. At a time when many are anxious about using public transit due to the virus, bikes offer affordable, Earth-friendly transport plus plenty of fresh air.  Riding a bike is also good for you. Cyclists have a reduced risk of cardiovascular disease and death when compared with other commuters, found researchers at Glasgow University. (The benefits more than offset the risk of bike accidents.) Play in the garden Gardeners harvest more than prize tomatoes. Tending plants can also pay off in reductions of the stress hormone cortisol, according to a research paper in the Journal of Health Psychology.  Bringing down cortisol levels goes far beyond mood; it can affect your immune system, digestive tract, blood pressure and even the sugar in your bloodstream.  For older gardeners, the low-impact, steady movement can also be an enjoyable way to fulfill the 30 minutes of moderate-intensity physical activity recommended by the US Centers for Disease Control and Prevention.  And you don't need a big yard to enjoy the benefits of gardening. Whether you're volunteering in a local park, joining a community garden or using a tiny patio for a container garden, even city dwellers can join in. Done right, gardening is a hobby that helps the planet, too. When they replace lawns, an urban household vegetable garden can reduce greenhouse gas emissions that contribute to climate change.  Run your way to cardio health Don't skip a cardio routine because the gym is closed: Running gets your heart rate up without pricey equipment. (Some researchers contend that you don't even need a pair of shoes.) In fact, athletes looking for pandemic-safe, outdoor workouts have driven a running boom since the Covid-19 pandemic began. That's good news for health. Even running a small amount reduces the risk of premature death, found an international team of researchers in a 2019 metanalytic study.  And trading the treadmill for an outdoor jog can have environmental benefits, as well. Most gyms use air conditioners and workout machines that suck energy and increase the carbon footprint of your workout. Stay outside, and the only energy you'll use will come from your muscles. Keep up the habit through the winter, and you'll be rewarded with a calorie-burning bonus. Working out in the cold can strengthen your metabolism, zap calories and improve your mood.  Learn to cook  When restaurants closed to mitigate the pandemic, people across the globe turned to their own kitchens instead.  That could be a silver lining for our health and finances. Eating home-cooked meals is linked to higher-quality diets and healthy body mass index, research has shown. Not only that, cooking at home can reduce the expense of eating well.  And if you choose ingredients with care, cooking at home can also make meals more planet-friendly.  Strategies to green your diet include reducing red-meat consumption, using unprocessed ingredients and buying some items locally. You get extra points for avoiding the plastic waste associated with take-out food from restaurants. Try out wild swimming Indoor pools are another pandemic casualty: You probably won't catch Covid-19 through the water, according to the US Centers for Disease Control and Prevention, but it can be hard to maintain proper social distance in changing rooms and pool facilities. That's no reason to stay on dry land. Take up \"wild swimming,\" and you can join a trending movement of swimmers seeking out places to bathe in lakes, rivers and oceans. You'll be saving yourself — and the planet — a big dose of chemicals, as well, because some chemicals used to disinfect swimming pools can be hazardous to human health.  And in addition to the well-documented benefits of swimming for exercise, the time spent outdoors will be good for your health. Outside time has been found to reduce stress, improve your mood and help you sleep better. If you're willing to brave chilly water, your health could get an additional boost. Some practitioners believe that swimming in cold or even icy water can help with chronic pain, depression and inflammation.  Row, row, row your boat As warm weather arrived in spring 2020, small boats were a big deal. The paddlesports industry, which includes canoes, kayaks, rafts and stand-up paddleboards, saw a huge uptick in sales as people across the globe looked for ways to get outside.  Maybe that's because boats can offer natural social distancing; while a running path or bike trail can put you close to others, there is more room to spread out on the water.  But paddling also offers a big health benefit. The twisting motion used to move a paddle through the water is great for boosting core strength. A stronger core can help banish slouching, improve balance and prevent lower-back pain or injury, according to researchers at Harvard Medical School.  And whether it's a scenic kayak trip or a session on a stand-up paddleboard, you'll be propelled across the water by your strength alone. That makes the sport a greener alternative to boats that run on fossil fuels.  Take a \"plalk\" to clean up pandemic trash  After moving to West Sussex, England, writer David Sedaris started an unusual pair of hobbies: hours-long walks and picking up roadside litter. (The combo is actually gaining traction, with some calling the activity \"plalking.\" The jogging version is \"plogging.\") While picking up trash isn't the most glamorous hobby, Sedaris had walked right into a potent combination of physical, psychological and environmental benefits.  Walking is excellent, low-impact exercise, and it's easy to scale the distance and pace to suit any fitness level. Meanwhile, doing helpful things — such as leaving your local area a little bit cleaner — has been shown to boost happiness. And there has never been a better time to take it up. The pandemic has created a surge of plastic waste, including disposable surgical masks and gloves. (The CDC still recommends that surgical masks be reserved for health care workers and first responders.) If you're going to help pick up pandemic trash, it's important to stay safe: Wear a mask and gloves, and always put litter directly into a sturdy garbage bag.  Jen Rose Smith is a writer based in Vermont. Find her work at jenrosesmith.com, or follow her on Twitter @jenrosesmithvt. \n"
          ]
        }
      ]
    },
    {
      "cell_type": "code",
      "source": [
        "# Load tokenizer\n",
        "tokenizer = AutoTokenizer.from_pretrained(\"distilgpt2\")\n",
        "\n",
        "# Tokenize data\n",
        "training_data_tokenized = []\n",
        "for data in training_data:\n",
        "  tokenized_text = tokenizer.encode(data)\n",
        "  training_data_tokenized.append(tokenized_text)\n",
        "\n",
        "print(len(training_data_tokenized))\n",
        "print(len(training_data_tokenized[0]),training_data_tokenized[0][:20])"
      ],
      "metadata": {
        "colab": {
          "base_uri": "https://localhost:8080/",
          "height": 229,
          "referenced_widgets": [
            "3d09945f47434da7b8985166b0ad8fd1",
            "d36acb6391404cb689da5813872ddd9e",
            "4963d7e17ea44a9f850c82fb873bc43b",
            "407f49f269254367a96359c29bfe7a3a",
            "621f569667514cc38993fc96ee0bf841",
            "b584a84bd8894642b6ff42e2fac58366",
            "4e8428c67c05499db917d03fadfc1ba1",
            "a188fc94cf9b4435b08ce20a78964667",
            "ac14dd8206514012a14975459610e6b3",
            "ad0b6679bf0b40fe9a4fcb71f4b33b97",
            "0116619b78b34a70a801aea9c36e4324",
            "de214ef0f46b4fd79a440abe24b0fc68",
            "01be011c6fdc46b8ae1cf5887ca9f374",
            "d9eab06574b74893abd589d86c7d50dc",
            "ab2c49f4c1134a26913b68ceb8c016db",
            "cb101582d2204e80a2f337783f7e0776",
            "c8a22664bf3041809aa8decc081a1489",
            "5884abebfdcb408ab1636d608a9d391d",
            "01eb7384818a46f19dcb82d213205921",
            "5c12ec0f9a3f4aae8a5366cb261b7731",
            "59ba3eac162a479bb7a938d5c2c9ff82",
            "d84b111d1e5e47aaaa9cca434f1b99d0",
            "d5add70ad95d4620b6d3a0c0d8998dd0",
            "a550ef39f291482b935bd7597952a809",
            "a5c68bba9de44301aa1aa73798c21122",
            "df22a771ca864dde9e7ba500f421c864",
            "2d33c35e8cc94c38905d9d31584f21af",
            "c246147ea9da4c75b6007fc77e5ccc0b",
            "57f66ea7ba0b406f845df74e0e743d6b",
            "abcbe4bcd0c4445fa52b8366837741be",
            "405dbdada7014291abc65401025d0673",
            "3b3142805ccb4511bf2b651a154721d9",
            "66cc4e762e1142e3a6d14d23a384647f",
            "6b34e992552548619ff7743ba1fa89f3",
            "2633a9e1c2a94ef9b66e81dbd312af43",
            "96408b4b777a4d4f88ba7544d9740769",
            "3ed9309b60874c9aaef6469fe1044c46",
            "f8666ad6a3c04175baffa46cc22104db",
            "e22586b7c8cc4683bbe4495a21713d50",
            "b08c92445f5b4236bfebb7459528346a",
            "cd26a0ca4aef4416ac89e8858ace91f9",
            "14eb665ade2548bd9ebc0ef5b2351c0a",
            "ea86d2bdbddf435aae00c92da58768b1",
            "ff0d00edfd5d4a3f9caefed757bf390e",
            "51ad04599f6341a4b615d68d9139bba5",
            "80ba72988b2c47b5ad266d69038d6725",
            "1ab97f43926b4b52ba72d4b951515993",
            "0c045288ab104bc0a6a7a64da0d3bd7e",
            "cc127823076b4e6b95e6a0e11c314104",
            "12db2c3fc3204b34be5b5d5dc1602e79",
            "0deb34bff2804845a826938218af64e9",
            "24603223ea6c4e0fb6f5b654b94da8d5",
            "1b2f44e0694f4cbfa301b5300babf55e",
            "6c843112884347209ec73838a293e8e5",
            "2fed5d3be2cd4e19925ad86b3a5cb010"
          ]
        },
        "id": "6wiNKGMrekIx",
        "outputId": "80f8ed1d-66bd-4fd2-c3b0-e51e14d2bdf7"
      },
      "execution_count": null,
      "outputs": [
        {
          "output_type": "display_data",
          "data": {
            "text/plain": [
              "tokenizer_config.json:   0%|          | 0.00/26.0 [00:00<?, ?B/s]"
            ],
            "application/vnd.jupyter.widget-view+json": {
              "version_major": 2,
              "version_minor": 0,
              "model_id": "3d09945f47434da7b8985166b0ad8fd1"
            }
          },
          "metadata": {}
        },
        {
          "output_type": "display_data",
          "data": {
            "text/plain": [
              "config.json:   0%|          | 0.00/762 [00:00<?, ?B/s]"
            ],
            "application/vnd.jupyter.widget-view+json": {
              "version_major": 2,
              "version_minor": 0,
              "model_id": "de214ef0f46b4fd79a440abe24b0fc68"
            }
          },
          "metadata": {}
        },
        {
          "output_type": "display_data",
          "data": {
            "text/plain": [
              "vocab.json:   0%|          | 0.00/1.04M [00:00<?, ?B/s]"
            ],
            "application/vnd.jupyter.widget-view+json": {
              "version_major": 2,
              "version_minor": 0,
              "model_id": "d5add70ad95d4620b6d3a0c0d8998dd0"
            }
          },
          "metadata": {}
        },
        {
          "output_type": "display_data",
          "data": {
            "text/plain": [
              "merges.txt:   0%|          | 0.00/456k [00:00<?, ?B/s]"
            ],
            "application/vnd.jupyter.widget-view+json": {
              "version_major": 2,
              "version_minor": 0,
              "model_id": "6b34e992552548619ff7743ba1fa89f3"
            }
          },
          "metadata": {}
        },
        {
          "output_type": "display_data",
          "data": {
            "text/plain": [
              "tokenizer.json:   0%|          | 0.00/1.36M [00:00<?, ?B/s]"
            ],
            "application/vnd.jupyter.widget-view+json": {
              "version_major": 2,
              "version_minor": 0,
              "model_id": "51ad04599f6341a4b615d68d9139bba5"
            }
          },
          "metadata": {}
        },
        {
          "output_type": "stream",
          "name": "stderr",
          "text": [
            "Token indices sequence length is longer than the specified maximum sequence length for this model (1199 > 1024). Running this sequence through the model will result in indexing errors\n"
          ]
        },
        {
          "output_type": "stream",
          "name": "stdout",
          "text": [
            "300\n",
            "1199 [45833, 1950, 37663, 661, 6861, 422, 649, 39751, 312, 12, 1129, 17670, 220, 357, 18474, 8, 3791, 2267, 503, 428]\n"
          ]
        }
      ]
    },
    {
      "cell_type": "code",
      "source": [
        "# Split into blocks\n",
        "training_chunks = []\n",
        "block_size = 100\n",
        "for tokenized_text in training_data_tokenized:\n",
        "  for i in range(0, len(tokenized_text) - block_size + 1, block_size):  # Truncate in block of block_size\n",
        "      training_chunks.append(tokenized_text[i:i + block_size])\n",
        "\n",
        "# Generate inputs and labels\n",
        "inputs = []\n",
        "labels = []\n",
        "for ex in training_chunks:\n",
        "    inputs.append(ex[:-1])\n",
        "    labels.append(ex[1:])\n",
        "\n",
        "print(\"inputs length:\",len(inputs))\n",
        "print(\"labels length:\",len(labels))"
      ],
      "metadata": {
        "colab": {
          "base_uri": "https://localhost:8080/"
        },
        "id": "gabMwrVeesf1",
        "outputId": "62dddf49-94e8-4e44-ac4c-cb1a38fe72a8"
      },
      "execution_count": null,
      "outputs": [
        {
          "output_type": "stream",
          "name": "stdout",
          "text": [
            "inputs length: 3796\n",
            "labels length: 3796\n"
          ]
        }
      ]
    },
    {
      "cell_type": "code",
      "source": [
        "print(\"input:\",len(inputs[0]),inputs[0][:20])\n",
        "print(\"labels:\",len(labels[0]),labels[0][:20])"
      ],
      "metadata": {
        "colab": {
          "base_uri": "https://localhost:8080/"
        },
        "id": "I7om_xVjewug",
        "outputId": "f0bb090d-80bc-494a-9896-406c8bb36914"
      },
      "execution_count": null,
      "outputs": [
        {
          "output_type": "stream",
          "name": "stdout",
          "text": [
            "input: 99 [45833, 1950, 37663, 661, 6861, 422, 649, 39751, 312, 12, 1129, 17670, 220, 357, 18474, 8, 3791, 2267, 503, 428]\n",
            "labels: 99 [1950, 37663, 661, 6861, 422, 649, 39751, 312, 12, 1129, 17670, 220, 357, 18474, 8, 3791, 2267, 503, 428, 1285]\n"
          ]
        }
      ]
    },
    {
      "cell_type": "code",
      "source": [
        "BATCH_SIZE = 12\n",
        "TRAIN_SHUFFLE_BUFFER_SIZE = len(inputs)\n",
        "\n",
        "# Create TF Dataset\n",
        "train_data = tf.data.Dataset.from_tensor_slices((inputs, labels))\n",
        "\n",
        "#############\n",
        "# Train data\n",
        "#############\n",
        "train_data = train_data.shuffle(buffer_size=TRAIN_SHUFFLE_BUFFER_SIZE)\n",
        "train_data = train_data.batch(BATCH_SIZE, drop_remainder=True)\n",
        "train_data = train_data.prefetch(buffer_size=tf.data.experimental.AUTOTUNE)\n",
        "\n",
        "print(\"train_data\",train_data)"
      ],
      "metadata": {
        "colab": {
          "base_uri": "https://localhost:8080/"
        },
        "id": "5HInr8mweyEp",
        "outputId": "605d761f-6407-4bc7-998b-301c29a567bf"
      },
      "execution_count": null,
      "outputs": [
        {
          "output_type": "stream",
          "name": "stdout",
          "text": [
            "train_data <_PrefetchDataset element_spec=(TensorSpec(shape=(12, 99), dtype=tf.int32, name=None), TensorSpec(shape=(12, 99), dtype=tf.int32, name=None))>\n"
          ]
        }
      ]
    },
    {
      "cell_type": "code",
      "source": [
        "from transformers import TFAutoModelWithLMHead\n",
        "############################\n",
        "# Training Params\n",
        "############################\n",
        "learning_rate = 3e-5\n",
        "epsilon=1e-08\n",
        "clipnorm=1.0\n",
        "epochs = 30\n",
        "\n",
        "# Free up memory\n",
        "K.clear_session()\n",
        "\n",
        "# Build the model\n",
        "model = TFAutoModelWithLMHead.from_pretrained(\"distilgpt2\")\n",
        "\n",
        "# Print the model architecture\n",
        "print(model.summary())\n",
        "\n",
        "# Optimizer\n",
        "optimizer = tf.keras.optimizers.Adam(learning_rate=learning_rate, epsilon=epsilon, clipnorm=clipnorm)\n",
        "# Loss\n",
        "loss = tf.keras.losses.SparseCategoricalCrossentropy(from_logits=True)\n",
        "metric = tf.keras.metrics.SparseCategoricalAccuracy('accuracy')\n",
        "\n",
        "# Compile\n",
        "model.compile(loss=[loss, *[None] * model.config.n_layer],\n",
        "                  optimizer=optimizer,\n",
        "                  metrics=[metric])\n",
        "\n",
        "# Train model\n",
        "start_time = time.time()\n",
        "training_results = model.fit(\n",
        "        train_data, # train_data.take(1000) for testing\n",
        "        epochs=epochs,\n",
        "        verbose=1)\n",
        "execution_time = (time.time() - start_time)/60.0\n",
        "print(\"Training execution time (mins)\",execution_time)"
      ],
      "metadata": {
        "colab": {
          "base_uri": "https://localhost:8080/",
          "height": 1000,
          "referenced_widgets": [
            "ce8216fb5eea42499277e55356b471be",
            "019dc0bdea734461ba87ed83f4ba02e6",
            "c948d159bbaa473c8978356e4e057648",
            "05101df294da4dff9c5c163fe271f899",
            "c42b49a3191348be81fc44ce2a21dae3",
            "0962a5c1cb0b49c6bb3bc065c0ccf7a7",
            "b2c1426301644f19b88476620ea94759",
            "9c7d8e51a80a49b1bc3ff38645dc6768",
            "661799833f584894b3940fa389d497d0",
            "2c17e744f47d4e6d83614856f4b45121",
            "c413193af2ff40db9a54f9357ece2a27"
          ]
        },
        "id": "jqTQ095fezco",
        "outputId": "1ae11655-76c8-4ec3-d1fc-efaabb0b208b"
      },
      "execution_count": null,
      "outputs": [
        {
          "output_type": "stream",
          "name": "stderr",
          "text": [
            "/usr/local/lib/python3.10/dist-packages/transformers/models/auto/modeling_tf_auto.py:715: FutureWarning: The class `TFAutoModelWithLMHead` is deprecated and will be removed in a future version. Please use `TFAutoModelForCausalLM` for causal language models, `TFAutoModelForMaskedLM` for masked language models and `TFAutoModelForSeq2SeqLM` for encoder-decoder models.\n",
            "  warnings.warn(\n"
          ]
        },
        {
          "output_type": "display_data",
          "data": {
            "text/plain": [
              "model.safetensors:   0%|          | 0.00/353M [00:00<?, ?B/s]"
            ],
            "application/vnd.jupyter.widget-view+json": {
              "version_major": 2,
              "version_minor": 0,
              "model_id": "ce8216fb5eea42499277e55356b471be"
            }
          },
          "metadata": {}
        },
        {
          "output_type": "stream",
          "name": "stderr",
          "text": [
            "All PyTorch model weights were used when initializing TFGPT2LMHeadModel.\n",
            "\n",
            "All the weights of TFGPT2LMHeadModel were initialized from the PyTorch model.\n",
            "If your task is similar to the task the model of the checkpoint was trained on, you can already use TFGPT2LMHeadModel for predictions without further training.\n"
          ]
        },
        {
          "output_type": "stream",
          "name": "stdout",
          "text": [
            "Model: \"tfgpt2lm_head_model\"\n",
            "_________________________________________________________________\n",
            " Layer (type)                Output Shape              Param #   \n",
            "=================================================================\n",
            " transformer (TFGPT2MainLay  multiple                  81912576  \n",
            " er)                                                             \n",
            "                                                                 \n",
            "=================================================================\n",
            "Total params: 81912576 (312.47 MB)\n",
            "Trainable params: 81912576 (312.47 MB)\n",
            "Non-trainable params: 0 (0.00 Byte)\n",
            "_________________________________________________________________\n",
            "None\n",
            "Epoch 1/30\n",
            "316/316 [==============================] - 131s 328ms/step - loss: 3.5903 - accuracy: 0.3316\n",
            "Epoch 2/30\n",
            "316/316 [==============================] - 103s 327ms/step - loss: 3.3684 - accuracy: 0.3517\n",
            "Epoch 3/30\n",
            "316/316 [==============================] - 103s 327ms/step - loss: 3.2611 - accuracy: 0.3636\n",
            "Epoch 4/30\n",
            "316/316 [==============================] - 103s 327ms/step - loss: 3.1754 - accuracy: 0.3737\n",
            "Epoch 5/30\n",
            "316/316 [==============================] - 103s 327ms/step - loss: 3.0965 - accuracy: 0.3825\n",
            "Epoch 6/30\n",
            "316/316 [==============================] - 104s 328ms/step - loss: 3.0252 - accuracy: 0.3909\n",
            "Epoch 7/30\n",
            "316/316 [==============================] - 103s 327ms/step - loss: 2.9578 - accuracy: 0.3989\n",
            "Epoch 8/30\n",
            "316/316 [==============================] - 103s 327ms/step - loss: 2.8952 - accuracy: 0.4070\n",
            "Epoch 9/30\n",
            "316/316 [==============================] - 103s 327ms/step - loss: 2.8357 - accuracy: 0.4137\n",
            "Epoch 10/30\n",
            "316/316 [==============================] - 103s 327ms/step - loss: 2.7747 - accuracy: 0.4214\n",
            "Epoch 11/30\n",
            "316/316 [==============================] - 103s 327ms/step - loss: 2.7168 - accuracy: 0.4298\n",
            "Epoch 12/30\n",
            "316/316 [==============================] - 103s 327ms/step - loss: 2.6600 - accuracy: 0.4368\n",
            "Epoch 13/30\n",
            "316/316 [==============================] - 104s 328ms/step - loss: 2.6050 - accuracy: 0.4445\n",
            "Epoch 14/30\n",
            "316/316 [==============================] - 103s 327ms/step - loss: 2.5489 - accuracy: 0.4524\n",
            "Epoch 15/30\n",
            "316/316 [==============================] - 103s 327ms/step - loss: 2.4976 - accuracy: 0.4595\n",
            "Epoch 16/30\n",
            "316/316 [==============================] - 103s 327ms/step - loss: 2.4482 - accuracy: 0.4661\n",
            "Epoch 17/30\n",
            "316/316 [==============================] - 104s 328ms/step - loss: 2.3972 - accuracy: 0.4730\n",
            "Epoch 18/30\n",
            "316/316 [==============================] - 103s 327ms/step - loss: 2.3444 - accuracy: 0.4809\n",
            "Epoch 19/30\n",
            "316/316 [==============================] - 103s 327ms/step - loss: 2.2954 - accuracy: 0.4882\n",
            "Epoch 20/30\n",
            "316/316 [==============================] - 103s 327ms/step - loss: 2.2474 - accuracy: 0.4957\n",
            "Epoch 21/30\n",
            "316/316 [==============================] - 104s 328ms/step - loss: 2.2019 - accuracy: 0.5026\n",
            "Epoch 22/30\n",
            "316/316 [==============================] - 104s 328ms/step - loss: 2.1538 - accuracy: 0.5101\n",
            "Epoch 23/30\n",
            "316/316 [==============================] - 103s 327ms/step - loss: 2.1082 - accuracy: 0.5170\n",
            "Epoch 24/30\n",
            "316/316 [==============================] - 103s 327ms/step - loss: 2.0644 - accuracy: 0.5248\n",
            "Epoch 25/30\n",
            "316/316 [==============================] - 103s 327ms/step - loss: 2.0193 - accuracy: 0.5314\n",
            "Epoch 26/30\n",
            "316/316 [==============================] - 103s 327ms/step - loss: 1.9750 - accuracy: 0.5393\n",
            "Epoch 27/30\n",
            "316/316 [==============================] - 103s 327ms/step - loss: 1.9327 - accuracy: 0.5461\n",
            "Epoch 28/30\n",
            "316/316 [==============================] - 104s 328ms/step - loss: 1.8899 - accuracy: 0.5541\n",
            "Epoch 29/30\n",
            "316/316 [==============================] - 103s 327ms/step - loss: 1.8453 - accuracy: 0.5610\n",
            "Epoch 30/30\n",
            "316/316 [==============================] - 103s 327ms/step - loss: 1.8045 - accuracy: 0.5692\n",
            "Training execution time (mins) 56.69938187599182\n"
          ]
        }
      ]
    },
    {
      "cell_type": "code",
      "source": [
        "# Input text\n",
        "input_text = \"how is covid affecting\"\n",
        "\n",
        "# Tokenize Input\n",
        "input_ids = tokenizer.encode(input_text, return_tensors='tf')\n",
        "print(\"input_ids\",input_ids)\n",
        "\n",
        "# Generate outout\n",
        "outputs = model.generate(\n",
        "    input_ids,\n",
        "    do_sample=True,\n",
        "    max_length=75,\n",
        "    top_p=0.80,\n",
        "    top_k=0\n",
        ")\n",
        "\n",
        "print(\"Generated text:\")\n",
        "display(tokenizer.decode(outputs[0], skip_special_tokens=True))"
      ],
      "metadata": {
        "colab": {
          "base_uri": "https://localhost:8080/",
          "height": 122
        },
        "id": "Gmdy1KBmfkig",
        "outputId": "86ba4060-1ddb-4459-aa21-edf2a3aa8bdc"
      },
      "execution_count": null,
      "outputs": [
        {
          "output_type": "stream",
          "name": "stderr",
          "text": [
            "The attention mask and the pad token id were not set. As a consequence, you may observe unexpected behavior. Please pass your input's `attention_mask` to obtain reliable results.\n",
            "Setting `pad_token_id` to `eos_token_id`:50256 for open-end generation.\n"
          ]
        },
        {
          "output_type": "stream",
          "name": "stdout",
          "text": [
            "input_ids tf.Tensor([[ 4919   318 39849   312 13891]], shape=(1, 5), dtype=int32)\n",
            "Generated text:\n"
          ]
        },
        {
          "output_type": "display_data",
          "data": {
            "text/plain": [
              "'how is covid affecting nearly every aspect of life including school, the pandemic, transportation, health care, the environment and the economy,\" Bhattacharya added. \"The recent rise in cases of measles, polio and SARS across the country is a direct result of the continuation of the policy of COVID-19.\" Minister for Health Keshraj Jha'"
            ],
            "application/vnd.google.colaboratory.intrinsic+json": {
              "type": "string"
            }
          },
          "metadata": {}
        }
      ]
    },
    {
      "cell_type": "code",
      "source": [
        "# Input text\n",
        "input_text = \"the global pandemic\"\n",
        "\n",
        "# Tokenize Input\n",
        "input_ids = tokenizer.encode(input_text, return_tensors='tf')\n",
        "\n",
        "# Generate outout\n",
        "outputs = model.generate(\n",
        "    input_ids,\n",
        "    do_sample=True,\n",
        "    max_length=75,\n",
        "    top_p=0.8,\n",
        "    top_k=0\n",
        ")\n",
        "\n",
        "print(\"Generated text:\")\n",
        "display(tokenizer.decode(outputs[0], skip_special_tokens=True))"
      ],
      "metadata": {
        "colab": {
          "base_uri": "https://localhost:8080/",
          "height": 105
        },
        "id": "f3wR39RZflnY",
        "outputId": "14345fdc-5292-40d0-9ca6-f1ee60175ae9"
      },
      "execution_count": null,
      "outputs": [
        {
          "output_type": "stream",
          "name": "stderr",
          "text": [
            "The attention mask and the pad token id were not set. As a consequence, you may observe unexpected behavior. Please pass your input's `attention_mask` to obtain reliable results.\n",
            "Setting `pad_token_id` to `eos_token_id`:50256 for open-end generation.\n"
          ]
        },
        {
          "output_type": "stream",
          "name": "stdout",
          "text": [
            "Generated text:\n"
          ]
        },
        {
          "output_type": "display_data",
          "data": {
            "text/plain": [
              "'the global pandemic, experts say.  The United States accounts for 36.2% of global Covid-19 deaths, according to Johns Hopkins University data. And the number of coronavirus deaths reported Sunday was 36.2 million as of Sunday -- a record. In just the past week, more than 4.2 million people have died. As the pandemic'"
            ],
            "application/vnd.google.colaboratory.intrinsic+json": {
              "type": "string"
            }
          },
          "metadata": {}
        }
      ]
    },
    {
      "cell_type": "markdown",
      "source": [
        "# 🚽 Pipelines\n",
        "\n",
        "| **Task**                     | **Description**                                                                                              | **Modality**    |\n",
        "|------------------------------|--------------------------------------------------------------------------------------------------------------|-----------------|\n",
        "| Text classification          | assign a label to a given sequence of text                                                                   | NLP             |\n",
        "| Text generation              | generate text given a prompt                                                                                 | NLP             |\n",
        "| Summarization                | generate a summary of a sequence of text or document                                                         | NLP             |\n",
        "\n",
        "<Tip>\n",
        "\n",
        "For a complete list of available tasks, check out the [pipeline API reference](https://huggingface.co/docs/transformers/main/en/./main_classes/pipelines).\n",
        "\n",
        "</Tip>"
      ],
      "metadata": {
        "id": "oowf-aFOnwtQ"
      }
    },
    {
      "cell_type": "code",
      "source": [
        "from transformers import pipeline"
      ],
      "metadata": {
        "id": "L0410g1OfnuD"
      },
      "execution_count": null,
      "outputs": []
    },
    {
      "cell_type": "code",
      "source": [
        "cls = pipeline('ner')"
      ],
      "metadata": {
        "colab": {
          "base_uri": "https://localhost:8080/",
          "height": 252,
          "referenced_widgets": [
            "29d5673fb70e4084a3fd4efa4610149d",
            "d56e036fd0a949668adca5b4ee4856b2",
            "447f18046d5248a2ae93edbb98fdd867",
            "b55e456abb9347dabdba0e34bc99e201",
            "538cbbe4a71544b0bb9bbd37c652e3e5",
            "923f133d566e40b3bdae2328fdb1df7b",
            "8c1e7310c43b4e329d78ae8c29c1f391",
            "482861b297a84f859a3d6ec7b29059ca",
            "0a5ebe8533054bebb1aea7aaf7c840e6",
            "e605509ce1784150849dc90c4d1a78e3",
            "0a2bae765e394dbd9902da9bbe251c7c",
            "bc6c28891aad4b3398cd6e4fd5942251",
            "9c0ba035ae9d458099a8976cf5d07845",
            "a55e0b82b24242f5939910766d563c05",
            "0ea2225b10c8405a996ccf295888a444",
            "c13c0a4dc36c4f2b906f2f07aae2c04b",
            "3a886d912e5a4b0fa0035e155ff6f811",
            "ba74542ed84545dcbfa54e0a6a2e864c",
            "b1d1552d55e642cab692ef6abee86e5a",
            "36bec0a2015646d2bea578e17da7beab",
            "f8d8cb3d1f51424380dc21160c25dfe0",
            "4e645c2f8212473897d17f6bdf4daa7d",
            "df95a209ac984094ae8d594da0b1385c",
            "9d92b8d7490b41f39f175ac2eac710c7",
            "ec82c76bf437436d82a153f2ad88d477",
            "233c5776a41a490dbacc5d3bebc423bb",
            "4860572ef5aa4f189bd38a854baf4faf",
            "857c65502ecf407aaf485f2f69ba092c",
            "770b7d28d4dd4bd18a3dda9fafba1dc1",
            "f824d7dce8054e288edacc060f655151",
            "206afe4be4984811976d6d882720c8a7",
            "b68ad453f663438aaf360fd892668182",
            "b844c00959df4209a3395ed7b0568c1a",
            "1c2ed0ba64944daeab47cae70b167504",
            "69048184ed8c44c9813c44cf5955bcdf",
            "28aa6ff143b94ef197c9271ea511eb4b",
            "614c95a101b540e293287cf45a39801b",
            "79fe91bb86cb4ecebcc3da8f15a61243",
            "a862db27258f4f0b9f3d011ecd971bdc",
            "d5660ce19dd642c097287af3e978906d",
            "7710b8e67a9e46c68eabbc83c0b1eb81",
            "092dd2d7afa142778b5214cfd73a4525",
            "31d149296c8b45dd8f2e3e2066201541",
            "18d7385e58184d0f906829c46e7aaf84"
          ]
        },
        "id": "iX-W4BhEWhfX",
        "outputId": "b5229467-7ce1-4baf-d45d-1ce8f240f0ff"
      },
      "execution_count": null,
      "outputs": [
        {
          "output_type": "stream",
          "name": "stderr",
          "text": [
            "No model was supplied, defaulted to dbmdz/bert-large-cased-finetuned-conll03-english and revision f2482bf (https://huggingface.co/dbmdz/bert-large-cased-finetuned-conll03-english).\n",
            "Using a pipeline without specifying a model name and revision in production is not recommended.\n"
          ]
        },
        {
          "output_type": "display_data",
          "data": {
            "text/plain": [
              "config.json:   0%|          | 0.00/998 [00:00<?, ?B/s]"
            ],
            "application/vnd.jupyter.widget-view+json": {
              "version_major": 2,
              "version_minor": 0,
              "model_id": "29d5673fb70e4084a3fd4efa4610149d"
            }
          },
          "metadata": {}
        },
        {
          "output_type": "display_data",
          "data": {
            "text/plain": [
              "model.safetensors:   0%|          | 0.00/1.33G [00:00<?, ?B/s]"
            ],
            "application/vnd.jupyter.widget-view+json": {
              "version_major": 2,
              "version_minor": 0,
              "model_id": "bc6c28891aad4b3398cd6e4fd5942251"
            }
          },
          "metadata": {}
        },
        {
          "output_type": "stream",
          "name": "stderr",
          "text": [
            "Some weights of the model checkpoint at dbmdz/bert-large-cased-finetuned-conll03-english were not used when initializing BertForTokenClassification: ['bert.pooler.dense.bias', 'bert.pooler.dense.weight']\n",
            "- This IS expected if you are initializing BertForTokenClassification from the checkpoint of a model trained on another task or with another architecture (e.g. initializing a BertForSequenceClassification model from a BertForPreTraining model).\n",
            "- This IS NOT expected if you are initializing BertForTokenClassification from the checkpoint of a model that you expect to be exactly identical (initializing a BertForSequenceClassification model from a BertForSequenceClassification model).\n"
          ]
        },
        {
          "output_type": "display_data",
          "data": {
            "text/plain": [
              "tokenizer_config.json:   0%|          | 0.00/60.0 [00:00<?, ?B/s]"
            ],
            "application/vnd.jupyter.widget-view+json": {
              "version_major": 2,
              "version_minor": 0,
              "model_id": "df95a209ac984094ae8d594da0b1385c"
            }
          },
          "metadata": {}
        },
        {
          "output_type": "display_data",
          "data": {
            "text/plain": [
              "vocab.txt:   0%|          | 0.00/213k [00:00<?, ?B/s]"
            ],
            "application/vnd.jupyter.widget-view+json": {
              "version_major": 2,
              "version_minor": 0,
              "model_id": "1c2ed0ba64944daeab47cae70b167504"
            }
          },
          "metadata": {}
        }
      ]
    },
    {
      "cell_type": "code",
      "source": [
        "cls(\"Pavlos is one of the teachers here at Harvard\")"
      ],
      "metadata": {
        "colab": {
          "base_uri": "https://localhost:8080/"
        },
        "id": "cjALJJ78WlT4",
        "outputId": "dffe2875-9cb2-4af7-814f-163620626af9"
      },
      "execution_count": null,
      "outputs": [
        {
          "output_type": "execute_result",
          "data": {
            "text/plain": [
              "[{'entity': 'I-PER',\n",
              "  'score': 0.9992362,\n",
              "  'index': 1,\n",
              "  'word': 'Pa',\n",
              "  'start': 0,\n",
              "  'end': 2},\n",
              " {'entity': 'I-PER',\n",
              "  'score': 0.99177235,\n",
              "  'index': 2,\n",
              "  'word': '##v',\n",
              "  'start': 2,\n",
              "  'end': 3},\n",
              " {'entity': 'I-PER',\n",
              "  'score': 0.995366,\n",
              "  'index': 3,\n",
              "  'word': '##los',\n",
              "  'start': 3,\n",
              "  'end': 6},\n",
              " {'entity': 'I-ORG',\n",
              "  'score': 0.972195,\n",
              "  'index': 11,\n",
              "  'word': 'Harvard',\n",
              "  'start': 38,\n",
              "  'end': 45}]"
            ]
          },
          "metadata": {},
          "execution_count": 42
        }
      ]
    },
    {
      "cell_type": "code",
      "source": [],
      "metadata": {
        "id": "iCOedqOQWt1N"
      },
      "execution_count": null,
      "outputs": []
    }
  ]
}